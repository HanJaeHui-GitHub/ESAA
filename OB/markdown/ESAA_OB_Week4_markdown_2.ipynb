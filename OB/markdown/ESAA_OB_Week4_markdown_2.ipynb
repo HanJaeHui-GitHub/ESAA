{
  "cells": [
    {
      "cell_type": "markdown",
      "metadata": {
        "id": "aTwDjEr5aFVr"
      },
      "source": [
        "## 4주차 과제_0328(금)\n",
        "\n",
        "\n",
        "파이썬 머신러닝 완벽 가이드 개정 2판 8장 p509~534"
      ]
    },
    {
      "cell_type": "markdown",
      "metadata": {
        "id": "97pAzi9IaiQK"
      },
      "source": [
        "### 텍스트 분류 실습 - 20 뉴스그룹 분류"
      ]
    },
    {
      "cell_type": "markdown",
      "metadata": {
        "id": "N3O4RNCWanjO"
      },
      "source": [
        "텍스트 분류 : 특정 문서의 분류를 학습 데이터를 통해 학습해 모델을 생성한 뒤 이 학습 모델을 이용해 다른 문서의 분류를 예측하는 것\n",
        "\n",
        "희소 행렬에 분류를 효과적으로 잘 처리할 수 있는 알고리즘 : 로지스틱 회귀, 선형 서포트 벡터 머신, 나이브 베이즈 등\n",
        "\n",
        "<텍스트를 기반으로 분류하는 과정>\n",
        "\n",
        "1. 텍스트를 정규화한 뒤 피처 벡터화 적용\n",
        "2. 적합한 머신러닝 알고리즘을 적용해 분류를 학습/예측/평가"
      ]
    },
    {
      "cell_type": "markdown",
      "metadata": {
        "id": "wqMNDc-QbJRm"
      },
      "source": [
        "### 텍스트 정규화"
      ]
    },
    {
      "cell_type": "code",
      "execution_count": 2,
      "metadata": {
        "id": "rhIwHGb5bS38"
      },
      "outputs": [],
      "source": [
        "from sklearn.datasets import fetch_20newsgroups\n",
        "\n",
        "news_data = fetch_20newsgroups(subset='all', random_state=156)"
      ]
    },
    {
      "cell_type": "code",
      "execution_count": 3,
      "metadata": {
        "colab": {
          "base_uri": "https://localhost:8080/"
        },
        "id": "1qkekm92bU5Y",
        "outputId": "cd5ecc2b-02ea-4c0f-9ac3-3de3b5ec86f3"
      },
      "outputs": [
        {
          "output_type": "stream",
          "name": "stdout",
          "text": [
            "dict_keys(['data', 'filenames', 'target_names', 'target', 'DESCR'])\n"
          ]
        }
      ],
      "source": [
        "print(news_data.keys())"
      ]
    },
    {
      "cell_type": "code",
      "execution_count": 4,
      "metadata": {
        "colab": {
          "base_uri": "https://localhost:8080/"
        },
        "id": "sg_LZi8EbpVI",
        "outputId": "f637a537-2061-4984-898a-426ba7c5ef5f"
      },
      "outputs": [
        {
          "output_type": "stream",
          "name": "stdout",
          "text": [
            "target 클래스의 값과 분포도 \n",
            " 0     799\n",
            "1     973\n",
            "2     985\n",
            "3     982\n",
            "4     963\n",
            "5     988\n",
            "6     975\n",
            "7     990\n",
            "8     996\n",
            "9     994\n",
            "10    999\n",
            "11    991\n",
            "12    984\n",
            "13    990\n",
            "14    987\n",
            "15    997\n",
            "16    910\n",
            "17    940\n",
            "18    775\n",
            "19    628\n",
            "Name: count, dtype: int64\n",
            "target 클래스의 이름들 \n",
            " ['alt.atheism', 'comp.graphics', 'comp.os.ms-windows.misc', 'comp.sys.ibm.pc.hardware', 'comp.sys.mac.hardware', 'comp.windows.x', 'misc.forsale', 'rec.autos', 'rec.motorcycles', 'rec.sport.baseball', 'rec.sport.hockey', 'sci.crypt', 'sci.electronics', 'sci.med', 'sci.space', 'soc.religion.christian', 'talk.politics.guns', 'talk.politics.mideast', 'talk.politics.misc', 'talk.religion.misc']\n"
          ]
        }
      ],
      "source": [
        "import pandas as pd\n",
        "\n",
        "print('target 클래스의 값과 분포도 \\n', pd.Series(news_data.target).value_counts().sort_index())\n",
        "print('target 클래스의 이름들 \\n', news_data.target_names)"
      ]
    },
    {
      "cell_type": "code",
      "execution_count": 5,
      "metadata": {
        "colab": {
          "base_uri": "https://localhost:8080/"
        },
        "id": "DjYUmLmgbpcx",
        "outputId": "a0ccc67e-d4d8-49d6-ac3c-e2838f0fd5d5"
      },
      "outputs": [
        {
          "output_type": "stream",
          "name": "stdout",
          "text": [
            "From: egreen@east.sun.com (Ed Green - Pixel Cruncher)\n",
            "Subject: Re: Observation re: helmets\n",
            "Organization: Sun Microsystems, RTP, NC\n",
            "Lines: 21\n",
            "Distribution: world\n",
            "Reply-To: egreen@east.sun.com\n",
            "NNTP-Posting-Host: laser.east.sun.com\n",
            "\n",
            "In article 211353@mavenry.altcit.eskimo.com, maven@mavenry.altcit.eskimo.com (Norman Hamer) writes:\n",
            "> \n",
            "> The question for the day is re: passenger helmets, if you don't know for \n",
            ">certain who's gonna ride with you (like say you meet them at a .... church \n",
            ">meeting, yeah, that's the ticket)... What are some guidelines? Should I just \n",
            ">pick up another shoei in my size to have a backup helmet (XL), or should I \n",
            ">maybe get an inexpensive one of a smaller size to accomodate my likely \n",
            ">passenger? \n",
            "\n",
            "If your primary concern is protecting the passenger in the event of a\n",
            "crash, have him or her fitted for a helmet that is their size.  If your\n",
            "primary concern is complying with stupid helmet laws, carry a real big\n",
            "spare (you can put a big or small head in a big helmet, but not in a\n",
            "small one).\n",
            "\n",
            "---\n",
            "Ed Green, former Ninjaite |I was drinking last night with a biker,\n",
            "  Ed.Green@East.Sun.COM   |and I showed him a picture of you.  I said,\n",
            "DoD #0111  (919)460-8302  |\"Go on, get to know her, you'll like her!\"\n",
            " (The Grateful Dead) -->  |It seemed like the least I could do...\n",
            "\n",
            "\n"
          ]
        }
      ],
      "source": [
        "print(news_data.data[0])"
      ]
    },
    {
      "cell_type": "markdown",
      "metadata": {
        "id": "NGZdumPjbu2R"
      },
      "source": [
        "뉴스그룹 기사 내용, 제목, 작성자, 소속, 이메일 등의 다양한 정보를 포함\n",
        "\n",
        "→ 내용을 제외하고 다른 정보는 제거\n",
        "\n",
        "> 제목과 소속, 이메일 주소 등의 헤더와 푸터 정보들은 뉴스그룹 분류의 Target 클래스 값과 유사한 데이터를 가지고 있는 경우가 많아 상당히 높은 예측 성능을 나타내 텍스트 분석의 의도를 벗어나게 되기 때문"
      ]
    },
    {
      "cell_type": "code",
      "execution_count": 6,
      "metadata": {
        "colab": {
          "base_uri": "https://localhost:8080/"
        },
        "id": "75V6MLrcda8b",
        "outputId": "fa5ddb87-71fe-4f2e-b695-97a22facbff4"
      },
      "outputs": [
        {
          "output_type": "stream",
          "name": "stdout",
          "text": [
            "학습 데이터 크기 11314, 테스트 데이터 크기 7532\n"
          ]
        }
      ],
      "source": [
        "from sklearn.datasets import fetch_20newsgroups\n",
        "\n",
        "# subset='train'으로 학습용 데이터만 추출, remove = ('headers', 'footers', 'quotes')로 내용만 추출\n",
        "train_news = fetch_20newsgroups(subset='train', remove=('headers', 'footers', 'quotes'),\n",
        "                                random_state=156)\n",
        "\n",
        "X_train = train_news.data\n",
        "y_train = train_news.target\n",
        "\n",
        "# subset='test'으로 테스트 데이터만 추출, remove = ('headers', 'footers', 'quotes')로 내용만 추출\n",
        "test_news = fetch_20newsgroups(subset='test', remove=('headers', 'footers', 'quotes'),\n",
        "                                random_state=156)\n",
        "\n",
        "X_test = test_news.data\n",
        "y_test = test_news.target\n",
        "\n",
        "print('학습 데이터 크기 {0}, 테스트 데이터 크기 {1}'.format(len(train_news.data), len(test_news.data)))"
      ]
    },
    {
      "cell_type": "markdown",
      "metadata": {
        "id": "nXMvWbbCdUqo"
      },
      "source": [
        "### 피처 벡터화 변환과 머신러닝 모델 학습/예측/평가"
      ]
    },
    {
      "cell_type": "code",
      "execution_count": 7,
      "metadata": {
        "colab": {
          "base_uri": "https://localhost:8080/"
        },
        "id": "rmUvhoxFeZKz",
        "outputId": "5bbbf416-c844-4f48-e6c7-cddc756bfcc2"
      },
      "outputs": [
        {
          "output_type": "stream",
          "name": "stdout",
          "text": [
            "학습 데이터 텍스트의 CountVectorizer Shape: (11314, 101631)\n"
          ]
        }
      ],
      "source": [
        "from sklearn.feature_extraction.text import CountVectorizer\n",
        "\n",
        "# Count Vectorization으로 피처 벡터화 변환 수행\n",
        "cnt_vect = CountVectorizer()\n",
        "cnt_vect.fit(X_train)\n",
        "X_train_cnt_vect = cnt_vect.transform(X_train)\n",
        "\n",
        "# 학습 데이터로 fit()된 CountVectorizer를 이용해 테스트 데이터를 피처 벡터화 변환 수행\n",
        "## 학습 시 설정된 CountVectorizer의 피처 개수와 테스트 데이터를 변환할 피처 개수가 동일하게 하기 위해서\n",
        "X_test_cnt_vect = cnt_vect.transform(X_test)\n",
        "\n",
        "print('학습 데이터 텍스트의 CountVectorizer Shape:', X_train_cnt_vect.shape)"
      ]
    },
    {
      "cell_type": "code",
      "execution_count": 8,
      "metadata": {
        "colab": {
          "base_uri": "https://localhost:8080/"
        },
        "id": "qJ3VP7uYe3ik",
        "outputId": "32e362d0-2f0c-4fe3-9398-40f3af14de50"
      },
      "outputs": [
        {
          "output_type": "stream",
          "name": "stdout",
          "text": [
            "CountVectorized Logistic Regression의 예측 정확도는 0.603\n"
          ]
        }
      ],
      "source": [
        "from sklearn.linear_model import LogisticRegression\n",
        "from sklearn.metrics import accuracy_score\n",
        "import warnings\n",
        "warnings.filterwarnings('ignore')\n",
        "\n",
        "# LogisticRegression을 이용해 학습/예측/평가 수행\n",
        "lr_clf = LogisticRegression()\n",
        "lr_clf.fit(X_train_cnt_vect, y_train)\n",
        "pred = lr_clf.predict(X_test_cnt_vect)\n",
        "print('CountVectorized Logistic Regression의 예측 정확도는 {0:.3f}'.format(accuracy_score(y_test, pred)))"
      ]
    },
    {
      "cell_type": "code",
      "execution_count": 9,
      "metadata": {
        "colab": {
          "base_uri": "https://localhost:8080/"
        },
        "id": "nEhNGHvkfZ7E",
        "outputId": "ea1cf220-8073-47a0-ad9d-823bd2eb4273"
      },
      "outputs": [
        {
          "output_type": "stream",
          "name": "stdout",
          "text": [
            "TF-IDF Logistic Regression의 예측 정확도는 0.678\n"
          ]
        }
      ],
      "source": [
        "from sklearn.feature_extraction.text import TfidfVectorizer\n",
        "\n",
        "# TF-IDF 벡터화를 적용해 학습 데이터 세트와 테스트 데이터 세트 변환\n",
        "tfidf_vect = TfidfVectorizer()\n",
        "tfidf_vect.fit(X_train)\n",
        "X_train_tfidf_vect = tfidf_vect.transform(X_train)\n",
        "X_test_tfidf_vect = tfidf_vect.transform(X_test)\n",
        "\n",
        "# LogisticRegression을 이용해 학습/예측/평가 수\n",
        "lr_clf = LogisticRegression(solver = 'liblinear')\n",
        "lr_clf.fit(X_train_tfidf_vect, y_train)\n",
        "pred = lr_clf.predict(X_test_tfidf_vect)\n",
        "print('TF-IDF Logistic Regression의 예측 정확도는 {0:.3f}'.format(accuracy_score(y_test, pred)))"
      ]
    },
    {
      "cell_type": "markdown",
      "metadata": {
        "id": "dwhpTI8Ffcse"
      },
      "source": [
        "TF-IDF가 단군 카운트 기반보다 훨씬 더 높은 예측 정확도 제공\n",
        "\n",
        "일반적으로 문서 내에 텍스트가 많고 많은 문서를 가지는 텍스트 분석의 결과\n",
        "\n",
        "<텍스트 분석에서 머신러닝 모델의 성능을 향상시키는 방법>\n",
        "\n",
        "1. 최적의 ML 알고리즘 선택\n",
        "\n",
        "2. 최상의 피처 전처리 수행"
      ]
    },
    {
      "cell_type": "code",
      "execution_count": 10,
      "metadata": {
        "colab": {
          "base_uri": "https://localhost:8080/"
        },
        "id": "TjAmERsGgENj",
        "outputId": "64012d3d-8103-4eed-e29a-afa42c90ff88"
      },
      "outputs": [
        {
          "output_type": "stream",
          "name": "stdout",
          "text": [
            "TF-IDF Vectorized Logistic Regression의 예측 정확도는 0.690\n"
          ]
        }
      ],
      "source": [
        "# stop words 필터링을 추가하고 ngram을 기본 (1,1)에서 (1,2)로 변경해 피처 벡터화 적용\n",
        "tfidf_vect = TfidfVectorizer(stop_words = 'english', ngram_range = (1,2), max_df = 300)\n",
        "tfidf_vect.fit(X_train)\n",
        "X_train_tfidf_vect = tfidf_vect.transform(X_train)\n",
        "X_test_tfidf_vect = tfidf_vect.transform(X_test)\n",
        "\n",
        "lr_clf = LogisticRegression(solver = 'liblinear')\n",
        "lr_clf.fit(X_train_tfidf_vect, y_train)\n",
        "pred = lr_clf.predict(X_test_tfidf_vect)\n",
        "print('TF-IDF Vectorized Logistic Regression의 예측 정확도는 {0:.3f}'.format(accuracy_score(y_test, pred)))"
      ]
    },
    {
      "cell_type": "code",
      "execution_count": 11,
      "metadata": {
        "colab": {
          "base_uri": "https://localhost:8080/"
        },
        "id": "24McrmGpgYD3",
        "outputId": "2c943493-0cc4-402e-d958-a0f3f0b45235"
      },
      "outputs": [
        {
          "output_type": "stream",
          "name": "stdout",
          "text": [
            "Fitting 3 folds for each of 5 candidates, totalling 15 fits\n",
            "Logistic Regression best C parameter: {'C': 10}\n",
            "TF-IDF Vectorized Logistic Regression의 예측 정확도는 0.704\n"
          ]
        }
      ],
      "source": [
        "from sklearn.model_selection import GridSearchCV\n",
        "\n",
        "# 최적 C 값 도출 튜닝 수행. CV는 3 폴드 세트로 설정\n",
        "params = {'C': [0.01, 0.1, 1, 5, 10]}\n",
        "grid_cv_lr = GridSearchCV(lr_clf, param_grid = params, cv = 3, scoring = 'accuracy', verbose = 1)\n",
        "grid_cv_lr.fit(X_train_tfidf_vect, y_train)\n",
        "print('Logistic Regression best C parameter:', grid_cv_lr.best_params_)\n",
        "\n",
        "# 최적 C 값으로 학습된 grid_cv로 예측 및 정확도 평가\n",
        "pred = grid_cv_lr.predict(X_test_tfidf_vect)\n",
        "print('TF-IDF Vectorized Logistic Regression의 예측 정확도는 {0:.3f}'.format(accuracy_score(y_test, pred)))"
      ]
    },
    {
      "cell_type": "markdown",
      "metadata": {
        "id": "2-Gj2zoagcg_"
      },
      "source": [
        "### 사이킷런 파이프라인(Pipeline) 사용 및 GridSearchCV와의 결합"
      ]
    },
    {
      "cell_type": "markdown",
      "metadata": {
        "id": "STrKmqkJgjjR"
      },
      "source": [
        "Pipeline의 장점\n",
        "\n",
        "1. 데이터의 전처리와 머신러닝 학습 과정을 통일한 API 기반에서 처리 가능해 더 직관적인 ML 모델 코드 생성 가능\n",
        "\n",
        "2. 대용량 데이터의 피처 벡터화 결과를 별도 데이터로 저장하지 않고 스트림 기반에서 바로 머신러닝 알고리즘의 데이터로 입력할 수 있어 수행 시간 절약 가능"
      ]
    },
    {
      "cell_type": "code",
      "execution_count": 13,
      "metadata": {
        "id": "QR7lzdLRiDGH"
      },
      "outputs": [],
      "source": [
        "from sklearn.pipeline import Pipeline\n",
        "\n",
        "# Pipeline 객체 선언\n",
        "pipline = Pipeline([('tfidf_vect', TfidfVectorizer(stop_words = 'english')),\n",
        "                    ('lr_clf', LogisticRegression(random_state = 156))])"
      ]
    },
    {
      "cell_type": "code",
      "execution_count": 14,
      "metadata": {
        "colab": {
          "base_uri": "https://localhost:8080/"
        },
        "id": "SQkK-RX3iyJY",
        "outputId": "8ba454e7-75a9-4cb0-d2b7-94a232eb0d89"
      },
      "outputs": [
        {
          "output_type": "stream",
          "name": "stdout",
          "text": [
            "Pipeline을 통한 Logistic Regression의 예측 정확도는 0.704\n"
          ]
        }
      ],
      "source": [
        "from sklearn.pipeline import Pipeline\n",
        "\n",
        "# TfidVectorizer 객체를 tfidf_vect로, LogisticRegression 객체를 lr_clf로 생성하는 Pipeline 생성\n",
        "pipeline = Pipeline([\n",
        "    ('tfidf_vect', TfidfVectorizer(stop_words = 'english', ngram_range = (1,2), max_df = 300)),\n",
        "    ('lr_clf', LogisticRegression(solver = 'liblinear', C = 10))])\n",
        "\n",
        "# 별도의 TfidVectorizer 객체의 fit(), transform()과 LogisticRegression의 fit(), predict()가 필요 없음\n",
        "# pipeline의 fit()과 predict()만으로 한꺼번에 피처 벡터화와 ML 학습/예측 가능\n",
        "pipeline.fit(X_train, y_train)\n",
        "pred = pipeline.predict(X_test)\n",
        "print('Pipeline을 통한 Logistic Regression의 예측 정확도는 {0:.3f}'.format(accuracy_score(y_test, pred)))"
      ]
    },
    {
      "cell_type": "code",
      "execution_count": null,
      "metadata": {
        "colab": {
          "background_save": true,
          "base_uri": "https://localhost:8080/"
        },
        "id": "IAAu9yVPkpTm",
        "outputId": "22d5dba2-db51-40a1-9c45-fec5e68da6e3"
      },
      "outputs": [
        {
          "name": "stdout",
          "output_type": "stream",
          "text": [
            "Fitting 3 folds for each of 27 candidates, totalling 81 fits\n",
            "{'lr_clf__C': 10, 'tfidf_vect__max_df': 300, 'tfidf_vect__ngram_range': (1, 2)} 0.7533152393023013\n",
            "Pipeline을 통한 Logistic Regression의 예측 정확도는 0.701\n"
          ]
        }
      ],
      "source": [
        "from sklearn.pipeline import Pipeline\n",
        "\n",
        "pipeline = Pipeline([('tfidf_vect', TfidfVectorizer(stop_words = 'english')),\n",
        "                    ('lr_clf', LogisticRegression())])\n",
        "\n",
        "# Pipeline에 기술된 각각의 객체 변수에 언더바 2개를 연달아 붙여 GridSearchCV에 사용될 파라미터/하이퍼 파라미터 이름과 값을 설정\n",
        "params = {'tfidf_vect__ngram_range':[(1,1),(1,2),(1,3)],\n",
        "          'tfidf_vect__max_df':[100, 300, 700],\n",
        "          'lr_clf__C':[1,5,10]}\n",
        "\n",
        "# GridSearchCV의 생성자에 Estimator가 아닌 Pipeline 객체 입력\n",
        "grid_cv_pipe = GridSearchCV(pipeline, param_grid = params, cv = 3, scoring = 'accuracy', verbose = 1)\n",
        "grid_cv_pipe.fit(X_train, y_train)\n",
        "print(grid_cv_pipe.best_params_, grid_cv_pipe.best_score_)\n",
        "\n",
        "pred = grid_cv_pipe.predict(X_test)\n",
        "print('Pipeline을 통한 Logistic Regression의 예측 정확도는 {0:.3f}'.format(accuracy_score(y_test, pred)))"
      ]
    },
    {
      "cell_type": "markdown",
      "metadata": {
        "id": "yfZtDxt5k1II"
      },
      "source": [
        "## 감정 분석"
      ]
    },
    {
      "cell_type": "markdown",
      "metadata": {
        "id": "6bc_8GFjlEWG"
      },
      "source": [
        "### 감정 분석 소개"
      ]
    },
    {
      "cell_type": "markdown",
      "metadata": {
        "id": "yikYhBFDlF4-"
      },
      "source": [
        "감정 분석\n",
        "\n",
        "문서의 주관적인 감성/의견/감정/기분 등을 파악하기 위한 방법\n",
        "\n",
        "문서 내 텍스트가 나타내는 여러 가지 주관적인 단어와 문맥을 기반으로 감성 수치를 계산하는 방법을 이용함\n",
        "\n",
        "긍정 감정 지수와 부정 감성 지수로 구성되며 이를 합산해 긍정 감성 또는 부정 감성을 결정함\n",
        "\n",
        "- 지도학습 방식 : 학습 데이터와 타깃 레이블 값을 기반으로 감성 분석 학습을 수행한 뒤 이를 기반으로 다른 데이터의 감성 분석을 예측하는 방법으로 일반적인 텍스트 기반의 분류와 거의 동일함\n",
        "\n",
        "- 비지도학습 방식 : 'Lexicon'이라는 일종의 감성 어휘 사전 이용, Lexicon은 감성 분석을 위한 용어와 문맥에 대한 다양한 정보를 가지고 있으며, 이를 이용해 문서의 긍정적, 부정적 감성 여부를 판단함"
      ]
    },
    {
      "cell_type": "markdown",
      "metadata": {
        "id": "vdygP5v8mEK8"
      },
      "source": [
        "### 지도학습 기반 감성 분석 실습 - IMDB 영화평"
      ]
    },
    {
      "cell_type": "code",
      "execution_count": 16,
      "metadata": {
        "id": "a1hf90ngmv4k",
        "colab": {
          "base_uri": "https://localhost:8080/",
          "height": 143
        },
        "outputId": "d533ba62-4dab-4458-cee3-bba7e34bddc5"
      },
      "outputs": [
        {
          "output_type": "execute_result",
          "data": {
            "text/plain": [
              "         id  sentiment                                             review\n",
              "0  \"5814_8\"          1  \"With all this stuff going down at the moment ...\n",
              "1  \"2381_9\"          1  \"\\\"The Classic War of the Worlds\\\" by Timothy ...\n",
              "2  \"7759_3\"          0  \"The film starts with a manager (Nicholas Bell..."
            ],
            "text/html": [
              "\n",
              "  <div id=\"df-f834f853-b744-470b-a845-6d38c4a608a1\" class=\"colab-df-container\">\n",
              "    <div>\n",
              "<style scoped>\n",
              "    .dataframe tbody tr th:only-of-type {\n",
              "        vertical-align: middle;\n",
              "    }\n",
              "\n",
              "    .dataframe tbody tr th {\n",
              "        vertical-align: top;\n",
              "    }\n",
              "\n",
              "    .dataframe thead th {\n",
              "        text-align: right;\n",
              "    }\n",
              "</style>\n",
              "<table border=\"1\" class=\"dataframe\">\n",
              "  <thead>\n",
              "    <tr style=\"text-align: right;\">\n",
              "      <th></th>\n",
              "      <th>id</th>\n",
              "      <th>sentiment</th>\n",
              "      <th>review</th>\n",
              "    </tr>\n",
              "  </thead>\n",
              "  <tbody>\n",
              "    <tr>\n",
              "      <th>0</th>\n",
              "      <td>\"5814_8\"</td>\n",
              "      <td>1</td>\n",
              "      <td>\"With all this stuff going down at the moment ...</td>\n",
              "    </tr>\n",
              "    <tr>\n",
              "      <th>1</th>\n",
              "      <td>\"2381_9\"</td>\n",
              "      <td>1</td>\n",
              "      <td>\"\\\"The Classic War of the Worlds\\\" by Timothy ...</td>\n",
              "    </tr>\n",
              "    <tr>\n",
              "      <th>2</th>\n",
              "      <td>\"7759_3\"</td>\n",
              "      <td>0</td>\n",
              "      <td>\"The film starts with a manager (Nicholas Bell...</td>\n",
              "    </tr>\n",
              "  </tbody>\n",
              "</table>\n",
              "</div>\n",
              "    <div class=\"colab-df-buttons\">\n",
              "\n",
              "  <div class=\"colab-df-container\">\n",
              "    <button class=\"colab-df-convert\" onclick=\"convertToInteractive('df-f834f853-b744-470b-a845-6d38c4a608a1')\"\n",
              "            title=\"Convert this dataframe to an interactive table.\"\n",
              "            style=\"display:none;\">\n",
              "\n",
              "  <svg xmlns=\"http://www.w3.org/2000/svg\" height=\"24px\" viewBox=\"0 -960 960 960\">\n",
              "    <path d=\"M120-120v-720h720v720H120Zm60-500h600v-160H180v160Zm220 220h160v-160H400v160Zm0 220h160v-160H400v160ZM180-400h160v-160H180v160Zm440 0h160v-160H620v160ZM180-180h160v-160H180v160Zm440 0h160v-160H620v160Z\"/>\n",
              "  </svg>\n",
              "    </button>\n",
              "\n",
              "  <style>\n",
              "    .colab-df-container {\n",
              "      display:flex;\n",
              "      gap: 12px;\n",
              "    }\n",
              "\n",
              "    .colab-df-convert {\n",
              "      background-color: #E8F0FE;\n",
              "      border: none;\n",
              "      border-radius: 50%;\n",
              "      cursor: pointer;\n",
              "      display: none;\n",
              "      fill: #1967D2;\n",
              "      height: 32px;\n",
              "      padding: 0 0 0 0;\n",
              "      width: 32px;\n",
              "    }\n",
              "\n",
              "    .colab-df-convert:hover {\n",
              "      background-color: #E2EBFA;\n",
              "      box-shadow: 0px 1px 2px rgba(60, 64, 67, 0.3), 0px 1px 3px 1px rgba(60, 64, 67, 0.15);\n",
              "      fill: #174EA6;\n",
              "    }\n",
              "\n",
              "    .colab-df-buttons div {\n",
              "      margin-bottom: 4px;\n",
              "    }\n",
              "\n",
              "    [theme=dark] .colab-df-convert {\n",
              "      background-color: #3B4455;\n",
              "      fill: #D2E3FC;\n",
              "    }\n",
              "\n",
              "    [theme=dark] .colab-df-convert:hover {\n",
              "      background-color: #434B5C;\n",
              "      box-shadow: 0px 1px 3px 1px rgba(0, 0, 0, 0.15);\n",
              "      filter: drop-shadow(0px 1px 2px rgba(0, 0, 0, 0.3));\n",
              "      fill: #FFFFFF;\n",
              "    }\n",
              "  </style>\n",
              "\n",
              "    <script>\n",
              "      const buttonEl =\n",
              "        document.querySelector('#df-f834f853-b744-470b-a845-6d38c4a608a1 button.colab-df-convert');\n",
              "      buttonEl.style.display =\n",
              "        google.colab.kernel.accessAllowed ? 'block' : 'none';\n",
              "\n",
              "      async function convertToInteractive(key) {\n",
              "        const element = document.querySelector('#df-f834f853-b744-470b-a845-6d38c4a608a1');\n",
              "        const dataTable =\n",
              "          await google.colab.kernel.invokeFunction('convertToInteractive',\n",
              "                                                    [key], {});\n",
              "        if (!dataTable) return;\n",
              "\n",
              "        const docLinkHtml = 'Like what you see? Visit the ' +\n",
              "          '<a target=\"_blank\" href=https://colab.research.google.com/notebooks/data_table.ipynb>data table notebook</a>'\n",
              "          + ' to learn more about interactive tables.';\n",
              "        element.innerHTML = '';\n",
              "        dataTable['output_type'] = 'display_data';\n",
              "        await google.colab.output.renderOutput(dataTable, element);\n",
              "        const docLink = document.createElement('div');\n",
              "        docLink.innerHTML = docLinkHtml;\n",
              "        element.appendChild(docLink);\n",
              "      }\n",
              "    </script>\n",
              "  </div>\n",
              "\n",
              "\n",
              "<div id=\"df-219d4313-5dc6-443a-8af1-730ed48ccafa\">\n",
              "  <button class=\"colab-df-quickchart\" onclick=\"quickchart('df-219d4313-5dc6-443a-8af1-730ed48ccafa')\"\n",
              "            title=\"Suggest charts\"\n",
              "            style=\"display:none;\">\n",
              "\n",
              "<svg xmlns=\"http://www.w3.org/2000/svg\" height=\"24px\"viewBox=\"0 0 24 24\"\n",
              "     width=\"24px\">\n",
              "    <g>\n",
              "        <path d=\"M19 3H5c-1.1 0-2 .9-2 2v14c0 1.1.9 2 2 2h14c1.1 0 2-.9 2-2V5c0-1.1-.9-2-2-2zM9 17H7v-7h2v7zm4 0h-2V7h2v10zm4 0h-2v-4h2v4z\"/>\n",
              "    </g>\n",
              "</svg>\n",
              "  </button>\n",
              "\n",
              "<style>\n",
              "  .colab-df-quickchart {\n",
              "      --bg-color: #E8F0FE;\n",
              "      --fill-color: #1967D2;\n",
              "      --hover-bg-color: #E2EBFA;\n",
              "      --hover-fill-color: #174EA6;\n",
              "      --disabled-fill-color: #AAA;\n",
              "      --disabled-bg-color: #DDD;\n",
              "  }\n",
              "\n",
              "  [theme=dark] .colab-df-quickchart {\n",
              "      --bg-color: #3B4455;\n",
              "      --fill-color: #D2E3FC;\n",
              "      --hover-bg-color: #434B5C;\n",
              "      --hover-fill-color: #FFFFFF;\n",
              "      --disabled-bg-color: #3B4455;\n",
              "      --disabled-fill-color: #666;\n",
              "  }\n",
              "\n",
              "  .colab-df-quickchart {\n",
              "    background-color: var(--bg-color);\n",
              "    border: none;\n",
              "    border-radius: 50%;\n",
              "    cursor: pointer;\n",
              "    display: none;\n",
              "    fill: var(--fill-color);\n",
              "    height: 32px;\n",
              "    padding: 0;\n",
              "    width: 32px;\n",
              "  }\n",
              "\n",
              "  .colab-df-quickchart:hover {\n",
              "    background-color: var(--hover-bg-color);\n",
              "    box-shadow: 0 1px 2px rgba(60, 64, 67, 0.3), 0 1px 3px 1px rgba(60, 64, 67, 0.15);\n",
              "    fill: var(--button-hover-fill-color);\n",
              "  }\n",
              "\n",
              "  .colab-df-quickchart-complete:disabled,\n",
              "  .colab-df-quickchart-complete:disabled:hover {\n",
              "    background-color: var(--disabled-bg-color);\n",
              "    fill: var(--disabled-fill-color);\n",
              "    box-shadow: none;\n",
              "  }\n",
              "\n",
              "  .colab-df-spinner {\n",
              "    border: 2px solid var(--fill-color);\n",
              "    border-color: transparent;\n",
              "    border-bottom-color: var(--fill-color);\n",
              "    animation:\n",
              "      spin 1s steps(1) infinite;\n",
              "  }\n",
              "\n",
              "  @keyframes spin {\n",
              "    0% {\n",
              "      border-color: transparent;\n",
              "      border-bottom-color: var(--fill-color);\n",
              "      border-left-color: var(--fill-color);\n",
              "    }\n",
              "    20% {\n",
              "      border-color: transparent;\n",
              "      border-left-color: var(--fill-color);\n",
              "      border-top-color: var(--fill-color);\n",
              "    }\n",
              "    30% {\n",
              "      border-color: transparent;\n",
              "      border-left-color: var(--fill-color);\n",
              "      border-top-color: var(--fill-color);\n",
              "      border-right-color: var(--fill-color);\n",
              "    }\n",
              "    40% {\n",
              "      border-color: transparent;\n",
              "      border-right-color: var(--fill-color);\n",
              "      border-top-color: var(--fill-color);\n",
              "    }\n",
              "    60% {\n",
              "      border-color: transparent;\n",
              "      border-right-color: var(--fill-color);\n",
              "    }\n",
              "    80% {\n",
              "      border-color: transparent;\n",
              "      border-right-color: var(--fill-color);\n",
              "      border-bottom-color: var(--fill-color);\n",
              "    }\n",
              "    90% {\n",
              "      border-color: transparent;\n",
              "      border-bottom-color: var(--fill-color);\n",
              "    }\n",
              "  }\n",
              "</style>\n",
              "\n",
              "  <script>\n",
              "    async function quickchart(key) {\n",
              "      const quickchartButtonEl =\n",
              "        document.querySelector('#' + key + ' button');\n",
              "      quickchartButtonEl.disabled = true;  // To prevent multiple clicks.\n",
              "      quickchartButtonEl.classList.add('colab-df-spinner');\n",
              "      try {\n",
              "        const charts = await google.colab.kernel.invokeFunction(\n",
              "            'suggestCharts', [key], {});\n",
              "      } catch (error) {\n",
              "        console.error('Error during call to suggestCharts:', error);\n",
              "      }\n",
              "      quickchartButtonEl.classList.remove('colab-df-spinner');\n",
              "      quickchartButtonEl.classList.add('colab-df-quickchart-complete');\n",
              "    }\n",
              "    (() => {\n",
              "      let quickchartButtonEl =\n",
              "        document.querySelector('#df-219d4313-5dc6-443a-8af1-730ed48ccafa button');\n",
              "      quickchartButtonEl.style.display =\n",
              "        google.colab.kernel.accessAllowed ? 'block' : 'none';\n",
              "    })();\n",
              "  </script>\n",
              "</div>\n",
              "\n",
              "    </div>\n",
              "  </div>\n"
            ],
            "application/vnd.google.colaboratory.intrinsic+json": {
              "type": "dataframe",
              "variable_name": "review_df",
              "summary": "{\n  \"name\": \"review_df\",\n  \"rows\": 25000,\n  \"fields\": [\n    {\n      \"column\": \"id\",\n      \"properties\": {\n        \"dtype\": \"string\",\n        \"num_unique_values\": 25000,\n        \"samples\": [\n          \"\\\"2570_3\\\"\",\n          \"\\\"4897_8\\\"\",\n          \"\\\"8485_3\\\"\"\n        ],\n        \"semantic_type\": \"\",\n        \"description\": \"\"\n      }\n    },\n    {\n      \"column\": \"sentiment\",\n      \"properties\": {\n        \"dtype\": \"number\",\n        \"std\": 0,\n        \"min\": 0,\n        \"max\": 1,\n        \"num_unique_values\": 2,\n        \"samples\": [\n          0,\n          1\n        ],\n        \"semantic_type\": \"\",\n        \"description\": \"\"\n      }\n    },\n    {\n      \"column\": \"review\",\n      \"properties\": {\n        \"dtype\": \"string\",\n        \"num_unique_values\": 24904,\n        \"samples\": [\n          \"\\\"This is not my favorite WIP (\\\\\\\"Women in Prison\\\\\\\"), but it is one of the most famous films in the sub-genre. It is was produced by Roger Corman, who at this point had already produced a few WIPs. It is obvious that the film tries to play with the established formula. The movie takes place in an USA prison, not in a \\\\\\\"banana republic\\\\\\\" like most WIP films. I'm not sure if that was a wise move, but it is an acceptable change of pace. Writer-director Demme really gets into his job, always digging for new ways to present a familiar scenario. In fact, he is a little too ambitious for his own good. The filmmaker creates a few surreal dream sequences that are borderline pretentious but it is fun to see how hard he tries to put this film above your average chicks-in-chains flick. But do not worry, Demme still operates within the parameters of the sub-genre. There is plenty of nudity and violence, something that will satisfy hardcore fans. The film is a little slow, but it is very entertaining. The cast is good. Roberta Collins is a WIP veteran, so she does not need an introduction, and Barbara Steel is a hoot as the wheelchair-bound crazy warden. Pam Grier is sorely missed, though.\\\"\",\n          \"\\\"In 1972, after his wife left to go her own way, Elvis Presley began dating Linda Thompson. Miss Thompson, a good-humored, long haired, lovely, statuesque beauty queen, is charted to fill a void in Elvis' life. When Elvis' divorce became final, Linda was already in place as the legendary performer's live-in girlfriend and travel companion until 1976.<br /><br />This is a gaudy look at their love affair and companionship. Linda whole-heartedly tending to her lover's needs and desires. And even putting up with his swallowing medications by the handful and introducing her to her own love affair with valium. At times this movie is harsh and dark of heart; a very unattractive look at the 'King' and his queen.<br /><br />Don Johnson is absolutely awful as Elvis. Over acting to the hilt is not attractive. Stephanie Zimbalist lacks the classiness of Linda, but does the job pretty well. Supporting cast includes: John Crawford, Ruta Lee, and Rick Lenz. Watching this twice is more than enough for me, but don't let this review stop you from checking it out. For most Elvis fans that I have conferred with, this is not a favored presentation.\\\"\"\n        ],\n        \"semantic_type\": \"\",\n        \"description\": \"\"\n      }\n    }\n  ]\n}"
            }
          },
          "metadata": {},
          "execution_count": 16
        }
      ],
      "source": [
        "import pandas as pd\n",
        "\n",
        "review_df = pd.read_csv('/content/labeledTrainData.tsv', header = 0, sep = '\\t', quoting = 3)\n",
        "review_df.head(3)"
      ]
    },
    {
      "cell_type": "markdown",
      "metadata": {
        "id": "OODip2g-nF4J"
      },
      "source": [
        "![image.png](data:image/png;base64,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)"
      ]
    },
    {
      "cell_type": "code",
      "execution_count": 17,
      "metadata": {
        "id": "80_NQ8z0nGbQ",
        "colab": {
          "base_uri": "https://localhost:8080/"
        },
        "outputId": "d2c70966-f177-48ef-a321-c32a8ecc7655"
      },
      "outputs": [
        {
          "output_type": "stream",
          "name": "stdout",
          "text": [
            "\"With all this stuff going down at the moment with MJ i've started listening to his music, watching the odd documentary here and there, watched The Wiz and watched Moonwalker again. Maybe i just want to get a certain insight into this guy who i thought was really cool in the eighties just to maybe make up my mind whether he is guilty or innocent. Moonwalker is part biography, part feature film which i remember going to see at the cinema when it was originally released. Some of it has subtle messages about MJ's feeling towards the press and also the obvious message of drugs are bad m'kay.<br /><br />Visually impressive but of course this is all about Michael Jackson so unless you remotely like MJ in anyway then you are going to hate this and find it boring. Some may call MJ an egotist for consenting to the making of this movie BUT MJ and most of his fans would say that he made it for the fans which if true is really nice of him.<br /><br />The actual feature film bit when it finally starts is only on for 20 minutes or so excluding the Smooth Criminal sequence and Joe Pesci is convincing as a psychopathic all powerful drug lord. Why he wants MJ dead so bad is beyond me. Because MJ overheard his plans? Nah, Joe Pesci's character ranted that he wanted people to know it is he who is supplying drugs etc so i dunno, maybe he just hates MJ's music.<br /><br />Lots of cool things in this like MJ turning into a car and a robot and the whole Speed Demon sequence. Also, the director must have had the patience of a saint when it came to filming the kiddy Bad sequence as usually directors hate working with one kid let alone a whole bunch of them performing a complex dance scene.<br /><br />Bottom line, this movie is for people who like MJ on one level or another (which i think is most people). If not, then stay away. It does try and give off a wholesome message and ironically MJ's bestest buddy in this movie is a girl! Michael Jackson is truly one of the most talented people ever to grace this planet but is he guilty? Well, with all the attention i've gave this subject....hmmm well i don't know because people can be different behind closed doors, i know this for a fact. He is either an extremely nice but stupid guy or one of the most sickest liars. I hope he is not the latter.\"\n"
          ]
        }
      ],
      "source": [
        "print(review_df['review'][0])"
      ]
    },
    {
      "cell_type": "code",
      "execution_count": 18,
      "metadata": {
        "id": "nVm3gm65nLiW"
      },
      "outputs": [],
      "source": [
        "import re\n",
        "\n",
        "# <br> html 태그는 replace 함수로 공백으로 변환\n",
        "review_df['review'] = review_df['review'].str.replace('<br />', ' ')\n",
        "\n",
        "# 파이썬의 정규 표현식 모듈인 re를 이용해 영어 문자열이 아닌 문자는 모두 공백으로 변환\n",
        "review_df['review'] = review_df['review'].apply(lambda x : re.sub('[^a-zA-Z]', ' ', x))"
      ]
    },
    {
      "cell_type": "code",
      "execution_count": 19,
      "metadata": {
        "id": "amoOBq4VoIyL",
        "colab": {
          "base_uri": "https://localhost:8080/"
        },
        "outputId": "cb6b4cf7-7b4a-4cf7-f1da-25734453407c"
      },
      "outputs": [
        {
          "output_type": "execute_result",
          "data": {
            "text/plain": [
              "((17500, 1), (7500, 1))"
            ]
          },
          "metadata": {},
          "execution_count": 19
        }
      ],
      "source": [
        "from sklearn.model_selection import train_test_split\n",
        "\n",
        "class_df = review_df['sentiment']\n",
        "feature_df = review_df.drop(['id', 'sentiment'], axis = 1, inplace = False)\n",
        "\n",
        "X_train, X_test, y_train, y_test = train_test_split(feature_df, class_df, test_size = 0.3, random_state = 156)\n",
        "\n",
        "X_train.shape, X_test.shape"
      ]
    },
    {
      "cell_type": "code",
      "execution_count": 20,
      "metadata": {
        "id": "PcIjygJrpaXw",
        "colab": {
          "base_uri": "https://localhost:8080/"
        },
        "outputId": "92f74501-7d76-4fd1-b8c5-5f7b2a5fa97e"
      },
      "outputs": [
        {
          "output_type": "stream",
          "name": "stdout",
          "text": [
            "예측 정확도는 0.886133, ROC_AUC는 0.950262\n"
          ]
        }
      ],
      "source": [
        "from sklearn.feature_extraction.text import CountVectorizer, TfidfVectorizer\n",
        "from sklearn.pipeline import Pipeline\n",
        "from sklearn.linear_model import LogisticRegression\n",
        "from sklearn.metrics import accuracy_score, roc_auc_score\n",
        "\n",
        "# 스톱 워드는 English, ngram은 (1,2)로 설정해 CountVectorization 수행\n",
        "# LogisticRegression의 C는 10으로 설정\n",
        "pipeline = Pipeline([\n",
        "    ('cnt_vect', CountVectorizer(stop_words = 'english', ngram_range = (1, 2))),\n",
        "    ('lr_clf', LogisticRegression(solver = 'liblinear', C = 10))\n",
        "])\n",
        "\n",
        "# Pipeline 객체를 이용해 fit(), predict()로 학습/예측 수행 predict_proba()는 roc_auc 때문에 수행\n",
        "pipeline.fit(X_train['review'], y_train)\n",
        "pred = pipeline.predict(X_test['review'])\n",
        "pred_probs = pipeline.predict_proba(X_test['review'])[:, 1]\n",
        "\n",
        "print('예측 정확도는 {0:4f}, ROC_AUC는 {1:4f}'.format(accuracy_score(y_test, pred), roc_auc_score(y_test, pred_probs)))"
      ]
    },
    {
      "cell_type": "code",
      "execution_count": 21,
      "metadata": {
        "id": "5o_YAwMdpdBl",
        "colab": {
          "base_uri": "https://localhost:8080/"
        },
        "outputId": "1721348d-ba9f-4a07-fe01-b31ea5848c49"
      },
      "outputs": [
        {
          "output_type": "stream",
          "name": "stdout",
          "text": [
            "예측 정확도는 0.893600, ROC_AUC는 0.959801\n"
          ]
        }
      ],
      "source": [
        "# 스톱 워드는 English, filtering, ngram은 (1,2)로 설정해 TF-IDF 벡터화 수행\n",
        "# LogisticRegression의 C는 10으로 설정\n",
        "pipeline = Pipeline([\n",
        "    ('tfidf_vect', TfidfVectorizer(stop_words = 'english', ngram_range=(1,2))),\n",
        "    ('lr_clf', LogisticRegression(solver = 'liblinear', C = 10))\n",
        "])\n",
        "\n",
        "# Pipeline 객체를 이용해 fit(), predict()로 학습/예측 수행 predict_proba()는 roc_auc 때문에 수행\n",
        "pipeline.fit(X_train['review'], y_train)\n",
        "pred = pipeline.predict(X_test['review'])\n",
        "pred_probs = pipeline.predict_proba(X_test['review'])[:, 1]\n",
        "\n",
        "print('예측 정확도는 {0:4f}, ROC_AUC는 {1:4f}'.format(accuracy_score(y_test, pred), roc_auc_score(y_test, pred_probs)))"
      ]
    },
    {
      "cell_type": "markdown",
      "source": [
        "### 비지도학습 기반 감성 분석 소개"
      ],
      "metadata": {
        "id": "WIYc56QB-OP4"
      }
    },
    {
      "cell_type": "markdown",
      "source": [
        "주로 감성만을 분석하기 위해 지원하는 감성 어휘 사전인 Lexicon을 기반으로 함\n",
        "\n",
        "감성 사전은 긍정 감성 또는 부정 감성의 정도를 의미하는 수치를 가지고 있으며 이를 감성 지수라고 한다.\n",
        "\n",
        "감성 지수는 단어의 위치나 주변 단어, 문맥, POS 등을 참고해 결정됨\n",
        "\n",
        "**<NLTK에서 WordNet 묘듈>**\n",
        "\n",
        "방대한 영어 어휘 사전으로 시맨틱(semantic, 문맥상 의미) 분석을 제공함\n",
        "\n",
        "다양란 상황에서 같은 어휘라도 다르게 사용되는 어휘의 시맨틱 정보를 제공하며 이를 위해 각각의 품사로 구성된 개별 단어를 Synset이라는 개념을 이용해 표현함\n",
        "\n",
        "<예측 성능이 좋지 않은 NLTK 대신 사용하는 대표적 감성 사전>\n",
        "\n",
        "- SentiWordNet\n",
        "\n",
        "- VADER\n",
        "\n",
        "- Pattern"
      ],
      "metadata": {
        "id": "Kb6HsfWE-S2I"
      }
    },
    {
      "cell_type": "markdown",
      "source": [
        "### SentiWordNet을 이용한 감성 분석"
      ],
      "metadata": {
        "id": "L05iqseSAUFN"
      }
    },
    {
      "cell_type": "code",
      "source": [
        "import nltk\n",
        "nltk.download('all')"
      ],
      "metadata": {
        "colab": {
          "base_uri": "https://localhost:8080/"
        },
        "id": "Z_2TeJWaAoKK",
        "outputId": "4f0149fd-098d-4ea5-9825-86f1aedeb636"
      },
      "execution_count": 22,
      "outputs": [
        {
          "output_type": "stream",
          "name": "stderr",
          "text": [
            "[nltk_data] Downloading collection 'all'\n",
            "[nltk_data]    | \n",
            "[nltk_data]    | Downloading package abc to /root/nltk_data...\n",
            "[nltk_data]    |   Unzipping corpora/abc.zip.\n",
            "[nltk_data]    | Downloading package alpino to /root/nltk_data...\n",
            "[nltk_data]    |   Unzipping corpora/alpino.zip.\n",
            "[nltk_data]    | Downloading package averaged_perceptron_tagger to\n",
            "[nltk_data]    |     /root/nltk_data...\n",
            "[nltk_data]    |   Unzipping taggers/averaged_perceptron_tagger.zip.\n",
            "[nltk_data]    | Downloading package averaged_perceptron_tagger_eng to\n",
            "[nltk_data]    |     /root/nltk_data...\n",
            "[nltk_data]    |   Unzipping\n",
            "[nltk_data]    |       taggers/averaged_perceptron_tagger_eng.zip.\n",
            "[nltk_data]    | Downloading package averaged_perceptron_tagger_ru to\n",
            "[nltk_data]    |     /root/nltk_data...\n",
            "[nltk_data]    |   Unzipping\n",
            "[nltk_data]    |       taggers/averaged_perceptron_tagger_ru.zip.\n",
            "[nltk_data]    | Downloading package averaged_perceptron_tagger_rus to\n",
            "[nltk_data]    |     /root/nltk_data...\n",
            "[nltk_data]    |   Unzipping\n",
            "[nltk_data]    |       taggers/averaged_perceptron_tagger_rus.zip.\n",
            "[nltk_data]    | Downloading package basque_grammars to\n",
            "[nltk_data]    |     /root/nltk_data...\n",
            "[nltk_data]    |   Unzipping grammars/basque_grammars.zip.\n",
            "[nltk_data]    | Downloading package bcp47 to /root/nltk_data...\n",
            "[nltk_data]    | Downloading package biocreative_ppi to\n",
            "[nltk_data]    |     /root/nltk_data...\n",
            "[nltk_data]    |   Unzipping corpora/biocreative_ppi.zip.\n",
            "[nltk_data]    | Downloading package bllip_wsj_no_aux to\n",
            "[nltk_data]    |     /root/nltk_data...\n",
            "[nltk_data]    |   Unzipping models/bllip_wsj_no_aux.zip.\n",
            "[nltk_data]    | Downloading package book_grammars to\n",
            "[nltk_data]    |     /root/nltk_data...\n",
            "[nltk_data]    |   Unzipping grammars/book_grammars.zip.\n",
            "[nltk_data]    | Downloading package brown to /root/nltk_data...\n",
            "[nltk_data]    |   Unzipping corpora/brown.zip.\n",
            "[nltk_data]    | Downloading package brown_tei to /root/nltk_data...\n",
            "[nltk_data]    |   Unzipping corpora/brown_tei.zip.\n",
            "[nltk_data]    | Downloading package cess_cat to /root/nltk_data...\n",
            "[nltk_data]    |   Unzipping corpora/cess_cat.zip.\n",
            "[nltk_data]    | Downloading package cess_esp to /root/nltk_data...\n",
            "[nltk_data]    |   Unzipping corpora/cess_esp.zip.\n",
            "[nltk_data]    | Downloading package chat80 to /root/nltk_data...\n",
            "[nltk_data]    |   Unzipping corpora/chat80.zip.\n",
            "[nltk_data]    | Downloading package city_database to\n",
            "[nltk_data]    |     /root/nltk_data...\n",
            "[nltk_data]    |   Unzipping corpora/city_database.zip.\n",
            "[nltk_data]    | Downloading package cmudict to /root/nltk_data...\n",
            "[nltk_data]    |   Unzipping corpora/cmudict.zip.\n",
            "[nltk_data]    | Downloading package comparative_sentences to\n",
            "[nltk_data]    |     /root/nltk_data...\n",
            "[nltk_data]    |   Unzipping corpora/comparative_sentences.zip.\n",
            "[nltk_data]    | Downloading package comtrans to /root/nltk_data...\n",
            "[nltk_data]    | Downloading package conll2000 to /root/nltk_data...\n",
            "[nltk_data]    |   Unzipping corpora/conll2000.zip.\n",
            "[nltk_data]    | Downloading package conll2002 to /root/nltk_data...\n",
            "[nltk_data]    |   Unzipping corpora/conll2002.zip.\n",
            "[nltk_data]    | Downloading package conll2007 to /root/nltk_data...\n",
            "[nltk_data]    | Downloading package crubadan to /root/nltk_data...\n",
            "[nltk_data]    |   Unzipping corpora/crubadan.zip.\n",
            "[nltk_data]    | Downloading package dependency_treebank to\n",
            "[nltk_data]    |     /root/nltk_data...\n",
            "[nltk_data]    |   Unzipping corpora/dependency_treebank.zip.\n",
            "[nltk_data]    | Downloading package dolch to /root/nltk_data...\n",
            "[nltk_data]    |   Unzipping corpora/dolch.zip.\n",
            "[nltk_data]    | Downloading package english_wordnet to\n",
            "[nltk_data]    |     /root/nltk_data...\n",
            "[nltk_data]    |   Unzipping corpora/english_wordnet.zip.\n",
            "[nltk_data]    | Downloading package europarl_raw to\n",
            "[nltk_data]    |     /root/nltk_data...\n",
            "[nltk_data]    |   Unzipping corpora/europarl_raw.zip.\n",
            "[nltk_data]    | Downloading package extended_omw to\n",
            "[nltk_data]    |     /root/nltk_data...\n",
            "[nltk_data]    | Downloading package floresta to /root/nltk_data...\n",
            "[nltk_data]    |   Unzipping corpora/floresta.zip.\n",
            "[nltk_data]    | Downloading package framenet_v15 to\n",
            "[nltk_data]    |     /root/nltk_data...\n",
            "[nltk_data]    |   Unzipping corpora/framenet_v15.zip.\n",
            "[nltk_data]    | Downloading package framenet_v17 to\n",
            "[nltk_data]    |     /root/nltk_data...\n",
            "[nltk_data]    |   Unzipping corpora/framenet_v17.zip.\n",
            "[nltk_data]    | Downloading package gazetteers to /root/nltk_data...\n",
            "[nltk_data]    |   Unzipping corpora/gazetteers.zip.\n",
            "[nltk_data]    | Downloading package genesis to /root/nltk_data...\n",
            "[nltk_data]    |   Unzipping corpora/genesis.zip.\n",
            "[nltk_data]    | Downloading package gutenberg to /root/nltk_data...\n",
            "[nltk_data]    |   Unzipping corpora/gutenberg.zip.\n",
            "[nltk_data]    | Downloading package ieer to /root/nltk_data...\n",
            "[nltk_data]    |   Unzipping corpora/ieer.zip.\n",
            "[nltk_data]    | Downloading package inaugural to /root/nltk_data...\n",
            "[nltk_data]    |   Unzipping corpora/inaugural.zip.\n",
            "[nltk_data]    | Downloading package indian to /root/nltk_data...\n",
            "[nltk_data]    |   Unzipping corpora/indian.zip.\n",
            "[nltk_data]    | Downloading package jeita to /root/nltk_data...\n",
            "[nltk_data]    | Downloading package kimmo to /root/nltk_data...\n",
            "[nltk_data]    |   Unzipping corpora/kimmo.zip.\n",
            "[nltk_data]    | Downloading package knbc to /root/nltk_data...\n",
            "[nltk_data]    | Downloading package large_grammars to\n",
            "[nltk_data]    |     /root/nltk_data...\n",
            "[nltk_data]    |   Unzipping grammars/large_grammars.zip.\n",
            "[nltk_data]    | Downloading package lin_thesaurus to\n",
            "[nltk_data]    |     /root/nltk_data...\n",
            "[nltk_data]    |   Unzipping corpora/lin_thesaurus.zip.\n",
            "[nltk_data]    | Downloading package mac_morpho to /root/nltk_data...\n",
            "[nltk_data]    |   Unzipping corpora/mac_morpho.zip.\n",
            "[nltk_data]    | Downloading package machado to /root/nltk_data...\n",
            "[nltk_data]    | Downloading package masc_tagged to /root/nltk_data...\n",
            "[nltk_data]    | Downloading package maxent_ne_chunker to\n",
            "[nltk_data]    |     /root/nltk_data...\n",
            "[nltk_data]    |   Unzipping chunkers/maxent_ne_chunker.zip.\n",
            "[nltk_data]    | Downloading package maxent_ne_chunker_tab to\n",
            "[nltk_data]    |     /root/nltk_data...\n",
            "[nltk_data]    |   Unzipping chunkers/maxent_ne_chunker_tab.zip.\n",
            "[nltk_data]    | Downloading package maxent_treebank_pos_tagger to\n",
            "[nltk_data]    |     /root/nltk_data...\n",
            "[nltk_data]    |   Unzipping taggers/maxent_treebank_pos_tagger.zip.\n",
            "[nltk_data]    | Downloading package maxent_treebank_pos_tagger_tab to\n",
            "[nltk_data]    |     /root/nltk_data...\n",
            "[nltk_data]    |   Unzipping\n",
            "[nltk_data]    |       taggers/maxent_treebank_pos_tagger_tab.zip.\n",
            "[nltk_data]    | Downloading package moses_sample to\n",
            "[nltk_data]    |     /root/nltk_data...\n",
            "[nltk_data]    |   Unzipping models/moses_sample.zip.\n",
            "[nltk_data]    | Downloading package movie_reviews to\n",
            "[nltk_data]    |     /root/nltk_data...\n",
            "[nltk_data]    |   Unzipping corpora/movie_reviews.zip.\n",
            "[nltk_data]    | Downloading package mte_teip5 to /root/nltk_data...\n",
            "[nltk_data]    |   Unzipping corpora/mte_teip5.zip.\n",
            "[nltk_data]    | Downloading package mwa_ppdb to /root/nltk_data...\n",
            "[nltk_data]    |   Unzipping misc/mwa_ppdb.zip.\n",
            "[nltk_data]    | Downloading package names to /root/nltk_data...\n",
            "[nltk_data]    |   Unzipping corpora/names.zip.\n",
            "[nltk_data]    | Downloading package nombank.1.0 to /root/nltk_data...\n",
            "[nltk_data]    | Downloading package nonbreaking_prefixes to\n",
            "[nltk_data]    |     /root/nltk_data...\n",
            "[nltk_data]    |   Unzipping corpora/nonbreaking_prefixes.zip.\n",
            "[nltk_data]    | Downloading package nps_chat to /root/nltk_data...\n",
            "[nltk_data]    |   Unzipping corpora/nps_chat.zip.\n",
            "[nltk_data]    | Downloading package omw to /root/nltk_data...\n",
            "[nltk_data]    | Downloading package omw-1.4 to /root/nltk_data...\n",
            "[nltk_data]    | Downloading package opinion_lexicon to\n",
            "[nltk_data]    |     /root/nltk_data...\n",
            "[nltk_data]    |   Unzipping corpora/opinion_lexicon.zip.\n",
            "[nltk_data]    | Downloading package panlex_swadesh to\n",
            "[nltk_data]    |     /root/nltk_data...\n",
            "[nltk_data]    | Downloading package paradigms to /root/nltk_data...\n",
            "[nltk_data]    |   Unzipping corpora/paradigms.zip.\n",
            "[nltk_data]    | Downloading package pe08 to /root/nltk_data...\n",
            "[nltk_data]    |   Unzipping corpora/pe08.zip.\n",
            "[nltk_data]    | Downloading package perluniprops to\n",
            "[nltk_data]    |     /root/nltk_data...\n",
            "[nltk_data]    |   Unzipping misc/perluniprops.zip.\n",
            "[nltk_data]    | Downloading package pil to /root/nltk_data...\n",
            "[nltk_data]    |   Unzipping corpora/pil.zip.\n",
            "[nltk_data]    | Downloading package pl196x to /root/nltk_data...\n",
            "[nltk_data]    |   Unzipping corpora/pl196x.zip.\n",
            "[nltk_data]    | Downloading package porter_test to /root/nltk_data...\n",
            "[nltk_data]    |   Unzipping stemmers/porter_test.zip.\n",
            "[nltk_data]    | Downloading package ppattach to /root/nltk_data...\n",
            "[nltk_data]    |   Unzipping corpora/ppattach.zip.\n",
            "[nltk_data]    | Downloading package problem_reports to\n",
            "[nltk_data]    |     /root/nltk_data...\n",
            "[nltk_data]    |   Unzipping corpora/problem_reports.zip.\n",
            "[nltk_data]    | Downloading package product_reviews_1 to\n",
            "[nltk_data]    |     /root/nltk_data...\n",
            "[nltk_data]    |   Unzipping corpora/product_reviews_1.zip.\n",
            "[nltk_data]    | Downloading package product_reviews_2 to\n",
            "[nltk_data]    |     /root/nltk_data...\n",
            "[nltk_data]    |   Unzipping corpora/product_reviews_2.zip.\n",
            "[nltk_data]    | Downloading package propbank to /root/nltk_data...\n",
            "[nltk_data]    | Downloading package pros_cons to /root/nltk_data...\n",
            "[nltk_data]    |   Unzipping corpora/pros_cons.zip.\n",
            "[nltk_data]    | Downloading package ptb to /root/nltk_data...\n",
            "[nltk_data]    |   Unzipping corpora/ptb.zip.\n",
            "[nltk_data]    | Downloading package punkt to /root/nltk_data...\n",
            "[nltk_data]    |   Unzipping tokenizers/punkt.zip.\n",
            "[nltk_data]    | Downloading package punkt_tab to /root/nltk_data...\n",
            "[nltk_data]    |   Unzipping tokenizers/punkt_tab.zip.\n",
            "[nltk_data]    | Downloading package qc to /root/nltk_data...\n",
            "[nltk_data]    |   Unzipping corpora/qc.zip.\n",
            "[nltk_data]    | Downloading package reuters to /root/nltk_data...\n",
            "[nltk_data]    | Downloading package rslp to /root/nltk_data...\n",
            "[nltk_data]    |   Unzipping stemmers/rslp.zip.\n",
            "[nltk_data]    | Downloading package rte to /root/nltk_data...\n",
            "[nltk_data]    |   Unzipping corpora/rte.zip.\n",
            "[nltk_data]    | Downloading package sample_grammars to\n",
            "[nltk_data]    |     /root/nltk_data...\n",
            "[nltk_data]    |   Unzipping grammars/sample_grammars.zip.\n",
            "[nltk_data]    | Downloading package semcor to /root/nltk_data...\n",
            "[nltk_data]    | Downloading package senseval to /root/nltk_data...\n",
            "[nltk_data]    |   Unzipping corpora/senseval.zip.\n",
            "[nltk_data]    | Downloading package sentence_polarity to\n",
            "[nltk_data]    |     /root/nltk_data...\n",
            "[nltk_data]    |   Unzipping corpora/sentence_polarity.zip.\n",
            "[nltk_data]    | Downloading package sentiwordnet to\n",
            "[nltk_data]    |     /root/nltk_data...\n",
            "[nltk_data]    |   Unzipping corpora/sentiwordnet.zip.\n",
            "[nltk_data]    | Downloading package shakespeare to /root/nltk_data...\n",
            "[nltk_data]    |   Unzipping corpora/shakespeare.zip.\n",
            "[nltk_data]    | Downloading package sinica_treebank to\n",
            "[nltk_data]    |     /root/nltk_data...\n",
            "[nltk_data]    |   Unzipping corpora/sinica_treebank.zip.\n",
            "[nltk_data]    | Downloading package smultron to /root/nltk_data...\n",
            "[nltk_data]    |   Unzipping corpora/smultron.zip.\n",
            "[nltk_data]    | Downloading package snowball_data to\n",
            "[nltk_data]    |     /root/nltk_data...\n",
            "[nltk_data]    | Downloading package spanish_grammars to\n",
            "[nltk_data]    |     /root/nltk_data...\n",
            "[nltk_data]    |   Unzipping grammars/spanish_grammars.zip.\n",
            "[nltk_data]    | Downloading package state_union to /root/nltk_data...\n",
            "[nltk_data]    |   Unzipping corpora/state_union.zip.\n",
            "[nltk_data]    | Downloading package stopwords to /root/nltk_data...\n",
            "[nltk_data]    |   Unzipping corpora/stopwords.zip.\n",
            "[nltk_data]    | Downloading package subjectivity to\n",
            "[nltk_data]    |     /root/nltk_data...\n",
            "[nltk_data]    |   Unzipping corpora/subjectivity.zip.\n",
            "[nltk_data]    | Downloading package swadesh to /root/nltk_data...\n",
            "[nltk_data]    |   Unzipping corpora/swadesh.zip.\n",
            "[nltk_data]    | Downloading package switchboard to /root/nltk_data...\n",
            "[nltk_data]    |   Unzipping corpora/switchboard.zip.\n",
            "[nltk_data]    | Downloading package tagsets to /root/nltk_data...\n",
            "[nltk_data]    |   Unzipping help/tagsets.zip.\n",
            "[nltk_data]    | Downloading package tagsets_json to\n",
            "[nltk_data]    |     /root/nltk_data...\n",
            "[nltk_data]    |   Unzipping help/tagsets_json.zip.\n",
            "[nltk_data]    | Downloading package timit to /root/nltk_data...\n",
            "[nltk_data]    |   Unzipping corpora/timit.zip.\n",
            "[nltk_data]    | Downloading package toolbox to /root/nltk_data...\n",
            "[nltk_data]    |   Unzipping corpora/toolbox.zip.\n",
            "[nltk_data]    | Downloading package treebank to /root/nltk_data...\n",
            "[nltk_data]    |   Unzipping corpora/treebank.zip.\n",
            "[nltk_data]    | Downloading package twitter_samples to\n",
            "[nltk_data]    |     /root/nltk_data...\n",
            "[nltk_data]    |   Unzipping corpora/twitter_samples.zip.\n",
            "[nltk_data]    | Downloading package udhr to /root/nltk_data...\n",
            "[nltk_data]    |   Unzipping corpora/udhr.zip.\n",
            "[nltk_data]    | Downloading package udhr2 to /root/nltk_data...\n",
            "[nltk_data]    |   Unzipping corpora/udhr2.zip.\n",
            "[nltk_data]    | Downloading package unicode_samples to\n",
            "[nltk_data]    |     /root/nltk_data...\n",
            "[nltk_data]    |   Unzipping corpora/unicode_samples.zip.\n",
            "[nltk_data]    | Downloading package universal_tagset to\n",
            "[nltk_data]    |     /root/nltk_data...\n",
            "[nltk_data]    |   Unzipping taggers/universal_tagset.zip.\n",
            "[nltk_data]    | Downloading package universal_treebanks_v20 to\n",
            "[nltk_data]    |     /root/nltk_data...\n",
            "[nltk_data]    | Downloading package vader_lexicon to\n",
            "[nltk_data]    |     /root/nltk_data...\n",
            "[nltk_data]    | Downloading package verbnet to /root/nltk_data...\n",
            "[nltk_data]    |   Unzipping corpora/verbnet.zip.\n",
            "[nltk_data]    | Downloading package verbnet3 to /root/nltk_data...\n",
            "[nltk_data]    |   Unzipping corpora/verbnet3.zip.\n",
            "[nltk_data]    | Downloading package webtext to /root/nltk_data...\n",
            "[nltk_data]    |   Unzipping corpora/webtext.zip.\n",
            "[nltk_data]    | Downloading package wmt15_eval to /root/nltk_data...\n",
            "[nltk_data]    |   Unzipping models/wmt15_eval.zip.\n",
            "[nltk_data]    | Downloading package word2vec_sample to\n",
            "[nltk_data]    |     /root/nltk_data...\n",
            "[nltk_data]    |   Unzipping models/word2vec_sample.zip.\n",
            "[nltk_data]    | Downloading package wordnet to /root/nltk_data...\n",
            "[nltk_data]    | Downloading package wordnet2021 to /root/nltk_data...\n",
            "[nltk_data]    | Downloading package wordnet2022 to /root/nltk_data...\n",
            "[nltk_data]    |   Unzipping corpora/wordnet2022.zip.\n",
            "[nltk_data]    | Downloading package wordnet31 to /root/nltk_data...\n",
            "[nltk_data]    | Downloading package wordnet_ic to /root/nltk_data...\n",
            "[nltk_data]    |   Unzipping corpora/wordnet_ic.zip.\n",
            "[nltk_data]    | Downloading package words to /root/nltk_data...\n",
            "[nltk_data]    |   Unzipping corpora/words.zip.\n",
            "[nltk_data]    | Downloading package ycoe to /root/nltk_data...\n",
            "[nltk_data]    |   Unzipping corpora/ycoe.zip.\n",
            "[nltk_data]    | \n",
            "[nltk_data]  Done downloading collection all\n"
          ]
        },
        {
          "output_type": "execute_result",
          "data": {
            "text/plain": [
              "True"
            ]
          },
          "metadata": {},
          "execution_count": 22
        }
      ]
    },
    {
      "cell_type": "code",
      "source": [
        "from nltk.corpus import wordnet as wn\n",
        "\n",
        "term = 'present'\n",
        "\n",
        "# 'present'라는 단어로 wordnet의 synsets 생성\n",
        "synsets = wn.synsets(term)\n",
        "print('synsets() 반환 type:', type(synsets))\n",
        "print('synsets() 반환 값 개수:', len(synsets))\n",
        "print('synsets() 반환 값:', synsets)"
      ],
      "metadata": {
        "colab": {
          "base_uri": "https://localhost:8080/"
        },
        "id": "v_c3KdXKA-L8",
        "outputId": "6da16973-cca1-4748-d8f7-5ec354273242"
      },
      "execution_count": 23,
      "outputs": [
        {
          "output_type": "stream",
          "name": "stdout",
          "text": [
            "synsets() 반환 type: <class 'list'>\n",
            "synsets() 반환 값 개수: 18\n",
            "synsets() 반환 값: [Synset('present.n.01'), Synset('present.n.02'), Synset('present.n.03'), Synset('show.v.01'), Synset('present.v.02'), Synset('stage.v.01'), Synset('present.v.04'), Synset('present.v.05'), Synset('award.v.01'), Synset('give.v.08'), Synset('deliver.v.01'), Synset('introduce.v.01'), Synset('portray.v.04'), Synset('confront.v.03'), Synset('present.v.12'), Synset('salute.v.06'), Synset('present.a.01'), Synset('present.a.02')]\n"
          ]
        }
      ]
    },
    {
      "cell_type": "code",
      "source": [
        "for synset in synsets:\n",
        "    print('##### Synset name :', synset.name(), '#####')\n",
        "    print('POS:', synset.lexname())\n",
        "    print('Definition:', synset.definition())\n",
        "    print('Lemmas:', synset.lemma_names)"
      ],
      "metadata": {
        "colab": {
          "base_uri": "https://localhost:8080/"
        },
        "id": "u6sZOwDbBvqX",
        "outputId": "b9ee9f43-9d99-4312-85c6-bc23f63ec1eb"
      },
      "execution_count": 24,
      "outputs": [
        {
          "output_type": "stream",
          "name": "stdout",
          "text": [
            "##### Synset name : present.n.01 #####\n",
            "POS: noun.time\n",
            "Definition: the period of time that is happening now; any continuous stretch of time including the moment of speech\n",
            "Lemmas: <bound method Synset.lemma_names of Synset('present.n.01')>\n",
            "##### Synset name : present.n.02 #####\n",
            "POS: noun.possession\n",
            "Definition: something presented as a gift\n",
            "Lemmas: <bound method Synset.lemma_names of Synset('present.n.02')>\n",
            "##### Synset name : present.n.03 #####\n",
            "POS: noun.communication\n",
            "Definition: a verb tense that expresses actions or states at the time of speaking\n",
            "Lemmas: <bound method Synset.lemma_names of Synset('present.n.03')>\n",
            "##### Synset name : show.v.01 #####\n",
            "POS: verb.perception\n",
            "Definition: give an exhibition of to an interested audience\n",
            "Lemmas: <bound method Synset.lemma_names of Synset('show.v.01')>\n",
            "##### Synset name : present.v.02 #####\n",
            "POS: verb.communication\n",
            "Definition: bring forward and present to the mind\n",
            "Lemmas: <bound method Synset.lemma_names of Synset('present.v.02')>\n",
            "##### Synset name : stage.v.01 #####\n",
            "POS: verb.creation\n",
            "Definition: perform (a play), especially on a stage\n",
            "Lemmas: <bound method Synset.lemma_names of Synset('stage.v.01')>\n",
            "##### Synset name : present.v.04 #####\n",
            "POS: verb.possession\n",
            "Definition: hand over formally\n",
            "Lemmas: <bound method Synset.lemma_names of Synset('present.v.04')>\n",
            "##### Synset name : present.v.05 #####\n",
            "POS: verb.stative\n",
            "Definition: introduce\n",
            "Lemmas: <bound method Synset.lemma_names of Synset('present.v.05')>\n",
            "##### Synset name : award.v.01 #####\n",
            "POS: verb.possession\n",
            "Definition: give, especially as an honor or reward\n",
            "Lemmas: <bound method Synset.lemma_names of Synset('award.v.01')>\n",
            "##### Synset name : give.v.08 #####\n",
            "POS: verb.possession\n",
            "Definition: give as a present; make a gift of\n",
            "Lemmas: <bound method Synset.lemma_names of Synset('give.v.08')>\n",
            "##### Synset name : deliver.v.01 #####\n",
            "POS: verb.communication\n",
            "Definition: deliver (a speech, oration, or idea)\n",
            "Lemmas: <bound method Synset.lemma_names of Synset('deliver.v.01')>\n",
            "##### Synset name : introduce.v.01 #####\n",
            "POS: verb.communication\n",
            "Definition: cause to come to know personally\n",
            "Lemmas: <bound method Synset.lemma_names of Synset('introduce.v.01')>\n",
            "##### Synset name : portray.v.04 #####\n",
            "POS: verb.creation\n",
            "Definition: represent abstractly, for example in a painting, drawing, or sculpture\n",
            "Lemmas: <bound method Synset.lemma_names of Synset('portray.v.04')>\n",
            "##### Synset name : confront.v.03 #####\n",
            "POS: verb.communication\n",
            "Definition: present somebody with something, usually to accuse or criticize\n",
            "Lemmas: <bound method Synset.lemma_names of Synset('confront.v.03')>\n",
            "##### Synset name : present.v.12 #####\n",
            "POS: verb.communication\n",
            "Definition: formally present a debutante, a representative of a country, etc.\n",
            "Lemmas: <bound method Synset.lemma_names of Synset('present.v.12')>\n",
            "##### Synset name : salute.v.06 #####\n",
            "POS: verb.communication\n",
            "Definition: recognize with a gesture prescribed by a military regulation; assume a prescribed position\n",
            "Lemmas: <bound method Synset.lemma_names of Synset('salute.v.06')>\n",
            "##### Synset name : present.a.01 #####\n",
            "POS: adj.all\n",
            "Definition: temporal sense; intermediate between past and future; now existing or happening or in consideration\n",
            "Lemmas: <bound method Synset.lemma_names of Synset('present.a.01')>\n",
            "##### Synset name : present.a.02 #####\n",
            "POS: adj.all\n",
            "Definition: being or existing in a specified place\n",
            "Lemmas: <bound method Synset.lemma_names of Synset('present.a.02')>\n"
          ]
        }
      ]
    },
    {
      "cell_type": "code",
      "source": [
        "# synset 객체를 단어별로 생성\n",
        "tree = wn.synset('tree.n.01')\n",
        "lion = wn.synset('lion.n.01')\n",
        "tiger = wn.synset('tiger.n.02')\n",
        "cat = wn.synset('cat.n.01')\n",
        "dog = wn.synset('dog.n.01')\n",
        "\n",
        "entities = [tree, lion, tiger, cat, dog]\n",
        "simliarities = []\n",
        "entity_names = [entity.name().split('.')[0] for entity in entities]\n",
        "\n",
        "# 단어별 synset을 반복하면서 다른 단어의 synset과 유사도를 측정\n",
        "for entity in entities :\n",
        "    similarity = [round(entity.path_similarity(compared_entity), 2) for compared_entity in entities]\n",
        "    simliarities.append(similarity)\n",
        "\n",
        "# 개별 단어별 synset과 다른 단어의 synset과의 유사도를 DataFramem 형태로 저장\n",
        "similarity_df = pd.DataFrame(simliarities, columns = entity_names, index = entity_names)\n",
        "similarity_df"
      ],
      "metadata": {
        "colab": {
          "base_uri": "https://localhost:8080/",
          "height": 206
        },
        "id": "LrS4N8CdDjiv",
        "outputId": "63579c75-a2b1-4561-d660-d18c1abc148d"
      },
      "execution_count": 27,
      "outputs": [
        {
          "output_type": "execute_result",
          "data": {
            "text/plain": [
              "       tree  lion  tiger   cat   dog\n",
              "tree   1.00  0.07   0.07  0.08  0.12\n",
              "lion   0.07  1.00   0.33  0.25  0.17\n",
              "tiger  0.07  0.33   1.00  0.25  0.17\n",
              "cat    0.08  0.25   0.25  1.00  0.20\n",
              "dog    0.12  0.17   0.17  0.20  1.00"
            ],
            "text/html": [
              "\n",
              "  <div id=\"df-74ca2d55-b5a0-4f5c-9800-c934d2e9cdcf\" class=\"colab-df-container\">\n",
              "    <div>\n",
              "<style scoped>\n",
              "    .dataframe tbody tr th:only-of-type {\n",
              "        vertical-align: middle;\n",
              "    }\n",
              "\n",
              "    .dataframe tbody tr th {\n",
              "        vertical-align: top;\n",
              "    }\n",
              "\n",
              "    .dataframe thead th {\n",
              "        text-align: right;\n",
              "    }\n",
              "</style>\n",
              "<table border=\"1\" class=\"dataframe\">\n",
              "  <thead>\n",
              "    <tr style=\"text-align: right;\">\n",
              "      <th></th>\n",
              "      <th>tree</th>\n",
              "      <th>lion</th>\n",
              "      <th>tiger</th>\n",
              "      <th>cat</th>\n",
              "      <th>dog</th>\n",
              "    </tr>\n",
              "  </thead>\n",
              "  <tbody>\n",
              "    <tr>\n",
              "      <th>tree</th>\n",
              "      <td>1.00</td>\n",
              "      <td>0.07</td>\n",
              "      <td>0.07</td>\n",
              "      <td>0.08</td>\n",
              "      <td>0.12</td>\n",
              "    </tr>\n",
              "    <tr>\n",
              "      <th>lion</th>\n",
              "      <td>0.07</td>\n",
              "      <td>1.00</td>\n",
              "      <td>0.33</td>\n",
              "      <td>0.25</td>\n",
              "      <td>0.17</td>\n",
              "    </tr>\n",
              "    <tr>\n",
              "      <th>tiger</th>\n",
              "      <td>0.07</td>\n",
              "      <td>0.33</td>\n",
              "      <td>1.00</td>\n",
              "      <td>0.25</td>\n",
              "      <td>0.17</td>\n",
              "    </tr>\n",
              "    <tr>\n",
              "      <th>cat</th>\n",
              "      <td>0.08</td>\n",
              "      <td>0.25</td>\n",
              "      <td>0.25</td>\n",
              "      <td>1.00</td>\n",
              "      <td>0.20</td>\n",
              "    </tr>\n",
              "    <tr>\n",
              "      <th>dog</th>\n",
              "      <td>0.12</td>\n",
              "      <td>0.17</td>\n",
              "      <td>0.17</td>\n",
              "      <td>0.20</td>\n",
              "      <td>1.00</td>\n",
              "    </tr>\n",
              "  </tbody>\n",
              "</table>\n",
              "</div>\n",
              "    <div class=\"colab-df-buttons\">\n",
              "\n",
              "  <div class=\"colab-df-container\">\n",
              "    <button class=\"colab-df-convert\" onclick=\"convertToInteractive('df-74ca2d55-b5a0-4f5c-9800-c934d2e9cdcf')\"\n",
              "            title=\"Convert this dataframe to an interactive table.\"\n",
              "            style=\"display:none;\">\n",
              "\n",
              "  <svg xmlns=\"http://www.w3.org/2000/svg\" height=\"24px\" viewBox=\"0 -960 960 960\">\n",
              "    <path d=\"M120-120v-720h720v720H120Zm60-500h600v-160H180v160Zm220 220h160v-160H400v160Zm0 220h160v-160H400v160ZM180-400h160v-160H180v160Zm440 0h160v-160H620v160ZM180-180h160v-160H180v160Zm440 0h160v-160H620v160Z\"/>\n",
              "  </svg>\n",
              "    </button>\n",
              "\n",
              "  <style>\n",
              "    .colab-df-container {\n",
              "      display:flex;\n",
              "      gap: 12px;\n",
              "    }\n",
              "\n",
              "    .colab-df-convert {\n",
              "      background-color: #E8F0FE;\n",
              "      border: none;\n",
              "      border-radius: 50%;\n",
              "      cursor: pointer;\n",
              "      display: none;\n",
              "      fill: #1967D2;\n",
              "      height: 32px;\n",
              "      padding: 0 0 0 0;\n",
              "      width: 32px;\n",
              "    }\n",
              "\n",
              "    .colab-df-convert:hover {\n",
              "      background-color: #E2EBFA;\n",
              "      box-shadow: 0px 1px 2px rgba(60, 64, 67, 0.3), 0px 1px 3px 1px rgba(60, 64, 67, 0.15);\n",
              "      fill: #174EA6;\n",
              "    }\n",
              "\n",
              "    .colab-df-buttons div {\n",
              "      margin-bottom: 4px;\n",
              "    }\n",
              "\n",
              "    [theme=dark] .colab-df-convert {\n",
              "      background-color: #3B4455;\n",
              "      fill: #D2E3FC;\n",
              "    }\n",
              "\n",
              "    [theme=dark] .colab-df-convert:hover {\n",
              "      background-color: #434B5C;\n",
              "      box-shadow: 0px 1px 3px 1px rgba(0, 0, 0, 0.15);\n",
              "      filter: drop-shadow(0px 1px 2px rgba(0, 0, 0, 0.3));\n",
              "      fill: #FFFFFF;\n",
              "    }\n",
              "  </style>\n",
              "\n",
              "    <script>\n",
              "      const buttonEl =\n",
              "        document.querySelector('#df-74ca2d55-b5a0-4f5c-9800-c934d2e9cdcf button.colab-df-convert');\n",
              "      buttonEl.style.display =\n",
              "        google.colab.kernel.accessAllowed ? 'block' : 'none';\n",
              "\n",
              "      async function convertToInteractive(key) {\n",
              "        const element = document.querySelector('#df-74ca2d55-b5a0-4f5c-9800-c934d2e9cdcf');\n",
              "        const dataTable =\n",
              "          await google.colab.kernel.invokeFunction('convertToInteractive',\n",
              "                                                    [key], {});\n",
              "        if (!dataTable) return;\n",
              "\n",
              "        const docLinkHtml = 'Like what you see? Visit the ' +\n",
              "          '<a target=\"_blank\" href=https://colab.research.google.com/notebooks/data_table.ipynb>data table notebook</a>'\n",
              "          + ' to learn more about interactive tables.';\n",
              "        element.innerHTML = '';\n",
              "        dataTable['output_type'] = 'display_data';\n",
              "        await google.colab.output.renderOutput(dataTable, element);\n",
              "        const docLink = document.createElement('div');\n",
              "        docLink.innerHTML = docLinkHtml;\n",
              "        element.appendChild(docLink);\n",
              "      }\n",
              "    </script>\n",
              "  </div>\n",
              "\n",
              "\n",
              "<div id=\"df-5d788665-ebd1-445b-943f-4674b4178817\">\n",
              "  <button class=\"colab-df-quickchart\" onclick=\"quickchart('df-5d788665-ebd1-445b-943f-4674b4178817')\"\n",
              "            title=\"Suggest charts\"\n",
              "            style=\"display:none;\">\n",
              "\n",
              "<svg xmlns=\"http://www.w3.org/2000/svg\" height=\"24px\"viewBox=\"0 0 24 24\"\n",
              "     width=\"24px\">\n",
              "    <g>\n",
              "        <path d=\"M19 3H5c-1.1 0-2 .9-2 2v14c0 1.1.9 2 2 2h14c1.1 0 2-.9 2-2V5c0-1.1-.9-2-2-2zM9 17H7v-7h2v7zm4 0h-2V7h2v10zm4 0h-2v-4h2v4z\"/>\n",
              "    </g>\n",
              "</svg>\n",
              "  </button>\n",
              "\n",
              "<style>\n",
              "  .colab-df-quickchart {\n",
              "      --bg-color: #E8F0FE;\n",
              "      --fill-color: #1967D2;\n",
              "      --hover-bg-color: #E2EBFA;\n",
              "      --hover-fill-color: #174EA6;\n",
              "      --disabled-fill-color: #AAA;\n",
              "      --disabled-bg-color: #DDD;\n",
              "  }\n",
              "\n",
              "  [theme=dark] .colab-df-quickchart {\n",
              "      --bg-color: #3B4455;\n",
              "      --fill-color: #D2E3FC;\n",
              "      --hover-bg-color: #434B5C;\n",
              "      --hover-fill-color: #FFFFFF;\n",
              "      --disabled-bg-color: #3B4455;\n",
              "      --disabled-fill-color: #666;\n",
              "  }\n",
              "\n",
              "  .colab-df-quickchart {\n",
              "    background-color: var(--bg-color);\n",
              "    border: none;\n",
              "    border-radius: 50%;\n",
              "    cursor: pointer;\n",
              "    display: none;\n",
              "    fill: var(--fill-color);\n",
              "    height: 32px;\n",
              "    padding: 0;\n",
              "    width: 32px;\n",
              "  }\n",
              "\n",
              "  .colab-df-quickchart:hover {\n",
              "    background-color: var(--hover-bg-color);\n",
              "    box-shadow: 0 1px 2px rgba(60, 64, 67, 0.3), 0 1px 3px 1px rgba(60, 64, 67, 0.15);\n",
              "    fill: var(--button-hover-fill-color);\n",
              "  }\n",
              "\n",
              "  .colab-df-quickchart-complete:disabled,\n",
              "  .colab-df-quickchart-complete:disabled:hover {\n",
              "    background-color: var(--disabled-bg-color);\n",
              "    fill: var(--disabled-fill-color);\n",
              "    box-shadow: none;\n",
              "  }\n",
              "\n",
              "  .colab-df-spinner {\n",
              "    border: 2px solid var(--fill-color);\n",
              "    border-color: transparent;\n",
              "    border-bottom-color: var(--fill-color);\n",
              "    animation:\n",
              "      spin 1s steps(1) infinite;\n",
              "  }\n",
              "\n",
              "  @keyframes spin {\n",
              "    0% {\n",
              "      border-color: transparent;\n",
              "      border-bottom-color: var(--fill-color);\n",
              "      border-left-color: var(--fill-color);\n",
              "    }\n",
              "    20% {\n",
              "      border-color: transparent;\n",
              "      border-left-color: var(--fill-color);\n",
              "      border-top-color: var(--fill-color);\n",
              "    }\n",
              "    30% {\n",
              "      border-color: transparent;\n",
              "      border-left-color: var(--fill-color);\n",
              "      border-top-color: var(--fill-color);\n",
              "      border-right-color: var(--fill-color);\n",
              "    }\n",
              "    40% {\n",
              "      border-color: transparent;\n",
              "      border-right-color: var(--fill-color);\n",
              "      border-top-color: var(--fill-color);\n",
              "    }\n",
              "    60% {\n",
              "      border-color: transparent;\n",
              "      border-right-color: var(--fill-color);\n",
              "    }\n",
              "    80% {\n",
              "      border-color: transparent;\n",
              "      border-right-color: var(--fill-color);\n",
              "      border-bottom-color: var(--fill-color);\n",
              "    }\n",
              "    90% {\n",
              "      border-color: transparent;\n",
              "      border-bottom-color: var(--fill-color);\n",
              "    }\n",
              "  }\n",
              "</style>\n",
              "\n",
              "  <script>\n",
              "    async function quickchart(key) {\n",
              "      const quickchartButtonEl =\n",
              "        document.querySelector('#' + key + ' button');\n",
              "      quickchartButtonEl.disabled = true;  // To prevent multiple clicks.\n",
              "      quickchartButtonEl.classList.add('colab-df-spinner');\n",
              "      try {\n",
              "        const charts = await google.colab.kernel.invokeFunction(\n",
              "            'suggestCharts', [key], {});\n",
              "      } catch (error) {\n",
              "        console.error('Error during call to suggestCharts:', error);\n",
              "      }\n",
              "      quickchartButtonEl.classList.remove('colab-df-spinner');\n",
              "      quickchartButtonEl.classList.add('colab-df-quickchart-complete');\n",
              "    }\n",
              "    (() => {\n",
              "      let quickchartButtonEl =\n",
              "        document.querySelector('#df-5d788665-ebd1-445b-943f-4674b4178817 button');\n",
              "      quickchartButtonEl.style.display =\n",
              "        google.colab.kernel.accessAllowed ? 'block' : 'none';\n",
              "    })();\n",
              "  </script>\n",
              "</div>\n",
              "\n",
              "  <div id=\"id_eb17a16a-fff1-4f10-a53b-68ac2d533a0f\">\n",
              "    <style>\n",
              "      .colab-df-generate {\n",
              "        background-color: #E8F0FE;\n",
              "        border: none;\n",
              "        border-radius: 50%;\n",
              "        cursor: pointer;\n",
              "        display: none;\n",
              "        fill: #1967D2;\n",
              "        height: 32px;\n",
              "        padding: 0 0 0 0;\n",
              "        width: 32px;\n",
              "      }\n",
              "\n",
              "      .colab-df-generate:hover {\n",
              "        background-color: #E2EBFA;\n",
              "        box-shadow: 0px 1px 2px rgba(60, 64, 67, 0.3), 0px 1px 3px 1px rgba(60, 64, 67, 0.15);\n",
              "        fill: #174EA6;\n",
              "      }\n",
              "\n",
              "      [theme=dark] .colab-df-generate {\n",
              "        background-color: #3B4455;\n",
              "        fill: #D2E3FC;\n",
              "      }\n",
              "\n",
              "      [theme=dark] .colab-df-generate:hover {\n",
              "        background-color: #434B5C;\n",
              "        box-shadow: 0px 1px 3px 1px rgba(0, 0, 0, 0.15);\n",
              "        filter: drop-shadow(0px 1px 2px rgba(0, 0, 0, 0.3));\n",
              "        fill: #FFFFFF;\n",
              "      }\n",
              "    </style>\n",
              "    <button class=\"colab-df-generate\" onclick=\"generateWithVariable('similarity_df')\"\n",
              "            title=\"Generate code using this dataframe.\"\n",
              "            style=\"display:none;\">\n",
              "\n",
              "  <svg xmlns=\"http://www.w3.org/2000/svg\" height=\"24px\"viewBox=\"0 0 24 24\"\n",
              "       width=\"24px\">\n",
              "    <path d=\"M7,19H8.4L18.45,9,17,7.55,7,17.6ZM5,21V16.75L18.45,3.32a2,2,0,0,1,2.83,0l1.4,1.43a1.91,1.91,0,0,1,.58,1.4,1.91,1.91,0,0,1-.58,1.4L9.25,21ZM18.45,9,17,7.55Zm-12,3A5.31,5.31,0,0,0,4.9,8.1,5.31,5.31,0,0,0,1,6.5,5.31,5.31,0,0,0,4.9,4.9,5.31,5.31,0,0,0,6.5,1,5.31,5.31,0,0,0,8.1,4.9,5.31,5.31,0,0,0,12,6.5,5.46,5.46,0,0,0,6.5,12Z\"/>\n",
              "  </svg>\n",
              "    </button>\n",
              "    <script>\n",
              "      (() => {\n",
              "      const buttonEl =\n",
              "        document.querySelector('#id_eb17a16a-fff1-4f10-a53b-68ac2d533a0f button.colab-df-generate');\n",
              "      buttonEl.style.display =\n",
              "        google.colab.kernel.accessAllowed ? 'block' : 'none';\n",
              "\n",
              "      buttonEl.onclick = () => {\n",
              "        google.colab.notebook.generateWithVariable('similarity_df');\n",
              "      }\n",
              "      })();\n",
              "    </script>\n",
              "  </div>\n",
              "\n",
              "    </div>\n",
              "  </div>\n"
            ],
            "application/vnd.google.colaboratory.intrinsic+json": {
              "type": "dataframe",
              "variable_name": "similarity_df",
              "summary": "{\n  \"name\": \"similarity_df\",\n  \"rows\": 5,\n  \"fields\": [\n    {\n      \"column\": \"tree\",\n      \"properties\": {\n        \"dtype\": \"number\",\n        \"std\": 0.40971941618624813,\n        \"min\": 0.07,\n        \"max\": 1.0,\n        \"num_unique_values\": 4,\n        \"samples\": [\n          0.07,\n          0.12,\n          1.0\n        ],\n        \"semantic_type\": \"\",\n        \"description\": \"\"\n      }\n    },\n    {\n      \"column\": \"lion\",\n      \"properties\": {\n        \"dtype\": \"number\",\n        \"std\": 0.3683476618630828,\n        \"min\": 0.07,\n        \"max\": 1.0,\n        \"num_unique_values\": 5,\n        \"samples\": [\n          1.0,\n          0.17,\n          0.33\n        ],\n        \"semantic_type\": \"\",\n        \"description\": \"\"\n      }\n    },\n    {\n      \"column\": \"tiger\",\n      \"properties\": {\n        \"dtype\": \"number\",\n        \"std\": 0.3683476618630828,\n        \"min\": 0.07,\n        \"max\": 1.0,\n        \"num_unique_values\": 5,\n        \"samples\": [\n          0.33,\n          0.17,\n          1.0\n        ],\n        \"semantic_type\": \"\",\n        \"description\": \"\"\n      }\n    },\n    {\n      \"column\": \"cat\",\n      \"properties\": {\n        \"dtype\": \"number\",\n        \"std\": 0.36664696916789047,\n        \"min\": 0.08,\n        \"max\": 1.0,\n        \"num_unique_values\": 4,\n        \"samples\": [\n          0.25,\n          0.2,\n          0.08\n        ],\n        \"semantic_type\": \"\",\n        \"description\": \"\"\n      }\n    },\n    {\n      \"column\": \"dog\",\n      \"properties\": {\n        \"dtype\": \"number\",\n        \"std\": 0.3745263675630862,\n        \"min\": 0.12,\n        \"max\": 1.0,\n        \"num_unique_values\": 4,\n        \"samples\": [\n          0.17,\n          1.0,\n          0.12\n        ],\n        \"semantic_type\": \"\",\n        \"description\": \"\"\n      }\n    }\n  ]\n}"
            }
          },
          "metadata": {},
          "execution_count": 27
        }
      ]
    },
    {
      "cell_type": "code",
      "source": [
        "import nltk\n",
        "from nltk.corpus import sentiwordnet as swn\n",
        "\n",
        "senti_synsets = list(swn.senti_synsets('slow'))\n",
        "print('senti_synsets() 반환 type:', type(senti_synsets))\n",
        "print('senti_synsets() 반환 값 개수:', len(senti_synsets))\n",
        "print('senti_synsets() 반환 값:', senti_synsets)"
      ],
      "metadata": {
        "colab": {
          "base_uri": "https://localhost:8080/"
        },
        "id": "qZnuuP99EDfA",
        "outputId": "7ed44380-6848-4463-e65a-710cf2bea8d2"
      },
      "execution_count": 28,
      "outputs": [
        {
          "output_type": "stream",
          "name": "stdout",
          "text": [
            "senti_synsets() 반환 type: <class 'list'>\n",
            "senti_synsets() 반환 값 개수: 11\n",
            "senti_synsets() 반환 값: [SentiSynset('decelerate.v.01'), SentiSynset('slow.v.02'), SentiSynset('slow.v.03'), SentiSynset('slow.a.01'), SentiSynset('slow.a.02'), SentiSynset('dense.s.04'), SentiSynset('slow.a.04'), SentiSynset('boring.s.01'), SentiSynset('dull.s.08'), SentiSynset('slowly.r.01'), SentiSynset('behind.r.03')]\n"
          ]
        }
      ]
    },
    {
      "cell_type": "code",
      "source": [
        "import nltk\n",
        "from nltk.corpus import sentiwordnet as swn\n",
        "\n",
        "father = swn.senti_synset('father.n.01')\n",
        "\n",
        "print('father 긍정감성 지수:', father.pos_score())\n",
        "print('father 부정감성 지수:', father.neg_score())\n",
        "print('father 객관성 지수:', father.obj_score())\n",
        "print('\\n')\n",
        "fabulous = swn.senti_synset('fabulous.a.01')\n",
        "print('fabulous 긍정감성 지수:', fabulous.pos_score())\n",
        "print('fabulous 부정감성 지수:', fabulous.neg_score())"
      ],
      "metadata": {
        "colab": {
          "base_uri": "https://localhost:8080/"
        },
        "id": "tWb_5qJwEDsa",
        "outputId": "853eb086-82be-4306-d97d-450f98a67171"
      },
      "execution_count": 29,
      "outputs": [
        {
          "output_type": "stream",
          "name": "stdout",
          "text": [
            "father 긍정감성 지수: 0.0\n",
            "father 부정감성 지수: 0.0\n",
            "father 객관성 지수: 1.0\n",
            "\n",
            "\n",
            "fabulous 긍정감성 지수: 0.875\n",
            "fabulous 부정감성 지수: 0.125\n"
          ]
        }
      ]
    },
    {
      "cell_type": "markdown",
      "source": [
        "### SentiWordNet을 이용한 영화 감상평 감성 분석"
      ],
      "metadata": {
        "id": "bmOZ4UhHFHLh"
      }
    },
    {
      "cell_type": "markdown",
      "source": [
        "<감성 분석 수행 순서>\n",
        "1. 문서를 문장 단위로 분해\n",
        "2. 다시 문장을 단어 단위로 토큰화하고 품사 태깅\n",
        "3. 품사 태깅된 단어 기반으로 synset 객체와 senti_synset 객체를 생성\n",
        "4. senti_synset 객체에서 긍정 감성/부정 감성 지수를 구하고 이를 모두 합산해 특정 임계치 값 이상일 때 긍정 감성으로 그렇지 않을 때는 부정 감성으로 결정"
      ],
      "metadata": {
        "id": "zOuT5SG1FM93"
      }
    },
    {
      "cell_type": "code",
      "source": [
        "from nltk.corpus import wordnet as wn\n",
        "\n",
        "# 간단한 NLTK PennTreebank Tag을 기반으로 WordNet 기반의 품사 Tag로 변환\n",
        "def penn_to_wn(tag):\n",
        "    if tag.startswith('J'):\n",
        "        return wn.ADJ\n",
        "    elif tag.startswith('N'):\n",
        "        return wn.NOUN\n",
        "    elif tag.startswith('R'):\n",
        "        return wn.ADV\n",
        "    elif tag.startswith('V'):\n",
        "        return wn.VERB"
      ],
      "metadata": {
        "id": "6hbFlbJnE6zq"
      },
      "execution_count": 30,
      "outputs": []
    },
    {
      "cell_type": "code",
      "source": [
        "from nltk.stem import WordNetLemmatizer\n",
        "from nltk.corpus import sentiwordnet as swn\n",
        "from nltk import sent_tokenize, word_tokenize, pos_tag\n",
        "\n",
        "def swn_polarity(text):\n",
        "    # 감성 지수 초기화\n",
        "    sentiment = 0.0\n",
        "    tokens_count = 0\n",
        "\n",
        "    lemmatizer = WordNetLemmatizer()\n",
        "    raw_sentences = sent_tokenize(text)\n",
        "    # 분해된 문장별로 단어 토큰 -> 품사 태깅 후에 SentiSynset 생성 -> 감성 지수 합산\n",
        "    for raw_sentence in raw_sentences:\n",
        "        # NTLK 기반의 품사 태깅 문장 추출\n",
        "        tagged_sentence = pos_tag(word_tokenize(raw_sentence))\n",
        "        for word, tag in tagged_sentence:\n",
        "\n",
        "            # WordNet 기반 품사 태깅과 어근 추출\n",
        "            wn_tag = penn_to_wn(tag)\n",
        "            if wn_tag not in (wn.NOUN, wn.ADJ, wn.ADV):\n",
        "                continue\n",
        "            lemma = lemmatizer.lemmatize(word, pos = wn_tag)\n",
        "            if not lemma:\n",
        "                continue\n",
        "            # 어근을 추출한 단어와 WordNet 기반 품사 태깅을 입력해 Synset 객체 생성\n",
        "            synsets = wn.synsets(lemma, pos = wn_tag)\n",
        "            if not synsets:\n",
        "                continue\n",
        "            # sentiwordnet의 감성 단어 분석으로 감성 synset 추출\n",
        "            # 모든 단어에 대해 긍정 감성 지수는 +로 부정 감성 지수는 -로 합산해 감성 지수 계산\n",
        "            synset = synsets[0]\n",
        "            swn_synset = swn.senti_synset(synset.name())\n",
        "            sentiment += (swn_synset.pos_score() - swn_synset.neg_score())\n",
        "            tokens_count += 1\n",
        "\n",
        "        if not tokens_count:\n",
        "            return 0\n",
        "\n",
        "        # 총 score가 0 이상일 경우 긍정(Positive) 1, 그렇지 않을 경우 부정(Negative) 0 반환\n",
        "        if sentiment >= 0 :\n",
        "            return 1\n",
        "\n",
        "        return 0"
      ],
      "metadata": {
        "id": "3eNz20uYGOPi"
      },
      "execution_count": 33,
      "outputs": []
    },
    {
      "cell_type": "code",
      "source": [
        "review_df['preds'] = review_df['review'].apply(lambda x: swn_polarity(x))\n",
        "y_target = review_df['sentiment'].values\n",
        "preds = review_df['preds'].values"
      ],
      "metadata": {
        "id": "4enUtcTyIECG"
      },
      "execution_count": 34,
      "outputs": []
    },
    {
      "cell_type": "code",
      "source": [
        "from sklearn.metrics import accuracy_score, confusion_matrix, precision_score\n",
        "from sklearn.metrics import recall_score, f1_score, roc_auc_score\n",
        "import numpy as np\n",
        "\n",
        "print(confusion_matrix(y_target, preds))\n",
        "print(\"정확도 : \", np.round(accuracy_score(y_target, preds), 4))\n",
        "print(\"정밀도: \", np.round(precision_score(y_target, preds), 4))\n",
        "print(\"재현율: \", np.round(recall_score(y_target, preds), 4))"
      ],
      "metadata": {
        "colab": {
          "base_uri": "https://localhost:8080/"
        },
        "id": "F6PzSheqIOHR",
        "outputId": "69e20711-bca9-48ad-a4d2-9ee089bd906d"
      },
      "execution_count": 35,
      "outputs": [
        {
          "output_type": "stream",
          "name": "stdout",
          "text": [
            "[[7669 4831]\n",
            " [3635 8865]]\n",
            "정확도 :  0.6614\n",
            "정밀도:  0.6473\n",
            "재현율:  0.7092\n"
          ]
        }
      ]
    },
    {
      "cell_type": "markdown",
      "source": [
        "### VADER를 이용한 감성 분석"
      ],
      "metadata": {
        "id": "BLXjevu8If6Q"
      }
    },
    {
      "cell_type": "code",
      "source": [
        "from nltk.sentiment.vader import SentimentIntensityAnalyzer\n",
        "\n",
        "senti_analyzer = SentimentIntensityAnalyzer()\n",
        "senti_scores = senti_analyzer.polarity_scores(review_df['review'][0])\n",
        "print(senti_scores)"
      ],
      "metadata": {
        "colab": {
          "base_uri": "https://localhost:8080/"
        },
        "id": "Aye13DlBIlLv",
        "outputId": "2f8758b2-b025-413d-9f86-4e3c1c920489"
      },
      "execution_count": 36,
      "outputs": [
        {
          "output_type": "stream",
          "name": "stdout",
          "text": [
            "{'neg': 0.13, 'neu': 0.743, 'pos': 0.127, 'compound': -0.7943}\n"
          ]
        }
      ]
    },
    {
      "cell_type": "code",
      "source": [
        "def vader_polarity(review, threshold=0.1):\n",
        "  analyzer = SentimentIntensityAnalyzer()\n",
        "  scores = analyzer.polarity_scores(review)\n",
        "\n",
        "  # compound 값에 기반해 threshold 입력값보다 크면 1, 그렇지 않으면 0을 반환\n",
        "  agg_score = scores['compound']\n",
        "  final_sentiment = 1 if agg_score >= threshold else 0\n",
        "  return final_sentiment\n",
        "\n",
        "# apply lambda 식을 이용해 레코드별로 vader_polarity()를 수행하고 결과를 'vader_preds'에 저장\n",
        "review_df['vader_preds'] = review_df['review'].apply(lambda x: vader_polarity(x, 0.1))\n",
        "y_target = review_df['sentiment'].values\n",
        "vader_preds = review_df['vader_preds'].values\n",
        "\n",
        "print(confusion_matrix(y_target, vader_preds))\n",
        "print(\"정확도:\", np.round(accuracy_score(y_target, vader_preds), 4))\n",
        "print(\"정밀도:\", np.round(precision_score(y_target, vader_preds), 4))\n",
        "print(\"재현율:\", np.round(recall_score(y_target, vader_preds), 4))"
      ],
      "metadata": {
        "colab": {
          "base_uri": "https://localhost:8080/"
        },
        "id": "MQ7N8TP4IuK_",
        "outputId": "6edde01e-c9c1-4d8b-a5e4-4aea786b955c"
      },
      "execution_count": 37,
      "outputs": [
        {
          "output_type": "stream",
          "name": "stdout",
          "text": [
            "[[ 6747  5753]\n",
            " [ 1858 10642]]\n",
            "정확도: 0.6956\n",
            "정밀도: 0.6491\n",
            "재현율: 0.8514\n"
          ]
        }
      ]
    }
  ],
  "metadata": {
    "colab": {
      "provenance": []
    },
    "kernelspec": {
      "display_name": "Python 3",
      "name": "python3"
    },
    "language_info": {
      "name": "python"
    }
  },
  "nbformat": 4,
  "nbformat_minor": 0
}