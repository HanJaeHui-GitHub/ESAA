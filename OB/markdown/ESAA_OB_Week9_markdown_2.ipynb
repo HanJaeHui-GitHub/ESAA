{
  "nbformat": 4,
  "nbformat_minor": 0,
  "metadata": {
    "colab": {
      "provenance": []
    },
    "kernelspec": {
      "name": "python3",
      "display_name": "Python 3"
    },
    "language_info": {
      "name": "python"
    }
  },
  "cells": [
    {
      "cell_type": "code",
      "source": [
        "## 9주차 과제_0502(금)\n",
        "\n",
        "파이썬 머신러닝 완벽가이드 개정2판 ch9. 7~9 p.625~647"
      ],
      "metadata": {
        "id": "7-RYx6nkBFdT"
      },
      "execution_count": null,
      "outputs": []
    },
    {
      "cell_type": "markdown",
      "source": [
        "## 행렬 분해를 이용한 잠재 요인 협업 필터링 실습"
      ],
      "metadata": {
        "id": "Be0oSl4TBT9f"
      }
    },
    {
      "cell_type": "markdown",
      "source": [
        "행렬 분해 잠재 요인 협업 필터링\n",
        "\n",
        "SVD, NMF 적용 가능\n",
        "\n",
        "일반적으로 행렬 분해에는 SVD가 자주 사용되지만 사용자-아이템 평점 행렬에는 사용자가 평점을 매기지 않은 Null 데이터가 많기 때문에 주로 SGD나 ALS 기반의 행렬 분해 이용"
      ],
      "metadata": {
        "id": "9svTsmgGBtyR"
      }
    },
    {
      "cell_type": "code",
      "execution_count": null,
      "metadata": {
        "id": "VK7FW1J9BAWj"
      },
      "outputs": [],
      "source": [
        "# SGD 기반 행렬 분해 구현\n",
        "# 확률적 경사 하강법을 이용한 행렬 분해 예제의 get_rmse() 함수 사용\n",
        "from sklearn.metrics import mean_squared_error\n",
        "\n",
        "def get_rmse(R,P,Q,non_zeros):\n",
        "    error=0\n",
        "    # 두 개의 분해된 행렬 P와 Q.T의 내적으로 예측 R 행렬 생성\n",
        "    full_pred_matrix = np.dot(P, Q.T)\n",
        "\n",
        "    # 실제 R 행렬에서 널이 아닌 값의 위치 인덱스 추출해 실제 R 행렬과 예측 행렬의 RMSE 추출\n",
        "    x_non_zero_ind = [non_zero[0] for non_zero in non_zeros]\n",
        "    y_non_zero_ind = [non_zero[1] for non_zero in non_zeros]\n",
        "    R_non_zeros = R[x_non_zero_ind, y_non_zero_ind]\n",
        "    full_pred_matrix_non_zeros = full_pred_matrix[x_non_zero_ind, y_non_zero_ind]\n",
        "    mse = mean_squared_error(R_non_zeros, full_pred_matrix_non_zeros)\n",
        "    rmse = np.sqrt(mse)\n",
        "\n",
        "    return rmse"
      ]
    },
    {
      "cell_type": "code",
      "source": [
        "# 행렬 분해 로직 함수 정의\n",
        "def matrix_factorization(R, K, steps = 200, learning_rate = 0.01, r_lambda = 0.01):\n",
        "    num_users, num_items = R.shape\n",
        "    # P와 Q 매트릭스의 크기를 지정하고 정규 분포를 가진 랜덤한 값으로 입력\n",
        "    np.random.seed(1)\n",
        "    P = np.random.normal(scale = 1./K, size = (num_users, K))\n",
        "    Q = np.random.normal(scale = 1./K, size = (num_items, K))\n",
        "\n",
        "    # R > 0인 행 위치, 열 위치, 값을 non_zeros 리스트 객체에 저장\n",
        "    non_zeros = [(i,j,R[i,j]) for i in range(num_users) for j in range(num_items) if R[i,j]>0]\n",
        "\n",
        "    # SGD 기법으로 P와 Q 매트릭스를 계속 업데이트\n",
        "    for step in range(steps):\n",
        "        for i, j, r in non_zeros:\n",
        "            # 실제 값과 예측 값의 차이인 오류 값 구함\n",
        "            eij = r - np.dot(P[i,:], Q[j,:].T)\n",
        "            # Regularization을 반영한 SGD 업데이트 공식 적용\n",
        "            P[i,:] = P[i,:] + learning_rate*(eij * Q[j, :] - r_lambda * P[i,:])\n",
        "            Q[j,:] = Q[j,:] + learning_rate*(eij * P[i, :] - r_lambda * Q[j,:])\n",
        "\n",
        "        rmse = get_rmse(R, P, Q, non_zeros)\n",
        "        if (step % 10) == 0:\n",
        "            print('### iteration step :', step, 'rmse :', rmse)\n",
        "\n",
        "    return P, Q"
      ],
      "metadata": {
        "id": "S97UoJ6tCit_"
      },
      "execution_count": null,
      "outputs": []
    },
    {
      "cell_type": "code",
      "source": [
        "# 영화 평정 행렬 데이터를 데이터프레임으로 로딩한 후 다시 사용자-아이템 평점 행렬로 변경\n",
        "import pandas as pd\n",
        "import numpy as np\n",
        "\n",
        "movies = pd.read_csv('/content/drive/MyDrive/ESAA/25-1 OB 세션/datasets/ml-latest-small/movies.csv')\n",
        "ratings = pd.read_csv('/content/drive/MyDrive/ESAA/25-1 OB 세션/datasets/ml-latest-small/ratings.csv')\n",
        "ratings = ratings[['userId', 'movieId', 'rating']]\n",
        "rating_matrix = ratings.pivot_table('rating', index = 'userId', columns = 'movieId')\n",
        "\n",
        "# title 칼럼을 얻기 위해 movies와 조인 수행\n",
        "rating_movies = pd.merge(ratings, movies, on = 'movieId')\n",
        "\n",
        "# columns = 'title'로 title 칼럼으로 pivot 수행\n",
        "ratings_matrix = rating_movies.pivot_table('rating', index = 'userId', columns = 'title')"
      ],
      "metadata": {
        "id": "Bw6YoaEqGCd4"
      },
      "execution_count": null,
      "outputs": []
    },
    {
      "cell_type": "code",
      "source": [
        "# 사용자-아이템 평점 행렬을 행렬 분해 진행\n",
        "P, Q = matrix_factorization(ratings_matrix.values, K = 50, steps = 200, learning_rate = 0.01, r_lambda = 0.01)\n",
        "pred_matrix = np.dot(P, Q.T)"
      ],
      "metadata": {
        "id": "rYuc-g8nHsIl",
        "colab": {
          "base_uri": "https://localhost:8080/"
        },
        "outputId": "1b5ca68b-d445-4dca-b858-abf243f7c818"
      },
      "execution_count": null,
      "outputs": [
        {
          "output_type": "stream",
          "name": "stdout",
          "text": [
            "### iteration step : 0 rmse : 2.9023619751336867\n",
            "### iteration step : 10 rmse : 0.7335768591017927\n",
            "### iteration step : 20 rmse : 0.5115539026853442\n",
            "### iteration step : 30 rmse : 0.37261628282537446\n",
            "### iteration step : 40 rmse : 0.2960818299181014\n",
            "### iteration step : 50 rmse : 0.2520353192341642\n",
            "### iteration step : 60 rmse : 0.22487503275269854\n",
            "### iteration step : 70 rmse : 0.2068545530233154\n",
            "### iteration step : 80 rmse : 0.19413418783028685\n",
            "### iteration step : 90 rmse : 0.18470082002720406\n",
            "### iteration step : 100 rmse : 0.17742927527209104\n",
            "### iteration step : 110 rmse : 0.1716522696470749\n",
            "### iteration step : 120 rmse : 0.16695181946871726\n",
            "### iteration step : 130 rmse : 0.16305292191997542\n",
            "### iteration step : 140 rmse : 0.15976691929679646\n",
            "### iteration step : 150 rmse : 0.1569598699945732\n",
            "### iteration step : 160 rmse : 0.15453398186715425\n",
            "### iteration step : 170 rmse : 0.15241618551077643\n",
            "### iteration step : 180 rmse : 0.1505508073962831\n",
            "### iteration step : 190 rmse : 0.1488947091323209\n"
          ]
        }
      ]
    },
    {
      "cell_type": "code",
      "source": [
        "# 예측 사용자-아이템 평점 행렬을 영화 타이틀 칼럼명으로 가지는 데이터프레임으로 변환\n",
        "rating_pred_matrix = pd.DataFrame(data = pred_matrix, index = rating_matrix.index, columns = ratings_matrix.columns)\n",
        "rating_pred_matrix.head(3)"
      ],
      "metadata": {
        "colab": {
          "base_uri": "https://localhost:8080/",
          "height": 345
        },
        "id": "FraBacagI-Hq",
        "outputId": "429d37b2-6abc-4092-a2d0-376ae9cb82f3"
      },
      "execution_count": null,
      "outputs": [
        {
          "output_type": "execute_result",
          "data": {
            "text/plain": [
              "title   '71 (2014)  'Hellboy': The Seeds of Creation (2004)  \\\n",
              "userId                                                        \n",
              "1         3.055084                                 4.092018   \n",
              "2         3.170119                                 3.657992   \n",
              "3         2.307073                                 1.658853   \n",
              "\n",
              "title   'Round Midnight (1986)  'Salem's Lot (2004)  \\\n",
              "userId                                                \n",
              "1                     3.564130             4.502167   \n",
              "2                     3.308707             4.166521   \n",
              "3                     1.443538             2.208859   \n",
              "\n",
              "title   'Til There Was You (1997)  'Tis the Season for Love (2015)  \\\n",
              "userId                                                               \n",
              "1                        3.981215                         1.271694   \n",
              "2                        4.311890                         1.275469   \n",
              "3                        2.229486                         0.780760   \n",
              "\n",
              "title   'burbs, The (1989)  'night Mother (1986)  (500) Days of Summer (2009)  \\\n",
              "userId                                                                          \n",
              "1                 3.603274              2.333266                     5.091749   \n",
              "2                 4.237972              1.900366                     3.392859   \n",
              "3                 1.997043              0.924908                     2.970700   \n",
              "\n",
              "title   *batteries not included (1987)  ...  Zulu (2013)  [REC] (2007)  \\\n",
              "userId                                  ...                              \n",
              "1                             3.972454  ...     1.402608      4.208382   \n",
              "2                             3.647421  ...     0.973811      3.528264   \n",
              "3                             2.551446  ...     0.520354      1.709494   \n",
              "\n",
              "title   [REC]² (2009)  [REC]³ 3 Génesis (2012)  \\\n",
              "userId                                           \n",
              "1            3.705957                 2.720514   \n",
              "2            3.361532                 2.672535   \n",
              "3            2.281596                 1.782833   \n",
              "\n",
              "title   anohana: The Flower We Saw That Day - The Movie (2013)  \\\n",
              "userId                                                           \n",
              "1                                                2.787331        \n",
              "2                                                2.404456        \n",
              "3                                                1.635173        \n",
              "\n",
              "title   eXistenZ (1999)  xXx (2002)  xXx: State of the Union (2005)  \\\n",
              "userId                                                                \n",
              "1              3.475076    3.253458                        2.161087   \n",
              "2              4.232789    2.911602                        1.634576   \n",
              "3              1.323276    2.887580                        1.042618   \n",
              "\n",
              "title   ¡Three Amigos! (1986)  À nous la liberté (Freedom for Us) (1931)  \n",
              "userId                                                                    \n",
              "1                    4.010495                                   0.859474  \n",
              "2                    4.135735                                   0.725684  \n",
              "3                    2.293890                                   0.396941  \n",
              "\n",
              "[3 rows x 9719 columns]"
            ],
            "text/html": [
              "\n",
              "  <div id=\"df-a6171f9e-1fb1-4f1b-82fb-2930af8e95e4\" class=\"colab-df-container\">\n",
              "    <div>\n",
              "<style scoped>\n",
              "    .dataframe tbody tr th:only-of-type {\n",
              "        vertical-align: middle;\n",
              "    }\n",
              "\n",
              "    .dataframe tbody tr th {\n",
              "        vertical-align: top;\n",
              "    }\n",
              "\n",
              "    .dataframe thead th {\n",
              "        text-align: right;\n",
              "    }\n",
              "</style>\n",
              "<table border=\"1\" class=\"dataframe\">\n",
              "  <thead>\n",
              "    <tr style=\"text-align: right;\">\n",
              "      <th>title</th>\n",
              "      <th>'71 (2014)</th>\n",
              "      <th>'Hellboy': The Seeds of Creation (2004)</th>\n",
              "      <th>'Round Midnight (1986)</th>\n",
              "      <th>'Salem's Lot (2004)</th>\n",
              "      <th>'Til There Was You (1997)</th>\n",
              "      <th>'Tis the Season for Love (2015)</th>\n",
              "      <th>'burbs, The (1989)</th>\n",
              "      <th>'night Mother (1986)</th>\n",
              "      <th>(500) Days of Summer (2009)</th>\n",
              "      <th>*batteries not included (1987)</th>\n",
              "      <th>...</th>\n",
              "      <th>Zulu (2013)</th>\n",
              "      <th>[REC] (2007)</th>\n",
              "      <th>[REC]² (2009)</th>\n",
              "      <th>[REC]³ 3 Génesis (2012)</th>\n",
              "      <th>anohana: The Flower We Saw That Day - The Movie (2013)</th>\n",
              "      <th>eXistenZ (1999)</th>\n",
              "      <th>xXx (2002)</th>\n",
              "      <th>xXx: State of the Union (2005)</th>\n",
              "      <th>¡Three Amigos! (1986)</th>\n",
              "      <th>À nous la liberté (Freedom for Us) (1931)</th>\n",
              "    </tr>\n",
              "    <tr>\n",
              "      <th>userId</th>\n",
              "      <th></th>\n",
              "      <th></th>\n",
              "      <th></th>\n",
              "      <th></th>\n",
              "      <th></th>\n",
              "      <th></th>\n",
              "      <th></th>\n",
              "      <th></th>\n",
              "      <th></th>\n",
              "      <th></th>\n",
              "      <th></th>\n",
              "      <th></th>\n",
              "      <th></th>\n",
              "      <th></th>\n",
              "      <th></th>\n",
              "      <th></th>\n",
              "      <th></th>\n",
              "      <th></th>\n",
              "      <th></th>\n",
              "      <th></th>\n",
              "      <th></th>\n",
              "    </tr>\n",
              "  </thead>\n",
              "  <tbody>\n",
              "    <tr>\n",
              "      <th>1</th>\n",
              "      <td>3.055084</td>\n",
              "      <td>4.092018</td>\n",
              "      <td>3.564130</td>\n",
              "      <td>4.502167</td>\n",
              "      <td>3.981215</td>\n",
              "      <td>1.271694</td>\n",
              "      <td>3.603274</td>\n",
              "      <td>2.333266</td>\n",
              "      <td>5.091749</td>\n",
              "      <td>3.972454</td>\n",
              "      <td>...</td>\n",
              "      <td>1.402608</td>\n",
              "      <td>4.208382</td>\n",
              "      <td>3.705957</td>\n",
              "      <td>2.720514</td>\n",
              "      <td>2.787331</td>\n",
              "      <td>3.475076</td>\n",
              "      <td>3.253458</td>\n",
              "      <td>2.161087</td>\n",
              "      <td>4.010495</td>\n",
              "      <td>0.859474</td>\n",
              "    </tr>\n",
              "    <tr>\n",
              "      <th>2</th>\n",
              "      <td>3.170119</td>\n",
              "      <td>3.657992</td>\n",
              "      <td>3.308707</td>\n",
              "      <td>4.166521</td>\n",
              "      <td>4.311890</td>\n",
              "      <td>1.275469</td>\n",
              "      <td>4.237972</td>\n",
              "      <td>1.900366</td>\n",
              "      <td>3.392859</td>\n",
              "      <td>3.647421</td>\n",
              "      <td>...</td>\n",
              "      <td>0.973811</td>\n",
              "      <td>3.528264</td>\n",
              "      <td>3.361532</td>\n",
              "      <td>2.672535</td>\n",
              "      <td>2.404456</td>\n",
              "      <td>4.232789</td>\n",
              "      <td>2.911602</td>\n",
              "      <td>1.634576</td>\n",
              "      <td>4.135735</td>\n",
              "      <td>0.725684</td>\n",
              "    </tr>\n",
              "    <tr>\n",
              "      <th>3</th>\n",
              "      <td>2.307073</td>\n",
              "      <td>1.658853</td>\n",
              "      <td>1.443538</td>\n",
              "      <td>2.208859</td>\n",
              "      <td>2.229486</td>\n",
              "      <td>0.780760</td>\n",
              "      <td>1.997043</td>\n",
              "      <td>0.924908</td>\n",
              "      <td>2.970700</td>\n",
              "      <td>2.551446</td>\n",
              "      <td>...</td>\n",
              "      <td>0.520354</td>\n",
              "      <td>1.709494</td>\n",
              "      <td>2.281596</td>\n",
              "      <td>1.782833</td>\n",
              "      <td>1.635173</td>\n",
              "      <td>1.323276</td>\n",
              "      <td>2.887580</td>\n",
              "      <td>1.042618</td>\n",
              "      <td>2.293890</td>\n",
              "      <td>0.396941</td>\n",
              "    </tr>\n",
              "  </tbody>\n",
              "</table>\n",
              "<p>3 rows × 9719 columns</p>\n",
              "</div>\n",
              "    <div class=\"colab-df-buttons\">\n",
              "\n",
              "  <div class=\"colab-df-container\">\n",
              "    <button class=\"colab-df-convert\" onclick=\"convertToInteractive('df-a6171f9e-1fb1-4f1b-82fb-2930af8e95e4')\"\n",
              "            title=\"Convert this dataframe to an interactive table.\"\n",
              "            style=\"display:none;\">\n",
              "\n",
              "  <svg xmlns=\"http://www.w3.org/2000/svg\" height=\"24px\" viewBox=\"0 -960 960 960\">\n",
              "    <path d=\"M120-120v-720h720v720H120Zm60-500h600v-160H180v160Zm220 220h160v-160H400v160Zm0 220h160v-160H400v160ZM180-400h160v-160H180v160Zm440 0h160v-160H620v160ZM180-180h160v-160H180v160Zm440 0h160v-160H620v160Z\"/>\n",
              "  </svg>\n",
              "    </button>\n",
              "\n",
              "  <style>\n",
              "    .colab-df-container {\n",
              "      display:flex;\n",
              "      gap: 12px;\n",
              "    }\n",
              "\n",
              "    .colab-df-convert {\n",
              "      background-color: #E8F0FE;\n",
              "      border: none;\n",
              "      border-radius: 50%;\n",
              "      cursor: pointer;\n",
              "      display: none;\n",
              "      fill: #1967D2;\n",
              "      height: 32px;\n",
              "      padding: 0 0 0 0;\n",
              "      width: 32px;\n",
              "    }\n",
              "\n",
              "    .colab-df-convert:hover {\n",
              "      background-color: #E2EBFA;\n",
              "      box-shadow: 0px 1px 2px rgba(60, 64, 67, 0.3), 0px 1px 3px 1px rgba(60, 64, 67, 0.15);\n",
              "      fill: #174EA6;\n",
              "    }\n",
              "\n",
              "    .colab-df-buttons div {\n",
              "      margin-bottom: 4px;\n",
              "    }\n",
              "\n",
              "    [theme=dark] .colab-df-convert {\n",
              "      background-color: #3B4455;\n",
              "      fill: #D2E3FC;\n",
              "    }\n",
              "\n",
              "    [theme=dark] .colab-df-convert:hover {\n",
              "      background-color: #434B5C;\n",
              "      box-shadow: 0px 1px 3px 1px rgba(0, 0, 0, 0.15);\n",
              "      filter: drop-shadow(0px 1px 2px rgba(0, 0, 0, 0.3));\n",
              "      fill: #FFFFFF;\n",
              "    }\n",
              "  </style>\n",
              "\n",
              "    <script>\n",
              "      const buttonEl =\n",
              "        document.querySelector('#df-a6171f9e-1fb1-4f1b-82fb-2930af8e95e4 button.colab-df-convert');\n",
              "      buttonEl.style.display =\n",
              "        google.colab.kernel.accessAllowed ? 'block' : 'none';\n",
              "\n",
              "      async function convertToInteractive(key) {\n",
              "        const element = document.querySelector('#df-a6171f9e-1fb1-4f1b-82fb-2930af8e95e4');\n",
              "        const dataTable =\n",
              "          await google.colab.kernel.invokeFunction('convertToInteractive',\n",
              "                                                    [key], {});\n",
              "        if (!dataTable) return;\n",
              "\n",
              "        const docLinkHtml = 'Like what you see? Visit the ' +\n",
              "          '<a target=\"_blank\" href=https://colab.research.google.com/notebooks/data_table.ipynb>data table notebook</a>'\n",
              "          + ' to learn more about interactive tables.';\n",
              "        element.innerHTML = '';\n",
              "        dataTable['output_type'] = 'display_data';\n",
              "        await google.colab.output.renderOutput(dataTable, element);\n",
              "        const docLink = document.createElement('div');\n",
              "        docLink.innerHTML = docLinkHtml;\n",
              "        element.appendChild(docLink);\n",
              "      }\n",
              "    </script>\n",
              "  </div>\n",
              "\n",
              "\n",
              "    <div id=\"df-053c8866-2abd-46c4-85f7-9493dabcb750\">\n",
              "      <button class=\"colab-df-quickchart\" onclick=\"quickchart('df-053c8866-2abd-46c4-85f7-9493dabcb750')\"\n",
              "                title=\"Suggest charts\"\n",
              "                style=\"display:none;\">\n",
              "\n",
              "<svg xmlns=\"http://www.w3.org/2000/svg\" height=\"24px\"viewBox=\"0 0 24 24\"\n",
              "     width=\"24px\">\n",
              "    <g>\n",
              "        <path d=\"M19 3H5c-1.1 0-2 .9-2 2v14c0 1.1.9 2 2 2h14c1.1 0 2-.9 2-2V5c0-1.1-.9-2-2-2zM9 17H7v-7h2v7zm4 0h-2V7h2v10zm4 0h-2v-4h2v4z\"/>\n",
              "    </g>\n",
              "</svg>\n",
              "      </button>\n",
              "\n",
              "<style>\n",
              "  .colab-df-quickchart {\n",
              "      --bg-color: #E8F0FE;\n",
              "      --fill-color: #1967D2;\n",
              "      --hover-bg-color: #E2EBFA;\n",
              "      --hover-fill-color: #174EA6;\n",
              "      --disabled-fill-color: #AAA;\n",
              "      --disabled-bg-color: #DDD;\n",
              "  }\n",
              "\n",
              "  [theme=dark] .colab-df-quickchart {\n",
              "      --bg-color: #3B4455;\n",
              "      --fill-color: #D2E3FC;\n",
              "      --hover-bg-color: #434B5C;\n",
              "      --hover-fill-color: #FFFFFF;\n",
              "      --disabled-bg-color: #3B4455;\n",
              "      --disabled-fill-color: #666;\n",
              "  }\n",
              "\n",
              "  .colab-df-quickchart {\n",
              "    background-color: var(--bg-color);\n",
              "    border: none;\n",
              "    border-radius: 50%;\n",
              "    cursor: pointer;\n",
              "    display: none;\n",
              "    fill: var(--fill-color);\n",
              "    height: 32px;\n",
              "    padding: 0;\n",
              "    width: 32px;\n",
              "  }\n",
              "\n",
              "  .colab-df-quickchart:hover {\n",
              "    background-color: var(--hover-bg-color);\n",
              "    box-shadow: 0 1px 2px rgba(60, 64, 67, 0.3), 0 1px 3px 1px rgba(60, 64, 67, 0.15);\n",
              "    fill: var(--button-hover-fill-color);\n",
              "  }\n",
              "\n",
              "  .colab-df-quickchart-complete:disabled,\n",
              "  .colab-df-quickchart-complete:disabled:hover {\n",
              "    background-color: var(--disabled-bg-color);\n",
              "    fill: var(--disabled-fill-color);\n",
              "    box-shadow: none;\n",
              "  }\n",
              "\n",
              "  .colab-df-spinner {\n",
              "    border: 2px solid var(--fill-color);\n",
              "    border-color: transparent;\n",
              "    border-bottom-color: var(--fill-color);\n",
              "    animation:\n",
              "      spin 1s steps(1) infinite;\n",
              "  }\n",
              "\n",
              "  @keyframes spin {\n",
              "    0% {\n",
              "      border-color: transparent;\n",
              "      border-bottom-color: var(--fill-color);\n",
              "      border-left-color: var(--fill-color);\n",
              "    }\n",
              "    20% {\n",
              "      border-color: transparent;\n",
              "      border-left-color: var(--fill-color);\n",
              "      border-top-color: var(--fill-color);\n",
              "    }\n",
              "    30% {\n",
              "      border-color: transparent;\n",
              "      border-left-color: var(--fill-color);\n",
              "      border-top-color: var(--fill-color);\n",
              "      border-right-color: var(--fill-color);\n",
              "    }\n",
              "    40% {\n",
              "      border-color: transparent;\n",
              "      border-right-color: var(--fill-color);\n",
              "      border-top-color: var(--fill-color);\n",
              "    }\n",
              "    60% {\n",
              "      border-color: transparent;\n",
              "      border-right-color: var(--fill-color);\n",
              "    }\n",
              "    80% {\n",
              "      border-color: transparent;\n",
              "      border-right-color: var(--fill-color);\n",
              "      border-bottom-color: var(--fill-color);\n",
              "    }\n",
              "    90% {\n",
              "      border-color: transparent;\n",
              "      border-bottom-color: var(--fill-color);\n",
              "    }\n",
              "  }\n",
              "</style>\n",
              "\n",
              "      <script>\n",
              "        async function quickchart(key) {\n",
              "          const quickchartButtonEl =\n",
              "            document.querySelector('#' + key + ' button');\n",
              "          quickchartButtonEl.disabled = true;  // To prevent multiple clicks.\n",
              "          quickchartButtonEl.classList.add('colab-df-spinner');\n",
              "          try {\n",
              "            const charts = await google.colab.kernel.invokeFunction(\n",
              "                'suggestCharts', [key], {});\n",
              "          } catch (error) {\n",
              "            console.error('Error during call to suggestCharts:', error);\n",
              "          }\n",
              "          quickchartButtonEl.classList.remove('colab-df-spinner');\n",
              "          quickchartButtonEl.classList.add('colab-df-quickchart-complete');\n",
              "        }\n",
              "        (() => {\n",
              "          let quickchartButtonEl =\n",
              "            document.querySelector('#df-053c8866-2abd-46c4-85f7-9493dabcb750 button');\n",
              "          quickchartButtonEl.style.display =\n",
              "            google.colab.kernel.accessAllowed ? 'block' : 'none';\n",
              "        })();\n",
              "      </script>\n",
              "    </div>\n",
              "\n",
              "    </div>\n",
              "  </div>\n"
            ],
            "application/vnd.google.colaboratory.intrinsic+json": {
              "type": "dataframe",
              "variable_name": "rating_pred_matrix"
            }
          },
          "metadata": {},
          "execution_count": 8
        }
      ]
    },
    {
      "cell_type": "code",
      "source": [
        "def get_unseen_movies(ratings_matrix, userId):\n",
        "    # userId로 입력받은 사용자의 모든 영화 정보를 추출해 Series로 반환함.\n",
        "    # 반환된 user_rating은 영화명(title)을 인덱스를 가지는 Series 객체임.\n",
        "    user_rating = ratings_matrix.loc[userId, :]\n",
        "\n",
        "    #user_rating이 0보다 크면 기존에 관람한 영화임. 대상 인덱스를 추출해 list 객체로 만듦.\n",
        "    already_seen = user_rating[ user_rating > 0].index.tolist()\n",
        "\n",
        "    # 모든 영화명을 list 객체로 만듦.\n",
        "    movies_list = ratings_matrix.columns.tolist()\n",
        "\n",
        "    # list comporehension으로 already_seen에 해당하는 영화는 movies_list에서 제외함.\n",
        "    unseen_list = [ movie for movie in movies_list if movie not in already_seen]\n",
        "\n",
        "    return unseen_list"
      ],
      "metadata": {
        "id": "nTLZZ14HJjix"
      },
      "execution_count": null,
      "outputs": []
    },
    {
      "cell_type": "code",
      "source": [
        "def recomm_movie_by_userid(pred_df, userId, unseen_list, top_n = 10):\n",
        "    # 예측 평점 DataFrame에서 사용자id 인덱스와 unseen_list로 들어온 영화명 칼럼을 추출해\n",
        "    # 가장 예측 평점이 높은 순으로 정렬함.\n",
        "    recomm_movies = pred_df.loc[userId, unseen_list].sort_values(ascending=False)[:top_n]\n",
        "    return recomm_movies"
      ],
      "metadata": {
        "id": "fZSpxpW0J2qW"
      },
      "execution_count": null,
      "outputs": []
    },
    {
      "cell_type": "code",
      "source": [
        "# 사용자가 관람하지 않은 영화명 추출\n",
        "unseen_list = get_unseen_movies(ratings_matrix, 9)\n",
        "\n",
        "# 잠재 요인 협업 필터링으로 영화 추천\n",
        "recomm_movies = recomm_movie_by_userid(rating_pred_matrix, 9, unseen_list, top_n = 10)\n",
        "\n",
        "# 평점 데이터를 DataFrame으로 생성\n",
        "recomm_movies = pd.DataFrame(data = recomm_movies.values, index = recomm_movies.index, columns = ['pred_score'])\n",
        "recomm_movies"
      ],
      "metadata": {
        "colab": {
          "base_uri": "https://localhost:8080/",
          "height": 394
        },
        "id": "ABTxFACvJ3GO",
        "outputId": "792aa826-5984-47fa-e242-7de52bec260d"
      },
      "execution_count": null,
      "outputs": [
        {
          "output_type": "execute_result",
          "data": {
            "text/plain": [
              "                                                    pred_score\n",
              "title                                                         \n",
              "Rear Window (1954)                                    5.704612\n",
              "South Park: Bigger, Longer and Uncut (1999)           5.451100\n",
              "Rounders (1998)                                       5.298393\n",
              "Blade Runner (1982)                                   5.244951\n",
              "Roger & Me (1989)                                     5.191962\n",
              "Gattaca (1997)                                        5.183179\n",
              "Ben-Hur (1959)                                        5.130463\n",
              "Rosencrantz and Guildenstern Are Dead (1990)          5.087375\n",
              "Big Lebowski, The (1998)                              5.038690\n",
              "Star Wars: Episode V - The Empire Strikes Back ...    4.989601"
            ],
            "text/html": [
              "\n",
              "  <div id=\"df-10b9051d-9dd8-4879-b240-f4c51d539f87\" class=\"colab-df-container\">\n",
              "    <div>\n",
              "<style scoped>\n",
              "    .dataframe tbody tr th:only-of-type {\n",
              "        vertical-align: middle;\n",
              "    }\n",
              "\n",
              "    .dataframe tbody tr th {\n",
              "        vertical-align: top;\n",
              "    }\n",
              "\n",
              "    .dataframe thead th {\n",
              "        text-align: right;\n",
              "    }\n",
              "</style>\n",
              "<table border=\"1\" class=\"dataframe\">\n",
              "  <thead>\n",
              "    <tr style=\"text-align: right;\">\n",
              "      <th></th>\n",
              "      <th>pred_score</th>\n",
              "    </tr>\n",
              "    <tr>\n",
              "      <th>title</th>\n",
              "      <th></th>\n",
              "    </tr>\n",
              "  </thead>\n",
              "  <tbody>\n",
              "    <tr>\n",
              "      <th>Rear Window (1954)</th>\n",
              "      <td>5.704612</td>\n",
              "    </tr>\n",
              "    <tr>\n",
              "      <th>South Park: Bigger, Longer and Uncut (1999)</th>\n",
              "      <td>5.451100</td>\n",
              "    </tr>\n",
              "    <tr>\n",
              "      <th>Rounders (1998)</th>\n",
              "      <td>5.298393</td>\n",
              "    </tr>\n",
              "    <tr>\n",
              "      <th>Blade Runner (1982)</th>\n",
              "      <td>5.244951</td>\n",
              "    </tr>\n",
              "    <tr>\n",
              "      <th>Roger &amp; Me (1989)</th>\n",
              "      <td>5.191962</td>\n",
              "    </tr>\n",
              "    <tr>\n",
              "      <th>Gattaca (1997)</th>\n",
              "      <td>5.183179</td>\n",
              "    </tr>\n",
              "    <tr>\n",
              "      <th>Ben-Hur (1959)</th>\n",
              "      <td>5.130463</td>\n",
              "    </tr>\n",
              "    <tr>\n",
              "      <th>Rosencrantz and Guildenstern Are Dead (1990)</th>\n",
              "      <td>5.087375</td>\n",
              "    </tr>\n",
              "    <tr>\n",
              "      <th>Big Lebowski, The (1998)</th>\n",
              "      <td>5.038690</td>\n",
              "    </tr>\n",
              "    <tr>\n",
              "      <th>Star Wars: Episode V - The Empire Strikes Back (1980)</th>\n",
              "      <td>4.989601</td>\n",
              "    </tr>\n",
              "  </tbody>\n",
              "</table>\n",
              "</div>\n",
              "    <div class=\"colab-df-buttons\">\n",
              "\n",
              "  <div class=\"colab-df-container\">\n",
              "    <button class=\"colab-df-convert\" onclick=\"convertToInteractive('df-10b9051d-9dd8-4879-b240-f4c51d539f87')\"\n",
              "            title=\"Convert this dataframe to an interactive table.\"\n",
              "            style=\"display:none;\">\n",
              "\n",
              "  <svg xmlns=\"http://www.w3.org/2000/svg\" height=\"24px\" viewBox=\"0 -960 960 960\">\n",
              "    <path d=\"M120-120v-720h720v720H120Zm60-500h600v-160H180v160Zm220 220h160v-160H400v160Zm0 220h160v-160H400v160ZM180-400h160v-160H180v160Zm440 0h160v-160H620v160ZM180-180h160v-160H180v160Zm440 0h160v-160H620v160Z\"/>\n",
              "  </svg>\n",
              "    </button>\n",
              "\n",
              "  <style>\n",
              "    .colab-df-container {\n",
              "      display:flex;\n",
              "      gap: 12px;\n",
              "    }\n",
              "\n",
              "    .colab-df-convert {\n",
              "      background-color: #E8F0FE;\n",
              "      border: none;\n",
              "      border-radius: 50%;\n",
              "      cursor: pointer;\n",
              "      display: none;\n",
              "      fill: #1967D2;\n",
              "      height: 32px;\n",
              "      padding: 0 0 0 0;\n",
              "      width: 32px;\n",
              "    }\n",
              "\n",
              "    .colab-df-convert:hover {\n",
              "      background-color: #E2EBFA;\n",
              "      box-shadow: 0px 1px 2px rgba(60, 64, 67, 0.3), 0px 1px 3px 1px rgba(60, 64, 67, 0.15);\n",
              "      fill: #174EA6;\n",
              "    }\n",
              "\n",
              "    .colab-df-buttons div {\n",
              "      margin-bottom: 4px;\n",
              "    }\n",
              "\n",
              "    [theme=dark] .colab-df-convert {\n",
              "      background-color: #3B4455;\n",
              "      fill: #D2E3FC;\n",
              "    }\n",
              "\n",
              "    [theme=dark] .colab-df-convert:hover {\n",
              "      background-color: #434B5C;\n",
              "      box-shadow: 0px 1px 3px 1px rgba(0, 0, 0, 0.15);\n",
              "      filter: drop-shadow(0px 1px 2px rgba(0, 0, 0, 0.3));\n",
              "      fill: #FFFFFF;\n",
              "    }\n",
              "  </style>\n",
              "\n",
              "    <script>\n",
              "      const buttonEl =\n",
              "        document.querySelector('#df-10b9051d-9dd8-4879-b240-f4c51d539f87 button.colab-df-convert');\n",
              "      buttonEl.style.display =\n",
              "        google.colab.kernel.accessAllowed ? 'block' : 'none';\n",
              "\n",
              "      async function convertToInteractive(key) {\n",
              "        const element = document.querySelector('#df-10b9051d-9dd8-4879-b240-f4c51d539f87');\n",
              "        const dataTable =\n",
              "          await google.colab.kernel.invokeFunction('convertToInteractive',\n",
              "                                                    [key], {});\n",
              "        if (!dataTable) return;\n",
              "\n",
              "        const docLinkHtml = 'Like what you see? Visit the ' +\n",
              "          '<a target=\"_blank\" href=https://colab.research.google.com/notebooks/data_table.ipynb>data table notebook</a>'\n",
              "          + ' to learn more about interactive tables.';\n",
              "        element.innerHTML = '';\n",
              "        dataTable['output_type'] = 'display_data';\n",
              "        await google.colab.output.renderOutput(dataTable, element);\n",
              "        const docLink = document.createElement('div');\n",
              "        docLink.innerHTML = docLinkHtml;\n",
              "        element.appendChild(docLink);\n",
              "      }\n",
              "    </script>\n",
              "  </div>\n",
              "\n",
              "\n",
              "    <div id=\"df-445de7da-b81c-4860-b364-d006e4d89a18\">\n",
              "      <button class=\"colab-df-quickchart\" onclick=\"quickchart('df-445de7da-b81c-4860-b364-d006e4d89a18')\"\n",
              "                title=\"Suggest charts\"\n",
              "                style=\"display:none;\">\n",
              "\n",
              "<svg xmlns=\"http://www.w3.org/2000/svg\" height=\"24px\"viewBox=\"0 0 24 24\"\n",
              "     width=\"24px\">\n",
              "    <g>\n",
              "        <path d=\"M19 3H5c-1.1 0-2 .9-2 2v14c0 1.1.9 2 2 2h14c1.1 0 2-.9 2-2V5c0-1.1-.9-2-2-2zM9 17H7v-7h2v7zm4 0h-2V7h2v10zm4 0h-2v-4h2v4z\"/>\n",
              "    </g>\n",
              "</svg>\n",
              "      </button>\n",
              "\n",
              "<style>\n",
              "  .colab-df-quickchart {\n",
              "      --bg-color: #E8F0FE;\n",
              "      --fill-color: #1967D2;\n",
              "      --hover-bg-color: #E2EBFA;\n",
              "      --hover-fill-color: #174EA6;\n",
              "      --disabled-fill-color: #AAA;\n",
              "      --disabled-bg-color: #DDD;\n",
              "  }\n",
              "\n",
              "  [theme=dark] .colab-df-quickchart {\n",
              "      --bg-color: #3B4455;\n",
              "      --fill-color: #D2E3FC;\n",
              "      --hover-bg-color: #434B5C;\n",
              "      --hover-fill-color: #FFFFFF;\n",
              "      --disabled-bg-color: #3B4455;\n",
              "      --disabled-fill-color: #666;\n",
              "  }\n",
              "\n",
              "  .colab-df-quickchart {\n",
              "    background-color: var(--bg-color);\n",
              "    border: none;\n",
              "    border-radius: 50%;\n",
              "    cursor: pointer;\n",
              "    display: none;\n",
              "    fill: var(--fill-color);\n",
              "    height: 32px;\n",
              "    padding: 0;\n",
              "    width: 32px;\n",
              "  }\n",
              "\n",
              "  .colab-df-quickchart:hover {\n",
              "    background-color: var(--hover-bg-color);\n",
              "    box-shadow: 0 1px 2px rgba(60, 64, 67, 0.3), 0 1px 3px 1px rgba(60, 64, 67, 0.15);\n",
              "    fill: var(--button-hover-fill-color);\n",
              "  }\n",
              "\n",
              "  .colab-df-quickchart-complete:disabled,\n",
              "  .colab-df-quickchart-complete:disabled:hover {\n",
              "    background-color: var(--disabled-bg-color);\n",
              "    fill: var(--disabled-fill-color);\n",
              "    box-shadow: none;\n",
              "  }\n",
              "\n",
              "  .colab-df-spinner {\n",
              "    border: 2px solid var(--fill-color);\n",
              "    border-color: transparent;\n",
              "    border-bottom-color: var(--fill-color);\n",
              "    animation:\n",
              "      spin 1s steps(1) infinite;\n",
              "  }\n",
              "\n",
              "  @keyframes spin {\n",
              "    0% {\n",
              "      border-color: transparent;\n",
              "      border-bottom-color: var(--fill-color);\n",
              "      border-left-color: var(--fill-color);\n",
              "    }\n",
              "    20% {\n",
              "      border-color: transparent;\n",
              "      border-left-color: var(--fill-color);\n",
              "      border-top-color: var(--fill-color);\n",
              "    }\n",
              "    30% {\n",
              "      border-color: transparent;\n",
              "      border-left-color: var(--fill-color);\n",
              "      border-top-color: var(--fill-color);\n",
              "      border-right-color: var(--fill-color);\n",
              "    }\n",
              "    40% {\n",
              "      border-color: transparent;\n",
              "      border-right-color: var(--fill-color);\n",
              "      border-top-color: var(--fill-color);\n",
              "    }\n",
              "    60% {\n",
              "      border-color: transparent;\n",
              "      border-right-color: var(--fill-color);\n",
              "    }\n",
              "    80% {\n",
              "      border-color: transparent;\n",
              "      border-right-color: var(--fill-color);\n",
              "      border-bottom-color: var(--fill-color);\n",
              "    }\n",
              "    90% {\n",
              "      border-color: transparent;\n",
              "      border-bottom-color: var(--fill-color);\n",
              "    }\n",
              "  }\n",
              "</style>\n",
              "\n",
              "      <script>\n",
              "        async function quickchart(key) {\n",
              "          const quickchartButtonEl =\n",
              "            document.querySelector('#' + key + ' button');\n",
              "          quickchartButtonEl.disabled = true;  // To prevent multiple clicks.\n",
              "          quickchartButtonEl.classList.add('colab-df-spinner');\n",
              "          try {\n",
              "            const charts = await google.colab.kernel.invokeFunction(\n",
              "                'suggestCharts', [key], {});\n",
              "          } catch (error) {\n",
              "            console.error('Error during call to suggestCharts:', error);\n",
              "          }\n",
              "          quickchartButtonEl.classList.remove('colab-df-spinner');\n",
              "          quickchartButtonEl.classList.add('colab-df-quickchart-complete');\n",
              "        }\n",
              "        (() => {\n",
              "          let quickchartButtonEl =\n",
              "            document.querySelector('#df-445de7da-b81c-4860-b364-d006e4d89a18 button');\n",
              "          quickchartButtonEl.style.display =\n",
              "            google.colab.kernel.accessAllowed ? 'block' : 'none';\n",
              "        })();\n",
              "      </script>\n",
              "    </div>\n",
              "\n",
              "  <div id=\"id_07294324-0f2e-4581-a02f-82561be8527e\">\n",
              "    <style>\n",
              "      .colab-df-generate {\n",
              "        background-color: #E8F0FE;\n",
              "        border: none;\n",
              "        border-radius: 50%;\n",
              "        cursor: pointer;\n",
              "        display: none;\n",
              "        fill: #1967D2;\n",
              "        height: 32px;\n",
              "        padding: 0 0 0 0;\n",
              "        width: 32px;\n",
              "      }\n",
              "\n",
              "      .colab-df-generate:hover {\n",
              "        background-color: #E2EBFA;\n",
              "        box-shadow: 0px 1px 2px rgba(60, 64, 67, 0.3), 0px 1px 3px 1px rgba(60, 64, 67, 0.15);\n",
              "        fill: #174EA6;\n",
              "      }\n",
              "\n",
              "      [theme=dark] .colab-df-generate {\n",
              "        background-color: #3B4455;\n",
              "        fill: #D2E3FC;\n",
              "      }\n",
              "\n",
              "      [theme=dark] .colab-df-generate:hover {\n",
              "        background-color: #434B5C;\n",
              "        box-shadow: 0px 1px 3px 1px rgba(0, 0, 0, 0.15);\n",
              "        filter: drop-shadow(0px 1px 2px rgba(0, 0, 0, 0.3));\n",
              "        fill: #FFFFFF;\n",
              "      }\n",
              "    </style>\n",
              "    <button class=\"colab-df-generate\" onclick=\"generateWithVariable('recomm_movies')\"\n",
              "            title=\"Generate code using this dataframe.\"\n",
              "            style=\"display:none;\">\n",
              "\n",
              "  <svg xmlns=\"http://www.w3.org/2000/svg\" height=\"24px\"viewBox=\"0 0 24 24\"\n",
              "       width=\"24px\">\n",
              "    <path d=\"M7,19H8.4L18.45,9,17,7.55,7,17.6ZM5,21V16.75L18.45,3.32a2,2,0,0,1,2.83,0l1.4,1.43a1.91,1.91,0,0,1,.58,1.4,1.91,1.91,0,0,1-.58,1.4L9.25,21ZM18.45,9,17,7.55Zm-12,3A5.31,5.31,0,0,0,4.9,8.1,5.31,5.31,0,0,0,1,6.5,5.31,5.31,0,0,0,4.9,4.9,5.31,5.31,0,0,0,6.5,1,5.31,5.31,0,0,0,8.1,4.9,5.31,5.31,0,0,0,12,6.5,5.46,5.46,0,0,0,6.5,12Z\"/>\n",
              "  </svg>\n",
              "    </button>\n",
              "    <script>\n",
              "      (() => {\n",
              "      const buttonEl =\n",
              "        document.querySelector('#id_07294324-0f2e-4581-a02f-82561be8527e button.colab-df-generate');\n",
              "      buttonEl.style.display =\n",
              "        google.colab.kernel.accessAllowed ? 'block' : 'none';\n",
              "\n",
              "      buttonEl.onclick = () => {\n",
              "        google.colab.notebook.generateWithVariable('recomm_movies');\n",
              "      }\n",
              "      })();\n",
              "    </script>\n",
              "  </div>\n",
              "\n",
              "    </div>\n",
              "  </div>\n"
            ],
            "application/vnd.google.colaboratory.intrinsic+json": {
              "type": "dataframe",
              "variable_name": "recomm_movies",
              "summary": "{\n  \"name\": \"recomm_movies\",\n  \"rows\": 10,\n  \"fields\": [\n    {\n      \"column\": \"title\",\n      \"properties\": {\n        \"dtype\": \"string\",\n        \"num_unique_values\": 10,\n        \"samples\": [\n          \"Big Lebowski, The (1998)\",\n          \"South Park: Bigger, Longer and Uncut (1999)\",\n          \"Gattaca (1997)\"\n        ],\n        \"semantic_type\": \"\",\n        \"description\": \"\"\n      }\n    },\n    {\n      \"column\": \"pred_score\",\n      \"properties\": {\n        \"dtype\": \"number\",\n        \"std\": 0.21272885538651393,\n        \"min\": 4.989601238872484,\n        \"max\": 5.704612469838172,\n        \"num_unique_values\": 10,\n        \"samples\": [\n          5.0386897288205725,\n          5.451100205772531,\n          5.183178550884765\n        ],\n        \"semantic_type\": \"\",\n        \"description\": \"\"\n      }\n    }\n  ]\n}"
            }
          },
          "metadata": {},
          "execution_count": 12
        }
      ]
    },
    {
      "cell_type": "markdown",
      "source": [
        "## 파이썬 추천 시스템 패키지 - Surprise"
      ],
      "metadata": {
        "id": "9Pf6n-e-Kbpv"
      }
    },
    {
      "cell_type": "markdown",
      "source": [
        "### Surprise 패키지 소개"
      ],
      "metadata": {
        "id": "GK6Mv0CfKie_"
      }
    },
    {
      "cell_type": "markdown",
      "source": [
        "Surprise : 파이썬 기반에서 사이킷런과 유사한 API와 프레임워크 제공\n",
        "\n",
        "주요 장점\n",
        "\n",
        "- 다양한 추천 알고리즘, 예를 들어 사용자 또는 아이템 기반 최근접 이웃 협얼 필터링, SVD, SVD++, NMF 기반의 잠재 요인 협업 필터링을 쉽게 적용해 추천 시스템 구축 가능\n",
        "\n",
        "- Surprise의 핵심 API는 사이킷런의 핵심 API와 유사한 API명으로 작성됨. 예를 들어 fit(), predict() API로 추천 데이터 학습과 예측, train_test_split()으로 추천 학습 데이터 세트와 예측 데이터 세트 분리, cross_calidate(), GridSearchCV 클래스를 통해 추천 시스템을 위한 모델 셀렉션 평가, 하이퍼 파라미터 튜닝 등의 기능 제공"
      ],
      "metadata": {
        "id": "817NejRyKmps"
      }
    },
    {
      "cell_type": "markdown",
      "source": [
        "### Surprise를 이용한 추천 시스템 구축"
      ],
      "metadata": {
        "id": "qSBf6OnWL0rP"
      }
    },
    {
      "cell_type": "code",
      "source": [
        "pip install scikit-surprise"
      ],
      "metadata": {
        "id": "-sBiRfMFL8ZY",
        "colab": {
          "base_uri": "https://localhost:8080/"
        },
        "outputId": "b6d3c9da-d19d-41b9-be04-5c32be1d2a88"
      },
      "execution_count": 2,
      "outputs": [
        {
          "output_type": "stream",
          "name": "stdout",
          "text": [
            "Collecting scikit-surprise\n",
            "  Downloading scikit_surprise-1.1.4.tar.gz (154 kB)\n",
            "\u001b[?25l     \u001b[90m━━━━━━━━━━━━━━━━━━━━━━━━━━━━━━━━━━━━━━━━\u001b[0m \u001b[32m0.0/154.4 kB\u001b[0m \u001b[31m?\u001b[0m eta \u001b[36m-:--:--\u001b[0m\r\u001b[2K     \u001b[91m━━━━━━━━━━━━━━━━━━━━━━━━━━━━━━━━━━━━━━\u001b[0m\u001b[91m╸\u001b[0m \u001b[32m153.6/154.4 kB\u001b[0m \u001b[31m5.3 MB/s\u001b[0m eta \u001b[36m0:00:01\u001b[0m\r\u001b[2K     \u001b[90m━━━━━━━━━━━━━━━━━━━━━━━━━━━━━━━━━━━━━━━\u001b[0m \u001b[32m154.4/154.4 kB\u001b[0m \u001b[31m3.4 MB/s\u001b[0m eta \u001b[36m0:00:00\u001b[0m\n",
            "\u001b[?25h  Installing build dependencies ... \u001b[?25l\u001b[?25hdone\n",
            "  Getting requirements to build wheel ... \u001b[?25l\u001b[?25hdone\n",
            "  Preparing metadata (pyproject.toml) ... \u001b[?25l\u001b[?25hdone\n",
            "Requirement already satisfied: joblib>=1.2.0 in /usr/local/lib/python3.11/dist-packages (from scikit-surprise) (1.4.2)\n",
            "Requirement already satisfied: numpy>=1.19.5 in /usr/local/lib/python3.11/dist-packages (from scikit-surprise) (2.0.2)\n",
            "Requirement already satisfied: scipy>=1.6.0 in /usr/local/lib/python3.11/dist-packages (from scikit-surprise) (1.15.2)\n",
            "Building wheels for collected packages: scikit-surprise\n",
            "  Building wheel for scikit-surprise (pyproject.toml) ... \u001b[?25l\u001b[?25hdone\n",
            "  Created wheel for scikit-surprise: filename=scikit_surprise-1.1.4-cp311-cp311-linux_x86_64.whl size=2505221 sha256=dc4a0fb96e7f64822ce47e32fca22889a13d4e12d94db47c0f92f60b2035fe4a\n",
            "  Stored in directory: /root/.cache/pip/wheels/2a/8f/6e/7e2899163e2d85d8266daab4aa1cdabec7a6c56f83c015b5af\n",
            "Successfully built scikit-surprise\n",
            "Installing collected packages: scikit-surprise\n",
            "Successfully installed scikit-surprise-1.1.4\n"
          ]
        }
      ]
    },
    {
      "cell_type": "code",
      "source": [
        "pip install \"numpy<2\""
      ],
      "metadata": {
        "colab": {
          "base_uri": "https://localhost:8080/"
        },
        "id": "CO8yxRzsUdZf",
        "outputId": "c2893793-dace-46b2-bd73-922f4261e8d1"
      },
      "execution_count": 3,
      "outputs": [
        {
          "output_type": "stream",
          "name": "stdout",
          "text": [
            "Collecting numpy<2\n",
            "  Downloading numpy-1.26.4-cp311-cp311-manylinux_2_17_x86_64.manylinux2014_x86_64.whl.metadata (61 kB)\n",
            "\u001b[2K     \u001b[90m━━━━━━━━━━━━━━━━━━━━━━━━━━━━━━━━━━━━━━━━\u001b[0m \u001b[32m61.0/61.0 kB\u001b[0m \u001b[31m3.1 MB/s\u001b[0m eta \u001b[36m0:00:00\u001b[0m\n",
            "\u001b[?25hDownloading numpy-1.26.4-cp311-cp311-manylinux_2_17_x86_64.manylinux2014_x86_64.whl (18.3 MB)\n",
            "\u001b[2K   \u001b[90m━━━━━━━━━━━━━━━━━━━━━━━━━━━━━━━━━━━━━━━━\u001b[0m \u001b[32m18.3/18.3 MB\u001b[0m \u001b[31m97.0 MB/s\u001b[0m eta \u001b[36m0:00:00\u001b[0m\n",
            "\u001b[?25hInstalling collected packages: numpy\n",
            "  Attempting uninstall: numpy\n",
            "    Found existing installation: numpy 2.0.2\n",
            "    Uninstalling numpy-2.0.2:\n",
            "      Successfully uninstalled numpy-2.0.2\n",
            "\u001b[31mERROR: pip's dependency resolver does not currently take into account all the packages that are installed. This behaviour is the source of the following dependency conflicts.\n",
            "thinc 8.3.6 requires numpy<3.0.0,>=2.0.0, but you have numpy 1.26.4 which is incompatible.\u001b[0m\u001b[31m\n",
            "\u001b[0mSuccessfully installed numpy-1.26.4\n"
          ]
        }
      ]
    },
    {
      "cell_type": "code",
      "source": [
        "from surprise import SVD\n",
        "from surprise import Dataset\n",
        "from surprise import accuracy\n",
        "from surprise.model_selection import train_test_split"
      ],
      "metadata": {
        "id": "hEUOaVI5KaDz"
      },
      "execution_count": 1,
      "outputs": []
    },
    {
      "cell_type": "code",
      "source": [
        "data = Dataset.load_builtin('ml-100k')\n",
        "# 수행 시마다 동일하게 데이터를 분할하기 위해 random_state 값 부여\n",
        "trainset, testset = train_test_split(data, test_size = 0.25, random_state = 0)"
      ],
      "metadata": {
        "colab": {
          "base_uri": "https://localhost:8080/"
        },
        "id": "0jq7U3r2MRW_",
        "outputId": "a1cf157e-7e0c-42e9-d853-f1aa2bd19811"
      },
      "execution_count": 2,
      "outputs": [
        {
          "output_type": "stream",
          "name": "stdout",
          "text": [
            "Dataset ml-100k could not be found. Do you want to download it? [Y/n] y\n",
            "Trying to download dataset from https://files.grouplens.org/datasets/movielens/ml-100k.zip...\n",
            "Done! Dataset ml-100k has been saved to /root/.surprise_data/ml-100k\n"
          ]
        }
      ]
    },
    {
      "cell_type": "code",
      "source": [
        "# SVD로 잠재 요인 협업 필터링 수행\n",
        "algo = SVD(random_state = 0)\n",
        "algo.fit(trainset)"
      ],
      "metadata": {
        "colab": {
          "base_uri": "https://localhost:8080/"
        },
        "id": "Rsw0kM2NUzMG",
        "outputId": "592258f0-fb7c-4648-d223-d6362c45307f"
      },
      "execution_count": 3,
      "outputs": [
        {
          "output_type": "execute_result",
          "data": {
            "text/plain": [
              "<surprise.prediction_algorithms.matrix_factorization.SVD at 0x78ec16f9e850>"
            ]
          },
          "metadata": {},
          "execution_count": 3
        }
      ]
    },
    {
      "cell_type": "code",
      "source": [
        "# 학습된 추천 알고리즘을 기반으로 test() 메서드를 이용해 테스트 데이터에 대해 추천\n",
        "predictions = algo.test(testset)\n",
        "print('prediction type :', type(predictions), 'size : ', len(predictions))\n",
        "print('prediction 결과의 최초 5개 추출')\n",
        "predictions[:5]"
      ],
      "metadata": {
        "colab": {
          "base_uri": "https://localhost:8080/"
        },
        "id": "Ip_4yNREVJzZ",
        "outputId": "87e1dfd4-b843-409f-e340-d8d2f53ed808"
      },
      "execution_count": 6,
      "outputs": [
        {
          "output_type": "stream",
          "name": "stdout",
          "text": [
            "prediction type : <class 'list'> size :  25000\n",
            "prediction 결과의 최초 5개 추출\n"
          ]
        },
        {
          "output_type": "execute_result",
          "data": {
            "text/plain": [
              "[Prediction(uid='120', iid='282', r_ui=4.0, est=3.5114147666251547, details={'was_impossible': False}),\n",
              " Prediction(uid='882', iid='291', r_ui=4.0, est=3.573872419581491, details={'was_impossible': False}),\n",
              " Prediction(uid='535', iid='507', r_ui=5.0, est=4.033583485472447, details={'was_impossible': False}),\n",
              " Prediction(uid='697', iid='244', r_ui=5.0, est=3.8463639495936905, details={'was_impossible': False}),\n",
              " Prediction(uid='751', iid='385', r_ui=4.0, est=3.1807542478219157, details={'was_impossible': False})]"
            ]
          },
          "metadata": {},
          "execution_count": 6
        }
      ]
    },
    {
      "cell_type": "code",
      "source": [
        "# prediction 객체에서 uid, iid, est 속성 추출\n",
        "[(pred.uid, pred.iid, pred.est) for pred in predictions[:3]]"
      ],
      "metadata": {
        "colab": {
          "base_uri": "https://localhost:8080/"
        },
        "id": "MpDpy31YVgxd",
        "outputId": "85605cae-8bca-4127-bdb0-9a508165413c"
      },
      "execution_count": 7,
      "outputs": [
        {
          "output_type": "execute_result",
          "data": {
            "text/plain": [
              "[('120', '282', 3.5114147666251547),\n",
              " ('882', '291', 3.573872419581491),\n",
              " ('535', '507', 4.033583485472447)]"
            ]
          },
          "metadata": {},
          "execution_count": 7
        }
      ]
    },
    {
      "cell_type": "code",
      "source": [
        "# predict()를 이용해 추천 예측\n",
        "# 사용자 아이디, 아이템 아이디는 문자열로 입력해야 함\n",
        "uid = str(196)\n",
        "iid = str(302)\n",
        "pred = algo.predict(uid, iid)\n",
        "print(pred)"
      ],
      "metadata": {
        "colab": {
          "base_uri": "https://localhost:8080/"
        },
        "id": "eIy48v7xV1Ks",
        "outputId": "16efcfba-e16f-4f82-af2c-301b5631b32d"
      },
      "execution_count": 8,
      "outputs": [
        {
          "output_type": "stream",
          "name": "stdout",
          "text": [
            "user: 196        item: 302        r_ui = None   est = 4.49   {'was_impossible': False}\n"
          ]
        }
      ]
    },
    {
      "cell_type": "markdown",
      "source": [
        "predict()는 개별 사용자와 아이템 정보를 입력하면 추천 예측 평점을 est로 반환해줌\n",
        "\n",
        "test() 메서드는 입력 데이터 세트의 모든 사용자와 아이템 아이디에 대해서 predict()를 반복적으로 수행한 결과임"
      ],
      "metadata": {
        "id": "ge-cRh-2WTWM"
      }
    },
    {
      "cell_type": "code",
      "source": [
        "accuracy.rmse(predictions)"
      ],
      "metadata": {
        "colab": {
          "base_uri": "https://localhost:8080/"
        },
        "id": "PlC9j1_PWOIz",
        "outputId": "f5878150-4e6f-4116-db97-d65d9e6b350c"
      },
      "execution_count": 9,
      "outputs": [
        {
          "output_type": "stream",
          "name": "stdout",
          "text": [
            "RMSE: 0.9467\n"
          ]
        },
        {
          "output_type": "execute_result",
          "data": {
            "text/plain": [
              "0.9466860806937948"
            ]
          },
          "metadata": {},
          "execution_count": 9
        }
      ]
    },
    {
      "cell_type": "markdown",
      "source": [
        "### Surprise 주요 모듈 소개"
      ],
      "metadata": {
        "id": "nB8gtlqGWnlD"
      }
    },
    {
      "cell_type": "markdown",
      "source": [
        "**Dataset**\n",
        "\n",
        "Surprise는 user_id, item_id, rating 데이터가 로우 레벨로 된 데이터 세트만 적용 가능\n",
        "\n",
        "데이터의 첫 번쨰 칼럼을 사용자 아이디, 두 번째 칼럼을 아이템 아이디, 세 번째 칼럼을 평점으로 가정해 데이터를 로딩하고 네 번째 칼럼부터는 아예 로딩을 수행하지 않음"
      ],
      "metadata": {
        "id": "rBwgE_JyWscJ"
      }
    },
    {
      "cell_type": "markdown",
      "source": [
        "#### OS 파일 데이터를 Surprise 데이터 세트로 로딩"
      ],
      "metadata": {
        "id": "L6jYizuaXfdy"
      }
    },
    {
      "cell_type": "markdown",
      "source": [
        "Surprise에 OS 파일을 로딩할 때 로딩 되는 데이터 파일에 칼럼명을 가지는 헤더 문자열이 있어서는 안됨"
      ],
      "metadata": {
        "id": "zN97-6seXdIU"
      }
    },
    {
      "cell_type": "code",
      "source": [
        "import pandas as pd\n",
        "\n",
        "ratings = pd.read_csv('/content/drive/MyDrive/ESAA/25-1 OB 세션/datasets/ml-latest-small/ratings.csv')\n",
        "# ratings_noh.csv 파일로 언로드 시 인덱스와 헤더를 모두 제거한 새로운 파일 생성\n",
        "ratings.to_csv('/content/drive/MyDrive/ESAA/25-1 OB 세션/datasets/ml-latest-small/ratings_noh.csv', index = False, header = False)"
      ],
      "metadata": {
        "id": "x0pquqJqWkI5"
      },
      "execution_count": 11,
      "outputs": []
    },
    {
      "cell_type": "code",
      "source": [
        "# line_format 인자로 user, item, rating, timestamp 4개의 칼럼으로 데이터 구성되있음을 명시\n",
        "# 로딩 시 앞의 3개 칼럼만 로딩되고 timestamp 칼럼은 제외됨\n",
        "from surprise import Reader\n",
        "\n",
        "reader = Reader(line_format = 'user item rating timestamp', sep = ',', rating_scale = (0.5, 5))\n",
        "data = Dataset.load_from_file('/content/drive/MyDrive/ESAA/25-1 OB 세션/datasets/ml-latest-small/ratings_noh.csv', reader = reader)"
      ],
      "metadata": {
        "id": "9eD2gNUWX2eL"
      },
      "execution_count": 13,
      "outputs": []
    },
    {
      "cell_type": "markdown",
      "source": [
        "surprise 데이터 세트는 기본적으로 무비렌즈 데이터 형식을 따르므로 무비렌즈 데이터 형식이 아닌 다른 OS 파일의 경우 Reader 클래스를 먼저 설정해야 함\n",
        "\n",
        "**Reader 클래스의 주요 생성 파라미터**\n",
        "\n",
        "- line_format(string) : 칼럼을 순서대로 나열, 입력된 문자열을 공백으로 분리해 칼럼으로 인식\n",
        "\n",
        "- sep(char) : 칼럼을 분리하는 분리자이며 디폴트는 '\\t', 판다스 DataFrame에서 입력받을 경우에는 기재할 필요 없음\n",
        "\n",
        "- rating_scale(tuple, optional) : 평점 값의 최소 ~ 최대 평점 설정, 디폴트는 (1, 5)"
      ],
      "metadata": {
        "id": "rXZkQg5BZSzP"
      }
    },
    {
      "cell_type": "code",
      "source": [
        "# SVD 행렬 분해 기법을 이용해 추천 예측\n",
        "trainset, testset = train_test_split(data, test_size = 0.25, random_state = 0)\n",
        "\n",
        "# 수행 시마다 동일한 결과를 도출하기 위해 random_state 설정\n",
        "algo = SVD(n_factors = 50, random_state = 0)\n",
        "\n",
        "# 학습 데이터 세트로 학습하고 나서 테스트 데이터 세트로 평점 예측 후 RMSE 평가\n",
        "algo.fit(trainset)\n",
        "predictions = algo.test(testset)\n",
        "accuracy.rmse(predictions)"
      ],
      "metadata": {
        "colab": {
          "base_uri": "https://localhost:8080/"
        },
        "id": "X8sFFRcnY4tP",
        "outputId": "d8d2d0e2-6eeb-464b-cf6d-d4e8ebda0514"
      },
      "execution_count": 15,
      "outputs": [
        {
          "output_type": "stream",
          "name": "stdout",
          "text": [
            "RMSE: 0.8682\n"
          ]
        },
        {
          "output_type": "execute_result",
          "data": {
            "text/plain": [
              "0.8681952927143516"
            ]
          },
          "metadata": {},
          "execution_count": 15
        }
      ]
    },
    {
      "cell_type": "markdown",
      "source": [
        "#### 판다스 DataFrame에서 Surprise 데이터 세트로 로딩"
      ],
      "metadata": {
        "id": "nyJhLLTHalj3"
      }
    },
    {
      "cell_type": "code",
      "source": [
        "import pandas as pd\n",
        "from surprise import Reader, Dataset\n",
        "\n",
        "ratings = pd.read_csv('/content/drive/MyDrive/ESAA/25-1 OB 세션/datasets/ml-latest-small/ratings.csv')\n",
        "reader = Reader(rating_scale = (0.5, 5))\n",
        "\n",
        "# ratings DataFrame에서 칼럼은 사용자 아이디, 아이템 아이디, 평점 순서를 지켜야 함\n",
        "data = Dataset.load_from_df(ratings[['userId', 'movieId', 'rating']], reader)\n",
        "trainset, testset = train_test_split(data, test_size = 0.25, random_state = 0)\n",
        "\n",
        "algo = SVD(n_factors = 50, random_state = 0)\n",
        "algo.fit(trainset)\n",
        "predictions = algo.test(testset)\n",
        "accuracy.rmse(predictions)"
      ],
      "metadata": {
        "colab": {
          "base_uri": "https://localhost:8080/"
        },
        "id": "9RKDv-Feaaji",
        "outputId": "a5e0f8c1-754f-4f29-d747-0342070c2206"
      },
      "execution_count": 17,
      "outputs": [
        {
          "output_type": "stream",
          "name": "stdout",
          "text": [
            "RMSE: 0.8682\n"
          ]
        },
        {
          "output_type": "execute_result",
          "data": {
            "text/plain": [
              "0.8681952927143516"
            ]
          },
          "metadata": {},
          "execution_count": 17
        }
      ]
    },
    {
      "cell_type": "markdown",
      "source": [
        "### Surprise 추천 알고리즘 클래스"
      ],
      "metadata": {
        "id": "JHLCp-8mdDSW"
      }
    },
    {
      "cell_type": "markdown",
      "source": [
        "SVD : 행렬 분해를 통한 잠재 요인 협업 필터링을 위한 SVD 알고리즘\n",
        "\n",
        "KNNBasic : 최근접 이웃 협업 필터링을 위한 KNN 알고리즘\n",
        "\n",
        "BaselineOnly : 사용자 Bias와 아이템 Bias를 감안한 SGD 베이스라인 알고리즘\n",
        "\n",
        "![image.png](data:image/png;base64,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)"
      ],
      "metadata": {
        "id": "49V4mFF-dFNj"
      }
    },
    {
      "cell_type": "markdown",
      "source": [
        "**SVD 클래스 입력 파라미터**\n",
        "\n",
        "n_factors : 잠재 요인 K의 개수, 디폴트는 100, 커질수록 정확도가 높아질 수 있으나 과적합 문제 발생\n",
        "\n",
        "n_epochs : SGD 수행 시 반복 횟수, 디폴트는 20\n",
        "\n",
        "biased(bool) : 베이스라인 사용자 편향 적용 여부, 디폴트는 True"
      ],
      "metadata": {
        "id": "PRkmYQQ7dhai"
      }
    },
    {
      "cell_type": "markdown",
      "source": [
        "### 베이스라인 평점"
      ],
      "metadata": {
        "id": "X5ZEki7Sd5pO"
      }
    },
    {
      "cell_type": "markdown",
      "source": [
        "베이스라인 평점(Baseline Rating) : 개인의 성향을 반영해 아이템 평가에 편향성(bias) 요소를 반영하여 평점을 부과하는 것\n",
        "\n",
        "베이스라인 평점 = 전체 평균 평점 + 사용자 편향 점수 + 아이템 편향 점수\n",
        "\n",
        "- 전체 평균 평점 = 모든 사용자의 아이템에 대한 평점을 평균한 값\n",
        "\n",
        "- 사용자 편향 점수 = 사용자별 아이템 평점 평균 값 - 전체 평균 평점\n",
        "\n",
        "- 아이템 편향 점수 = 아이템별 평점 평균 값 - 전체 평균 평점"
      ],
      "metadata": {
        "id": "TJ2aKPGid7gv"
      }
    },
    {
      "cell_type": "markdown",
      "source": [
        "### 교차 검증과 하이퍼 파라미터 튜닝"
      ],
      "metadata": {
        "id": "uXuFpoXAeaxV"
      }
    },
    {
      "cell_type": "code",
      "source": [
        "from surprise.model_selection import cross_validate\n",
        "\n",
        "# 판다스 DataFrame에서 Surprise 데이터 세트로 데이터 로딩\n",
        "ratings = pd.read_csv('/content/drive/MyDrive/ESAA/25-1 OB 세션/datasets/ml-latest-small/ratings.csv')\n",
        "reader = Reader(rating_scale = (0.5, 5))\n",
        "data = Dataset.load_from_df(ratings[['userId', 'movieId', 'rating']], reader)\n",
        "\n",
        "algo = SVD(random_state = 0)\n",
        "cross_validate(algo, data, measures = ['RMSE', 'MAE'], cv = 5, verbose = True)"
      ],
      "metadata": {
        "colab": {
          "base_uri": "https://localhost:8080/"
        },
        "id": "N1U_bYWSc94a",
        "outputId": "9f0eff1a-94ec-43f0-ea64-0c1fa0f73608"
      },
      "execution_count": 18,
      "outputs": [
        {
          "output_type": "stream",
          "name": "stdout",
          "text": [
            "Evaluating RMSE, MAE of algorithm SVD on 5 split(s).\n",
            "\n",
            "                  Fold 1  Fold 2  Fold 3  Fold 4  Fold 5  Mean    Std     \n",
            "RMSE (testset)    0.8695  0.8720  0.8737  0.8780  0.8694  0.8725  0.0032  \n",
            "MAE (testset)     0.6673  0.6703  0.6721  0.6732  0.6690  0.6704  0.0021  \n",
            "Fit time          2.35    2.30    1.54    1.59    1.55    1.87    0.38    \n",
            "Test time         0.20    0.28    0.12    0.29    0.13    0.20    0.07    \n"
          ]
        },
        {
          "output_type": "execute_result",
          "data": {
            "text/plain": [
              "{'test_rmse': array([0.86951059, 0.87201629, 0.87371975, 0.87804567, 0.86937016]),\n",
              " 'test_mae': array([0.66726087, 0.67034653, 0.67213628, 0.67324492, 0.66899407]),\n",
              " 'fit_time': (2.3543691635131836,\n",
              "  2.2952537536621094,\n",
              "  1.535351037979126,\n",
              "  1.5910022258758545,\n",
              "  1.5526862144470215),\n",
              " 'test_time': (0.19871973991394043,\n",
              "  0.28138041496276855,\n",
              "  0.11694192886352539,\n",
              "  0.2897915840148926,\n",
              "  0.12517738342285156)}"
            ]
          },
          "metadata": {},
          "execution_count": 18
        }
      ]
    },
    {
      "cell_type": "code",
      "source": [
        "# CV가 3일 떄 최적 하이퍼 파라미터 도출하기\n",
        "from surprise.model_selection import GridSearchCV\n",
        "\n",
        "# 최적화할 파라미터를 딕셔너리 형태로 지정\n",
        "param_gird = {'n_epochs' : [20, 40, 60], 'n_factors' : [50, 100, 200]}\n",
        "\n",
        "# CV를 3개 폴드 세트로 지정, 성능 평가는 rmse, mse로 수행하도록 GridSearchCV 구성\n",
        "gs = GridSearchCV(SVD, param_gird, measures = ['rmse', 'mse'], cv = 3)\n",
        "gs.fit(data)\n",
        "\n",
        "# 최고 RMSE Evalutaions 점수와 그때의 하이퍼 파라미터\n",
        "print(gs.best_score['rmse'])\n",
        "print(gs.best_params['rmse'])"
      ],
      "metadata": {
        "colab": {
          "base_uri": "https://localhost:8080/"
        },
        "id": "fwLEEZYbfDEh",
        "outputId": "1817821c-3c95-4f91-f9ff-c19e60cd10ec"
      },
      "execution_count": 19,
      "outputs": [
        {
          "output_type": "stream",
          "name": "stdout",
          "text": [
            "0.8772356944982086\n",
            "{'n_epochs': 20, 'n_factors': 50}\n"
          ]
        }
      ]
    },
    {
      "cell_type": "markdown",
      "source": [
        "### Surprise를 이용한 개인화 영화 추천 시스템 구축"
      ],
      "metadata": {
        "id": "9BPlzteAgQId"
      }
    },
    {
      "cell_type": "code",
      "source": [
        "# 다음 코드는 trian_test_split()으로 분리되지 않는 데이터 세트에 fit()을 호출해 오류가 발생함\n",
        "data = Dataset.load_from_df(ratings[['userId', 'movieId', 'rating']], reader)\n",
        "algo = SVD(n_factors = 50, random_state = 0)\n",
        "algo.fit(data)"
      ],
      "metadata": {
        "colab": {
          "base_uri": "https://localhost:8080/",
          "height": 259
        },
        "id": "XLepRHRBgOfq",
        "outputId": "8b2bfed5-6f0f-4f42-e5e7-cb3e55d2fb0e"
      },
      "execution_count": 20,
      "outputs": [
        {
          "output_type": "error",
          "ename": "AttributeError",
          "evalue": "'DatasetAutoFolds' object has no attribute 'n_users'",
          "traceback": [
            "\u001b[0;31m---------------------------------------------------------------------------\u001b[0m",
            "\u001b[0;31mAttributeError\u001b[0m                            Traceback (most recent call last)",
            "\u001b[0;32m<ipython-input-20-2ba531d0f104>\u001b[0m in \u001b[0;36m<cell line: 0>\u001b[0;34m()\u001b[0m\n\u001b[1;32m      2\u001b[0m \u001b[0mdata\u001b[0m \u001b[0;34m=\u001b[0m \u001b[0mDataset\u001b[0m\u001b[0;34m.\u001b[0m\u001b[0mload_from_df\u001b[0m\u001b[0;34m(\u001b[0m\u001b[0mratings\u001b[0m\u001b[0;34m[\u001b[0m\u001b[0;34m[\u001b[0m\u001b[0;34m'userId'\u001b[0m\u001b[0;34m,\u001b[0m \u001b[0;34m'movieId'\u001b[0m\u001b[0;34m,\u001b[0m \u001b[0;34m'rating'\u001b[0m\u001b[0;34m]\u001b[0m\u001b[0;34m]\u001b[0m\u001b[0;34m,\u001b[0m \u001b[0mreader\u001b[0m\u001b[0;34m)\u001b[0m\u001b[0;34m\u001b[0m\u001b[0;34m\u001b[0m\u001b[0m\n\u001b[1;32m      3\u001b[0m \u001b[0malgo\u001b[0m \u001b[0;34m=\u001b[0m \u001b[0mSVD\u001b[0m\u001b[0;34m(\u001b[0m\u001b[0mn_factors\u001b[0m \u001b[0;34m=\u001b[0m \u001b[0;36m50\u001b[0m\u001b[0;34m,\u001b[0m \u001b[0mrandom_state\u001b[0m \u001b[0;34m=\u001b[0m \u001b[0;36m0\u001b[0m\u001b[0;34m)\u001b[0m\u001b[0;34m\u001b[0m\u001b[0;34m\u001b[0m\u001b[0m\n\u001b[0;32m----> 4\u001b[0;31m \u001b[0malgo\u001b[0m\u001b[0;34m.\u001b[0m\u001b[0mfit\u001b[0m\u001b[0;34m(\u001b[0m\u001b[0mdata\u001b[0m\u001b[0;34m)\u001b[0m\u001b[0;34m\u001b[0m\u001b[0;34m\u001b[0m\u001b[0m\n\u001b[0m",
            "\u001b[0;32m/usr/local/lib/python3.11/dist-packages/surprise/prediction_algorithms/matrix_factorization.pyx\u001b[0m in \u001b[0;36msurprise.prediction_algorithms.matrix_factorization.SVD.fit\u001b[0;34m()\u001b[0m\n",
            "\u001b[0;32m/usr/local/lib/python3.11/dist-packages/surprise/prediction_algorithms/matrix_factorization.pyx\u001b[0m in \u001b[0;36msurprise.prediction_algorithms.matrix_factorization.SVD.sgd\u001b[0;34m()\u001b[0m\n",
            "\u001b[0;31mAttributeError\u001b[0m: 'DatasetAutoFolds' object has no attribute 'n_users'"
          ]
        }
      ]
    },
    {
      "cell_type": "code",
      "source": [
        "from surprise.dataset import DatasetAutoFolds\n",
        "\n",
        "reader = Reader(line_format = 'user item rating timestamp', sep=',', rating_scale=(0.5, 5))\n",
        "# DatasetAutoFolds 클래스를 ratings_noh.csv 파일 기반으로 생성\n",
        "data_folds = DatasetAutoFolds(ratings_file = '/content/drive/MyDrive/ESAA/25-1 OB 세션/datasets/ml-latest-small/ratings_noh.csv', reader= reader)\n",
        "\n",
        "# 전체 데이터를 학습 데이터로 생성함\n",
        "trainset = data_folds.build_full_trainset()"
      ],
      "metadata": {
        "id": "vypJBzBigp2W"
      },
      "execution_count": 23,
      "outputs": []
    },
    {
      "cell_type": "code",
      "source": [
        "algo = SVD(n_epochs=20, n_factors=50, random_state=0)\n",
        "algo.fit(trainset)"
      ],
      "metadata": {
        "colab": {
          "base_uri": "https://localhost:8080/"
        },
        "id": "0qj7jmQJg0Jr",
        "outputId": "ddc60b85-74be-4f7e-ddef-16aca1717754"
      },
      "execution_count": 24,
      "outputs": [
        {
          "output_type": "execute_result",
          "data": {
            "text/plain": [
              "<surprise.prediction_algorithms.matrix_factorization.SVD at 0x78ec2c46df10>"
            ]
          },
          "metadata": {},
          "execution_count": 24
        }
      ]
    },
    {
      "cell_type": "code",
      "source": [
        "# 영화에 대한 상세 속성 정보 DataFrame 로딩\n",
        "movies = pd.read_csv('/content/drive/MyDrive/ESAA/25-1 OB 세션/datasets/ml-latest-small/movies.csv')\n",
        "\n",
        "# userId = 9의 movieId 데이터를 추출해 movieId=42 데이터가 있는지 확인\n",
        "movieIds = ratings[ratings['userId']==9]['movieId']\n",
        "\n",
        "if movieIds[movieIds == 42].count() == 0:\n",
        "    print('사용자 아이디 9는 영화 아이디 42의 평점 없음')\n",
        "\n",
        "print(movies[movies['movieId']==42])"
      ],
      "metadata": {
        "colab": {
          "base_uri": "https://localhost:8080/"
        },
        "id": "fWSKlR5MhAc4",
        "outputId": "9f784240-bb75-40f1-fd23-5062d09d402d"
      },
      "execution_count": 26,
      "outputs": [
        {
          "output_type": "stream",
          "name": "stdout",
          "text": [
            "사용자 아이디 9는 영화 아이디 42의 평점 없음\n",
            "    movieId                   title              genres\n",
            "38       42  Dead Presidents (1995)  Action|Crime|Drama\n"
          ]
        }
      ]
    },
    {
      "cell_type": "code",
      "source": [
        "uid = str(9)\n",
        "iid = str(42)\n",
        "\n",
        "pred = algo.predict(uid, iid, verbose=True)"
      ],
      "metadata": {
        "colab": {
          "base_uri": "https://localhost:8080/"
        },
        "id": "2wp7xuGehCGv",
        "outputId": "e27b2dcb-f72f-45d2-e24d-e182853376f0"
      },
      "execution_count": 27,
      "outputs": [
        {
          "output_type": "stream",
          "name": "stdout",
          "text": [
            "user: 9          item: 42         r_ui = None   est = 3.13   {'was_impossible': False}\n"
          ]
        }
      ]
    },
    {
      "cell_type": "code",
      "source": [
        "# 사용자가 평점을 매기지 않은 전체 영화를 추출한 뒤 예측 평점 순으로 영화 추천\n",
        "def get_unseen_surprise(ratings, movies, userId):\n",
        "    # 입력값으로 들어온 userId에 해당하는 사용자가 평점을 매긴 모든 영화를 리스트로 생성\n",
        "    seen_movies = ratings[ratings['userId']==userId]['movieId'].tolist()\n",
        "\n",
        "    # 모든 영화의 movieid를 리스트로 생성\n",
        "    total_movies = movies['movieId'].tolist()\n",
        "\n",
        "    # 모든 영화의 movieId 중 이미 평점을 매긴 영화의 movieId를 제외한 후 리스트로 생성\n",
        "    unseen_movies = [movie for movie in total_movies if movie not in seen_movies]\n",
        "    print('평점 매긴 영화 수:', len(seen_movies), '추천 대상 영화 수:', len(unseen_movies), '전체 영화 수:', len(total_movies))\n",
        "\n",
        "    return unseen_movies\n",
        "\n",
        "unseen_movies = get_unseen_surprise(ratings, movies, 9)"
      ],
      "metadata": {
        "colab": {
          "base_uri": "https://localhost:8080/"
        },
        "id": "miXQNghfhJWc",
        "outputId": "451710be-a877-43a5-f2e4-e274ef399efd"
      },
      "execution_count": 28,
      "outputs": [
        {
          "output_type": "stream",
          "name": "stdout",
          "text": [
            "평점 매긴 영화 수: 46 추천 대상 영화 수: 9696 전체 영화 수: 9742\n"
          ]
        }
      ]
    },
    {
      "cell_type": "code",
      "source": [
        "def recomm_movie_by_surprise(algo, userId, unseen_movies, top_n=10):\n",
        "    # 알고리즘 객체의 predict() 메서드를 평점이 없는 영화에 반복 수행한 후 결과를 list 객체로 저장\n",
        "    predictions = [algo.predict(str(userId), str(movieId)) for movieId in unseen_movies]\n",
        "\n",
        "    # predictions list 객체는 surprise의 Predictions 객체를 원소로 가지고 있음.\n",
        "    # [Prediction(uid='9', iid='1', est=3.69), Prediction(uid='9', iid='2', est=2.98),,,,]\n",
        "    # 이를 est 값으로 정렬하기 위해서 아래의 sortkey_est 함수를 정의함.\n",
        "    # sortkey_est 함수는 list 객체의 sort() 함수의 키 값으로 사용되어 정렬 수행.\n",
        "    def sortkey_est(pred):\n",
        "        return pred.est\n",
        "\n",
        "    # sortkey_est( ) 반환값의 내림 차순으로 정렬 수행하고 top_n개의 최상위 값 추출.\n",
        "    predictions.sort(key=sortkey_est, reverse=True)\n",
        "    top_predictions= predictions[:top_n]\n",
        "\n",
        "    # top_n으로 추출된 영화의 정보 추출. 영화 아이디, 추천 예상 평점, 제목 추출\n",
        "    top_movie_ids = [ int(pred.iid) for pred in top_predictions]\n",
        "    top_movie_rating = [ pred.est for pred in top_predictions]\n",
        "    top_movie_titles = movies[movies.movieId.isin(top_movie_ids)]['title']\n",
        "    top_movie_preds = [ (id, title, rating) for id, title, rating in zip(top_movie_ids, top_movie_titles, top_movie_rating)]\n",
        "\n",
        "    return top_movie_preds\n",
        "\n",
        "unseen_movies = get_unseen_surprise(ratings, movies, 9)\n",
        "top_movie_preds = recomm_movie_by_surprise(algo, 9, unseen_movies, top_n=10)\n",
        "print('##### Top-10 추천 영화 리스트 #####')\n",
        "\n",
        "for top_movie in top_movie_preds:\n",
        "    print(top_movie[1], \":\", top_movie[2])"
      ],
      "metadata": {
        "colab": {
          "base_uri": "https://localhost:8080/"
        },
        "id": "sm-6eQdYhRcK",
        "outputId": "3eccd8cf-17fc-4189-9850-04ad8aa8b18d"
      },
      "execution_count": 29,
      "outputs": [
        {
          "output_type": "stream",
          "name": "stdout",
          "text": [
            "평점 매긴 영화 수: 46 추천 대상 영화 수: 9696 전체 영화 수: 9742\n",
            "##### Top-10 추천 영화 리스트 #####\n",
            "Usual Suspects, The (1995) : 4.306302135700814\n",
            "Star Wars: Episode IV - A New Hope (1977) : 4.281663842987387\n",
            "Pulp Fiction (1994) : 4.278152632122759\n",
            "Silence of the Lambs, The (1991) : 4.226073566460876\n",
            "Godfather, The (1972) : 4.1918097904381995\n",
            "Streetcar Named Desire, A (1951) : 4.154746591122657\n",
            "Star Wars: Episode V - The Empire Strikes Back (1980) : 4.122016128534504\n",
            "Star Wars: Episode VI - Return of the Jedi (1983) : 4.108009609093436\n",
            "Goodfellas (1990) : 4.083464936588478\n",
            "Glory (1989) : 4.07887165526957\n"
          ]
        }
      ]
    }
  ]
}