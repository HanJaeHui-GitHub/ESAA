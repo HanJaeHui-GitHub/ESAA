{
  "nbformat": 4,
  "nbformat_minor": 0,
  "metadata": {
    "colab": {
      "provenance": [],
      "mount_file_id": "1pDiRYDJPaRevmUwaXmiUZPc0OBRBcYiw",
      "authorship_tag": "ABX9TyOw/clr9M8h3lHvo7P/kl5L",
      "include_colab_link": true
    },
    "kernelspec": {
      "name": "python3",
      "display_name": "Python 3"
    },
    "language_info": {
      "name": "python"
    }
  },
  "cells": [
    {
      "cell_type": "markdown",
      "metadata": {
        "id": "view-in-github",
        "colab_type": "text"
      },
      "source": [
        "<a href=\"https://colab.research.google.com/github/HanJaeHui-GitHub/ESAA/blob/main/ESAA_OB_Week5_markdown_1.ipynb\" target=\"_parent\"><img src=\"https://colab.research.google.com/assets/colab-badge.svg\" alt=\"Open In Colab\"/></a>"
      ]
    },
    {
      "cell_type": "markdown",
      "source": [
        "## 5주차 과제_0331(월)\n",
        "\n",
        "\n",
        "파이썬 머신러닝 완벽 가이드 개정 2판 8장  p.534-538, p.550-565"
      ],
      "metadata": {
        "id": "JYS_3Cz5vAGg"
      }
    },
    {
      "cell_type": "markdown",
      "source": [
        "## 토픽 모델링(Topic Modeling) - 20 뉴스그룹"
      ],
      "metadata": {
        "id": "jb-TDuhUvFm2"
      }
    },
    {
      "cell_type": "markdown",
      "source": [
        "토픽 모델링 : 문서 집합에 숨어 있는 주제를 찾아내는 것\n",
        "\n",
        "자주 사용되는 기법 : LSA(Latent Semantic Analysis), LDA(Latent Dirichlet Allocation)"
      ],
      "metadata": {
        "id": "deripJMYvMU0"
      }
    },
    {
      "cell_type": "code",
      "execution_count": 25,
      "metadata": {
        "colab": {
          "base_uri": "https://localhost:8080/"
        },
        "id": "HM2TZ4LMu52F",
        "outputId": "139418a7-fcf5-41dd-cc8b-d6e8c5c187bc"
      },
      "outputs": [
        {
          "output_type": "stream",
          "name": "stdout",
          "text": [
            "CountVectorizer Shape: (7862, 1000)\n"
          ]
        }
      ],
      "source": [
        "from sklearn.datasets import fetch_20newsgroups\n",
        "from sklearn.feature_extraction.text import CountVectorizer\n",
        "from sklearn.decomposition import LatentDirichletAllocation\n",
        "\n",
        "# 모터사이클, 야구, 그래픽스, 윈도우즈, 중동, 기독교, 전자공학, 의학 8개 주제를 추출\n",
        "cats = ['rec.motorcycles', 'rec.sport.baseball', 'comp.graphics', 'comp.windows.x', 'talk.politics.mideast', 'soc.religion.christian', 'sci.electronics', 'sci.med']\n",
        "\n",
        "# 위에서 cats 변수로 기재된 카테고리만 추출.\n",
        "# featch_20newsgroups( )의 categories 파라미터에 cats 입력\n",
        "news_df = fetch_20newsgroups(subset='all', remove=('headers', 'footers', 'quotes'),\n",
        "                             categories=cats, random_state=0)\n",
        "\n",
        "# LDA는 Count 기반의 벡터화만 적용함.\n",
        "count_vect = CountVectorizer(max_df=0.95, max_features=1000, min_df=2, stop_words='english', ngram_range=(1,2))\n",
        "feat_vect = count_vect.fit_transform(news_df.data)\n",
        "print('CountVectorizer Shape:', feat_vect.shape)"
      ]
    },
    {
      "cell_type": "code",
      "source": [
        "# 피처 벡터화된 데이터 세트를 기반으로 LDA 토픽 모델링 수행\n",
        "lda = LatentDirichletAllocation(n_components=8, random_state=0)\n",
        "lda.fit(feat_vect)"
      ],
      "metadata": {
        "colab": {
          "base_uri": "https://localhost:8080/",
          "height": 80
        },
        "id": "OrEq79CjwI4O",
        "outputId": "9f30d670-58da-4afb-a30b-15970b439395"
      },
      "execution_count": 26,
      "outputs": [
        {
          "output_type": "execute_result",
          "data": {
            "text/plain": [
              "LatentDirichletAllocation(n_components=8, random_state=0)"
            ],
            "text/html": [
              "<style>#sk-container-id-2 {\n",
              "  /* Definition of color scheme common for light and dark mode */\n",
              "  --sklearn-color-text: #000;\n",
              "  --sklearn-color-text-muted: #666;\n",
              "  --sklearn-color-line: gray;\n",
              "  /* Definition of color scheme for unfitted estimators */\n",
              "  --sklearn-color-unfitted-level-0: #fff5e6;\n",
              "  --sklearn-color-unfitted-level-1: #f6e4d2;\n",
              "  --sklearn-color-unfitted-level-2: #ffe0b3;\n",
              "  --sklearn-color-unfitted-level-3: chocolate;\n",
              "  /* Definition of color scheme for fitted estimators */\n",
              "  --sklearn-color-fitted-level-0: #f0f8ff;\n",
              "  --sklearn-color-fitted-level-1: #d4ebff;\n",
              "  --sklearn-color-fitted-level-2: #b3dbfd;\n",
              "  --sklearn-color-fitted-level-3: cornflowerblue;\n",
              "\n",
              "  /* Specific color for light theme */\n",
              "  --sklearn-color-text-on-default-background: var(--sg-text-color, var(--theme-code-foreground, var(--jp-content-font-color1, black)));\n",
              "  --sklearn-color-background: var(--sg-background-color, var(--theme-background, var(--jp-layout-color0, white)));\n",
              "  --sklearn-color-border-box: var(--sg-text-color, var(--theme-code-foreground, var(--jp-content-font-color1, black)));\n",
              "  --sklearn-color-icon: #696969;\n",
              "\n",
              "  @media (prefers-color-scheme: dark) {\n",
              "    /* Redefinition of color scheme for dark theme */\n",
              "    --sklearn-color-text-on-default-background: var(--sg-text-color, var(--theme-code-foreground, var(--jp-content-font-color1, white)));\n",
              "    --sklearn-color-background: var(--sg-background-color, var(--theme-background, var(--jp-layout-color0, #111)));\n",
              "    --sklearn-color-border-box: var(--sg-text-color, var(--theme-code-foreground, var(--jp-content-font-color1, white)));\n",
              "    --sklearn-color-icon: #878787;\n",
              "  }\n",
              "}\n",
              "\n",
              "#sk-container-id-2 {\n",
              "  color: var(--sklearn-color-text);\n",
              "}\n",
              "\n",
              "#sk-container-id-2 pre {\n",
              "  padding: 0;\n",
              "}\n",
              "\n",
              "#sk-container-id-2 input.sk-hidden--visually {\n",
              "  border: 0;\n",
              "  clip: rect(1px 1px 1px 1px);\n",
              "  clip: rect(1px, 1px, 1px, 1px);\n",
              "  height: 1px;\n",
              "  margin: -1px;\n",
              "  overflow: hidden;\n",
              "  padding: 0;\n",
              "  position: absolute;\n",
              "  width: 1px;\n",
              "}\n",
              "\n",
              "#sk-container-id-2 div.sk-dashed-wrapped {\n",
              "  border: 1px dashed var(--sklearn-color-line);\n",
              "  margin: 0 0.4em 0.5em 0.4em;\n",
              "  box-sizing: border-box;\n",
              "  padding-bottom: 0.4em;\n",
              "  background-color: var(--sklearn-color-background);\n",
              "}\n",
              "\n",
              "#sk-container-id-2 div.sk-container {\n",
              "  /* jupyter's `normalize.less` sets `[hidden] { display: none; }`\n",
              "     but bootstrap.min.css set `[hidden] { display: none !important; }`\n",
              "     so we also need the `!important` here to be able to override the\n",
              "     default hidden behavior on the sphinx rendered scikit-learn.org.\n",
              "     See: https://github.com/scikit-learn/scikit-learn/issues/21755 */\n",
              "  display: inline-block !important;\n",
              "  position: relative;\n",
              "}\n",
              "\n",
              "#sk-container-id-2 div.sk-text-repr-fallback {\n",
              "  display: none;\n",
              "}\n",
              "\n",
              "div.sk-parallel-item,\n",
              "div.sk-serial,\n",
              "div.sk-item {\n",
              "  /* draw centered vertical line to link estimators */\n",
              "  background-image: linear-gradient(var(--sklearn-color-text-on-default-background), var(--sklearn-color-text-on-default-background));\n",
              "  background-size: 2px 100%;\n",
              "  background-repeat: no-repeat;\n",
              "  background-position: center center;\n",
              "}\n",
              "\n",
              "/* Parallel-specific style estimator block */\n",
              "\n",
              "#sk-container-id-2 div.sk-parallel-item::after {\n",
              "  content: \"\";\n",
              "  width: 100%;\n",
              "  border-bottom: 2px solid var(--sklearn-color-text-on-default-background);\n",
              "  flex-grow: 1;\n",
              "}\n",
              "\n",
              "#sk-container-id-2 div.sk-parallel {\n",
              "  display: flex;\n",
              "  align-items: stretch;\n",
              "  justify-content: center;\n",
              "  background-color: var(--sklearn-color-background);\n",
              "  position: relative;\n",
              "}\n",
              "\n",
              "#sk-container-id-2 div.sk-parallel-item {\n",
              "  display: flex;\n",
              "  flex-direction: column;\n",
              "}\n",
              "\n",
              "#sk-container-id-2 div.sk-parallel-item:first-child::after {\n",
              "  align-self: flex-end;\n",
              "  width: 50%;\n",
              "}\n",
              "\n",
              "#sk-container-id-2 div.sk-parallel-item:last-child::after {\n",
              "  align-self: flex-start;\n",
              "  width: 50%;\n",
              "}\n",
              "\n",
              "#sk-container-id-2 div.sk-parallel-item:only-child::after {\n",
              "  width: 0;\n",
              "}\n",
              "\n",
              "/* Serial-specific style estimator block */\n",
              "\n",
              "#sk-container-id-2 div.sk-serial {\n",
              "  display: flex;\n",
              "  flex-direction: column;\n",
              "  align-items: center;\n",
              "  background-color: var(--sklearn-color-background);\n",
              "  padding-right: 1em;\n",
              "  padding-left: 1em;\n",
              "}\n",
              "\n",
              "\n",
              "/* Toggleable style: style used for estimator/Pipeline/ColumnTransformer box that is\n",
              "clickable and can be expanded/collapsed.\n",
              "- Pipeline and ColumnTransformer use this feature and define the default style\n",
              "- Estimators will overwrite some part of the style using the `sk-estimator` class\n",
              "*/\n",
              "\n",
              "/* Pipeline and ColumnTransformer style (default) */\n",
              "\n",
              "#sk-container-id-2 div.sk-toggleable {\n",
              "  /* Default theme specific background. It is overwritten whether we have a\n",
              "  specific estimator or a Pipeline/ColumnTransformer */\n",
              "  background-color: var(--sklearn-color-background);\n",
              "}\n",
              "\n",
              "/* Toggleable label */\n",
              "#sk-container-id-2 label.sk-toggleable__label {\n",
              "  cursor: pointer;\n",
              "  display: flex;\n",
              "  width: 100%;\n",
              "  margin-bottom: 0;\n",
              "  padding: 0.5em;\n",
              "  box-sizing: border-box;\n",
              "  text-align: center;\n",
              "  align-items: start;\n",
              "  justify-content: space-between;\n",
              "  gap: 0.5em;\n",
              "}\n",
              "\n",
              "#sk-container-id-2 label.sk-toggleable__label .caption {\n",
              "  font-size: 0.6rem;\n",
              "  font-weight: lighter;\n",
              "  color: var(--sklearn-color-text-muted);\n",
              "}\n",
              "\n",
              "#sk-container-id-2 label.sk-toggleable__label-arrow:before {\n",
              "  /* Arrow on the left of the label */\n",
              "  content: \"▸\";\n",
              "  float: left;\n",
              "  margin-right: 0.25em;\n",
              "  color: var(--sklearn-color-icon);\n",
              "}\n",
              "\n",
              "#sk-container-id-2 label.sk-toggleable__label-arrow:hover:before {\n",
              "  color: var(--sklearn-color-text);\n",
              "}\n",
              "\n",
              "/* Toggleable content - dropdown */\n",
              "\n",
              "#sk-container-id-2 div.sk-toggleable__content {\n",
              "  max-height: 0;\n",
              "  max-width: 0;\n",
              "  overflow: hidden;\n",
              "  text-align: left;\n",
              "  /* unfitted */\n",
              "  background-color: var(--sklearn-color-unfitted-level-0);\n",
              "}\n",
              "\n",
              "#sk-container-id-2 div.sk-toggleable__content.fitted {\n",
              "  /* fitted */\n",
              "  background-color: var(--sklearn-color-fitted-level-0);\n",
              "}\n",
              "\n",
              "#sk-container-id-2 div.sk-toggleable__content pre {\n",
              "  margin: 0.2em;\n",
              "  border-radius: 0.25em;\n",
              "  color: var(--sklearn-color-text);\n",
              "  /* unfitted */\n",
              "  background-color: var(--sklearn-color-unfitted-level-0);\n",
              "}\n",
              "\n",
              "#sk-container-id-2 div.sk-toggleable__content.fitted pre {\n",
              "  /* unfitted */\n",
              "  background-color: var(--sklearn-color-fitted-level-0);\n",
              "}\n",
              "\n",
              "#sk-container-id-2 input.sk-toggleable__control:checked~div.sk-toggleable__content {\n",
              "  /* Expand drop-down */\n",
              "  max-height: 200px;\n",
              "  max-width: 100%;\n",
              "  overflow: auto;\n",
              "}\n",
              "\n",
              "#sk-container-id-2 input.sk-toggleable__control:checked~label.sk-toggleable__label-arrow:before {\n",
              "  content: \"▾\";\n",
              "}\n",
              "\n",
              "/* Pipeline/ColumnTransformer-specific style */\n",
              "\n",
              "#sk-container-id-2 div.sk-label input.sk-toggleable__control:checked~label.sk-toggleable__label {\n",
              "  color: var(--sklearn-color-text);\n",
              "  background-color: var(--sklearn-color-unfitted-level-2);\n",
              "}\n",
              "\n",
              "#sk-container-id-2 div.sk-label.fitted input.sk-toggleable__control:checked~label.sk-toggleable__label {\n",
              "  background-color: var(--sklearn-color-fitted-level-2);\n",
              "}\n",
              "\n",
              "/* Estimator-specific style */\n",
              "\n",
              "/* Colorize estimator box */\n",
              "#sk-container-id-2 div.sk-estimator input.sk-toggleable__control:checked~label.sk-toggleable__label {\n",
              "  /* unfitted */\n",
              "  background-color: var(--sklearn-color-unfitted-level-2);\n",
              "}\n",
              "\n",
              "#sk-container-id-2 div.sk-estimator.fitted input.sk-toggleable__control:checked~label.sk-toggleable__label {\n",
              "  /* fitted */\n",
              "  background-color: var(--sklearn-color-fitted-level-2);\n",
              "}\n",
              "\n",
              "#sk-container-id-2 div.sk-label label.sk-toggleable__label,\n",
              "#sk-container-id-2 div.sk-label label {\n",
              "  /* The background is the default theme color */\n",
              "  color: var(--sklearn-color-text-on-default-background);\n",
              "}\n",
              "\n",
              "/* On hover, darken the color of the background */\n",
              "#sk-container-id-2 div.sk-label:hover label.sk-toggleable__label {\n",
              "  color: var(--sklearn-color-text);\n",
              "  background-color: var(--sklearn-color-unfitted-level-2);\n",
              "}\n",
              "\n",
              "/* Label box, darken color on hover, fitted */\n",
              "#sk-container-id-2 div.sk-label.fitted:hover label.sk-toggleable__label.fitted {\n",
              "  color: var(--sklearn-color-text);\n",
              "  background-color: var(--sklearn-color-fitted-level-2);\n",
              "}\n",
              "\n",
              "/* Estimator label */\n",
              "\n",
              "#sk-container-id-2 div.sk-label label {\n",
              "  font-family: monospace;\n",
              "  font-weight: bold;\n",
              "  display: inline-block;\n",
              "  line-height: 1.2em;\n",
              "}\n",
              "\n",
              "#sk-container-id-2 div.sk-label-container {\n",
              "  text-align: center;\n",
              "}\n",
              "\n",
              "/* Estimator-specific */\n",
              "#sk-container-id-2 div.sk-estimator {\n",
              "  font-family: monospace;\n",
              "  border: 1px dotted var(--sklearn-color-border-box);\n",
              "  border-radius: 0.25em;\n",
              "  box-sizing: border-box;\n",
              "  margin-bottom: 0.5em;\n",
              "  /* unfitted */\n",
              "  background-color: var(--sklearn-color-unfitted-level-0);\n",
              "}\n",
              "\n",
              "#sk-container-id-2 div.sk-estimator.fitted {\n",
              "  /* fitted */\n",
              "  background-color: var(--sklearn-color-fitted-level-0);\n",
              "}\n",
              "\n",
              "/* on hover */\n",
              "#sk-container-id-2 div.sk-estimator:hover {\n",
              "  /* unfitted */\n",
              "  background-color: var(--sklearn-color-unfitted-level-2);\n",
              "}\n",
              "\n",
              "#sk-container-id-2 div.sk-estimator.fitted:hover {\n",
              "  /* fitted */\n",
              "  background-color: var(--sklearn-color-fitted-level-2);\n",
              "}\n",
              "\n",
              "/* Specification for estimator info (e.g. \"i\" and \"?\") */\n",
              "\n",
              "/* Common style for \"i\" and \"?\" */\n",
              "\n",
              ".sk-estimator-doc-link,\n",
              "a:link.sk-estimator-doc-link,\n",
              "a:visited.sk-estimator-doc-link {\n",
              "  float: right;\n",
              "  font-size: smaller;\n",
              "  line-height: 1em;\n",
              "  font-family: monospace;\n",
              "  background-color: var(--sklearn-color-background);\n",
              "  border-radius: 1em;\n",
              "  height: 1em;\n",
              "  width: 1em;\n",
              "  text-decoration: none !important;\n",
              "  margin-left: 0.5em;\n",
              "  text-align: center;\n",
              "  /* unfitted */\n",
              "  border: var(--sklearn-color-unfitted-level-1) 1pt solid;\n",
              "  color: var(--sklearn-color-unfitted-level-1);\n",
              "}\n",
              "\n",
              ".sk-estimator-doc-link.fitted,\n",
              "a:link.sk-estimator-doc-link.fitted,\n",
              "a:visited.sk-estimator-doc-link.fitted {\n",
              "  /* fitted */\n",
              "  border: var(--sklearn-color-fitted-level-1) 1pt solid;\n",
              "  color: var(--sklearn-color-fitted-level-1);\n",
              "}\n",
              "\n",
              "/* On hover */\n",
              "div.sk-estimator:hover .sk-estimator-doc-link:hover,\n",
              ".sk-estimator-doc-link:hover,\n",
              "div.sk-label-container:hover .sk-estimator-doc-link:hover,\n",
              ".sk-estimator-doc-link:hover {\n",
              "  /* unfitted */\n",
              "  background-color: var(--sklearn-color-unfitted-level-3);\n",
              "  color: var(--sklearn-color-background);\n",
              "  text-decoration: none;\n",
              "}\n",
              "\n",
              "div.sk-estimator.fitted:hover .sk-estimator-doc-link.fitted:hover,\n",
              ".sk-estimator-doc-link.fitted:hover,\n",
              "div.sk-label-container:hover .sk-estimator-doc-link.fitted:hover,\n",
              ".sk-estimator-doc-link.fitted:hover {\n",
              "  /* fitted */\n",
              "  background-color: var(--sklearn-color-fitted-level-3);\n",
              "  color: var(--sklearn-color-background);\n",
              "  text-decoration: none;\n",
              "}\n",
              "\n",
              "/* Span, style for the box shown on hovering the info icon */\n",
              ".sk-estimator-doc-link span {\n",
              "  display: none;\n",
              "  z-index: 9999;\n",
              "  position: relative;\n",
              "  font-weight: normal;\n",
              "  right: .2ex;\n",
              "  padding: .5ex;\n",
              "  margin: .5ex;\n",
              "  width: min-content;\n",
              "  min-width: 20ex;\n",
              "  max-width: 50ex;\n",
              "  color: var(--sklearn-color-text);\n",
              "  box-shadow: 2pt 2pt 4pt #999;\n",
              "  /* unfitted */\n",
              "  background: var(--sklearn-color-unfitted-level-0);\n",
              "  border: .5pt solid var(--sklearn-color-unfitted-level-3);\n",
              "}\n",
              "\n",
              ".sk-estimator-doc-link.fitted span {\n",
              "  /* fitted */\n",
              "  background: var(--sklearn-color-fitted-level-0);\n",
              "  border: var(--sklearn-color-fitted-level-3);\n",
              "}\n",
              "\n",
              ".sk-estimator-doc-link:hover span {\n",
              "  display: block;\n",
              "}\n",
              "\n",
              "/* \"?\"-specific style due to the `<a>` HTML tag */\n",
              "\n",
              "#sk-container-id-2 a.estimator_doc_link {\n",
              "  float: right;\n",
              "  font-size: 1rem;\n",
              "  line-height: 1em;\n",
              "  font-family: monospace;\n",
              "  background-color: var(--sklearn-color-background);\n",
              "  border-radius: 1rem;\n",
              "  height: 1rem;\n",
              "  width: 1rem;\n",
              "  text-decoration: none;\n",
              "  /* unfitted */\n",
              "  color: var(--sklearn-color-unfitted-level-1);\n",
              "  border: var(--sklearn-color-unfitted-level-1) 1pt solid;\n",
              "}\n",
              "\n",
              "#sk-container-id-2 a.estimator_doc_link.fitted {\n",
              "  /* fitted */\n",
              "  border: var(--sklearn-color-fitted-level-1) 1pt solid;\n",
              "  color: var(--sklearn-color-fitted-level-1);\n",
              "}\n",
              "\n",
              "/* On hover */\n",
              "#sk-container-id-2 a.estimator_doc_link:hover {\n",
              "  /* unfitted */\n",
              "  background-color: var(--sklearn-color-unfitted-level-3);\n",
              "  color: var(--sklearn-color-background);\n",
              "  text-decoration: none;\n",
              "}\n",
              "\n",
              "#sk-container-id-2 a.estimator_doc_link.fitted:hover {\n",
              "  /* fitted */\n",
              "  background-color: var(--sklearn-color-fitted-level-3);\n",
              "}\n",
              "</style><div id=\"sk-container-id-2\" class=\"sk-top-container\"><div class=\"sk-text-repr-fallback\"><pre>LatentDirichletAllocation(n_components=8, random_state=0)</pre><b>In a Jupyter environment, please rerun this cell to show the HTML representation or trust the notebook. <br />On GitHub, the HTML representation is unable to render, please try loading this page with nbviewer.org.</b></div><div class=\"sk-container\" hidden><div class=\"sk-item\"><div class=\"sk-estimator fitted sk-toggleable\"><input class=\"sk-toggleable__control sk-hidden--visually\" id=\"sk-estimator-id-2\" type=\"checkbox\" checked><label for=\"sk-estimator-id-2\" class=\"sk-toggleable__label fitted sk-toggleable__label-arrow\"><div><div>LatentDirichletAllocation</div></div><div><a class=\"sk-estimator-doc-link fitted\" rel=\"noreferrer\" target=\"_blank\" href=\"https://scikit-learn.org/1.6/modules/generated/sklearn.decomposition.LatentDirichletAllocation.html\">?<span>Documentation for LatentDirichletAllocation</span></a><span class=\"sk-estimator-doc-link fitted\">i<span>Fitted</span></span></div></label><div class=\"sk-toggleable__content fitted\"><pre>LatentDirichletAllocation(n_components=8, random_state=0)</pre></div> </div></div></div></div>"
            ]
          },
          "metadata": {},
          "execution_count": 26
        }
      ]
    },
    {
      "cell_type": "markdown",
      "source": [
        "LatentDirichletAllocation.fit 수행 -> components_ 속성값을 가지게 됨\n",
        "\n",
        "\n",
        "* components_ 속성값\n",
        "\n",
        "    개별 토픽별 각 word 피처가 얼마나 많이 그 토픽에 할당됐는지에 대한 수치를 가짐\n",
        "\n",
        "    높은 값일수록 해당 word 피처는 그 토픽의 중심 word가 됨"
      ],
      "metadata": {
        "id": "bMs04qFM8H6a"
      }
    },
    {
      "cell_type": "code",
      "source": [
        "print(lda.components_.shape)"
      ],
      "metadata": {
        "colab": {
          "base_uri": "https://localhost:8080/"
        },
        "id": "4aWsTl9E74lx",
        "outputId": "58c34f7e-eb98-4194-ec36-e226f1c7b052"
      },
      "execution_count": 27,
      "outputs": [
        {
          "output_type": "stream",
          "name": "stdout",
          "text": [
            "(8, 1000)\n"
          ]
        }
      ]
    },
    {
      "cell_type": "code",
      "source": [
        "lda.components_"
      ],
      "metadata": {
        "colab": {
          "base_uri": "https://localhost:8080/"
        },
        "id": "9TxG2EmF8hBO",
        "outputId": "cdde5188-78ef-4072-8a7e-1d955ea75325"
      },
      "execution_count": 28,
      "outputs": [
        {
          "output_type": "execute_result",
          "data": {
            "text/plain": [
              "array([[2.69030238e+02, 1.87798026e+02, 7.09003824e+01, ...,\n",
              "        1.22710343e+01, 1.06329639e+02, 7.25995512e+01],\n",
              "       [1.25091799e-01, 2.46049106e+00, 1.25051902e-01, ...,\n",
              "        2.80071176e+02, 1.25089783e-01, 5.05669662e+01],\n",
              "       [1.33978420e+02, 1.25042012e-01, 9.98277256e+01, ...,\n",
              "        1.25092219e-01, 3.31078261e+01, 1.25028398e-01],\n",
              "       ...,\n",
              "       [2.98813886e+01, 1.88071366e+01, 1.14748730e+01, ...,\n",
              "        1.93022584e+01, 5.29368271e+00, 1.44478198e+01],\n",
              "       [1.25074899e-01, 1.25105300e-01, 1.25004235e-01, ...,\n",
              "        1.03576436e+02, 1.25100535e-01, 7.22276359e+01],\n",
              "       [1.25172284e-01, 1.03967760e+00, 1.25221075e-01, ...,\n",
              "        5.31740996e+01, 1.25025929e-01, 1.25062991e-01]])"
            ]
          },
          "metadata": {},
          "execution_count": 28
        }
      ]
    },
    {
      "cell_type": "code",
      "source": [
        "def display_topics(model, feature_names, no_top_words):\n",
        "    for topic_index, topic in enumerate(model.components_):\n",
        "        print('Topic #', topic_index)\n",
        "\n",
        "        # components_array에서 가장 값이 큰 순으로 정렬했을 때, 그 값의 array 인덱스를 반환.\n",
        "        topic_word_indexes = topic.argsort()[::-1]\n",
        "        top_indexes = topic_word_indexes[:no_top_words]\n",
        "\n",
        "        # top_indexes대상인 인덱스별로 feature_names에 해당하는 word feature 추출 후 join으로 concat\n",
        "        feature_concat = ' '.join([feature_names[i] for i in top_indexes])\n",
        "        print(feature_concat)\n",
        "\n",
        "# CountVectorizer 객체 내의 전체 word의 명칭을 get_features_names( )를 통해 추출\n",
        "feature_names = count_vect.get_feature_names_out()\n",
        "\n",
        "# Topic별 가장 연관도가 높은 word를 15개만 추출\n",
        "display_topics(lda, feature_names, 15)"
      ],
      "metadata": {
        "colab": {
          "base_uri": "https://localhost:8080/"
        },
        "id": "W5kE4d8T8ivD",
        "outputId": "2bb4272b-13da-46f8-a340-eadced09aad5"
      },
      "execution_count": 29,
      "outputs": [
        {
          "output_type": "stream",
          "name": "stdout",
          "text": [
            "Topic # 0\n",
            "10 year medical health 1993 20 12 disease cancer team patients research number new 11\n",
            "Topic # 1\n",
            "don just like know think good time ve does way really people want ll right\n",
            "Topic # 2\n",
            "image file jpeg output program gif images format files color entry use bit 03 02\n",
            "Topic # 3\n",
            "armenian armenians turkish people said turkey armenia government genocide turks muslim russian greek azerbaijan killed\n",
            "Topic # 4\n",
            "israel jews dos jewish israeli dos dos arab state people arabs palestinian adl ed anti peace\n",
            "Topic # 5\n",
            "edu com available graphics ftp window use mail data motif software version pub information server\n",
            "Topic # 6\n",
            "god people jesus church believe say christ does christian think christians did know bible man\n",
            "Topic # 7\n",
            "thanks use using does help like display need problem know server screen windows window program\n"
          ]
        }
      ]
    },
    {
      "cell_type": "markdown",
      "source": [
        "## 문서 군집화 소개와 실습(Opinion Review 데이터 세트)"
      ],
      "metadata": {
        "id": "cDEfZ3QVBAc9"
      }
    },
    {
      "cell_type": "markdown",
      "source": [
        "### 문서 군집화 개념"
      ],
      "metadata": {
        "id": "WYswkrq0Bj-f"
      }
    },
    {
      "cell_type": "markdown",
      "source": [
        "**문서 군집화(Document Clustering)**\n",
        "\n",
        "비슷한 텍스트 구성의 문서를 군집화하는 것\n",
        "\n",
        "동일한 군집에 속하는 문서를 같은 카테고리 소속으로 분류한다는 점에서 텍스트 분류 기반의 문서 분류와 유사함\n",
        "\n",
        "텍스트 분류 기반의 문서 분류는 사전에 결정 카테고리 값을 가진 학습 데이터 세트가 필요 없는 비지도학습 기반으로 동작\n",
        "\n"
      ],
      "metadata": {
        "id": "gTvLksdiBlwk"
      }
    },
    {
      "cell_type": "markdown",
      "source": [
        "## 문서 유사도"
      ],
      "metadata": {
        "id": "zWFv2pxOjLfB"
      }
    },
    {
      "cell_type": "markdown",
      "source": [
        "### 문서 유사도 측정 방법 - 코사인 유사도"
      ],
      "metadata": {
        "id": "uf3S12AtjMwY"
      }
    },
    {
      "cell_type": "markdown",
      "source": [
        "코사인 유사도 : 벡터와 벡터 간의 유사도를 비교할 때 벡터의 크기보다는 벡터의 상호 방향성이 얼마나 유사한지에 기반함\n",
        "\n",
        "즉, 두 벡터 사이의 사잇각을 구해서 얼마나 유사한지 수치로 적용한 것\n",
        "\n",
        "![image.png](data:image/png;base64,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)"
      ],
      "metadata": {
        "id": "oSZGyd3KjS3G"
      }
    },
    {
      "cell_type": "markdown",
      "source": [
        "### 두 벡터 사잇각"
      ],
      "metadata": {
        "id": "Tz-7AEYIjjtW"
      }
    },
    {
      "cell_type": "markdown",
      "source": [
        "**두 벡터의 사잇각에 따른 상호 관계**\n",
        "\n",
        "![image.png](data:image/png;base64,iVBORw0KGgoAAAANSUhEUgAAA8oAAAE6CAYAAADOYqsEAAAMS2lDQ1BJQ0MgUHJvZmlsZQAASImVVwdYU8kWnltSIQQIREBK6E0QkRJASggtgPQiiEpIAoQSY0JQsaOLCq5dRLCiqyCKHRCxYVcWxe5aFgsqK+tiwa68CQF02Ve+N983d/77z5l/zjl35t47ANDb+VJpDqoJQK4kTxYT7M8al5TMInUCDGgCBqAAI75ALuVERYUDWAbav5d3NwGibK85KLX+2f9fi5ZQJBcAgERBnCaUC3IhPggA3iSQyvIAIEohbz41T6rEqyHWkUEHIa5S4gwVblLiNBW+0mcTF8OF+AkAZHU+X5YBgEY35Fn5ggyoQ4fRAieJUCyB2A9in9zcyUKI50JsA23gnHSlPjvtB52Mv2mmDWry+RmDWBVLXyEHiOXSHP70/zMd/7vk5igG5rCGVT1TFhKjjBnm7Un25DAlVof4gyQtIhJibQBQXCzss1diZqYiJF5lj9oI5FyYM8CEeIw8J5bXz8cI+QFhEBtCnC7JiQjvtylMFwcpbWD+0DJxHi8OYj2Iq0TywNh+mxOyyTED895Ml3E5/fxzvqzPB6X+N0V2PEelj2lninj9+phjQWZcIsRUiAPyxQkREGtAHCHPjg3rt0kpyORGDNjIFDHKWCwglokkwf4qfaw0XRYU02+/M1c+EDt2IlPMi+jHV/My40JUucKeCPh9/sNYsG6RhBM/oCOSjwsfiEUoCghUxY6TRZL4WBWP60nz/GNUY3E7aU5Uvz3uL8oJVvJmEMfJ82MHxubnwcWp0seLpHlRcSo/8fIsfmiUyh98LwgHXBAAWEABaxqYDLKAuLWrvgveqXqCAB/IQAYQAYd+ZmBEYl+PBF5jQQH4EyIRkA+O8+/rFYF8yH8dwio58SCnujqA9P4+pUo2eApxLggDOfBe0ackGfQgATyBjPgfHvFhFcAYcmBV9v97foD9znAgE97PKAZmZNEHLImBxABiCDGIaIsb4D64Fx4Or36wOuNs3GMgju/2hKeENsIjwg1CO+HOJHGhbIiXY0E71A/qz0/aj/nBraCmK+6Pe0N1qIwzcQPggLvAeTi4L5zZFbLcfr+VWWEN0f5bBD88oX47ihMFpQyj+FFsho7UsNNwHVRR5vrH/Kh8TRvMN3ewZ+j83B+yL4Rt2FBLbBF2ADuHncQuYE1YPWBhx7EGrAU7qsSDK+5J34obmC2mz59sqDN0zXx/sspMyp1qnDqdvqj68kTT8pSbkTtZOl0mzsjMY3HgF0PE4kkEjiNYzk7OrgAovz+q19ub6L7vCsJs+c7N/x0A7+O9vb1HvnOhxwHY5w5fCYe/czZs+GlRA+D8YYFClq/icOWFAN8cdLj79IExMAc2MB5n4Aa8gB8IBKEgEsSBJDARep8J17kMTAUzwTxQBErAcrAGlINNYCuoArvBflAPmsBJcBZcAlfADXAXrp4O8AJ0g3fgM4IgJISGMBB9xASxROwRZ4SN+CCBSDgSgyQhqUgGIkEUyExkPlKCrETKkS1INbIPOYycRC4gbcgd5CHSibxGPqEYqo7qoEaoFToSZaMcNAyNQyegGegUtABdgC5Fy9BKdBdah55EL6E30Hb0BdqDAUwNY2KmmAPGxrhYJJaMpWMybDZWjJVilVgt1gif8zWsHevCPuJEnIGzcAe4gkPweFyAT8Fn40vwcrwKr8NP49fwh3g3/o1AIxgS7AmeBB5hHCGDMJVQRCglbCccIpyBe6mD8I5IJDKJ1kR3uBeTiFnEGcQlxA3EPcQTxDbiY2IPiUTSJ9mTvEmRJD4pj1REWkfaRTpOukrqIH0gq5FNyM7kIHIyWUIuJJeSd5KPka+Sn5E/UzQplhRPSiRFSJlOWUbZRmmkXKZ0UD5TtajWVG9qHDWLOo9aRq2lnqHeo75RU1MzU/NQi1YTq81VK1Pbq3Ze7aHaR3VtdTt1rnqKukJ9qfoO9RPqd9Tf0Gg0K5ofLZmWR1tKq6adoj2gfdBgaDhq8DSEGnM0KjTqNK5qvKRT6JZ0Dn0ivYBeSj9Av0zv0qRoWmlyNfmaszUrNA9r3tLs0WJojdKK1MrVWqK1U+uC1nNtkraVdqC2UHuB9lbtU9qPGRjDnMFlCBjzGdsYZxgdOkQdax2eTpZOic5unVadbl1tXRfdBN1puhW6R3XbmRjTislj5jCXMfczbzI/DTMaxhkmGrZ4WO2wq8Pe6w3X89MT6RXr7dG7ofdJn6UfqJ+tv0K/Xv++AW5gZxBtMNVgo8EZg67hOsO9hguGFw/fP/w3Q9TQzjDGcIbhVsMWwx4jY6NgI6nROqNTRl3GTGM/4yzj1cbHjDtNGCY+JmKT1SbHTf5g6bI4rBxWGes0q9vU0DTEVGG6xbTV9LOZtVm8WaHZHrP75lRztnm6+WrzZvNuCxOLsRYzLWosfrOkWLItMy3XWp6zfG9lbZVotdCq3uq5tZ41z7rAusb6ng3Nxtdmik2lzXVboi3bNtt2g+0VO9TO1S7TrsLusj1q72Yvtt9g3zaCMMJjhGRE5YhbDuoOHId8hxqHh45Mx3DHQsd6x5cjLUYmj1wx8tzIb06uTjlO25zujtIeFTqqcFTjqNfOds4C5wrn66Npo4NGzxndMPqVi72LyGWjy21XhutY14Wuza5f3dzdZG61bp3uFu6p7uvdb7F12FHsJezzHgQPf485Hk0eHz3dPPM893v+5eXgle210+v5GOsxojHbxjz2NvPme2/xbvdh+aT6bPZp9zX15ftW+j7yM/cT+m33e8ax5WRxdnFe+jv5y/wP+b/nenJncU8EYAHBAcUBrYHagfGB5YEPgsyCMoJqgrqDXYNnBJ8IIYSEhawIucUz4gl41bzuUPfQWaGnw9TDYsPKwx6F24XLwhvHomNDx64aey/CMkISUR8JInmRqyLvR1lHTYk6Ek2MjoquiH4aMypmZsy5WEbspNidse/i/OOWxd2Nt4lXxDcn0BNSEqoT3icGJK5MbB83ctyscZeSDJLESQ3JpOSE5O3JPeMDx68Z35HimlKUcnOC9YRpEy5MNJiYM/HoJPok/qQDqYTUxNSdqV/4kfxKfk8aL219WreAK1greCH0E64Wdoq8RStFz9K901emP8/wzliV0Znpm1ma2SXmisvFr7JCsjZlvc+OzN6R3ZuTmLMnl5ybmntYoi3JlpyebDx52uQ2qb20SNo+xXPKmindsjDZdjkinyBvyNOBP/otChvFT4qH+T75FfkfpiZMPTBNa5pkWst0u+mLpz8rCCr4ZQY+QzCjeabpzHkzH87izNoyG5mdNrt5jvmcBXM65gbPrZpHnZc979dCp8KVhW/nJ85vXGC0YO6Cxz8F/1RTpFEkK7q10GvhpkX4IvGi1sWjF69b/K1YWHyxxKmktOTLEsGSiz+P+rns596l6Utbl7kt27icuFyy/OYK3xVVK7VWFqx8vGrsqrrVrNXFq9+umbTmQqlL6aa11LWKte1l4WUN6yzWLV/3pTyz/EaFf8We9YbrF69/v0G44epGv421m4w2lWz6tFm8+faW4C11lVaVpVuJW/O3Pt2WsO3cL+xfqrcbbC/Z/nWHZEd7VUzV6Wr36uqdhjuX1aA1iprOXSm7ruwO2N1Q61C7ZQ9zT8lesFex9499qftu7g/b33yAfaD2oOXB9YcYh4rrkLrpdd31mfXtDUkNbYdDDzc3ejUeOuJ4ZEeTaVPFUd2jy45Rjy041nu84HjPCemJrpMZJx83T2q+e2rcqeuno0+3ngk7c/5s0NlT5zjnjp/3Pt90wfPC4Yvsi/WX3C7Vtbi2HPrV9ddDrW6tdZfdLzdc8bjS2Dam7dhV36snrwVcO3udd/3SjYgbbTfjb96+lXKr/bbw9vM7OXde/Zb/2+e7c+8R7hXf17xf+sDwQeXvtr/vaXdrP/ow4GHLo9hHdx8LHr94In/ypWPBU9rT0mcmz6qfOz9v6gzqvPLH+D86XkhffO4q+lPrz/UvbV4e/Mvvr5bucd0dr2Svel8veaP/Zsdbl7fNPVE9D97lvvv8vviD/oeqj+yP5z4lfnr2eeoX0peyr7ZfG7+FfbvXm9vbK+XL+H2/AhhQHm3SAXi9AwBaEgAMeG6kjledD/sKojrT9iHwn7DqDNlX3ACohf/00V3w7+YWAHu3AWAF9ekpAETRAIjzAOjo0YN14CzXd+5UFiI8G2yO+ZqWmwb+TVGdSX/we2gLlKouYGj7L1jYgwKacAiPAAAAimVYSWZNTQAqAAAACAAEARoABQAAAAEAAAA+ARsABQAAAAEAAABGASgAAwAAAAEAAgAAh2kABAAAAAEAAABOAAAAAAAAAJAAAAABAAAAkAAAAAEAA5KGAAcAAAASAAAAeKACAAQAAAABAAADyqADAAQAAAABAAABOgAAAABBU0NJSQAAAFNjcmVlbnNob3SuwmtSAAAACXBIWXMAABYlAAAWJQFJUiTwAAAB1mlUWHRYTUw6Y29tLmFkb2JlLnhtcAAAAAAAPHg6eG1wbWV0YSB4bWxuczp4PSJhZG9iZTpuczptZXRhLyIgeDp4bXB0az0iWE1QIENvcmUgNi4wLjAiPgogICA8cmRmOlJERiB4bWxuczpyZGY9Imh0dHA6Ly93d3cudzMub3JnLzE5OTkvMDIvMjItcmRmLXN5bnRheC1ucyMiPgogICAgICA8cmRmOkRlc2NyaXB0aW9uIHJkZjphYm91dD0iIgogICAgICAgICAgICB4bWxuczpleGlmPSJodHRwOi8vbnMuYWRvYmUuY29tL2V4aWYvMS4wLyI+CiAgICAgICAgIDxleGlmOlBpeGVsWURpbWVuc2lvbj4zMTQ8L2V4aWY6UGl4ZWxZRGltZW5zaW9uPgogICAgICAgICA8ZXhpZjpQaXhlbFhEaW1lbnNpb24+OTcwPC9leGlmOlBpeGVsWERpbWVuc2lvbj4KICAgICAgICAgPGV4aWY6VXNlckNvbW1lbnQ+U2NyZWVuc2hvdDwvZXhpZjpVc2VyQ29tbWVudD4KICAgICAgPC9yZGY6RGVzY3JpcHRpb24+CiAgIDwvcmRmOlJERj4KPC94OnhtcG1ldGE+Ciwze9wAAAAcaURPVAAAAAIAAAAAAAAAnQAAACgAAACdAAAAnQAAimbzn7T2AABAAElEQVR4AeydB4BcVdXHz9Z0EFBUsKAoivReBAmQXgioSICEFIoIKiKEEEINIKAf+qGgSO+E0EFRikgTFVRQsXwCItJLEgiQtiXf+Z07Z/ftZLZks2Vm59xk9rX7bvm/ef85/1vOrVihQcosZKtcUVHRx2q/QrJPtO/Vr489rqhOIBAIBAKBQCAQCAQCgUAgEAgUHQIVpSaUEbmtib+2rjnyWZHMudbS8viluM3WsS/WrxSfSZQ5EAgEAoFAIBAIBAKBQCAQCARKB4GSE8pdAW1fF5J9vX5d8R2INAKBQCAQCAQCgUAgEAgEAoFAIBBoDYGyFMqAgZiM3tbWvhZxPhAIBAKBQCAQCAQCgUAgEAgEAoHyRaBshXL5PvKoeSAQCAQCgUAgEAgEAoFAIBAIBAKBQFsIhFBuC524FggEAoFAIBAIBAKBQCAQCAQCgUAgUHYIhFAuu0ceFQ4EAoFAIBAIBAKBQCAQCAQCgUAgEGgLgRDKbaET1wKBQCAQCAQCgUAgEAgEAoFAIBAIBMoOgdUSyu5dOZxild33JiocCAQCgUAgEAgEAoFAIBAIBAKBQJ9FoNNC2UWyIxNi2ZGIbSAQCAQCgUAgEAgEAoFAIBAIBAKBQCkjEEK5lJ9elD0QCAQCgUAgEAgEAoFAIBAIBAKBQKDLEQih3OWQRoKBQCAQCAQCgUAgEAgEAoFAIBAIBAKljMBqC2WGYPuwa9+WMiBR9kAgEAgEAoFAIBAIBAKBQCAQCAQCgfJGoMuEcojk8v4iRe0DgUAgEAgEAoFAIBAIBAKBQCAQ6CsIrLZQdiBCKDsSsQ0EAoFAIBAIBAKBQCAQCAQCgUAgEChlBEIol/LTi7IHAoFAIBAIBAKBQCAQCAQCgUAgEAh0OQKdFsqUxJeIit7kLn8ukWAgEAgEAoFAIBAIBAKBQCAQCAQCgUAvIbBaQrmXyhzZBgKBQCAQCAQCgUAgEAgEAoFAIBAIBALdhkAI5W6DNhIOBAKBQCAQCAQCgUAgEAgEAoFAIBAoRQRCKJfiU4syBwKBQCAQCAQCgUAgEAgEAoFAIBAIdBsCIZS7DdpIOBAIBAKBQCAQCAQCgUAgEAgEAoFAoBQRCKFcik8tyhwIBAKBQCAQCAQCgUAgEAgEAoFAINBtCIRQ7jZoI+FAIBAIBAKBQCAQCAQCgUAgEAgEAoFSRCCEcik+tShzIBAIBAKBQCAQCAQCgUAgEAgEAoFAtyEQQrnboI2EA4FAIBAIBAKBQCAQCAQCgUAgEAgEShGBEMql+NT6UJlXrFhhtamoqOhDtYqqBAKBQLkgAIcFf5XL0456BgKBQCAQCJQTAiGUy+lpF2FdQygX4UOJIgUCgUAgEAgEAoFAIBAIBAJljkAI5TL/AkT1A4FAIBAIBAKBQCAQCAQCgUAgEAgEWiIQQrklHnHUQwjEcMUeAjqyCQQCgUAgEAgEAoFAoA0ECtlkhc61kURcCgT6JAIhlPvkYy3+SgUBF/8zihIGAoFAIBAIBAKBQN9GAHvMg/tbKHTO48Q2ECgnBEIol9PT7oW6Jv5d2dlNCOVeeBiRZSAQCHQLAm5UupHZLZlEooFAIBAIdBECcJbbYVneci7LZpO97uc9XqFrHie2gUBfQCCEcl94ikVUh3zy5JgPZJocWyfv1n6uiIoeRQkEAoFAwBBYFX4ibmNjo3FcZWVlIBgIBAKBQNEjAGfBXXBWVuxyLhuy17Lns/Fai5ONH/uBQKkiEEK5VJ9ckZYb8uSThHGF7ot+GnOl5VoSzH7dq+H3+HFsA4FAIBDoDQTcAMw3/rIc1dDQYEUjDganG5v59/RG+SPPQCAQCATaQsA5jji+D4c1NNDg50IZWy198tPye7Lng/uyaMR+X0IghHJfeppFUBeMRoITrAtllciyQq81NqYWTEiZjwc3Nv04toFAIBAI9AYCbgTmG36c93NLly41A7O6utqKWFNT0xtFjTwDgUAgEFglBOAxPm5/NTTUS319g1RX16hQrpeqqipND7Fc0dQAmJ+Bc2T2vHNj9lzsBwJ9AYEQyn3hKRZRHZxAm0kzDe+RFZVSp2S8YkWdlrZCMCwrKpJQbo5bRBWJogQCgUDZIgCPZXnJeQ1AvDGwrq6uqUEw8VnztBIHLpuGn4ttIBAIBAI9jYDzFpzUxEuqhxvowFihtlljvRaJDoxqs810PKBUVGbi5hU4y4lN6eXFicNAoC8gEEK5LzzFXqhDx0myQUm4UZYvYwx2lby96DVZ5/3vl8YGWjVFamtq6X7mf6vB8woybhWiuBAIBALdgIBzD0nDP/X19U3bF198Ud544w3Zeuutcw1/bZBYN5QtkgwEAoFAoKMIwGV84LGsLfXOO4tl3o3XyhZbbiKbb7q1VFX2py9DBbOZZh1NPuIFAn0WgRDKffbRdl/FELhpaE4mDyVWpV8jYq4lItb5ezrnhWE9FRXVMnv2TNlhp81l/Pi9NWZtbogPabQkbks1Z3M2m57Ne5lcYzcQCAQCgS5BIF8Ue6J+Hk5bvny5ieUpU6bIk08+KfPmzZPNNtssw2Xprqwh6unENhAIBAKB3kDAOYy8sd/gpyVLFsvAgQNk6tRDZcnShXLp5RdIbfUaUl050ESymmURAoFAQBEIoRxfg25DAHJmTjLEXKXNk+PGj5NttttY5px6ppJ0vQwYMFCv4Tyi0uK4+G42Mk2R58oXrN1tDyoSDgQCAUMAzmrmn5agcI3h1nwmTJggjz76qDz44IPWo8x8v9bua5lKHAUCgUAg0LMINAtlbCpsKYTyEhXK/WXa1MPkzQUvyY03Xa122gCprFChrFFyM+N6tqCRWyBQhAiEUC7Ch9JXigQ5I5Lr6+qltrZGRo8ZK9vt8Dk5TYXysqUN0r9/f5vvV8EYH/WG3dwT3VcQiHoEAoFAqSLgxqULYBfKDL8eN26cPPbYY/LQQw/J5ptv3sLpjccv1XpHuQOBQKBvIeBcho2FTYZQrq+vU7usVg466GCbEnf93Cukuqq/imWEMuOu7X/uT9/CI2oTCKwKAiGUVwWtiNsuAk7IWWNx2dLlOjSxVsbvNUZ232MHOW7GLB3CuMJImmVWKiurlJNxHaGcjF6OEAgEAoFALyPgXEYxnM/oTUYojx49Wh5//HHrUd5iiy1aDL0mrsfv5SpE9oFAIBAIqDhW64pln/jPh8VJ1NaqqqqUAw+cZkOvr7r6IqmpHqBieaDyVxohY+ZY2GTxDSpzBEIol/kXoMurryysPNxsKOrBcu1RrtFlVMaMHStDd99OZsw4XhrqK9UBTq32KDN/OZGycXmQcpc/kkgwEAgEVh2B9oSy9yhvueWW1qNMDi6QfbvqucYdgUAgEAh0LQLJKkMh54QyRpoGpowcNHm6LHr3Dbl+7mUqkgdkepR1GgpqOmyyBFb8LVsEQiiX7aPvmYojflnEvrq6UnthxsoXhm4rM46dqa2aNSqea3Sb5igbgWuRoke5Z55L5BIIBALtI4BYzopen6M8ZswY+f3vfy8PP/ywuFAmXjZu+6lHjEAgEAgEuh+BlYWyql+4TYXyNHXmNX/hizZHOQnlQTk7DNsMlRxKufufUORQzAiEUC7mp9MHyqa+vMzztQvloXtsL8ccc5wO/ak2oWxNnBBxroUzOLkPPPSoQiDQRxHICmUfeu1Cmd6ZCIFAIBAIFBsC6lY1VySVzI2sTpJsrkr12mXOvBa+oEL5Ku1RHmRer80Oq9DRfrqucgjlYnuaUZ6eRiCEck8jXmb5NWqrZX19o66XXCWjRo+RPfbcQYXyTGnMDb1ugiOEchMUsRMIBALFiYAL5bE6jYSh13i9DqFcnM8qShUIBAIgoOKYoX3MUeZIhTLOU+2UCuXp0w6T+QtekHk3XalCebAJ5eTxukFjh1A20OJPWSMQQrmsH3/3V57loep16HUNQnnUGNlN5yjPmjlbl1gRFc+1WgDIO3qUu/9JRA6BQCCwugj4OsoMvfYeZZx5VasPhhh2vbroxv2BQCDQ9Qi0FMpJJOuSnAz306HVhxz8VXnjzf/KvJuvkhp15FVdqUOvbXBMzuNXDPPr+kcSKZYUAiGUS+pxlV5hGxsbTShXVakzL+1R3m33beV4Fcr1dRXm9To7R9lqp5o5QiAQCAQCxYgAQple5fwe5ZqammIsbpQpEAgEyh6BVoQyc5RVKB88/XB59fXn5JZbr21y5pWmJueceYVQLvtvULkDEEK53L8B3Vz/BhXKOPOqqKiWcWPHyK5Dt5FZx58oDTmhjNfryoqq5lKEUG7GIvYCgUCgVxHId+aVL5QfeOABG3rNeqQRAoFAIBAoPgRyQpnRe9hXNuxau4z1ELcK06Z9VV5+5d9y+51z1eN1P/0MUHtNL2hc83pdfBWKEgUCPYpACOUehbtcMmM4dQoNOryH4de6Yp+MHzdOtt9xEzn1lNN13nIaek2Psy1u7zeEUHYkYhsIBAK9jEAhoZxdRzmEci8/oMg+EAgE2kGgDaGsfRTTph4uL73yrNx+RxLKeL4OodwOpHG5rBAIoVxWj7unKpsVyo0qlGmZVKG813jZYqtPyVlnfjc3R7lGr+UJZYoYYrmnHlTkEwgEAm0gEEK5DXDiUiAQCJQAAm0IZe04nq5Dr196+Vm57Y7rrUe5WucpI5Rt+HUYYyXwfKOI3Y1ACOXuRrgs00coKznzV//U1TUKc5THjx8v22y3scw57QypW75C+tX2U6EcQ6/L8isSlQ4ESgCBrFBm371ew2WPPvqoeb3eaqut1FlhjRqW0cJXAo80ihgIlBUCZolhiDUNvVZHXjb8Os1RPvSQr8kLLz6tQnmuzlHWodcqlBnlF0K5rL4mUdk2EAih3AY4camzCLhQhqIrZemSZeq4q7/OUR4nO+y8qZx04mnqzEtUKNemHuXKquZ2y0K2JiQfRmhnH0bcFwgEAp1EIF8o+xzlffbZx0Tyww8/LCGUOwlu3BYIBALdjgAcZiLZui7IjvnJFWp7JbvqsEO/Ji++9Izcctt1KpT760eFsk5eDqHc7Y8mMigRBEIol8iDKpliwsm+Xp8SMxy9ZMly6d+/v4zWJVW21R7l0049U6SxynqZdTU/JWQlbg8FhHLWWPVoxb4txTIXO6ZRvkCgpxHIvsfsZ4XyQw89JHxCKPf0U4n8AoFAoKMIwFsthTJrKCebC2deU6ccJm/Mf0FumHel1FT3148uDxU9yh2FN+KVAQIhlMvgIfdYFeFjQguhXKFCean06z9Al4caLVtt8xk584xzpLGhMq09ilC2Fk7uy31IIxOyxmrmdO/sWkNAW1mnxgGPEcMxHYnYBgKlh0CWe9iPodel9wyjxIFAOSPQYui1AsGwa+tV5q8K5SmTD5G3Fr0q11x3idTWDAyhXM5flqh7QQRCKBeEJU52CoEWQpm+Yu9RVqHcb4CMNqG8kZz1ne9KQ32FEjJrj5aWUKZxtq1R4Kn1NoueLrBQoJc8GyP2A4FAoDgRKCSU3ev1Y489Jni9jh7l4nx2UapAIBAAAewwjLNkoOUL5YMmHyyL3n1DrrrmIumXE8oMvU4hjJccELEpYwRCKJfxw+/yqhcQynQTL7E5yv1krA693mb7jeX0Od+xdZSrq6tVRLJSX4aMM7tevqyx6ud6bUsdC5SxuTypccCPo0fZkYhtIFB6CGS5h316lLNC+cEHH7R1lMOZV+k92yhxIFAeCKwslJNY1h5ltb+mTTtUFix8Wa6be6k6JRwkNVWDbI5yEtZtGjvlAV/UsuwRCKFc9l+BLgbAhGRSk0rPmniFLFtepw4iamTcuLG6jvKmcsrJc8yZFz3K7QplNU4tFePrYiVtStgypJoXa3lbljWOAoFAoDACHRHK9CjT6OchGsccidgGAoFAMSCwYoWu0ZkLdC5zmOyqSjn0kK/Ka2/8R+bddJWJ5OqqwTYkWx3J6B3YMGHHOHaxLU8EQiiX53PvkVpDxJByfUODCuUq7VEeKzvtsqWcMOuknNfrfsRQGvZhPnqYz8lFL5S9OSALaX4lstdiPxAIBEoFgbaE8u9///smZ14hlEvliUY5A4HyQ8CEcs4saWxQm8V0s1peVZVyyMEulNWZl4rkEMrl9/2IGreNQAjltvGJq6uJAEsQNOinSgl57LhxstPOW8is42fr0OtKnbdc6kJZf3BoDbC2Wd3oD1EaRh5CeTW/NnF7IFAUCLQnlJmjvM022yi/6RJ3OWcEvi2KCkQhAoFAoOwRSDxmxoo0qFBubFBI1EyBt6ZPP0zenP9fueHGK0woI5bTQiREohMj7Jmy/wKVOQAhlMv8C9Cd1YeWodhly+t1KE+1TJiwl85R3khOOWmOOvOqMmdeTU4jEocX4OQkRpMNWoyETfm08Fq0FnOt48elO79akXYg0OMINDY22vzkBh0hg2NCnHnde++9ssMOO9icPptGkhPLPV64yDAQCAQCgVYQSEKZi9pxgVCmR1ntlkqE8rTDZP4CXR7qJoQyc5SHqFBWu0Ya1IpBKGdG/JFEhECgzBAIoVxmD7ynq4v+XbasTg3JGtl7771k860+Lt8543uyfJnoUgS1ZmBamYpIKJvubUOTYzA39SLrXmVllf7mNHi/sgnm1KvURiJW6fgTCAQCpYAAhiYfHHnx/iOUGXp9zz33yI477hhCuRQeYpQxEChTBJC9yRpZWShPnXKILHjrJbnxpivV14IuD6ViOQXsnEodKRNCuUy/NlHtHAIhlOOr0A0IoHqdlkWWLl0uVZW1MkGF8qZbrC/fO+t/9dwKqa3tpwZmTky2IZRNgVq0XNxuKHE2ydT6WjgvRHR9fZ0ZzcSj/A06jglhzPBy6l2pPyypp7xwGtm8Yj8QCASKH4HWhHK2R7lpdIxWpy0OKf7aRgkDgUCgbyGQDCwEs89RNvtFe5SnHHSwLHz7ZRXKV6lQ7q9zlAdaY3/qDAih3Le+B1GbziAQQrkzqMU9HUQgtWOaUK6qlb3Gj5ftd95QTj7xDB16XSv9ams1nZyobksoN+XWM8ITMZw/gpJzHhDKixcvljXWGKK95ctMJFdXV5lgJg4evulljhAIBAJ9BwEMS18eauzYsdajfP/99zfNUc4K5b5T66hJIBAIlD4CyYBJQlmtLu0shs+q1G6ZdOBBsnjJQl0e6nIVyv3UfulvNk0yzdT3Qq7To/QxiBoEAp1DIIRy53CLu9pFwJWlrqO8VJeH0qWgxoweK8NGbS5HfXOmVMlgXbOvWsm6kT7Y5tRW0sKeDlFWuth8XzfuIZK9h4gS1Onwy2XLluiPCT3HFfKzn90p2223nXzkIx+xUiTHPiGUu/GRRNKBQK8gQMMYYhmh/Pjjj4uvo+xrwvdKoSLTQCAQCATaRAA7Cpmsiz6pjy6zaVQsV1dXygEHTFKb5l256prLzG9MVVW/JJRNImPH9I7d1WZ14mIg0IMIhFDuQbDLKysn5kpZvrxBhyNXycjRo2T8hO3l60ceKyvqB+jQ6xqd75eutcCmiZdJIxuaLmRP9ty+FqdB5ycuX77cyr1o0SI5/4If2TzFyy67VD796U/r8Otq+7FJhdLyehV6ueg9B1LkFAj0XQQQyrz/zFH+85//LHi93nzzzdXgrM4Zl3237lGzQCAQKFUEcvaYbhDJjY0V1qtMQ/+kyQdq4997cs21zFGuttFwFWqv2fxk68QIO6ZUn3qUu2sQCKHcNThGKi0QcHWo82FWVOic3rRW8sjRI2XCF3eUbxwxQ+qW1apQrlXS7qhQ7lmlSQ+y9yTzY8I+3m4Rwu+9967ceustcv75P5K//vUv6qRsb7nkkktsTcKamhqdj81SMamXnPtokbXS92wVWjyROAgEAoHVR2Dp0qUmlEeOHCl///vfhaHXWaHsI09WP6dIIRAIBAKBrkIAeybZZckXaYWKZZXCVRXaozxR7ZU6ueLKy9XbdYU29Ncmi0XFchrtl+wfSpI/Ja2rShfpBALFjEAI5WJ+OiVbtkTIDPRhLkxdnTruqqmS4SNHy+jxW8tR35gpjfQoq6hsu0cZAFJaPT38B8+2DQ2NWr5Gc8xVX1cvNdoDTo/SjTfeKAcfPF0GDOivonmxHHHE4XLeeefp8KU6nXeNg7Lqkn1yUfBAIBBoHQEfej1ixAh56qmn5Ne//nUI5dbhiiuBQCBQFAi4UGZLD3GlLROFXTVp8kTd1MmVV11mNs+gAUPM6kJXMxKQOOxHY39RPMgoRC8gEEK5F0Dv+1kibpHJaYhPfb2KTSXcPYcPl/F7byvf/tYJ0lDXv4NCGbRIqWe7Y2l9bWxMznsYjsSyMCv0+Pn/Pi/7aA/yK6++rKJ5uZXthNknyMzjjrMe5379dH5PpXqKzM67pgoRAoFAoOQRQCjDBcOGDTOhnD/0OnqUS/4RRwUCgT6HgFljatOkbU4oqz3DaLn9J06UhhWL5drrrjQB3a92kFlc/ElOSUMo97kvRFRolRAIobxKcEXkjiGQFcq6nJL2KOPgasTIUTJy3JYy4+gT9Vw/E8orbGmljOOrntXDLaqTb+TSimoCWXfq1YHP0888o73HR8hjjz1mQ5YQzrX9auTyyy6TL3/5y+YJu39/PEbG8lAtgI2DQKBEEcjnBOYnwwl77rmnTrv4q81R3mKLLZrmKOfHL9FqR7EDgUCgDyEAL1nnhW2TUKYjoEqHXn9lv4mydNlbujzUtTptTEfEVWDDpMq3EMq9aJv1oUcRVSlBBEIol+BDK+oiw8cV/En9wA0NusC9zlHu169Kxo6bILvtubEcc/RsaViuQtnmKKvXa+bzplt6uuPYymll1R+Q9GOiRcj9StBjjFdufluefOIJ+fYxx8iTTz6ZE8+N0q9/P1vi6vbbb5cddtjByl6jvc/sUCdPpymT2AkEAoGSQiBf+CKU8XrNHGW44Fe/+pVsu+22Nj0j3veSerRR2ECgbBAoLJST7XXggQfIO++9KTffcp0K5wE6Fs6FMj3O4fW6bL4kUdFWEQih3Co0caFTCKAqreUxNT82aKslzryYEzN23GgZNW4rOeaoE9QhTlpH2ZaHKhKhzHxkD+xjFDfUN8ifnviTHHnk1+Xf//63zVmuq1tuIpg5yx9cd1158KEHZb311jMnXgxlSgAglqMJ1vGMbSBQigjkC2Wfo8zyUH/4wx/k3nvvtUYy1lCO970Un3CUORDo+wg0CWV6JHSOMvOUG9UHix7J1ClTZdG7r8lNt2iPcsUA/QwyE6aiIteJ0cPT3vr+04galhoCIZRL7YkVc3lhXag3I5RVJ+tc3nqp1Z7W0Wpcjh6/lRz19Zk6lLm/LaNUYb3PeoPdq7d3k7a0HwpNO+d/eiUUue5C2Ydb48H6lltukRNmnSAvvvSS3YOhTKhR52QMJ99oo43k7rvvljXWWMOWu0otsMQIoQwKEQKBUkagNaE8btw4W0f5nnvukZ122smqiFj2kH+fn49tIBAIBAI9jYDZP2pkpTnK8FSFOSbFxjlo8lR5b8kbMveGy6W6arAK5cHqZ4UoKpT1H3EjBALljEAI5XJ++p2tu4vaJnWbl5DxaiLXJqFcUy1jVCiPGre1fPPr6vhqef/cmn3cq3E9zW7i5PRDoTm10suLSGbODj3c7D+j85FnzJhh85HXXPN9ep+Yh+uFCxfYddIj3pFfP1LOOfvspjmKiGeLrPVJWa1cIet0X/l0HohxGAgEAr2NQL7g9aHXY8aMMaHM0Ovtt9/eeCWEcm8/rcg/EAgECiHQUihjfFQKS93hU2XSgQfJkmXz5ZrrLtbOiyFSXTHEhLJ1YuAhO2yVQpDGuTJCIIRyGT3sLq+qidsmRZiSzwy95rJqSf2oqGyokPETxsiwkVvqHOUTpF7XUe7Xj3WUi2OOMmsk8+EHBS/X9CQvenuRrP+Rj8gWW2wua621lg2znDx5ss1H5EeG+N/97nfl8MMPN1FM66wL8SSG835hFBCDzP7S49zlTyQSDAQCgS5EoDWhPHr0aGtEe+SRR2TLLbe00SX+7ndh9pFUIBAIBAKrjYALZRLCJsM+4RwN+wjld957TebddJVOHxuoQpke5bBPVhv0SKDPIBBCuc88yl6qCMqvheBrloLoQXqUIWaG8IwaM1r2GL6FzJpxig77qTRHWEjH3nDmlW8A0zuM8HVjl94hPqyl/N5772klV8h+++0nS5YssR6kCy64wJx6XX/99bLXXuMNBOJzf0pjJWDsx4l0PHhefhzbQCAQKC4E8nnCe5RDKBfXc4rSBAKBQOsIZIVyEsk6T1ltHpayPGjyNHn7nVfU67UKZXXmxRxlppBFQ37reMaV8kIghHJ5Pe+ur+1KelBPpP8mCSFlPF/XVFfqOsojZfc9t5CTZp2uyxHoPF/tua2qSvNlrGArpdX1xfUU8w1gP49YJqQfFuZXLzPv3Pfcc6/sv/9EmTNnjnm5Ha5rQg8ePFjuuOMO2W677XI/Krp6ck4se3rZrafZfC5abZuxiL1AoPgQyOeJtoQypY/Gr+J7hlGiQKDcEUi2BwYWtg0fdeaFUFY1PGXKdHl70Svao3y1VFf2t17lysrqEMrl/qWJ+jchEEK5CYrY6RQCbYhbyJke5Xr1HA3xDh++p+y2x1ZyykmnS/3yqtwcZbqjc13SicebDjtVng7f1HrB3TjGqRc/JiwHM3XqVHnlFf0xmTfPepLpUWLY0p133inrr7+e1YEfnVURymFUd/hhRcRAoFcQcC7wzF0o+xzlX//6103LQxEn3mlHKraBQCBQTAgkR174VkliuVE7BSrVhjlg/8myeOmb2qN8tdo0OaFcEUK5mJ5dlKV3EQih3Lv4l37uretNqxvLQ9XV1et+lYwYsad8YfetVSjP0fHYtSqUGd7TW0K5udeYghYycJmHzPn77rtPDjvsMGG4Nd5uEc4/+MEP5K677rK5zOuss44JZES1OfOymhf+k1p207VCeRa+K84GAoFAbyCQL5QLLQ+14447Gk/E+9wbTyjyDAQCgY4hgLNShHISywhl/LF8+csTpa5hUW7otTpZrRykfBZDrzuGacQqBwRCKJfDU+7OOuYL5bzjRiXmujrm/lalHuXdt5OTTjxF58dUS606v0qGKMOvNXAvocWc53Sqp/96TzK9yAcccIAghufOnWu9yQMHDpTnn3/ejo899lgTxzjy4h56lCMEAoFA30CgkFBmpAk9yr6OMkI53vu+8byjFoFA30UgCWUfes00syqdi7zvVyZKQ+M7cv1clofSOcpVOkc5hHLf/RpEzVYZgRDKqwxZ3NACgay4ze7nIrlQpuVy2LBhMnSP7WX2CSdJQ32FOvPqr0I5iWiLbvfrH+tl9sS40v3KObW06pgkctP8+RHBidfMmTPlySeflMsvv1w++clPWi84PzTEeeedd2XIEF13UIcvcbyCceZa1OhZMhjjTyBQ8gjkC+Xs0GsXyjvssEObUy5KHoSoQCAQCJQ0Aj7smt4I5iezPJQ7L2Xo9bK6hXLt9Zep3xj1eq09yuHMq3nEodtz+b8FJf2FiMKvEgIhlFcJroi8qgj40Ovq6hodej1chfK2csKsk1Uo4/W6nyaHIFbibtLFpkJz5z23zgtlSxZla6F151n8aNBTBBkSGGLJUOsrrrhCbrvtNhXJnzABzA8Ioh/yZAhTpS6j0FshiLu3kI98ywWB/HeskFCOodfl8m2IegYCpYlAsmuwbRh2rY36upv1ev2WOvO66WZ15qU9ytXao2xDr6lq75k3vQK0239kzghB7DxGC3HefwtcOPdKASPTXkEghHKvwF4+mTYo2dTXMyS5WkaOGiF77LmNzDr+JHPm1a9fvlCGyJWZm8g5idaEVtPJVQIvS3zc2BrJuVBGLCOEFy1aZMMrt9lmG/n+979v99XW1pqYZttaOqtUuE5G7midOpl83BYIBAI5BNw44pB9/BPAETjze/zxx81/gQtl4hTihWwaxIkQCAQCgUBPIpBshiSUtU8gCWXls2odDTdZl4da+PbLcqMK5ZqMUKZ8ZnV1zvTqyep1Kq9CvMw5/7jPGRfKPrWuEMd3qgBxU8kgEEK5ZB5VqRU0iVx6lBHKFVIto8eMlD2GbSXHH3+y1C2rkv4rCeVcHZuIueuEspNiaySHUOZDPIZSP/bYY+rk4styzz33yIYbbiiIenqTmIsMcbaWjj8lTUbj+FHXbiljNrRXlmzc2A8EAoGOI+C8wR3sh1DuOHYRMxAIBHofgWQupGllymK2XKf2X5gNg0PVyZOmysK3Xtbloa5KQ6+rtUdZna8S+rJQLvRkEMPwPB8XytiDfr4jtl+hdONcaSMQQrm0n18Rlz6JOabtLltWp04jarWHdrTsuvvn5KTZLA+lzry0Z7YpZLVfk8AseLLplo7sQHjZkBWVXEs/BGlNQXqKuM6WXmR6lr/5zW8aSfIDU1FRKf379zehnE3T0ukuVZzNKLffVp0KRI9TgUAg0EkEsu82+yGUOwlk3BYIBAK9hkCyGVQA8k+HXuvG7JwKbfSfOuVgefudV1UoX6k9zAO1V3mw2ToUtgfNml7DJptx1rai4wR7EKHM+ehRziJVXvshlMvreXd/bdGlFS5OoeVKWbx4mXq47idjRo+RnXb7tJx20llSX8fyUJm1+vyWJpHsRfULHK900SO1uc2SX1YoQ3wc84EUMYLZRyh/8YtflJ/+9Ke6RvL6TXHSfOQUP5sh6WfTzV7r+n3FNANJz+Xb9TWJFAOBYkcg+26z70IZr9eMOmHpuBh6XexPMcoXCJQ3AskGwnbAeNARcfqPaXH0kB54wEGy6F2E8lUmlKsrB+c6A3rSrimO55Ple+xDgg+99mthcxXHs+rJUoRQ7km0+3peLuByQhmZjLhdtkxb5hh6PXqU7Dbss3LSCWdK3fIaHeZTrSSE+E0tnAbPSlrYE+XqShftls7+ST8a6W7fx4nXX/7yF5k9e7YZwQy3RtATIMzeDF5G1fIauhaL3qxX5B0IZBFo/p73/necsrhhxH6+UL733ntNKLc1JC+bRraexb7fkXJ3JE6x1zPKFwiUAwJmjymH4YQUz9fV1cme2X/iZFmybIFcc93F5sirtnpN5TwQUe7Dzuh9Gu6xxwOfEeD84LYeg73oMwqhXPSPqIQK6JrWhDK0DCFXSmMDvbSic5RHyJ4jNlFnXnOkflk/JeoqE8oMaTZNTVVbkLIn6Bi0uOgnV3sLIdKjTAviiy++KDNmzJAJEybIxIkTbdgNQ288ZInUz/XEFiwdIzfcW+YLVt2DT8t84igQ6F4EeusdK1SrrLHEfiGhzPJQcETh91JfW72vtWuF8uytc457Nv/8cmfrko1PPL/m5/0c6eWnk80j9gOBQKAnEMAeQyirR+cGs86Mz+hRrqpZKldefaHUVq+hayjTo6wSuVJH3LGUVFLNPVHAbs/DuYmMspyUPc81jrmejePn2eaf51yEvotACOW++2x7vmaua3NCmQLQJtmgIpkWzFHao7zr7hvpHOUzZUX9wJxxyfCW3hfK9BzzmTZtmjz77LNCT9Haa69tGGZ7kp1Qu54o+RGz7DpFwl6ulELn08neH/uBQLkj4AYTOLCPUOYzduxY83qNsz+Eso86KWW8shySz29+zc/7MfXNn7uXndLi8fy+UsYnyh4IlDICK1akocTYGdhjdA5g20w68CBZunyBXHHVT2TQgHVkRYMuEVVDJ0bfa3yHj7L8BC9xjk/WzsMWbOFDRx+838d3IPislN+EVS97COVVxyzuaA2BFkI5RcKZV0N9IqERI0fLUB16Pfv40/Vcf1uaoMJEddcLZX4MkOmE1kgN4iNAkPxoPPzww/KVr3xFzjjjDBPM3Me1LIFCqK2lZ4l18g/pZsOq5uF1yd6X3c+mHfuBwKogsLrf+ex3u9S+k/l1Z2oGPgwQyn/4wx/k7rvv7nNCOfuM/Nn5lmvs84EzfbQN5/3jXOTfMU/Pt34+toFAINAzCKT3N9kYDL22XmX9U1VZJZMm6Rzl916VK678iQwe+H7tVX6fVFXzPhPfR6ll93umzF2RC/XO8k7CITV6+j58xWom8DqBhlBEMnZfoXuz57qijJFG8SMQQrn4n1HplNC1nhFsKjZCub6u0YZZDx8xWvYcuYmcMGOOklGtGVmp1TIjlLnNuNkTS3I30bWTdvuQOAlacmrEeYAUXfj6cGsIks+kSZMs2kUX/VTe9761rJconyw9na7eZstL2qtGxmneUf59q5ZGV9co0usLCPj3stB3qa1r2bp7PM4VSicbt9j2KXu2zAhlDKlx48b1OaGcj70/N7b+AQv24VFw8F4pznGNZfS8d504nHP8fJufTxwHAoFA9yLA+2l2lW4bGhr1o++0GmdVVer1etohskx7lK++9iIVzoOkqmKI2khwNTaY207Z/e4ta1elbnWmBjn7zzmK9OEmuItz9B4PGDDA+Iy48Nfzzz8vH/nIR0wwZ+/rqrJFOqWFQAjl0npexV1a17ZNQlnJWIdVL1dnXvQ8jBo1WoaN2kyOO/ZkFc/91BN2jRIVxlQSysQ2WjZi88Ro/YPsqLqTdvswOEnaXTmiZN/PO0HSkojxy1DrKVOmyI9//GNbP9kJM5uTE272XFfte7lWtZ6F8ve0uNadZS6Ud5zr2wj4d8u/Vxz7fms193v8envxPV4xbPPr50LZh17ff//9ss0221iPRDGUd3XLQH29zv6cOHZBzDmOEclgAX++/vrrcv7558uXvvQl2WqrrewahidxvVFydcsV9wcCgUDnEeCdTV0OOsJPhXJjg4pFtb0QhdNVKC9RoXz5FT9Ozryq1tD5yX2jRzmLmPMa5xDHdI64bwm4bPDgwfLQQw/J//7v/8oHP/hB+dGPfrQSryccU6rOj9k8Yr9vIhBCuW8+196plWvbnFBOwrdSli5TQqpQr9e6pMqw0ZvKsd8+URrrBmhrXQeEsqZJss1at3NiOQsIrYl8MOLee+89u7TvvvvKu+++K/PmzZO11lrLWhKdRCFH7x3pLsMvS+LZsrK/8jVDhCv6KYyHE3qQOQhG6AoE+E75d9EFE+nmf8fyv3t+7GXIj+/ni3Hr9fWyuVBmeajHH3/cDKstt9xyJYPK45falvo6N/pz4pwLZQxMONBx+eMf/ygzZ840vrzllltsnXmuwZ3E6y6+LDVco7yBQG8iwDvZLJTh8WRXVOt7uv/+k2RZ3Vty1TUXaefFIF1HWR16WZcyHRduX3A/wY/TUSn9dRuOMsNnHPtc5H/84x9y2WWXyTXXXCMDBw6USy65RPbcc8+m0TFez4RjOnJ+9Gux7bsIhFDuu8+2d2pm2i2RqppcSqtVsnRpnXpSrJEx48bY0OsZ3z5JGuuTUNZ2TS1nfo9yc9GN3+lpblLKq0/UECQfyJKhgj//+c9l+vTp8sMf/tDWT+Y8La0Yex7cMGwuh1/p/q3nnc3Jz/k2ey32A4HuQoDvG6Gt98DjeLz8Y0sg96eta9l4vbVP+bJ1daFMjzLrKP/617+WbbfdtqlnorfK2VX5Ul8++QKX3pelS5caL9KL/Oc//1luuOEGufbaa2XhwoVmWNLYuHjxYhkyZIil4elk8euqckY6gUAg0HEEeBcRyun9RiRXaK+yjvRTO2f/iQfa8lDXzb1Ml+wcqB/1el3htg89y+STeL+UhHKqc8Ion4PoFMHGmz9/vpxyyinWQeIjZLbffnu58847rfEPrsuGttLMxov9voVACOW+9Tx7vzbwqfUoKylDrro81NKl9SaUx44bJXvq0GsTynhWrGIdZYrMcD62tGDaIX8tNJ3vQqFMwhAerYmPPPKIfOMb3zCh/PWvf93yzIpk4kGy+URrEbvwj+eTnyTn+SDs2RLciOUcAUHPNc57HC+vby1i/AkEVgMBvlt8+E55YxPJZb+P7Bf6zmXPZff9+0o62fMcF0Pw+npZskIZZ154vd5xxx2bMChUh/w0PK1i2vpz8K3zDc8TkYxhSV0fffRRc3r40ksvyYIFC6wn/dOf/rQ8+OCDNnQR7vQ0qF9r3weulQIulDNCIFDqCKR30m0JrU0yJSBdOeigqbLwrZflxpuvUZE8QHuUB+lpDLPUKZE4remGooaCevqHgvo+fAaPcfzOO+9YI+d9990njIJ588037TyimOHXN910kzloxK4q1FlS1ABE4boFgRDK3QJruSfqpMqQvRVKUCridOj1uPFjTSgfe/SJNkc5CeVcD7HeohQHb2vgj6eRj2Uufv7pVTym1xjjjyGUm266qc1LwajD0CNkCXIVk+5UdAg8a2RznA2QPPMCiUPZOKa8nKNVdM0117SeHK7z4f62jNRs2rEfCLSFgH8X3djgHeH9+ec//ykf+MAH5MMf/rAsWrTIhqz5d8+/h54u30VC/vfcrxfrNr+8CGXePXgDoYxvA5aH8vpR7/yQn0b+9WI49mfMc4VfmJJCnTj+z3/+I4cffrjVl/p5I4nzy7HHHisnnXSSjc7J1t/TzJ4rhrpGGQKBckMgvYvJpnBnXviIwX44cNIUeevtl+T2O2+Q6sqB2oExxOwws8fUFkvvL/euzG3FiCP8zIffKeoHn9Ep8sILL8gxxxxjIvntt9+2HmPOO6fh6fqII46Qs846y+5jtGFP24HFiGeUSb/5+gK1tMgDlUBgtRHwr5QKZfWsWF+nc9Yqq3Ud5dGy824byqyZp0l1xZpGZE2eFf2WJi72E/mFaYqQf6HDxxh/fO0ZOrnPPvvYMBuc0NCiiBFIgDx728CjLJQT0meLYcqWDwY75f/Zz34mW2yxhTkgW2ONNcyw9XIXQx06/FAiYtEj4N9HhuBiVFx99dXW+o5oPPDAA+195ry/Ry4eqVh2v+gr2kYBXSi7M6+OCmWS9PeyjeR77ZLzCgXAeORZ/+1vf7Ph1XPnzpXXXnutiXuoBxzav39/MyiZujJ8+PA+84x77SFExoFANyHA++2dD3ReNKpDr0oVkJyfctA0WahC+cabr7Zh17XVa1gp1HpTaewjhLh/9W2vbqpeU7LUx204fqdwKvjss8/KeeedJ7feeqvxGL9RCGiP56Ng8HINl62//vpN00fChmqCtqx3QiiX9ePvrsq7yIW0WJeOHuUqGTt+jOwxfFOZcYw689I5yhBU6oBRAvZbWnCxn8yWs0WE7IV2951E3dA79dRTrefk7LPPNiMPA59rxGPb3YF8CNm8IG+GPZE9xijHTugQ/3//+1+54oor5OWXX7Y1XOlJZjjk2muvncOzpcDPpt3d9Yn0+zYCfF+9kQnhy3fxi1/8om0POOAA61WksYbvHO8ScYnHcb5Q7ql3rKufSFYo+9DrjvQoU45ifxedZ/70pz8JnIgH2DfeeMOGI7p4ph6Jo9JSUOw/+eSTstFGG9l5f87FXlfqESEQKBcEkq2R7I1GhLKtpawdGNVVMk29Xr/19ovCHGVEcm2NcrgCo15cSlIoU1c6F+gN9t8oOAqBzG8SAQG9ZMkS2yce8fFTg8drepI55jcs+MwgKvs/IZTL/ivQHQBAyDlSVqGchl6rUB43VvYYsakcd0xaHqpaSbrJoErR8xot/WS2jKsmYCFN//gwGkgQAhw/frycc8458tGPftSIEyL1wD1NZfOTXbAlXYJvPUknZI6XLV2mPfE4Guuv5azQnp2/myi+5pqrbV4g5E/Z8M44YcIE89aIwQr5e9243h3l9/LGtvwQ8PcI0cT3le/XD37wAznxxBNl0KBBwlzVI488Uvbee28zMmgI453jPn/3HLVS/W4ilOmN8HWU6VHG+Yvj4fXLbv1dL8Y6UzYvF0YkdWPuHj0r8Mtbb71l849ZVzRbD+4h7siRI+X6669vmp/s9fY0/Ti2gUAg0HsI+LuLXWbLQ6ldphaC1NRW6bJuE+Xd916TW267VucnD9Fe5SG5giIqE88ne27VbK/eqK3zGfYQv1M4GnzggQfk1VdfNb7CCSH+FDiGo4iH3cc+c5P32GMP43LKzu8XvO5p9kZ9Is/iQCCEcnE8hz5WCsRgEoTKQyaUqyp1HeUxY2UXHXp94glnaI+yelesSfOBrfKuiVtwsZ90eFpc9JNtbiFCPpAdxjrGHcT4xBNP2FwUvLZyjVbEbOgOciRN/xTKa6kKZFoxWVu6vr5Bl595zBzozJt3o7z00osmgr2njvndy5YvM6+zGO2IZNLOCm7y6CqDlbQ9dFWanl5sSwMB/w54rzLHDP/H2zGCincLZyhMYzjttNNs7j8jHjjvw9uoKd/RfOFcGghoI1ZGKLM0Eg6uSlEo+7N03P2YZ0NjG8+L58y7/swzz8gFF1wgF154oUXnPM+PODQ00hNDPDiIQFrBEQZF/AkEigIBe78xn/TdtKHX2qO8Qu0i3uPp0w+V1954Tm67Y65OkVO7TMVyCmq8Iaf13S52oez8lSu4lZlzfh5e898tVjc57rjjmmwlfp9GjBhh00zgNGxB7mM/357y9GNbXgiEUC6v591DtXVRpaSsXNtgzryqZMzYMTJ02MZy3IxTdB3l/iZY2ydgT6t9kazcpgTZsopJKEOYDGlOLYgYu9/+9rfNCdEJJ5xgPxYQIp/uNPCctCmhC3jycxJnONTf/vaUiY/rrrtennrqr9Yiyo8Zw7Eh7kbtaYbw+/cfIOut92HzQPv+97+/SXiQR1fXIVtuyt7V6ZNmhOJHwL8H/h1DUPFd3G+//eSXv/yl7dOQQ0v+OuusIzvvvLMcdthhMmzYsCaxnBVZ3f2+dQeiLpRHq7+Fv/71r1bv7bbbrun9K5Sn41ZM742XqVB5ea4MS6RBkekexD300EPlX//6l81bhocIG264odX/Qx/6kNWfeP5Mva6c8/1CecW5QCAQ6H4E7H1vEsraeaDDr7Gs4OsDD5gsby16RW6+9Vp15IXX68F6BeeL+u7qP/63b6cRp/dCWzwDh/GbRGBayaRJk2wkHnOXWd4Pnjv33HN1CPo0s8uSnZUaEeCzCIFACOX4DnQDAlAwRKz/Ghmip6SjXq9ZRxmhPFOFckOTUKbVsi0yWj2hDIEiSjHQ2WIEMlTwe9/7ng0vxIGDD70BCDfqfNsWARO/I8F+pDSip8k9LpTZp2x4YbzttttsXuATTzxp51599RVZ/N5i26/QIdheFoZkr6eehs/74Xk2VIgWUE/b45BuVwUvv6fneflxbEsbAX++HXmu2bh8bwm//e1vba4ynq+9N5ItRgY9zNtss40ZIXiXR1Qxj5lrGCTk2ZF8iwVhF8qjRo3ShqynVkkoU4diras/V+dJf7b/+Mc/5Pvf/76su+66cvDBBwtz0Z977jnjryvUVwKO3DC2CalBL7VUej09Xa77OfYjBAKBQM8hkN7DZEv50Gtyr1EO3n//SfLu4jflhhuvsOWhqlUoV2rDvOhay0kkE7PjdhixuyO0xSVcc35hPxuX36JXXnnFRt8xpWTKlCn2gb+OPvpoE80XX3yx9SSTBr9Nnh7Hnq7Xya/5cWz7PgIhlPv+M+6FGuaEspFXlc65VccISsijRo+V7T//cTn91O9qLzPOvHxRey1iqzzc6gWrV3uk5dcXL15s5Pfwww/LxIkT5fTTT5evfvWrRoLEwciDIPNJsTvBI9/0wYhkWCdzP/Eo22g9Or9TAXLOd7+rQ7Af18YGriW8EBrXXXedfOELu1rx8oVytsxdVR/KSeiq9LJljP3SRYBha7w39Crfdddd1nNMIxDfE7be+0g8epkRy3PmzJFdd9216bvEd6tUvlcIZXon8G9A78Tdd99tQ6/hj9ZCsb87PCfKSB3Y92d655132pzzoUOHyk9/+lNrUGQ+Oh5kDznkEOuF8QaPLHeWyrNs7XnF+UCgryGQOCj9hvNTrgPskhhU7mbo9fz5L8gNN12VE8oDlY91FFuzSlY42rbDehsv59jsFj7zecpMj8HhICs14K0f/wssF4WPBVYOYYlDGnW537mMfbgs+Ky3n27v5x9CufefQR8sAaSaRCCEu3QJa9nVWO/DrntsJLNPOF2HXusQH5ujnOlR5rbUIZHBpHWCdlLkJoRmoeBkRw8JYvlrX/ua0Esyb948+djHPmak6OQIQRL8nkLptX+OeifhW6AyTbeTR/OHPBEVNeaFmxZQsMGpzjHHHCs40qFsqZdnha5p+jXtEdfGBhXUgwcPapGmHwS5OxKx7Q4E/B1BWGGMIKDwGMr3jnMEDJX3ve99Jopx9rX77rtb7zKCmfPMaS1kiHja3VHu1U3Te5QRylmv14Xq4XkVc32aOSjxLPVgDeX7779fjjrqKBmqIpkeZYxLnucll1wixx9/vFx++eXmtI37Oe/cSZ2Lub7+TGIbCJQTAryT2GSE5PE6vae8u1OnTJeFb70s81QoV1cz9HqQ8nJ+w1+6ty2bxhLv4T/OX/BWqiM+certdwV7b8iQIeZfgY6FK6+8UjbYYAPjKn6jiPelL31JbrzxRjsHxxFIy0N238/FtvwQCKFcfs+8B2qcSFmloLJxpc5z014nqdXloUbJ8NGbyzFHn2hDr/v1q1XSZogmpNxMTs0FdHLmTMvrKW2P2bpQZr1APEhjzP/iF7+QWbNmWW8yBEnw4Z+eElsn3M6QZPO9pNSyzJzxAFHz8fiIYFpwG/UHDYL/3//9gfbc/FB222038yh8++23W1zE/S233CKf+tSnrOz0QJNPhttbEL3nF9tAoCsQ8O8rablxgrDCOR7DcOmNREy6CN5ll12EdXhx6sX33Rt8GK7LMWlk3zNPP3uuK8rdVWnAI9SRdZQRyr6Ocn49uiq/7kwHrB1v8jEO0ufxyCOP2Kibz3/+83LRRRfZkESmp8CVNN5deuml5mnfDUuM7WzwNIv1GWbLGvuBQDkgYO8kpoK+8zSw49CLc4z0mzR5irzz7hu5odc48xqsnJw6DZqxcVusdZumOW7P7FF+PvyOwEG+T+78zuBnYf78+SaGEcmsbkKAt+A64uDYC381pOGjnyxSB/+Qp4fgO0ei721DKPe9Z1oENYI8IDEM4WpZsni5ElmtGtIjdY7y5+SEWXOkfnn/3Nw2PKsmQwvOyQo+0mgZsiRN+ulqawTlxInhvnjxEtn3y1+W/gP6m+GOoQ5hZntCPC8nv9bS9Xirs4WY+cGijrTwer3nz19gPTkMB5o4cT/5znfOkp/85CfWq8Pwa5bjmT79YMWzMic08CCcHJGtTnni3kCgswggHjFIPvvZz5qx8s4779gwN45ZixefAJtssok6n1vPGqwQ0Xz/C717nS1DT9wHLyCS6YmgUYApEQjlHXfcUd/floI/Wx7u604uyebV0X3nOLbUB8MRY5Ol5yZPnmxzkvF0Tc8/Ipl4XMcD9osvvmgNeDy/1kQy5Si2OncUm4gXCPQ1BNL7ngwm7A6l3yav15MnT5XFS+fLdddfqjbZoJIQytQn1an5ScE3cBkCGV5ii18FfodOPfVUiwjPIYjhLrgcvxr4zfBGwnw+a0499soZgRDK5fz0u63uELIKQBXKlQjlJcu15bLW5oPsrMtDzTnle1Jf1089LOo8mEri4jyBwuQblInYuZJCVihr7HRTqwYZxri3FF522WXWcsiQQRzxQIzMSSGQTtaoyz9OeXf+r5eTFDyfJJRpJEjzohEXb7zxhg5hna2eGB+wZVf20fVo65T4f/SjH8n5559vYoNhQvTO9cN41fTwgl3IYO18aePOQKDjCPDd5ruMZ1HmreKQjoYp5v+fccYZNnoDRyr0TBKXuWEExFepBcqPcQV34PXahfIOO+xg76C/2/n14r7WruXH7e5jypINPDv4g8YO+IelvmhApAcGnmGfZ5WNh08EP86m5WkXS12zZYv9QKCcEUjvpopL/qlIRij7OzzloGmydPkCueqai6S2erAK5SFql7W0tbDNUsg/3zWoOneQWkf4JU+fXAAAQABJREFUg/h8iMsHTobHGN3kDX84HmTd5N///veC01Z+owiIYXiNkXvObf575OXoSBkssfhTFgiEUC6Lx9zTlTQJZ8OIGXq9fLm24lXWyIiRI4Q5yqecdLb2KPeTWu3VVTNbiS4rlCkrZJyIuSU9r0zSTpZOcNyrvGmBc5Dmu+++a155IVKGgSKQaVV0b62eRrqr7b+rErdlStSk2XM16fAh0Nu9cOECNb7HCIL5xz/+sQzVuYH1apRXK0b0In//++fKrbfelnMcRG8y6/wx3Ajijx5lAzL+9DgCfIcRxrxPN998s62piwFGgxTre2O4MM3hW9/6luy1117Wys976I1UpWSQUFfvUWaO8qOPPmpDkelRpk6t1cXf89au9/hD0wwpE+XBwKROHCOOmYNMo9y2225r3Em9CNmeFp43x3w6M1zREow/gUAg0GMI8H7zD4NB/+tHp3npuw8HTJ16sAnlK69Wh30qlKurWJWAomGfuM3FPsGP01FX/XWOtBzcgGsjcauPVsQ5lS2/O9h7CxYskG9+85s2heTaa6+1ZQo9vvM0wpjGQWxAtjT+EYjnabaRfVwqMwRCKJfZA++Z6kKqSQjScllfr+SzolpGjh4uuw//nMyedboNvYasVqxIvaqJgCEpSsifRMz2V/80n+d6JhBBo2eJln1Ik8Dwm69//es2XJBeZbwbQoR8ssYfcTtCkKtDpJTJP1oC7S2uU5Kus7WQL9eyjVAPjMOHD5ePf/zjZsAihBkmxdDrtdde25znMKeoWh19pcaFROrMU+Yf/zsWErarcEPHko1YZYNA9n3jHUMw0WLPULff/e53tvTa5z73ORPRrDeME73NNttMZsyYIZ/5zGfsPXCR5WIM8PzdLEYgqTOiks/eOtqDYeUMvWYurxtghcq9OpxRKL3VOee86M8Pw5L64LGcRkQa5eBIng1xqBdx/Blxjmukk+XL7P7qlC/uDQQCga5HgPeWqXAERDJLP+G7hfeWHuXFS9+Ua6+7REf+DdFOjSFJKFfkjKt0l/3tLpvB+YhMOsolqU7JzkTs0uiHL5fv6kohW2+9tcycOdOm+zCKyfnZ78nmQ358vAwdzT8HSGzKAIEQymXwkHu+ii7EEKxKyCqUVzRWymibo7yJCuU5eq5WhSqCD2LM9ihn1Z6nQw2y55trpPxvgXQ8QJgYdxhzjz32uK4TONEM980331yj0PKYfiAQyt1FkFpjzam5UJAw5SI/DFPq/H//939y3HEz5EldN/maa66Rbbfbzlo2GRZE2dM85BXyoi5j8CE1XunJYX5nFb1X2aFRioEjlcXB8YhtINBZBNx44P6sAeHn2fp3mzgsuXH22WfL//zP/9jwNlrq+d6+9NJLcuihh5rHeaYPsFyHvw/cj/hyYyabD2n2ZqBsXh72eXcxyr74xS9ajwXrcuJwjzgerzfL217eNGoQKCv7PB88ltOT/MADD9h8PgzLbL1bS5M4Hq8U6t5aPeJ8INDXEeA9xUpIW7VLVCjXqz1COPyrR8jrbz6XvF5Xao+yCmU1T5QjENbYMHy4v9me0YMuDpSNPEm2Y/lQF7gYW4l9GvlYevAKXR/5K1/5iv3uwEvYU1l+ShiQV8fy6eKKRnIliEAI5RJ8aKVR5CTdaMSkR5kh2Ajl3fbcVIXyaTmhzBxl5GTnhTL8rRTbRHqQICKZLUKY9ZKZi3KqOnPAyGWoDQRJb7Yb5t1NnF4mnhtlIF/Wc2Y4KuWhbAy7xgu4FluD/2jQypl+rPgxsJ5jfsE05HO818EuWgR+buKHoAmP2OkUAtnvVdaw8PO+9XcOUYxY3nDDDe09895Hvucsc/aNb3zDPGSznuWWW25py3dwL2n7u9mpgnbDTV43kva6Y5jxDjOM/Le6zvkvf/lLwbM31z1ONxSlS5KEQwg0UFA3RgBceOGF5vkVsTxlyhTjJp4DHNVeKIRPe/fE9UAgEOh5BNK7mhHKanN5Q+XE/Q6Q5fVv5Zx5DZGayjVMKIsK5WRDYEdgmBSXPeECmd8P1rSfMGGCrfuOF2t+d9KIxdQI2/OIR459CYEQyn3paRZhXRB+9XUQbqWMUqH8hd03kxNPOFWFck1ej3Ii4XwBmAiairVO0vwIuJEK+UOckCifL6una4bibLzxxmb8+Y8DKXqPcvf/CKQlGSgPc5ARCWeffY56Bv60/PSnF8knP/kJnS+kyxPokOq0VBalaw4mJPSwUoV/EssrY5E1Wv1Ox8SPYxsIrAoC+d+p/O8T1z0OW76nbpyQD/E9DqIMAYaIPuyww+S5556zob6M8qBXE/HJvQTuyc/LLvTwHy87ZfHyIJSpZ74zr2Yu6eFCdjA7rwv8x7xxDMkrtOfl5JNPtvWvceJFoB7eu59NOv+ZcExwXLJxYz8QCASKC4H0vqZ31oZeqz2FPYIQPuSQw7RH+T+pR1nXUG4SykKPs/teKC6hTNlpzMNrNb8rkyZNEpbOxNYze0k5mzhwGZzGJ0Ig0FkEQih3Frm4r0MIYE+ZUNaeUHqUd/mCCuXZpyqJ5YSyppKGXq++UObHAJKsr6fHpFFefvllOeaYY21Yc381xum9doMPA897lDtUkQ5GIn3/kD773pP91ltvyRFHHGFDHFle5pRTTrGlCWgE0OIoqdOTQxk1M9LJ5OnerT1uIQOVvLKhUJzs9dgPBNpDIPudyv8++TW2/jHjS7/MGCh+HXFGoLeZYb1///vfreWfuEw5WHfddW14nDdieW8m9/t+e+XsjuteftL2uvMuwzF4znev1+7MKxuvO8qzqmn6s+A+fz6UnfOshYxRecIJJ1hPMvUD60Ii2e93DPyYbfYcxxECgUCglxHADFi5LV1POk/rng4uaVR+ZRrXpElT5O13Xpa5864wj9c11WsqF1AH90NAYq0mSsQeCXCY8w2/FYhftviJmD17tvzqV78yW+sDH/iAbYnPdRpgQyj3yCPqs5mEUO6zj7Y4KpaGXrNMlPYojx4pO++6mZx04qnKu7T0VWNpKacjKAsJ5azwK8j8TcY4vwyIY8hx8XuLpV//ftZbss4668jRRx9thOnGu5MthqHvdwVabphCzghb6se+54Fxijg+55xzbBkW8kzeFtMPEWRucbXaWZmMh+tsQFTTuMA2QiDQ2wjwvefj7xPfYT/2a3y33XBBrLFeL/PIpk6danOX6RXgXeAa6XAf6RSbgUP5EMv0KLPsyH333WfrKFNmgr/rvf1MwBoMPTgPUX6cGjKXDy4CfwLYU3avh53swB/yKZY6d6C4ESUQ6NMI6OtooXXbAPEIN6iFwcoZOoqNodfvLnld5t5wuQnl2hqEMkZG6nHGtioGoQyH8YFz3F/LrbfeaistXHzxxTJ27FhbTYHr/rvBPiE4ymCIP51EIIRyJ4GL2zqGALZag/bwVlRUaS/MCNnx85vKqaeebs69qqtqYDCl4bTMESm2JPisQCysCt0QdwMPQxAnNc8886wuTzNWbr/tdvncJp9rWo4mazxCnqtDoIWMRM6RhxM6W/L4xS/uktNOmyPf+973ZI899rA4tHQyJNWHnHodwCERfOppZj/H91yykMruR7ENBNpHoND3tf272o+Rvp/NgonvpufFlvcBw4V3k61/5++//34588wzrVf5/e9/vw2hIy73EIjrBk+hUni81XmHC6Xb1jnqwDs9Uj3U490bobzTTjvZO+7l8G1b6XT3Ncfd+Y4tZceBIMt2seb1cccdZ84BnXeKodzdjUukHwj0WQSUNt1iamlHZWsMH2s8FcnWo6wcO7lFjzLrKK/ZC868smUsvA/v8nvA1BEaK5966inrcMDXBdPZ6BSB95zPCqcSZwOBVUcghPKqYxZ3dBABs3eVuRkKzdzb0aNHyfY7bSKnnTpHyZreIhxrac+oCmUYHpJvSfBO+y0ztLP6B8OO5ZMgUJ+7C4G+/vobst9+XxGWp8ETYnZ5ADcGV8fI9nsplafnJcQgdaOU+TO/+c1vbH1S5ianudKfszoijiH0/Ps9HfLwazndYPf5fsrbY8c2EGgfAf/e+veq/Ts6HsPT5o789LPfZa5zzAcnewy9Zs1lnEntuuuu1rPJu+FGUWtCOZtfoTw51x0BsckHoew9yu0J5fz6d0e5SNMxAX84CAz5+DWmojC6huXyWNKKXnwCI224x59bT5XXMo8/gUAg0DUIqE3kFpN1K6zUt5CumlAmrorlyqpKmTbtYFmw8EUdep16lGuq1Ou13ruil3uU4aEsFzn3vvHGG3LeeefJPffcI4cffrgceOCBZuPBX25TZfmsNXCzfNlanPbOZ8vXXty4XroIhFAu3WdX1CV3koO48HpdpUN5Ro5EKG+sQ6JP08HW/XK9RRhohYSyU36qplKm7sDe+j+nFrMth8uWLTeDb/78N62nBC+IzF0ZNGiwfgY2GYHNoKVeWjcOm8+3v4cRmk/EnKM8GKbLli2Vv/3t72aQvvbaa+bdmh4cyj1o0CBrER08eLBl1Jn8qX7hH8L2yx4xAoFiQIB3AcOH3mWWJqIRieWjWGeZayzpUWi+rL/7nXlvuqLeOPPig4+BP/zhD8YxzFFuTdB3RZ4dTQNs+IANW/iIBjoEMfPCcXhz7LHHmmHpfEW5icent7HtaD0jXiAQCLSBQM5UKhyjeeg1tlR1TZXywRRZ9O4raei1rqNcW61er/Vm7XPO2U1mbRRObhXPOj+1d5tzEfGcy+Ddp59+2niMxlR6kVldAS7zOPBY9rchu99ennE9EGgNgRDKrSET51cDAZhaXUFoiyWSbunS5dp6WSUjRw2ToXtsoUOQz5RG9XqNIayspjF0fp9GtdhNnJzSsIT0itp9TcH33bhbvrxO00rDt++7716ZPHmyLXnCWqfE8R6TpgQ6uePk7ULZk/Fj8mLuzLPPPttE5vRo77DDDmZcEx+CJz7GK+kFkTuKsS0XBPje+zvjvQQXXHCBnHvuuTJz5kybc8b7wbxZhJy/d1l8euu9caHM8lCPPvpo0xxl47JsAXt43zECV8eWc3z+8Y9/yFSdizxkyBC55ZZbbAu2xCOAZW/h2cMwRXaBQJki0GxAMUcZ3zFwQ5XaTVOmTJM35z8vN958tdQglKvWyLXEZ71ery5sLW249viGsvmIGLbwKyP0xo8fb8OuGYmEl2tsLmwq4ufzWHt5rG6N4v7yQSCEcvk86x6saSJlyEv/53qUq2T4iOGy0y6fldPnnK2esKuVlBl6TbGahTJyOZ1rWVzSIthG70FeQ4SQKHNWampqdW7yYpk4caIZgDh5gEQxuCFZ9lc3pPokI9/L42Tsx//85z/lgAMOsJZOhgett956JpIHDBiwEpHnlydVUeuv//gfIRDoSwj4O0KdeG+yQo33+Cc/+Yl5YT7ppJPkqKOOsuv0LBP8Xu7zd84u9OAfyuter/fee2958MEHzdMqQ697UyiDjYtjGh7YpzwMbWdEC5wIZldddZUuSbeRNT4Qz3uTW4Mwi3lrceJ8IBAIFD8C/i5jX2FnuNdreOGQgw+Tl155Wm6743qdn8wc5SSUVaqqGdKyh7azNW3OP6XQGodn43kjqse98sorbcg1japM08EXDY1/8F3WvvM0/L7OljnuCwQcgRDKjkRsuxCBJGpJkNbL+nq8J1bL2HGjVShvpF6vT9fu5jS0UnlaA8P+2GJAs8PJ5jQ4T3AC5LqTIPOfGxqS0ffAAw9YT+5ZZ52l826mGZFiMPLx+Cmlzv31/DHqCRA0+4hxSJ25M6wRO3z4cFtyhbnR7smXe2n5bLMcWmX9GWs7TueKHncFAkWHAO8EH4wcemoZjfH973/fHN4hmlkDHaHMu+WGENs236FO1tLf7bbSJg7lRCxPmDDBnHndfffdNmIEDigUuKetNAvd05lz5IPhSDngJcJzzz1nTrveffddmwe+6aab2vkshl4231qE3J+eKns2z9gPBAKBrkeAd9ltKnZdKMMF06YeLK+89ozcfudcqa4cLNUqlLHLulIoU6NUhlS3QnyTypemjRALPsN2g8/efPNN+dKXvmQ+Z7beemtLhGvOZfnpBXclnONv1yAQQrlrcIxUWiAAKacuUZxtIZQbG6rky/tOkN2HbSbfPnqWNNSlYZWpozcrlFsklHeQWkOzpIhQxXil94Qh1/Qs4xyotrbGjEaItDWh3BaZOql7HM+TYwxlgrdkYsgvWLDAesPIj6UKmHvpS6644YpQ9uDp+XFsA4FyQsDfK68z7xDvFefPPvtse4cfeeQRWXvttW1ev79rvDdd/e6Qp5envbQR8/ANQ6+feOIJueuuu2Tbbbc1rsm/t7V0PS+v++puSQ8eBD/KBt+99NJL1mgID8FHG2+8sZWRhgfK6WUjb47zy766ZYr7A4FAoHgQ4H1PQhS7BdGqH50ax9DrSZMOsqHXt92BUB6UhDKxK7I9ys023erUqi3u82tuL2FL4WMBTsMJIfYTU9ngN3gMvmNUDJ8IgUB3IhBCuTvRLdu0IdUUrEe5Dmaulr32Hit7jtxMjjl6ts5RHqCEx7rBxMNwY9tW70tKk3hZow4DG2K94YYb5JhjjrE1QnfffXcjU1L0UK3DvN0ztp/zrRO0H7NNPyxp64aknyNPzrlx+vDDD9syN/Qo33777fLhD39Y1lhjDRPL2TmW7fYoZwsQ+4FAGSGAMUSgF4F3Zvbs2Tas7uSTT7Z3EeOI4O9ilgMKvb8WuQN/uNfvz6aZf6vHQShjoNGj/Nhjjwk9yghlb4zLpgEvcZ/3enianpYfr+6WfOAituTPXL79999f8HJ94YUXynbbbWe98oxw4Tr5e+A4W2Y/H9tAIBDoOwikdz6990oTygH6yQnl/SceaM68brrlGhXJOvS6Mtej3A1CuS1EKWOWm+j8gNdYUvPSSy81rv30pz9tXAvXOefCr9yXz2OeVv75tsoQ1wKBQgiEUC6ESpzrMAKFCEopOHc/c+dEWwR1/buKGnXmNUL2GLmJzJp5mgrlgTmiS1GT7bYy2XFV6dOY3ePYOT0FAWJg/+EPf7ShzhMn7idT1WkNZUKUMgwREl1zzfdZDzPkyjGBe30/S6hOqpzzj8fnfoIby08++aTNmWFYEF6thw0bZmv5kS7pQOQY1ezzQQB4+pZQ/AkEyhwB3jHeCd4tf9/YpycUT9i8Q9/85jetByHrgCq/F8Hfsfbg9Pw8L7aE7P3eEObvqr/3HHMNzsFRID3e9Ciz1BLXKKunly0H55wT/Lyn7ceFttxXKB7nPR+2lAk8vOHutNNOM44Ct49//OOWBpwFH/oQcU+7UPqFyhLnAoFAoHQRSHyRuA4zRmnDOBfe2H//SbJ4yetyw41XthDKokKZaXFKbbnQtOMnumS7QseBM/LQOQkeIzz++OMmkinjrFmzZIsttrA4hUbmwdFwWZbPUp1TEbPn05n4Gwh0HIEQyh3HKmIWQgDuXYk/OdlMynXLG3V5qGoZMXKE7LrHRnLyid+RFQ1JKBdKMnuuSSSToraAOuFD9OwzNGfo0KHmaRpC5XxNTXVTDwvLMO22226ywQYbmJhmbWV6XHxtZdLgA5G6cCZ/zkG+/iFtrjPfD/HLWqQMvcTxEMMwMUC5x8U58SMEAoFA+wjw3hB4B3m3eM84R+8yDVA4pGLECA7x+Pi75XFdhHJ/WwYRafIhPu+1G2SetxVC/7jRhSDmfSZNtm+99ZbdQ7n23Xdfe//nzp0ro0aNsjQx4LiHD/xCXtzr2/bK5/m3tyU9xDH1oA4ckyd4MGwdr/s47qLMlMnz70i6beHX3v1xPRAIBIoTATig2SZTHmzUEXGNDVJZUSlTpx4sby16WebdhFAepM68huh5Neqa/MV0T52yvATnwmnwGQ2ON954o3zta18zgXzccceZ3eU2G7yXH7Jp5V+L40BgdREIoby6CMb9BRBwUkZsai9MnR6vqJJRo4fLrrt/Rp15nZkTyhihxF1JaTelqZSOarVjlpuCEBPpi/U60av7la98RT71qU/J5ptvLttvv7186EMfMrLFsP3zn/8sv/nNbwRv1GuttbYuP3OcjB492uY9YkRiGELSWWPbSRfShrwxQomHgc7n9NNPl1//+tfW48WwRje6vaWTtAqReVOlYicQCARaIODvNe8Swd+9119/3XwP8G4h/j7wgQ/YNZ//nxV22X3ScJ7w89ljf2e55iM/PG/udTFO/iwDxaiR+++/33wRvP322/Kvf/3LhPz6668v++23n80BRsTTKPfBD37QriFU4Y8sL5B2VwR6iKkPZaasbE855RS54oor5LrrrjOvsGAEjs5t7eWbxae9uHE9EAgESgeB9G5jR6VRftAsnAE3TJt6iAplXUd53uW6EsnAJJQLiNHuqi1l80ZPRhL94he/kCOOOEK+9a1vyYwZM4xD4VICXJ3lc9/vrrJFuoEACIRQju9B1yJgujcRciJlhiuqs5n6KhkzNieUZyOUmaOM10KyX7mFMFsoN+AYooNYdnJEwDJ/BcI/9tgZ6jyr1tLEOCQO97HFWP2///s/+dnPfiY//vGPZcSIEbZmK0sL8EPhPxgubv0+zvuH8mAg//SnP5WbbrrJjFHmy1AG7sNYJR8IPUvm2XrEfiAQCBRGgHfORZ2/k5zDcKKRa/r06fL+979ffvSjH1mjGNcIvGsuarMp+3U/55zBefbJi3ebY8+PdHDKR48x63Sy/BN+B+ihpfFts80208a2tew+jDlGs9BQxiiTV1991cr6kY98xMQ8Pc577rmnIKTJh7SzvMA55xsv46psMSy9LiyPh7dwuOnII480xzfem+z19m1beThmHYnbVjpxLRAIBIoLgfRuJ7tMqc9G5zUq91VVVZvX67fefkWuv0GFcs0Aqa0erBzZfSPinLdAiH0+cCFc/5///EeG6gjB448/3rhs4cKFxvtwHKMDnZv8Po79XHEhHqXpSwiEUO5LT7No6pInlLVHeUVjlYweM0I+v9untOfjbGmsyy0PpRqZtfraDxjSDJdkyGGVzcGjxwSnOohfjGiCG6TsQ6aIV0gYMqVnhyGcX/3qV235KHqGSYPrWaOV+wgugtnSg8OcvzvuuMPmJeNh2wU5cTGC3SAO8gaRCIFAxxHgneP98XeHfd5dBCE9tb/73e9s6sRHP/pRYT1Nf98RhN7bwD0ET8PfY86xz3kP/q4iirmfd/wBXV7uO9/5ji2rRJ677LKLDaHGMRaNYoMGDbJ3nrRYquS3v/2tsF47o1gw5F544QUbacKUjD/96U8moBk2OGnSJPNdQH2yvctePsqV3c+Wk/N8vE6Umw/nKDN8d+2115rHfbjwzDPPNE/hxPF72Gb5zTHI32bLkH8tjgOBQKB0EaCTQVnQJsSxax81cyqrKuXg6YfJa288LzfexHQNF8rYZM182ZU1d7sJToKn2HKOD1NtNtlkE7O1stfyG/7yebEryxdpBQL5CIRQzkckjrsAARfKaSkCG3otKpRHj5Qdd/2kzDntHGlY7kJZjUC91pGAoQl5QqgIXLxNn3vuuXL99dfr7bQsitTq8lDVOkeZAJkSn4DBXVeHaK4w4xaHNwylXG+99VoYosTN3ocx+h9t5TzxxBNtCDdrNB944IFNPVlO5txHyBq56Uz8DQQCgY4g4ELNjSC2CEEXswhT1in/5Cc/acOw3/e+95mRxTuXvYdj7vPANecBznEMh/BuY4Ax2uT888+XX/7yl7YG+j777GO8sNVWW9n7DO/wIS4NZvR80GPMtA7uwe8BecJJng9TQigvPeCIeoYRMuXDe5WJT3qUxctP2djn48KWcjrHUCeOCfAZ4bbbbrPedtacPu+886xRgTy4P5uup2c3xZ9AIBAoGwSMG5NEVvKD/7TqK+BMFcrKE4cc8lV54aWn5dbbr9eh1/1zPcreedH1Ytn5FF7zDga357DL6IyAu1gCKhucG/2cc6cfxzYQ6C4EQih3F7JlnW5hoTxm7GjZaZdPyCknn2VzlDH8mKNcoQ4lELoQt/JjwQApEiBXDFwCvScMx2EeCwEChnjdSPZ7uGY/FpoGhi4fDN0pU6bYNmu8YgS7ocqWJWAYzohhyvDG4cOHk1xTcPJmSwjyboImdgKBTiHg7y3vOu80vbC+VMgf//hHOeCAA6zhatq0aSY2/R10QenvootDf/fhDfZ5lzHMGC5NQxtLurFeM8vLjR8/Xr3kr2kcQ3y4BEELRxDgB87j9Zqy4KuAIdkuYlODXEqfsiPCcfiHB1e8Y9Pg9tnPftbScmFNeZ03vC5edurk4phzfDgmbQxK5vKNGzfO/CWsu+66li7XPR07oX8cEz+ObSAQCJQHAsZ/LpS1yqlHOXFOpfLb9GmHyEsvPyu33YFQHiD9aodoLL2u/zo22q8ljm3ZccSEu5zT4FJ48Pe//70cfvjh5rwLboXz4Sy35bjPOZL9CIFATyIQQrkn0S6bvPKEss5RxpnX2HFjZcddPi4nn3SWeusZaCRozrwQytrCqX9aGHRpPrKDloh9+fJlRrIXXHCBra2HsUgPEwZkImh6Y5rnrUCuyQlYGoqIIQsJ33nnnXLPPXfLD3/4IzOcvWWTdCDov//97zJnzhwbUslQ7R122MFEOUYzHwJxCeRB4D431u1E5k+QfAaM2A0Ecghk3518UFwk+nvlcV988UX1SXCsDX9muDHGFO8019knPvt8XFhynp5p/Azw7t933302H3mbbbaxnl6WHiENN9AoC/dg1HmanIM/OEevMyNa7rnnHtlpp50sT/L14Iagi9pnnnnGhC0GIVzD0O0vfOELtua630NZnX88LergaRGPfXD5+c9/bj3IzN0mLYzNbIOfY+DpeB6xDQQCgfJCAA7BtuLDvtKHbpUjWUdZOW6qOvN6+dVn5dbbrlMeGWw9ykpoGonReMkeWhXEUn7JHmI/y0Ecw58EtnRaXKEOCK+++mo56KCD5OCDDzYuo1zEdT5clfyzcb0sfi5bFj8X20CgPQRCKLeHUFzvBAJJOHIjItVGCzZWyrjxY2T7z28gp53yXalfjmGXepQTKScjM5/IlCstOOFhJNI7s+++X7alUPA46/dktxAsgfu4hx+FChXQfg6DF2/ZGM2QNXG4B2Pzqaee0rUF97eeam/d5D7uYe6iG6SWWN4f8vNy+CUvO8f51zxObAOBckWgtXeGd9JFIu+mv6MYWH/729+E4cbem8q76XOIMbLcwCJt0uAYD9b0QtOLMXPmTHPEhTDOb/jy58C76un4Oe4lr7333lseeughE6xDhw61eMT1QFkJ5E18hhHCM8RhyDZCn2Wv6M3GARjXKauL8ixPUF84h3nQlJW64y9h3rx5Tc7FuI84bCMEAoFAINASgZxIVvFr+jc3gq9K+eiQQw6X/774L7n5lmtk0MC19Ep/5SlsJeUw7cTQboeWSWWOlLI0JCMty1keJcvt7MOL8Bn7b721UKZOnWYrCOBoFf8T3uDH/Vk+zabjacc2EOgpBEIo9xTSZZVPs1BWplVDkSbMSh3WOFZ2+sKGMnvWGdJYr04jamukcUW9ikc1MK1HGSEJUC5ok9DlDMT97rvvmdFJLwq9Q3PnXm8GJgYipApp+/2J6NP9iHXdaxKpGLsYyBjaeLDGkHVjmqHWrJG86667yv/8z/+QtYljJ3gMUTdGC5E35wj+o+HHdjJz3o9jGwgEAisjwHvjH7/KO8U5DC0+eHk+55xzbGoEwpdzCEneT95Xf/fY/ve//7V1OfFajad8vFjzzhM3cccK4wS/J5unv8ucc6GMQKd3mBEtQ1Uok47H8zSyW/bJB7FMXLy5sk4oPHTRRRdZWRnyTR0IpOWGIvt41qaRDg/cjHBh+Dk9MMTHuPT4XgZLJP4EAoFAIJBDAIde8JD+1w9cqt741THqdHXm9eLLT8vNt14rgwasrRf763m1wSp1FJ7ZYq0LZZImvWR3NUOd8km2EPvOS3AaHAofY2c9/fTTcvnll9uIPTgbbvSOCL+nOdXYCwR6B4EQyr2Dex/PNREk4lTZVuqWpyE84/caK7sM3UiOO/YUqWgcLDW1eIrOCWWYFsbNiWQAskM9BYHWmUFYq+J4rhnGF198kYwdO9ZIFWJN8dP9JOUk6z8MKflE2AhjDFR6hVhzFIOZcMkll5gRveGGG5p37HXWWceM0Oa0KVNKg/TZX9Xg5VrV+yJ+IFDOCPi7lt7n5PGZfZxl/fCHP7Qlkb7xjW/YXGaWfTPO0PecXmZ6cBnSx/lLL73Uei4QmFlnMa29l+Th19jHyOPeMWPG2BxlhDJDqLNC2Z8T8QncT3m8Mc7TYAsHcf+sWbMsbcpIPO6B11zMMzeaHmUEMsbmjTfeaOVHJJNOGJeOemwDgUCgEAIqkc2oSlPRklCGS1hH+ZXXnpNbVCgP6L+W9jjrqDkdmFJRmewp0sryYKG088/Bd85/7BOc01hWj4ZG/DfgjBBniAMHDjQOy+bj9zv/kkahc5yPEAh0JwIhlLsT3UjbEFi+XOfVNVTJXnuNkl12/4zMmjlHxyQOynmnVpGqRmF+yyVkDsHS24yx2KDGKb0qR379SFkwf77cdPPNKnZrrJeFTLJkavo81wiKrarJW3CSpVeHnifIGnHMjwXerCFtlnKhx4YeJ4xfrvFxAvdtSrH5B8TT5ryXJXvO4/s1P45tIBAItI+Av0u+hRsQrDR6ITJvueUW65ll7WKuIRx5z/E1wBJNNHqx9NMGG2xg77L3PPNuEzzdtt5P4iBKyROnXyxZhdfrnXfeuUmoZmuSTZMy8fHgZWf4NgJ/jz32sBEsCF94h4Y84lMeHJl5PRH99KR/5jOfsaScm5yrPP3YBgKBQHkikLV5sghYjzInkl7O8YvI1CmHyGuv/0duQij3W0vnKA9UI4YOCmwztX/cgMolZrxmGlqttpxtlc3HstBCpB5sfD0wbSaNEIKTGQl4xhlnWiPnsGHD7Fb4i09b/JufRxwHAj2FQAjlnkK6TPPB2GPodUNdhew1YbQJ5ZNmf0ePaUHU+S/aagnX8jeJ5QRUWjNZ5xYqUTdioCrB3nPvPTZch14hCLaubrn1qrixm4WYHwv7RSDVHJlD8HwwOjFI8WCNEY3hyVIuZ599tvXwEIcWTtL1tN3IhchbI3Pua+1atmyxHwgEAh1HwN9bf7d4F/3D+4mDLrw/P6DrIF9zzTXmXRohzHrLTJ9AhCKSvQfZDTLieCAP0uRaa4HrcAdiGWdeiNxf/epXsuOOO66SUKbMCGUC2yvUmc2pp55q3AMHUU6EvtcNrqJ+LDnFCBjWdKaczjfOSc5VrZU/zvceAjwrD/499uPYBgJdhYB9z/JELF89bKDmodccqBBekUauHHbo1+SN+S/K9XMv157k5MzL2g91RRIUM/ev0LjpK5zsKZsux9WcbUX5PR/2CZSFD7xJZwe8yf5uQ3eTc84+R3bbbTc7Dw/zTmT5OKUQfwOB4kAghHJxPIc+WwrIc/lyNQpXVKszr5Gy256byPHHnSaNdQNs6LV2LRvbJr5NvTuAgQFZX48TntSr+4LOadl7n72tJwWhTI9LQ0O99SjnGx7kqRnyp4VwhaTdSGXLOqn0UjM38IwzzpARI0YYmWOoQurk4cYn97pBagnHn0AgEOgxBLJCw40vOALjimHJixYtMud7Dz74oNx99902OoS1kXH2hwglLsOwXSTzLvNuZ7mDdLPH2cpxjY/3KLvXa/Ji2Scf+py9J7vvxqJzCIajcwr+Fpinh0hmRAtcRF6UlR4YRP6tt95qQ8wR/dzn9SAPL7Onnc03f590CX5P/vU47noEHHNPObB3JGLbpQjoq53e7sRj6VXnDNZV7oqe5PuHbYX9xKVDph8ui959Xa68+iLtUda16WWQ8k+D2mcqknEvw78cb8CZfJYvr1Purda04FB6n0mX2iQhTXzycY7DzoI7DzvsMFljjSHam3y+cRg85kKZu/0+9rOhtfPZOLEfCHQXAiGUuwvZsk03ETKE6eS2bJkusVJZrXOKR8vQYZvIjGNPth7lWuYomzMvJVcjWGNavQ9vsdoKqWROahiLeHn997//rb2/F8oGG2yQM3LFDFTI1gPE7Pk6aUPiDB9q0KFEXMOopvcJgxQnQPQsr7HGGnaNdDB6Uxr8KHiZEvF7PrENBAKBnkWAd5KQ3WK00cuLWObDnGGWjoMTWGedpZu8wcuNPNLIipXsPtcKBfKEW8gL0Y1QfuSRRwRvrfSMOAe1lhb38iEQJxuPNBHOTzzxhPlIIM5RRx1lazuzhjvDrOEpvGM7N1En0vA0Pd3slv1scNz8XLYMfi62XY9A4N71mEaKLRHgO+YrezgvwA2ch/fgF6UL21+6dLlxx8KFC+S55/4ts084Vf7z33/KiFHD1JmX+kio004I8x1DY17i3JqaKmto3GCDT8jHPvYxE7cf+9jHZf311zfuQzRbGYiuebLCSDpeYbyM48OTTjpR1l33g9ooeJl2Tqgg13IRh/L6h2MCxwQ/Zt/PsR8hEOhJBEIo9yTa5ZAXPJcbsqM0x4G2JKpAbazSOcHMUd5ITjzhTO1R1qHNOneloiI50iIevccEyNGHXsObGKQHHzxdbr3lVtls881y5JqI0wkW0iXwg5B+FCpVnKdh28yRwRFObW0/Hb74hBxzzDEmuhmaSW8QPygMb8QIjRAIBALFgYAbSW0ZSLy7vO+IV8QqopP3+txzz7Wlm1hjHecxeLt2w4zaFUqT/AqdJz7X+NArkhXKrGeMUHb+ae1+0igUSIt7qAc9y9SFOcus88y8argKB17wF3Ugf4KLf/YdJ/YJrZUhG6+1OCmF+BsIBAKlggA2EvOJsZmwdZwHq6pwBlivnIHz0hpdHu81bYx70qabzZ+/QN5VXhw0eKDyR7VO91ghU6ZPlA0/sYkMGbSuOtjaWNZ83yATuSxj98qrr8hv1A57+ulnbFm7RYvekZdffllH9PW3Br19993XHBzimX8D7chglB68i111+umn25rvrDYwbdo0Kx/845xZKjhHOcsXgRDK5fvsO1/zpH8L32/XmiNA4nV1DVKrLZLj95ogm2/9YTn15HOU2QcbqfvQaxPKOoyHkIxSyD8ZwWecfoY6m3hdfvKTH8sSdWwzaPAgM4j5QcgnXO7F2OReQvrRqLfjv/zlL+qo6zAjbzzlMvQaw5o4iOSYI2OQxZ9AoCgQ6Iiwc44gLuKR4/nq7A+D7LnnnpOrr77avKryfvOeE681Ay0/v+wxgHAMX/DZR6eB0ID385/ftVpCOTXqpd4X56znn39eWL/9E5/4RNPydZTdy09Z2G+tHlzPD/l1CaGcj1AcBwKliwDckRrdcJyl9pZyIY1q8MuCBQvMVwMOD1977VUd2TdOhg7d3XwhjBo1Uk6cfaq8ueBFufGmq6S/Dr1urO8v9Q11yi9MVcPGgvvcf0OzwL333nvlT396Qj9/tEbJpUuXmSAfM2asbLHF5tbgd+GFF9ooGRr/ZsyYYfyM/xf4K0IgUCoIhFAulSdVROVUe9HIs2CRTCPbH7uMgVZfr8eNlTJm3BjZZof15Yw558qKhrQcgAll7U1GKDcZb0TX++hhwZnXZF0v9IwzTpeP61AfWkaJ7mXAWPT7+LHgmB+M7D4tqtddd63NAdxxx50sLYxQ4iGO+THhvnzD09MtWE896cZne/Fauz/OBwKBQOsI+PvlMbLvGdc45j3PflxMsk4n833p0cDBF17ssw1h3O9peLr5+Xm+bD0vF8os64RQvuuuu9To3E2vp0Y+Tyt7b/6+58t5uIcP5YbvuHbxxRfLaaedJnfeeadsvfXWZtBSx6xxmeW9/PQLHWfr1pEyFkojzgUCgUBxIsAQabgJUcv7jWgdPHiwLo33pK6TfLCK5TeFFQGYwsGQaeYeN+bE79cO1/WMn/2r3H7HXBmo6yg31vczO0stNxPKaukoL6VOC4TzkiVLrWMBMc6Qa/iLxsk6tbPu+sUvzNZimhzlQaQfe+wxOjLmWOOvrKPC4KTi/C5FqVZGIITyypjEmbYQUBFrMhht22qwGHYVAw+hXLFCh17vNUa233kDOfnEs0wo12gvj6/Vh/AlrhuATvwM7znllFPk4osu1lbOejMkIWdzAKGKWSnc8nGnEojfNOSoQec2LzUSP/roo+Weu++R42YeJ/vvf4B6tB6QSyd5W3RDFUOUH5mOGpJZg7dVKOJCIBAIdAqBtgyp7DX28z8YafQo4y36ox/9qDnCYlggvAHHED8rPP2d93QxOOEkD1znGr00pJ0Vyu0NveY+T5/0ssek5QH+u1mXvaPnZfTo0doLdK4au4PsMmX1srF1nvR7YxsIBALlhQB8gZ2EHxX4BQdd1f/P3pVAV1Um6cpCNgIEPDKj2A6LzeAZcXqaJtAiDQQ90CwJB7ttwQMMICAQBNE+B4EAIps0Iihw1GGXzYAQWgIN2KDSgCKjLZxhmZZlRnCgUTYBE5LA1Ff/q+TP5b2EJYR3k//Cy13+rf66932v6lb9VYwTuZdzBbu2bt1CgwenU3JyU37xNo4aNWokSzjy8vJZBkqkfMae2LhYSQ/1v8cO0pqsZaIox0RX4/4g5xl5DFxVRRnjwVIBgwVix2BTPMUxPHdAy5/+tJGeeup39MQTT4jbNeoAf41l2i1xA6/c5h8OOEXZP/cqLCg1wmNxwe9awookTKPwcsRoXgeTmtaBHmn1U3ppxHheoxwXEFqhcRvLkIlyDdA3VmEIhHgDevfdd8u6GoAt1uBgAx0C5nwARdcWHGGZUcBGepjp06eL6xEi4KrACYFZBVYVgp0AKqx1fxwHwp4D+K7a31+bYLwsw4Zy5FFG4K327duLsowyfN+BF2ph1hd02gZ71NFz+7hERZmbMHpJO/uP0qnX7HMoyhA4YflGZGvkhIblZ/z48ZSUlCQ4BqwD7oFmtNX2Spf26/aOA44DlYMDwADIPcAuHEdHVxEPORgHgBNjx47joIazZFkIYjYkJdXg8jzxTmHVlpnEL/5Y6QWGDBw4hP7+3VFa/t4CltPiJeq1rHUWfdbgWYTEnVG5Cy8N4Q3DmUlY6Y6KNm7UkK2AZaALxo2DBw+KN4+6Wit+YUyHXZXjOa0os3SKckW5k+U0D4AytpKBztRBPQB5Xh6/9aRoXqPckX7Zsj6viZnIkRWNomzkUY5IzYEojDXYWHXRDmuK09JSae7cefSrX7Xkt5gxLDDijSX6NWPgDSU2gDM2KNloCxCHayQU7TFjxvC6nI5SBwo0ygHaAHYFb7TF3HBub7hW8lzt2u7YccBx4E5zwGAOIklDiLwiuYfffPNNevLJJ2n48OGCI6gDLMBmf+e9+GZ//3HsVZQRzKt169bSRyicsPtQ3ug46A/btm3bqEePHhKBH9G6a9eubbxmGOxQ16ZR+3B7xwHHgcrFARtLIC/hgyClwBGsTYaRwAQD/DONZbknrUsaBwWsJdZclANHBBevGONEFGNgzx696eKlU7Rk+VyKikigKtE1eMkby1KR18o+DEUif4HrGiTs0qUf5UXfJY4fU61aIm3fvoNxlr34Nm2S8ZCWD9ho8BFy27UvEyvXXXSz9RsHnKLstzt2h+kFULJKWYryiEpSkdMM8JtPVpQjWFHuxIpysxZ1OZjXFMq/HBsQBGEhMYqyER6NMHrixEl6/vlh7CKUwEG83uLUBFjTDFdpALURHlEfAi827PHBtd27/5Nef326rI959dVXZZ2f1lWBE0KyHksHIf4YmkxhKEE4RFN32XHAcaAcOKDfUcUFxQIdGuUHDhyQSNj16tWTl2f4/sOijLr29xp14coYTJhDXViA8/Ius+u1SQ+lUa+jxaqiAiAwzeAUaFD6vMcY9+zZswSMQpqpAQMGiLIMF0VgEz6ocz04hb7d5jjgOFCxOQAsgQwEfAEeqYcMolDPnz+fXZ43SEo8rEu+//6fCDOAIVCSYSXGsWmLTuAqHUVPP92Lzpw9TitWLqTYmBoUE8Wu12IvuFbOM7hmeKzGCdAESzLSbs6ZM4ey12XTdJa/mjb9BVuw4x2GVexHslLMzinKleI2l9MkGXj5PwOjUV5xdoXfXBYUsODI6aE6d+5AzVvWo7EZkyn3xyqFa1YglObns5WXsfuSBLS5wuD9tKQfyMzMLMzVh8BeyM+ngiN+KLDhTSYE32+++UaEzo84R/Lzzw/nPrqzMBwjSjaAHBZk/FBgcwKosMH9cRzwPQdUEdU9cAHH+oFbMxTcc+fOyfrfe+75R87pOUbwAF4quml9xRe9jr2WqUVZ8ygXKcqh192hLTZgDuIsRLNXjLpbI5f70qVL5fPggw9KPdCLOShGKWZJofvjOOA4UCk5oDiiWARcAE4gddzChQsFQ7B8o1atWowdGpzUeKNgvTE2SD8Sz4Wi2IgBz7ooXqPch06cPEwr319MVRPuEtdrZOo07tZGXpLGnj+wTCMLCdY5f3v8W+rXv59YtDMzV4qrN+Qtlbnw8jEAg4Jrnq7cqeNAWHPAKcphfXv8RZwCIbGizLAoSvNVuPiwV/SVgkjq1PnX1KL1A5TBrtewKMNlyLhOG0XZuAZF0JYtf6aePXtJlGq4IwKQ8TZUfyhsl2kIwPjB2LlzJ40b9zJbkb+XdnCHBAHRHPgLSjTWP0NHRl0VPHXvLy47ah0HHAeCcUDxQQVJrQNh0mBAPu3atUsCzCA/8bBhwxhbTCqVnJwcWb8XTEk2L/yMsmsrynCXhqLcpk0bEQh1vGB70ATlGIq50nfkyBEOePMUvf3229SwYUNpBiUZNADjsClG6V4uuj+OA44DlZMDYokwL+5gTQYeQVFG4Kzpr71OdevVperVa4jCGh8XBwCBuUIUZJHIGIciIthgwOow5KoIxpq+ffrT/3yzj7LWLqf4uJoUHZlIUJTtDZiF5W6KpSiD7Ibo2tjDG+bLL7+kjRs3Sr53RLfWDdhl45d9rHXc3nEgnDngFOVwvjs+o80oykBy/gSCP5C4VbOinG8U5UfbNKTRIyfweXxAGER9rCu+Shcu/CBujX379hEr8YoV74nwGhcbJ0o3FGkANTYNxHPhwgXC+sMFCxbQvffeS/PmzaMGDRqIMGqEXrwRvdaFCGAN8Lc3B+A2N9yx44B/OYDvtv19xjkUVSjGwItXXnlFYhdgzTIETuAJ6quCarfHMT7YgivKrbldcIuy3Q/GV0ETSjKi8Tdu3FjoQL8QLkGHKus6Juiy5+Lfu+IodxxwHLhVDgCKoJwqFk2YOIHO8RKOWbNmS9ewEpvlI2Ykg0GQgqQhX4RftVnuxshCA/oPov8+9BWtW7+SEPE6LqY6iott6APRsmGYwMu8AsZMBiXx0snIGE2ffPKJyF5NmzYV/FLMsjEMHTocK8ZWd+ITDjhF2Sc3yhdkAodBaMCijEOz/piV0oKIgEX5pzSKFeWr+Zp0HgItW4tZ/73Ma/9Wr36fg1GkcwCvudSuXTsG5aI3kxAy8eOgwizO165dyykQBrMFuic999xzhflSYUFCuQKz7kGTbgriOA9WrvXc3nHAccBfHDDCoZH2cIwPFFUoocCQF198kVasWCE5i5GKCRuUVAiBwbDAYAXiJ+SJYt2pUyf69NOdtIHzhrZo8WjhizsvlwwdJEIm+r948QKdPPl3scAcPnyYvWe2SFR/rEuGwg76ML5+zLgOn7x8deeOAxWVA/qdx/y8WCRKMowFghFEW7dupdTUzhLjADiEZR2QwWxFuYhPZkkKN2Y8hMzFNbmf/v0Gch7lryh7wyqqEpVoKcroycZQ05Pme4eyDi++lSszRV5LSWkrCjxwrjTZq4gmd+Q4EP4ccIpy+N8jf1Eo2Io/5qOKMrELNvIo/7Jlg4BFuaoovFgHA0U5L6+ArcgXqHv3biJMZmWtlTXMUJTFRYjxGj8gRpiMEMHz2LFjoiA/++yzEtEWPyomMnaR35D+6Hh/cMBUlAW77i+GO2odBxwHSuMABDd8YBGBm/UPP5ynyZOnsJC3kgP/vU5IHQcswAu2UJgAvEB7WKWRburzzz8XV8Pk5GTBnWDt0MZg0FV2h8wRl8h+/frRF198QYsXL6YmTZoUumPrkhLtR/elzc2VOw44DlQMDhisMLIJZgQMsHEAnndQguHyfOjQIV5G0pU96e6R/OvVqlXnsuLW5OJcARZBWYaijL4lYhc903cAHTryX5S9fhUr2gkc0Ks6l0GCY4Wc6+r4wC/IX3ipBwzdsWOH5KmfOXOG4OGlixz1unq1AN6ZkbVtcTrcmeOAvzjgFGV/3S+fUKuKMgAf65MZmFlR7pzWiZIf+ScaM3oSR8JGFGu4KwK84QAUQZkr36P09MGczmUJteZ1f9C1AeYqvOJHBIG7IKx+9tlnNHLkSInwiKixAHDUwwfKsgI02uixT5jnyHQccBwoQw4AAxQHoOQCK66wwHj2zFmJMn306FFatGghR8dvIlH2UUe9VrxkAHvQHhblnTt3sKK8iaO7NmVLNDDHCJ7aRseFlRi4hWUiWBe9fftfOKfzm5IvGePAAqNjAqvUqqz9uL3jgONA5eEAcCPUBnwo4MCnCGr6xhtv0B/+MJVdnudKvuT4+ITCZtoFFF6zGZlMemZ5C5ZiKL4xHOwUeZT/dmgvrcvO5NRQCXyNo15LQ+AmomsbBdso6ZHibp2YmCgBV3//+xfp4YcfFsU5Kakm1zUpqHRUM34hEXrZ7R0HfMUBpyj76nb5hVgDyqAWQMtyJ6NtJKV2SaWfJ9cJpIeKEzchrGXmlYF05MhRds3uwBblp2josOcI65LxdhSADQEU1qDTp09L0K7ly5ez++JJQkCeli1byhtOFS5RX4Vc/cExoO8X3jk6lQMV9f7pvHSeuq8sz6l3/uUxbx0TCinGA57g+Pvvv2cleZFYlqdMmUKPPfaYXEcdxREc44M+oCRDWUbUa6zLg+t18+bN5eVc0X3EEdYAFo2FnKIQbGvUqEFDhw4V5Rr9YQzsgV+6KZbpuds7DtwMB/SZx7MbrpvSCPrCmc5g/LNp1/KynoOOYTxiONUmYwrwAUvOXnhhuGAJlqqxKstKbgxnDmGXaiWmcK/ymCmBxzW/JxS5Co9G73/vT9+eOEzvr17KL+3i2aKcKEYKKMbYrnDQr0gOppqbe5lRjeivX31FkydNoraPtWWL8mDuB67eJthqKOwqa74IYe6P40A5ccApyuXE6Mo1jAFYzBlgi/RQEVejRFH+WRNWlMdOZotynPwwwo3o0qUcWrzoXdr2l495zeA7bBWOpBheK4g1NHC7xgarz6BBgyQFFNYXIsojombDeqwWZ6kY+KM/MDh1IG1zxh/H7v754z75lUoou7DkwsoLV8I9e/bQM888w94sy6hu3bqynhlWE60HARBCqn66dOkiijLyH7dq1YoVXrhsF3FDFXGsh549ezbNmDGDevXqRePHj5cotVCYUabeL3jeHU4V8c8d3ToHyuqZKqmfkspufQbl2wPmYm/h9H0E7uAlHbJ3IM0dDAQpKW0kb3FOzo/iCQPDAks7xXDIzMd41ECZFssFB/PSqNfQfPv2GUDf/t9hWrV6CVuToSgb9+l8KOUcIRvu2pDjcjh15/oN66lfv/40atQoUdQheyHIl/GoMS8TwUfgpdscByoKB3ylKHuBzL4J4QRqNl2V81h/cEyi+/x8tpxERlNqWir9rMn9AUW5iryhhKIcH5fAim83Sh8ymJo1S2ah0wS0wY8DLC7Hjh3nHMydOe1BdRo7dqwIpvn5eZLMHoDsQLniPWX2d919tyve/b3TMwK24BnT4IAQQrGU48CBAxK9tWbNmqJIA1sgDGJDfQQEw/OYmppKH3/8MX3wwTpq3bpVsZd1iltYx3fw4EHBLgQMA3YlJCSIVRnjoh/0HS745b5zN/9U3ijvUGrH50EAAAoaSURBVN8PuKbzCkWrX+ZR0p3VOYaqE2ruoerfjuvAFAQSBC0LFy6QuAqIcdCo0T8X4gkMB9j40eJ6NhVBFGW2PF/OzeMXdVX4BeFAOnx0H61es4wS4quL+zXwEHwxVuUIxsJoCdg1atRodtUeSKNHjxLcio422QIwHl4OKq90X4wKEBbYgpVrWXnuvfc+XOgqTx64sUrngG8UZe8DHWxqfnjIMY9wp1N5ffN0AhANUmPNSn7eVREIO7Nw+fNf1KcxGa9wHmW2wLAQCqDev/8AvfTSSFq+fJkoyXDzAfDmcsAKCJHduz9N58+fF8vMAw88wD8YuaIk6zOgLpJ6Hmx/63MK1qu7drs4oPcL/d/8c3i7qHP9+o0D3ufJuDIa92uDVVfp+PHj9Pjjj1P9+vVpwfwFVOuuWqIsw/Ks20UOWAOhsXOnzrT1o4842uwHrCi3lnp4TjEO9rBE43jIkCGiXM+cOVMi+KMtylAHH1tR9tKoY5bH3h5bxwN9t3vzjlseY5b1nG5mDtom3OdbGp0oD/c5lHa/dY6h6t3J+YE2/aiiDGvyfffVYe+XpRxrAS7X5mUblFZsfInvSdFszPwgkxlFVWLCsKKc82MuxSfE0oB+Q2j/wS8p648rKLFqEhs1TAR+YBMs2Gi3evVqlsO6S4aRadNe4+t5VLUqu2hzGfgDPMU4kNeC8wvzKKIpeJ2i8vI6MrwpPlq40FacKnd2JzngG0X5TjLJjX2zHDDgeDk3XxTiDh07UnLzBylj9MvsVh0jinBsXCznNJ0obj2TJk9ioTKHolmYBM5DKJ01a5ZEiJ0+/TX+cbiPr6IE4Bwp1malzIGbcqLi7PVHzN3binNPw2UmeLZgpcGGvVh1WZDLXp9NI0aMoOTkZoQ1y3fVqkXAKLgXQslFahQIhampabRt2zZZK9i2bYooylCA0Y8+tx9++CEh0CDSUMEbRtOmaB0813jJJ2MHGKNt3TMfYEgF3fnhPiuNuAWV4Xm056uPXTjMG3RBYYXks33HdurTpw8bFkZQ7959eNnaRcm/bnDEZPuAQmorypCXzNxUU0VPnGnkMstlsdGcR5mDeX29h/64biVjFAdZjUyQl3kwYmBdcnZ2NqfTe0EyAwAbq7BCHsfLVTAG+KP4hTFK5xdowPhucxzwDwecouyfe+VDSg0o5uYYF5/2v+b0UC0eopdGZDBIm1ROe/fupW7durO1eA5HsG4uwiis0CdOnKSpU6dSZmamCK//ypEV4Vpk3HuIBcyiNC64pmDtQyY5kkvgwPX9+JbQgStyHAjCATxXRng0wh6UZbgbYp3f5s2bZD1xWloXmjJ5sijKcJkGxkBwxMs8BPNCepQ1a9aIFRrWFyjK2NDPvn37WbB8ksaMGcN1u7Iwa+IpwJURy02AWfhAwC1duAwyAXfJceA2c8D+ftzmoVz3JXAA98EoyhG0ZOm7NHHiBNq163NexhEvcpB61JWMI2zxlTH4L3IoB1JEMRQZRfnwHlqdtYyV5HhKTKglWQEu5+XQ1387JAEO4Wkzd+5cwSt0Y176QTE2+FkC+a7IccD3HAgbRRlg4P2i3w6gDjaO7+9iuU+gtLeCBpKFLAbky2yNiWbFtkOHjvTwvzWgSROnsjXZrD+eMGECrVr1Pm3ZsoVdeaqyK2IU7d69mzLGZNChrw/RO++8I2uSESyiCqcy0M2+j/axllfGvX5fdO7e75NeL8/9rd6bW21fnnN1Y/mLA95nC+dY4oGI+4sWL6KMjIxAVNkhoiQjpztcDrH2uGvXrqwo7xTXa7hCwkoCBRnlp0+fYWtPb147WJ3mz59P1apVE8YgcJduGEvHD4fvqdLl9o4DjgN3kgOW7BSwvDJUiNcLvFnat2/HeZPvlXXKUFaj+SORroPIzzoL4AysyubDfyU9FDKJsMzN/5Aeat/+3bRh4xoO5pVIVwvYIHGV1yhTARs1Rkq+5iVL3uWghwlivUYOZ2AZ+sVLv7LCL8VDpduPe8Pryv3yoCLcR++zF1aKMoizv3T60HmveycR7NxuG6xc+/TW0/H1up6H6qNyXTeu1Mq74HPnOlzAq/UYSAHKsLBwkAdOAdWpU0f6l8b1aeKEyWx9uUpZWVk07uVxNHvWbGrR4lGJPIvosKdOneL1MN34TWZbql37H8TKrOtvYLnBhlEA8hVp02cu2Jz0OdQ6eo66eq2kdsHKbte1UPTYNHvH1jbeOrjuveZt64dznZ/SWpZz8vZ9vWOEane97bVeqH2oe+cd1+aF3cZbD+Ogrn0dFg2gjXez62iZPY5es/dQdJEKJb8gXwRTvLCbNm2aXJs9Zw4LqPcwlhnL829/+xuOer2NNm3ayAEImzFdkaxkn2MLcxZbXv5DXLPTBw9m18YYESoxDizSoMGmIxidNk1mfgZHMU0z02vna7e51ePSaNL+7XnotRvdlzTWrfZv932zfd1oH8Hq49rNjn+j/Cyr+sHmgb6DXffOT+vonL3n10ujtrPre/sMVmZf8x57+9T+SqqnddDWPkYbPfe2v5FzyEiQaAq3wu+5uYLy/LwCUVhbPPqIxHJJSWlDUYE1ydKU6yC3snfT+SJydRGWcD22Kot3HrcZ0D+d8yjvobW8RjkyIp4S4pLo1Hff0eLF83jZ21/prbfekswAUMwxX9ADBVn5YfNAxwMd9nUvXXpu19dr9v56+7ieena/t3pcGt3e/subPh1f75Gel8deeXOn5nw75hg2irJOzr6x9rGWB9vrjQlWptdC3TRv21D1tB+3tzmg4F4coDlWokh24G0kR7uG6zURLMrtqGGjn9DUV1/j9X07qWfPHpSens6pBkYHIiqOEgvO4MGD5M0lXBmTkpLEpVHX8t3o/fHeX5t6HN9of972eh5qnNvdf2lzCEVXae1Km5eW2/ubmauXPm8fKPdes8cMt2MIH9hAc2l069ztenrNnrddXhbz1TFC9XU943n78LbxlocaK9R1b3+oZ/epx6gXrG6w+qHqmr6M4FfASjKUXpMS5QqnYjkvKevg3TJj5ozA2r1YSU+3efNmUYxTUlLozJnT1LdvX8n1jrgKDz3UmPsxs4MnTDHLC2AzUGaiyuJ5MXX1L2gqorfoBaWWm/qeRlpYBnvlb0ld2XzX+va1UG21bqjy6+kjVFu7bz3W/nQfqm1ZXddxtb/yGlfHK4s95iCKVOD7pXPQudnnuIZz+5rSoNf0/Hr3Ok6o+sH61TZapufah17X8/Ddq1xlMI/ZSwVsbFi5ahUtWbKYMWe14EWRh0rpqZiMogy8MJiBnyn0i7NBA4fS14f30tLlc/k8nvJyo6hP315suPiCPv30M6pTp464eON5MCmogEfF77nNSy3zXrPP9TjYPbHvW7BybXsje2+fen6z/Wt70HAjfdjtlH5ve7uOXWZf17YljR+qvt3WPsZYwdrYNNj1cWzXL6met53fzv8fAAD//zf+BfQAAEAASURBVOydB4BVxdXHh7p0RBQLduw1xlhiLKixomLvvaGCFLvmS9TYY4+9YI8tNjRSVOwtsTfURMVe6XVhgfn+v5l33pu9vLe7rAss+Gb3vmnnnDlzZubcaXemiZdxjcjATpMmTWrlqKHZrinNhkyrVDp1TaMUfq0Cm0cAMR+UoXPR3dRVVk53FS0qXM+eu7s11l7BnXH6n9xxx53gXn/9dTdo0KNuypSprlevXu5PZ57ptt5ma9emTRvXvHnz8FRVVbmmTZsG7rHrkv+aZJnFrwmWRLPwxcRYikZdcIvRS8NK0U5hakoni4/f4M1OaWXdWfxsfNZfF5opjtE3PPMDQ1jKb4rXGN3wOmvWrMCa5QcP7tRPmMEWi7N4wzGbcDPg86QmC5f1G2wWz8JLwRNfCsdw62PXlF5Kz/JqPIDHg99omG14hmN+sw3X/GYjyohD+TUJ5RjL0rvKqZXuiCOPdIcffrjbeOONXUVFS7fHHnu6l156yQ0e/IRbb9313NHHHON++OF7d9NNN7sVll/etWjZMvDWvHmzQNd0V0xnVo5v8hDri/Fh+Ur95jY7m1cLbwjbZGx2MZql0genVJzRocYWe7vncXMAeb8h1tEuxbfxZTbkDNbsNI74rN/giMNk4wkDJgtHOCaFT90xdv7/wnfKV5oX6q/5gTG4bFjqz+bZcghMalJaaXgWLo0znDQM+FLhwGXjzF9TOkY/hQXecCzcbIPP2ml8xE1bQSoP3JE+cE2bNpOfPtQ0d/fd/3DvvPOWu+KKy9y0aVNda/WTmjVtHvKFSIFP0zEeYtxM0aLc6Euh3wQ/K8L36XOie+OtF92wJwe5qVNmuRN6n+yef/4Zd8ddA9322+2gtKa7Fi2au2bNmgdcFX9Iq6DTUv5jqiYf48FsCy/GJzBpfBbG4oyW2Vm41G842OYmPnWXokO4wRlMTXaxdC3MbKOXtS0+pV8sLI03GhZWCr4UXLHwbBi0U7ppPOXPO5IwYOwxfhYmu4kyOXstn0c5JOls8vibNUM5FK+kFIbhmF1XdlP4tPDTAk5hUrqlwlMY3AZHJUqNhROWpm0wabyFYafhKZ/FYFK6WbwUvrgbxW1VIXVH6AJtyqx0HmK66giilIU6a1YTKfkq11ID5T3VuVx3/VXcH/+4nTvy8F7uGHUuV+q2ojv11NNcv3795T865LdZs6YaJLcQ7swwWLbGiEyzcoU7y6vZMJjPSa4BE5eVH2GGY3bMbfwt5LngJ8wGQyls1p3FtfhS4ZEXoIzzQr4ILYVHHKZYfDZPqR/4LI75U7hIvfRvXWCNrvFZCgc4ZGvyNTzTB6W5aBwx8D1z5sx8PSOfPNRZy4txSjjwhKdxqdtgLSwrN6MPnMFkcYrFEWa0Ujxzm/yNltmGY36DNz/xFmY2ccXwisVnwwwPO31MDwBv4YZrdswDbQktVN0AY3Bmz1KnkUErHVNF5w0TddAYPHhw0FfXXHONBsl7aNJvV/fkk0+5Rx5+2FXNmOHOOOMMdWTvcqussqoG0hWuKbzpL3Z0Yx2Ab/iK5Y4um12XkLaymzfwZ3IgMOXd/HngxGFySYKC0/JLvLmJMD92Wv4GQzgmTd/iDN78ATDzY/gWnMLipt3Qzg3ObIPHTnHS+DQ8bX+GS3wKY+HQsCdL3/yGSx4tTcLMnbZtwrKyMDijZ2kbXfPXZJeiURNOfeJIJysn5Ek4+TSTuokz/gw36zc8sy0ev+FYHLbFm21xJjMLN1zzGxw2cWl46rb4NB/ZcktpGTw2dEwmuK38jZdieNk4BqhZtRT5M1lGe5b0UYvmLZWedzOqZri/nnsuHLjzzz/XTZk6OSwoiAWRIq/ZlBM50qcQAH0y9BIDb7DQefB2zNG93QcfvuEefew+d9SRvd3zz77mHnzwfrfZ5hsrf801SG6pxYwprm3btiH/5Bl+wU3zFvMQ+UjdWRiLS8PT9lVKpoZntuGbbRLAzwMcj7mtjA0OO8UVCiH85I2llQ9IHIabpmPRhgeMPWmc4RicxaWwRt/iStlGA9vwDTcbZzSIJ87i8SP3tByyNAzXcExfgwOs0TC4hcmerwNlBGxCRqj2skwLyAqAeArI4A2GcIwVXvQV/zWYFJcwCweLOCrMnBqjAT48mh861vBTmml8lh+DS/GAT3EMpr42tKKinJ0CcSYHZSeY2JG0cAJpGDEu6Gj9GAzia9JE/Craa6BcNV2zmU1aup137uHad2zqRo8e50aM+K/73Qa/k4L+wO20047uvPPOd61bt3bNNXNZNV0r0BWt1HGKAwxeGBCDp1RWMfUcD+IZYzIyOMoCOfJYuVj+jJ7hmB0pxl+jY7RT3BTO3OJQrEZeLAw7pZOGp+5i6afxpdzgkbesSetPNs74sfyk8TXxUQzecGvCA8bSNHjsLD0rI2ANPh0oZ+FTWvPLbfmGdx74RfYYBlrkAz9wxr/lDRgLw43JxmXjI1T8TWEJAbYmY/Bmp7DoX/hnN4fRMdvgsc2d4tbkhqYZcPFDlwe5pOVrcNgGY2GW7gwNTOHVcLGJA55wHvJg8Fnb6GVt8GbMmBmCRU70mwVaTNhN1aryX/7yF/fYY4+5Cy+80N1www3uzTffDPadd94ZBtE77rhjyEuUH3JsEXQYRRLznNNFWtWZKZqkR94t/5Zf41cSEF71iWOTXVqfsvnAD02jA10zVhbEpekZPcItztIC12SM2/DMLpaOhdWEm9JqqRX4yspKdcqZIC3obGDMkF7Kv6VhfGBbPsAxnrN4Rg/baBhdwsAzOoSn/GT9RpuyxECvWLrUCWDIHzZw9gTEGn5Iw4zxa/6GskkjS9vyRjg847e6Shj+FIZ8m7E4bExKGzePydhwsA0vhbcwkzEyNFiDA8boGnwAytHEbfG4oWV5go+UJvEYo43b4IE1GViaxGNSePzEg1eoW00CLv0aQQMinGDl8p3rD+cWGWKMZD9DA+aWFe6Iw49we+29h/vDZpu65qLRqlXrXF2L7xajGfMPdpQJ6aMzSTemrfcTOmhm1Mt9eg9ww556zK3YbSn37tsj3D3/eMT9ftMNXcsK8embuJZKGxrUYWzom8nmmTSJtnCTgcmacOikdQVa+Imz9yVh4Fp4zFOhfQObpkF8GgY+hnCjSboWVgyXOAs3uDTM4qCZGvOXijcaxANrT0rD3EbD/IZrfkvL/Cl8sbg0rRTW8M22+k3dtvptcUYX/JQGZUMcdcLizDbchcWe7wNlKwQEinu6Bkm8NHHzZAVvhZPiGW42rK6FlBa+0TLcbJyF12Zn8VLezI1tcNgWbrTxWxjx5B1jYQZnNMyf2gZrNnHA2xNg1e6VUh6NOGY9wwA1F2rbdqDDI5AEQ0BSqKzIENe0GdofOPk1UJ41s4leRK1cjx47uxdfHiolrW08TSsC5TPOPF2dzF6hzMEpdJTiYCPyXVCQOXYyFmlVDzKZVMtndZD8CyzkN5evmF4BsBgde1lYXAE6yjZLI42vzV0bbrE0U5rIIZRNLj/EgZPFw09aaXr2UiJ/Zgw3hbM4bKOLjbJNjcUZrvlTGOPB4sxvHQzbhm80wDXYlM78cBuvljZ++KYO0zFJ5QhMKh9kzQsJGB7LU2pDjzhsKxvcZiwMP+EWZ7bBWTw2OGYM33gwv/GZ0oEvHoNJ44we8dlw/JYH3MCQb+u0kBayMvrQwo0B3nDwG4yFwwtu6JtBTykoyNrgjZ7RMNhIB1/UHyQbtyZGiJC2nJMnTw5bqadNm+bO1arObbfdFujTAVuma1e38SabaMv1TRpMT3Xt2rULHTNWbpqrHlgZx05qHHiT5yjHpso7K9azlwvxJhtWqK2MgCU/+C1fZhOHsXiDgVZqTGaRh4IeiPIoyBw6wBi+xad4xpfBAoPBz2PGcLHTOHNbZ5a84oZumo7RMXhLFxtjfFr6xrPFA2O4uM0YX8QZjoUZjJWh0QIWN3DEgZfipGFGAxjqB5PBlCs0MFnb4OelDe8Y48X82JQFhvzSZnksr9gmB/JHvo0G4aYDCbNw7CxsSCD3YzRTHOQFPejzYAgDNqVrOEYDG2NwpJvCh8hcPDD2WLjRw5+6jV4Kb2HA4c7KxWhanPEhyqINfSd5kU8mz+JuE3QRE2XKumTWzB1xxJHu0ssucu3btwvvGAa7kQfyGNtApB/zgl4jnUK52KCRstLEjdJDQn37nKRt1je6tu2buxuuu9XttOMebsbMSte2XUvFSg9poI68rfzJC/krGKjE+hz5KUyoAGeyszwbDPgWRl2xdoEOwE3dYyxAuVl5wwM0CTNj9NKwNF2DwwYWY+nit7yk9QOYLCxhWQOM0bI4w8MPbYOBPm6LNxt8HuPfYLLxKT3chmPpWz6IM1MsjDhoW7r4rV1ZnNnGA/6sfHgfWt0yHrI2eAuDmWsD5VTAJigTovmBSR8KlYZgFcbgUtsqXjH6NeGlNOriLka/Lnh1gTHaZqdyKZUHYC3vpJGttLWla2kBp2bJTzWTxluEpUGcPShfeWWiwuHXq9xQ6OQDhd68BQpBSl/KTk1QSk7hTVq47bff3r3+5vNSvF7beDq4Cy64QN/9HaaO6BSVOzPtMzRL2kp0oM+P5Zn8okziC4TYrCnGPzDwlMrNZA08bvOn7iwt/NAwk8Iio7TMTKEbbF1t0jB5g2M8kBZu4zPNi8EVwyMOHOMt5gE6xBRedEaXMGB40jZIfnjqYsAzfsExXi0Ns0kDY7alZ7gWh5+HlygwGAsLnkbyY/mwOoKN3K2jaOVjLxXgTa4WB47lzWzLHvDEG13oEGYPcLhTAw1MauM2OGhY5wQ3j6VhOCm9Ym6jlaZTDA66BgNt8k7aGNKlM2RpYmdhYtYK+bN0wcUYDjZpWX0FjsfizZ/iBAJoxFy7ELUYlPwywKFTgM1Ebp/evd2zzz2X5/uO2293m2+xhVtkkUXy+bK0gJ8+fZro63MS5Kx6zHfLgSelxQ4aYFMZWb5YYR03blxui+Uspact3Tl9Y/UGOhjLJ27C4JUnG047oiNqaRg8OMiZgTsdVHvAx4BHORme0YUPa7/Iffz48W7ixIkhDduqCe3wXlC+gQfX6Jpcl1xySTdmzBj3448/ui5duuQnm0g7m1fjh3R5oD9p0qSQLnHwiZ9w3ifwzIPfHuDMIPsJEyYEnsDlYbILHqmn5AcekBvpQcvyDP/wDAxpMbEHPeRHWuDhXnbZZd3iiy8e6ibx0CDOjMnT/PPThhfKkjxiIxvkSV2mfAkDxvLB4J/JJNue26FDh3w7wE1egac+W73Eneaf/Jq8TPbQhwfkShj0aQ/wQTjw8AId80MHPAx8gQsM/JEHiytWD6xcoWXlA9+UsbUHaFn+oUFdSeEJw88DHLyCj01dgh9WgtVi9dB2Yx0DNtY9TbLOrIp9KqXNThbn9Y3y1Onusssu01kIh7rOnTuLlt7JoX41cR3ad3Bt2rZz0/UtMfmDZ3bk8V3x6NFj3M8//6TwmWHrNG2yStu41ar0OVwLVynervn7je61/zzvNvn9b9xJJ57pWlV0gCv37XdfiGaV+G0T6r6Vi5CDgV/Oa4jfLltolD/lRHnBDzKhjExu0DG5wSsGudC+gB81alQob2CobxgmICkT6g1wyBLYyENFSCPqksqQV+IMBnge8DGkCT/wZXKnvGjD1HXKCvwUx/IAn6QJDcIwpEP9AMfoWl3Cb4/BA4e7Y8eOIV9Wr0ePHh1gw+KAJjLiVnnpCCUDfYzVLcsL/MM3NImDrskUN7Im/awBhnySNm0SuVr9pN2YjEjH8IEBHj2G2WuvvUJ6lp80DdLmWVjMfB0omxARNAVOgR144IHBTiuiwRWzDQ67rmZOYI1mfXAMt672nKRhsGbXnEbaEURRAF27vLK0rd4XRE2HJ77g0vT1Cs11N+m4olD0opzV1H38ySdu4qQfwypzu3YdXLduK0sZMWtpHZioxCzd2Ojrxmu19AsMpsH5hmsNmHpnxtLEn7rxG3yxuGxYCktcalK5Z+EszdTOwhgtCzdYC6/Nb3jAm7sYDmEWDpzBWjql7FSeaRoGn9Ix+sSZoiXewlHQ7du3d3fddZejE23K2mhhp/TS8Pnlhnde1rxghw8f7k477bTACi+kNG8E8lLisReRyQ44y1cxmzSyTza/xKe4KU3iSAsbQ5zRw53KOcUD1vAMl7DUAI8xO43DDb51lqBh9FN4c6d8WHoWZ7IzGKOD3ybUSA+8yHOcyDM6BTvyGvBByL/XVQbgEyYa2NNVrrPkphNBh4YOA3EAdumyhHbI0KGJHRPCgQ3oynMVq8Z4FY+IYj6snAudNvjisXygO6lPdBIrK6dCIMSDb3kPieR+Atc5+siZzpXRNBkZbuo3GsjKniweMIRhwKXemh9eCMNP2UDD0jF4izccwlO3DSzojCFj4wPaKZzRy9rQhwblQvsj7/BCmOEDw5Ma4njSOHPDg9VXw4llU/jW3AYPlJN1/kmXNm9ywe7Xr58bMGBA4Ae61qk1uimPFjY/bcs7sjhTh2w+9NBDYRCBPCh78m1ljbzJPzK3QRBwxINvOo4wHuRB/gkHxgYBwCJDaBEHDHK0MrJ0waecsUkbGOgAz2PpGA3kCA3g07Ilj+bHxs+DwW8GPMOFDjDGk8GZTTjGbMNN/cDCIzoB7YI/7oSJExRMVrErr7kGSxUVrdXqm2qQr0mz8eNcp06tNeBtp2+UqW/xMwUWKuI26kIe8DM4ZnINOPiIfEVYBuBWZppO0qBM9Cqk31p1dC2atXWTp05wrVo3cx07dBJcHDiymGETafBv8oW2yc5kQ5pxsB4/NbD2mMLBj8kVN3FMaKDvKFejRTrIjzSRFeEYCyMcsTMBSfnbBAn1An1ieIYLHnDQZcxh9ZQwa8PwZeHgYaBj/FsY4aRB/pgUYiANTeJ5SCtNDxrwhW1txWCgZfJIw9K0LBzb0oBn8CwOOhZvdkrD5GppEZfmC7kYPPhGz9xLLbVUCBs2bFjIN2WFMRyzQ+BC8jPXBsp1kQ+Ct0qPTYXjsBQaMH4KEpMWdqlCMJhS6RoethW42SmOwVmY+c0mPHUb3JzYho8ND/aktA0m5dHkYXEp/Jykn8IaraydwkQ3fBZCxXo0OJLwyC+KTIGKk66WQtKKkWvhbrzxBrfCSou7HXbooVVlOpXsHgBGL6ycsoUoJI0fkw3+VBYWH+EjM2l89XB8BcWCD2O0cRejR7gZ4nmsDCy87jZCinxaWmZDw+gbT5aXFMbSKhaWjTMYs4k3mmanOAaXtYG1Ngp8Go/b/EaL8rR8WjpmGwy24WFD32hhI2OUNc8OO+wQXpqE2ZPSaWxuXq68CJlRf/fdd8MqBmEY4x+bFyVPGl5MTgEgh4tssjD4Lczc0Dd5Wpz5sc2kbsM1eIPBNjijkcYBb/EGS/pmjK75UxiLS+FTWsXqHfjIDVw6GoW8Bo2jSbhCR5a4uI2xsJIJboEusijIz+ptFJHJKbZb60TxjqJ8zznnHPf+e++5v5z1F7fhhhuFuhp21iTlYXU48gjnsQ0yAI7cRr+FY2OQATjkkY4X+SRNOmAWn20zqdxwgwsMdHiyhngzBgsePANvtsVhE2+08ZssgbVw64Bm40zm4GGwzQ0uePihRcfPOpOEWbrYGPMTR9uCNvis0IDHCsuiiy4a+hH0JYA3eVqaRsf8dM6hAd/QxDYY8IGzh/RwG13SpYNPB90GepYu5UccqzA88AF9q7shkUb8wwCAOs9qP6ttlA8dYx6TFXkhT8Ba3SFLJiNzW51ARsgKWuDwYMDF4AeGx1YUkbWlCwzlTDxlhqzxQw95G82UF3CIt4c4+KMs07IGLlu+wNpjdQA7awwPGxPS4nBA+jgK47H0QY80Ctv34aOqikGp6p6qOp9vtG7dTnBN3P/++6m2XV/ibrzpap3hwiQrq8bsMIm0yTP0myqPbMlm1XjKFAad7cWJD7ICBn04TavE5513nvv73//u9t9/fzdm9CQ3esx37s67b3ZLdlnONfEapHrJtxUTEVpdjNkJciIN45s8UC6pMbmQT8oGQxh4Wbf5DQc/PCJr8mbtjnDclpbRMzvkO1d3gKVeUCetfkIPNw804M1oWTi0wIFn3DzgpUZBMjEOPqGR0o7lEdMy+oaPn8d0i6VHmpZeLJ/qcrM4s1N6gRsxBc/QBsbSRSYmc8uHxQFHXCqHlC5wxKf0LCylS1uj3ZFvYDGkZekYzYXBnq8DZYRORU0NFadsFi4JUMTSTW677XZ2v9twDXfB+ZdIYbC1K26FaYjcpo26Iej9GmmYskvzXpvSi9+lF16YtcNHhVobnPGAjuAFgl4Ap654hj8vbXjF8PKAX14avBitw0Cc8Y+s0zpr4cBYOaRhhNdm6otXG905jTedDv+WT2hYfrDNbTwXS8PiDNZgLLzUSzmtk+ACT9lg46eDUMzk3vWCqR7LwNY6VFbG++yzjxsyZIi7//773e677abM0UmgA1bAhR68RP7Jc4yL6cR2QAh8WRiw9hjP2OSVJ82LhUEjpoGrMJFgdIAzA35qYtrVwyyeOKNhYWbHOHwFfo2W8Q2udcYsDgzcGOPZ/IQZHDTA5SHMZAAObnsMBh2Bod0xcLJ0gTf6JgfzA288GD3iTK6E4YeWGeDtIYzJCzrmlj5htHdoEEactQfoGa7xB3xjNeQd/QXf6DT8dI6zciGfVg7AWD5NbuSfMGRC/g3G/IRZ+wLH4pELMEYbGkbH9KrJGRjcNpmU0oYONO3BTxlRVwiztC0tg8e28rIBjuHBh5UrcBhgoQHN6Mcd61BMGz7iO8LeCYSjX/J6QjoiukVPRLy2XXPGy+cjP3c33XyDDhQ8QyvK7UMY/ScG1exeYYKQQTBJ87DyyzZr5AFPbDvv1GkR95//vB5O6P/ggxHulJNP0i6HE92JJ57uXn/jZR3oNchVTXNaRV5C27+n6jMRtf9wQjZlUBhAxvzFcg4Zzfwgh7QcSZ8HGVJXrH2AZrLCNrw03EgTlxrkD47R5rO9OAFpZYZdmDA2eGgEWtATPuE8GLPhz8qHcOMRtxnK3ngCD7+98/FbXIQv6H7ieKBpdRZY/IZHnrKG+GJ8AGcyMByjZfDQ57E6bO2JsDQt4AnDGC7ubJjVe0uXeOB5oG3w4C4sZr4PlE3A2AiYwrTCKyVwYGsyKV4WNo2riUaxuCytYjDFwsArhluMlzTMcMymEtbFlEov4sZGm6aT0oyijfKlHCIc/NN4aOA5KoneMloRBuVFw0Eh4NYp1lXabqVTr/fca3e3yqpL69TYv0nR6xsZbc8B1/DYvhjJ5xLJMWb5MTkQbGliW32xeIPPcSrYnMsc0at0q6eTC85bkbfqZWdheSA5jBcLK+63F+LsaQJvj/Ge8pa6Dc7SSm1LN2YzloHJFjiLT3HMHekGKAsK8on8FMp9Tnix9LAjndnznk8s46BjRicTPF5ARisD1mi8lj9edhj452WL315MhANnMPiLmbrkFTp1NVl6xms2POtP00jdlm4WnnDCsuFZ3Gy80cvCGb00nGzH+h1lmdKyeh/pmc6KckrhUnoWDl0Lz9KxDhcrxtNUrqz67Lff/u55faf8kK6H2mabbVTG6txAQ4lHPYnuiwNnDs0J35vl9WnUwZZvbNKmXsROclwJh6cYFnUQvKaP4Rkd4x+7oLstNtqW3zQUeMM1+hZv4fizuBaHbXG47QHHOk5pmNEKeZPElKvALzwTRkfM8PCbMRrApfkjHBzrO7DCwWDZ4AwWODPQ5TEY8Im3fBgcfuCwgcUYnMVZxxE/TzYdcAzfYIwWcVlj+MDOK2N5Ij1LH5u8kz/jm3grG8KJNz1n8gQWN4/BEgY9ow0d4gm38iGM+DQ93FZGxJsxeviNJjbhmDQ+BOTCLN74M9hS5WG0wQPG8PAbLbNTWOim/uruEMtPnkYIEf+MjmM/KA6muDGkic53eeedtzUp9w930cXnqW7PcBUt2ygc/AIN+lvGF+nxwC/vIraq33jjjeE757XWWttxUj9nAWD69T3Fvf/BG27osEf1jX0n17xpG61Mw4tWd/lsjoNaRZvEjD7pWvmjsxSZL0dgSNtgjQ8rZ/wYgzM3fmgabgwPv/xUM8BigOWJ1/Hhj7yk8bjNb0QMz/xmR9aq82f8GB2jRTjGaJltdZ5ouMxBBdhiP0aPOKNhYTFNwiOmpWnxhKbtyPAJN1jcGHAoA8LBMZPSsjCzgbV4s7NxaTpWxgazsNjzdaBsAk4LDnehohUKCYEbfF2FX6xgi+Fm4YrBzGna0AAH2vYUo5sNA8fSyuKllTuLl/qzeGlcSj8Nx00lT43xQRg0SxsaHi1ZD5ZAg09hKFlOTayoaOF2221Pt+oay7iLL7rUTavU9zMMgHJbdUkrbNsNJMAumJryA1Sap4ApWllTjP9sfrM49fWn/KQ0asoHZWvybkzKxniK+aA8oytWh1gnisk2zXcxd3W6s9cv6/Ty4qQjVp80iqU7N8Os3LHhmwE+5Wr1jDyRj2LlC86c5tFkWF88ZJHFNb/RBiZ146/JGH5NMBYHbJZ21m/00vBsmPmNrtkpTrEww5OGjvoqV7lDrc7rOyo8EOqQKJ4VEQbK++9/gBs6dIgbNOgx171797DSBkokEdsJ9NFp2ISb/s6TNqZyttUTvPDOk9ULxOX5DnRjg0zzavXL0gMnayKNXN4yDEW8QlsH19I0Oqk/Tdv4hgceaKX5MnzLl/Ea8qpOLttGoW10sA0miwuc8WHwBptNN+bJKMT8pOkQk9IrQEaX8Us6KVyaN+LMGG38uME3nlIcg5+ftvENn2ZMntjwbXrYBsX4yYfJ22iAb3knDDgLs36d0UvxA1Dux9I2vCxfFo5t6aZp4jYciwc2NZaGwZmdwpgbWItP6VmYwZlt4SmsxWFbuMFZXAhXEdAGpC2A1CCXNtHCDRs2xA178gl3xZWX6U5lTU7oczYxxX+Ot9heoYF8jXbUV1WuT58+Gmjfp8NTjwjX3HXuvJj6YJWuQ8cOujv5ePfe+2+4J3VFFN8oN2/GtVNKvYnO1tBhrKxqw4tSCnStmpAO6fFEPgoruCEvwsCkbuMrxlT/JS6FrR6b8ZHvoJWrh4OfpRH5LdQJMLIw2TDjM4UjzMINPo03t8FFPzhAk2YosugJfpNdBDDa4Jnb7IBPGRRUTJ6OlbfBGh95gMRhMIEeDCXG4gzf/AaS9VvbNn6Jt8dwFhZ7vg6UTYjVG1zsSBJnBWBwc2pnC9YqwJzSmRvwKS/FKlcaT/ppXrJxNfGX4mXhUjrAWbuxhp3CG6zFRdhCQ7N0gCMOODV3rRzHQTQzk7v23NWtseZy7iINlP0svkUrsc3eyOYUDHxAN6adBKYM5mAyQXmv8ZcPKOGwfBKdxYlxMFddYRopwy3FZ8xDgX+Dl8SC0s+mZ3Szdh4vyKQ4L1kc/NXxyB8vwOLGYIlN3byblOJssilOpYCbzZvRNJtOU9YQZy+BYvFZ+Mbgh2deINjWETS+kAHhPFl5GMy8tmviAz4b2pRKb07SMhq1yzHqojQPaTpGx+xqcVT0nDEp0K759o973g859FD3r3897p544gm3+eZb5LfqBawcaqArZAbY4OKPIjW+jLLFRT9wKU+WTwtTqxJnuUTkMr4t3tqM+S3e8oNtcRZmMPAJbfNbvNlZPAvP2vDAQxsAx+jhTmkQnsaZ3/CgC50UJksjhUlpG0+zw8d3EjSJIy3r9GVhjZ9sOH5Mype5U9vyUYqO8Tg/bePX8mT5SsONf+JMFthpeDYPBpcNxw9etp4Wg8uGpTylccZ7Gm/uFC4NMxzLRwpXzG24hlcMprYwaPBAI0tHwTJRV0g6oYXPCGe5NHM33zzQff3NZ+7ss87WtmhWUOP5LtQv6JksrR5j8/COv+iiC90tt9wiGjeH3S/AspXa6uZxx/YNK8pDtKLctnUnrWhzuJf4dHyHq10xbL/Oq5yC3iHQZALn2TylccTXxWRlAk5ROmJDEixOEhkXj5lN5tXAhARmMR6qwcljPJltOGYTTnlGNUFZZylEGhE/Chdcw58dunqIpUso7rriAZ/CpnQIz/qBr8kAbzjgp7RrwlvQ4hrFQNmEjc2sY9ksKBJI1ZFpAlMQNDo6OSjx2Dh33rmHW2e9bvpG+WK17viN0IKS04WJT9rZgqLQrAOwoPBruoz6Mj9eHKSfmnktt/mdfpr31J3yVR+ZmFjpfPL937777hcGyYMHD3ZbbrllGCjb6nGabil3pFeXsiro01K05l44/Jlen7NUrB0Uk3U2TDkMxOn4WjnNBmMFAEeBJcHSqc3xF/Gq85ulkc0BOAZj6QJjYQafxllYFsbCsVP4FM7C07AUb365S/GVDcefhlk+0rDUXVN+DA4Yo5OFByYbZ3jZ8CxuKb/hEz+nNFLcYvRropfi4jZYs6GnYH75EXMMlJtoRZmDuJq5c84+x02rmqR73C/Q4kPuu1R2X4TDvITTRP0sHYpqtDmpms9B2G79wAMPhGexxTqHdBn8xgE2E1nN3PHH9XPvvv+6Vq0fVVrtXcvmbUQPJqbLZqAc++R5TZBzVOMXlmPDBHE+m6gzUyayvFl5BP2Rz1imDCiBJC6lh9to4M7SJ6w2A36WRv3o5IqrCK8pffipD/265COlS5qpvzb8BSG+UQyUTVB0imnADW0WlIJbEPi0hhfaZJGGWSi7GMkgeSbbsrUFu0ePHd26v1k5P1DmG1QzQemGBqaQmrSTITSQnc9PyQzx4qoxo3XixNLJAs8vhZLlZ37xkZVH1g+fjZW3LK/45ye/2TI1/uaH/OanHCzfBTt2nErJoSC30h0jYNBRvKPYQr/XXns6Bskc6LXVVluFCV5boSmkW7vL0s7yViq8dopzBkE62bTnjEJ1aOOb0Op0eQeE/6hNa9HxNfGVppGmDknKCFM97RhW/i0uAZNnXWRmE5dQqgt8sRTnJL1i+A0dVlNdqymt+uDVJe+RLhVZA+Vp8dOj/gP6uqW7LqZ7jk9THeeU+LgbL9b5HKzua+fbfK6vu+mmm9zzzz/v1ltvPV1N1ldXcXbTSrRoaSEq3nscJ6WY3Dv+uP4aKP9HW7sHuRbN27qKFu1UtrRVrjXks6eG75PXJFfiogxw1aXvlSoWcKIppQusDIgnn2k9jjg2gOV9UHgnWJzRT/EsrCY7i18MthhNcRMVZw6hGEwxWiDFNGMsea2bPAvUTFaFkLq56s5j3ejNb6hGNVCOjaMwq1wX4ZQqkGIFXAq2VDrGT6n4OQlP+cnykcZBMxs/J+kUg803FpRCMYA5CMvyCmpKMzRqhVgeGCSz/ZrvXHbt2cOttvqyOlDiSjdTh5Ryx5813nAGAwoBHmOgKMtfxOTzUy0uyVw1tGqeahilPCRfPI0CRoHHQliB34JEiskrxcBdnFYWqpQ/5o/fQqoGmw2prjgNKrVr56VAw8ouxa+rO5VLqTQNplR8XdNqDHDzIi+WRqn8zg05WppzSru+eKXyVlO4pQVMMT4L8YVOUTF6wLGizPbrgw8+SN8nDwoD5e7du8dva3PfIxfDLRZWSDfGprxZXBpWjMYvC2uYtlwTD5aPFKYueTK82mFjHgxOPt4+aXJld1kCC6AEeKOzGy9uez70sIP12drK7pRTzlDtjvdQx8NS4wG4TGCgm84999ywirzjjjvq0NQLXdeuXcNBXuzUZFDMZB6ryM30xE9Cmugb5eO09fp1N1QD5XZtFlWcvlFmEbmJztQIq8mNvT1ZH6+x87kAVsMaWEZHm96tAWyhiGqUA+WFQrK/ikzkFJTpqVye8VoDQpnPZKAs5d6z585uZZ16feUV3AUY7wHMd2qMRlFdV2PkPJJ07Z3KqDhgZ/ZMIAH+s8bklA2vvz9NZHY+It1CXvDn5yWK8F1/Pn45pnWWI4+l8vLL0ylTWPgl0BAvdWjEgXJVuH+U75NtRTkcQqWOqBkm2grtykJnt62ON7wemD2tYiGF9Ikt8F8Mtj5hRj9PvS5CEbDhNaxc0I0Nn8f6yKWMU5ZAMQnEes+EXXyPc18yW6j79u3jlliyszvt1DM10OV+4nhAHPAc2PX111+53r17u88++zx8k7zHHnvo/utprn37dvkbGOiA8Md5MawS2+4Atl6//c4rbsiwRzRQ7qz0dOo1i8gLwEA57Vc1rK4oVjoNG0bZ/ZLFhoblpkytJgk0qoFyTYyW4xYACQTdTg8RXmOHhFlLBspOK8q77b6rW3GlJdxVV13jZuQGyga3AOROLMYBZmmFjABq6ohFfMtraToGUV87FEQtvNSX9rzDs85ymuLck1maStldlsDsEqA+2kB5r732ck8++aS2X7P1unvYep3WTYHWaaA8eyrzI2Tu6Qtrw3PSIaze+UUeNenUOZFXbfp5TmjVH9ZkAoW0ztSf4tzDNF7nJ5/Gg+Wyvrxk6fxSeoY/JzY8lGoL6IywlS1X3cln5dRprlXrCnf00Ue5biuv4Pr3P0krvvF8lxm6TYT7g1kpZmA8fvwEd801V7tVV101fB7SurW+NVafpXDuDwfsxTYQrnzK8dK/3ym6R/kFN3jow66tVpRbNGsbVpR1i7ZaXlhahkzDNcM5EVgNsKmeAKyUXI0EWcBU0yYWOFtEAK33T9D/NdCsVhfFEAtGaVh963jdGA6SC2nWBJ/yUwxu7vJYLMX5F1YeKM8/2S98KZvSCbOhUR2FLUFBOTfTQLmnW2HFxd3fw0DZ6cqoCskgUVuNUBlXL6R8BqsH5321Z8CUT21KPU+yXo7a+KwX0XmOZLKyhOuqmMGrK6zRLttlCdQmAeqVbb3mG+Unn3xKK8qDHVuv7eqb2mj82uKtDc+pvivgJe+HhUR4C1LeGhuv8PNLdXtjy1NarRnIwp8dDMhnHmyTPvb4Y9zii3d25/71PK0U65CtsP26mfvqq6/cWWed5X766Ud37733unbt2gVyFRWtwqGDbLWuPlDmwC8GZWpXpKMt2ccf19e9/e4r4R7lOFDWHc2sKDuu9gpLy4FmY/uZ04FyY+M/zj7Alek467elYXOL69r7qqRsbaUYF7+0HRaj2VjDygPlxloyCypfof1Zg9cdyjqikRVlrjPYbY/d3HLLd9ZA+drwjXIcKJNRlHYuw6YzquW/bo26Gkoj9ZjimdOO45xlh5etpBpkmRWoxWXD5yyFeQJdj2I3+cLfr0mRz5Py+BUmQn2yeoSbg7x49t57bw2Uh4UV5fJAuXTFsPZYXBfVjGdyLw3VcDFpOTcc1YWDUlk2864ckfVMnV5t3xOTstfg+dLLL3FjRo/SoPiccEZC+/bt3dNPDXe9evVybdu2cbfdfptbZ511wnufgXHz5s3ClmwG2U00WGYrt9dBMOzw4zyYMFAWbeDCN8ofvq57lAdpRbmTDvzSQDl0D7jLOYyYYaMRmtiXMcbmVMcYXtkuS6A2CZQHyrVJqBw/ZxIIgxt+okExV82YqVnRFm733TVQXmGxzIoycNLKASU3MsqP4Qp0AkyO5oJv5fI51zJig2ESyAtT7sKLZWF8qVin3MQ6LzvalmbZXngkYPXJ6hF+Bsl8E7jffvtVO/U6PfHa4BdMSTSkbqq/vhGmNFequ+auNCnbUjoxxs07XuZuThuWelk2DS/PKNM4QJ3FXVAyV155uRs/Ybw7/fQz3fhx4915553v7r//fvWpdlfY6W4ZHdrVTINeDLteWrRoqQGxrpgKg2QmjYmhPcbrOsNgWSEMpHv16u3ee//fbuhTuke5zSJh63XUYQ2pC0i/oU1Bv0C5VPstnWrd8lc3qNKp/PKY+c/BL8/Dgk2hPFBesMuvcXKPFpZiprPDjOT06VXa/tMyDJRXWKmLDvP6u75R1qnX2nodux8BWLDAy0SNJ0fOHwPD78L6Yx3Dhup4RNmHYgizzFm51fRSaSgesmnOTT88Z82CPWDJ5qZ2v8ng15bv2iVTPwiTJ9jIFD93KKPPDjoonno9dOjQ/PVQBje7/K1uRm1XP24aBos8zM5fSjvySnOqSUdE3Vxzfkx+ASqv09O0Go87z2sRPmuXWePJx7zmxORm6dZctwyqbJsEsnULPyvKvLTZFj1dVz5xmNezzz0bTrPuunRX98Ybb4XvkPv37+fWXHOtsLWa1WIGvTRavlvmsC5Wpc3Eah3bNld28rBSTXn16dPPvfXOq9p6/Yhr366T6OjUa2gtEMZ0K8wW8lsX1rOynw0H0iKZs2aLntsB5bY1tyVcd/rlgXLdZVWGrLMEUC2Fodr06TPCvX89e/Z0q6zW1V16yeVuRlUTV5G/RzmnjUwlzZm+qzNX9QKcR1qyVqWNRGvt5M6ew1TZ1rUTYzh1hZ891eIhRpfYhqZtKVoac4u+pVO2fx0SoD6ldYnV5OnTp7sDDzzQPf74427o0CGue/d4jzJwKWxjlFA2P/Xlsa50isERhqmLrLL4hmt810Yji294WbuucFm8sr8sgV8iATt5GhrUZerhDO3AY4dK/MyjyrVu3SrcibzLLrtogu5gd+mll7pW+gZZCOFe5LqND61PJjv3jTIDcnZt9O4dT73mMK9FO3VRfAul37xe/Y1fIouacOd2+4z0Qynk2UBNScRFzdznh2SjnsQV+SjBDAAlzNzms0SyC11weaC80BVpY8hQbOBxlVQryhxI0ay5rofa1a2+5vLubxdfGq6HaqmBctxe1zgHyrE/V72jXFfp1qRki9GoTaERj6nWMSSoBt1p/AdEJF0DbISJv8xOQ7haWgqJPNSdTkoTt+UBd5Y2YWVTlkBjlwArytOmTQ8rygyU//Wvf7k//vGPoWNLnW7U9boWfTEnsq9NXxmtYjrD9IDJqiZaWfzgR5FJuUU8vr+01Opvx3TKeqn+EixjlpJArKfFK2k2jsExE3EtWrRwkydP1vVO7d3w4cM1mD3ecdL+X/96brgXmROtGWS3asWBqHUx9MakAEKnIB7QFVau9Z7vfTyHeb3qBg95yC3ScTGtKLdSm2qWa1/F+a5Lig0FY20TeqYzGop2gU7sX0V/zHMsG0LwW3waN6eyqU4jphV/s/WA0FyXr0H0m6VVLB2LK9ulJVAeKJeWTTmm3hKICiE/UGaGVIq35267urXWXsFdfOGlbvq0WS4MlEMvRwonoOinIXo99ea7gJgOMlPlXFdFAxwKtq7ZqY0u8ZBsCsGcfq4dh/wEwc4RLzbLneYbSpzIGZIPmYr5I7wuJpUn8FnadaFRhilLYH5JgPpLtacjO23atDBQZpD86KOPuh122CHUZ1aB5p+J+oH0S7Wt2vTFHPGeNv/ULSJpOrgxKU+mCywshQ/AyU+qiwKlHL2UhtHJowkwDApmSzfyQkHmVGgBJeGzGM95wLKjLIE5lMCc1CfqOw+nXfN98hlnnOEGDhzotthic3f7HXdoINtRu/NaSgdVujZt2oQ+QXgdi6dcFcZFz0ONLmUU/cAEOEaTS/oL13bKx4ryW7pHefDQh8LW64oW7RXK6rZWnOPx1yDNN2Pyg4HZ2nptXNHkTQ6mO3IByK0QndMYgrE8R71ULIF4h3Vt+j7i5xNPCFlYIag6bCEcBgOPOZSCLGKAlX0Bo/AeICwrr5LpFAiUXUUkUB4oFxFKOaihJBCVT1UVB1I0c7vutrO+qVkhbL2u4h7llsn1UGgDzOw6JIbPh1978QSW9IOSIcyUU6q0CEuVUowrPVAmnheiHQKEH3xs0ggvO/lTmolWD9KIcICKlh5gq8ELwfwl+QlaOJDL04zfOOkGRX0jZcZ4MpvwSJN863soeDdg2fIGE/NjMQV5GF8JStlZlkCjl0D1gfLjGigPaiQD5UJ7RIi0r2ybx286pyBoGio6p6B/LG72NlpovwZTzI5tnpjY7sOBQviUBiFBV0RFInUf+Qxp5XQGmGbAQZkELuVGz4lQiDa9k39nKHimdCq00D8BF8iAj35SHnOELa5YZzfwqTQszmBnl0eOWNkqS6COErC6ldYl3IRzCBduVpRHjx7tTjzxJPfss8+400471R111NHhhOqKVq3Ct8UsMmBi3ay9XcZBcmw32YFy3xMGuH+//rx7avhj8TCv5u0CH41yoJxvwcq8NeYgiagWZoVvtZsGPZfKJvZPyH9EyqmQgCnJ5yjIyomItg8MeqRQVuBGXWl0AkDAiboNJIO3NCKNmETQT+LBdIslHHnFF9OI4XFAHt0x3cgXbpWivkGPaRVwjA5pQgs/OLbIQVguKpIt/9ZJAuWBcp3EVAaqrwRQDDNmMJPZ1O26aw+32hrLussvu8rNnNE0941yaLZ5BRVbcX1Ta3g8U3ZQjkoIrRgVE8oHxlE9TaS0TPlFnAgXFRbY1Q0dVr5F4qAOBqTWgaUjHpRZTpuBb3SrURD5kLoS44UWFaEpzgiZ4hpPpsSBICwq0lwZKAw+eGFj4I1DPWK+IwzxpExYDI/8RQUe0MJPQVHHGXICgSmalwJa2VWWQKOWgG2NtG+UBw0a5Lbffvtc3aaNFNrSvM6ItUlr4/hxmx8dwSQYxnQWcYYX23Bs1yleIR/QEm5s3IVguUy/WCDbOtFL0LQJN3QHA93mOX2XpyM9FNy1iI53ySzpJuhAk4d8mBHn+cEGg+hULxYONorwxJFvdJytIOXpKNwGLfBlcizrLpNQ2a6vBKi7Vp+wMVavKisrNRhurrvZh7h+/fprx10Ld80117htt93WTZ061bXSt8pW3wMu6IXqX7RdhgRy72ve29HErdezdG0npn//k93Lrz6tA8MGuzatF9HW6zbiSfXexW+YQyKZtCKduf8bRWR859KT10KCPHIyQLZcR4peCO1X4LRfoumfRbDgkx5CZ0ElaI1YJhEy4HJtFt6muUUAEcgnTjqmM6BhvMQyQefGFfsYHlfxbVA7g4PW1BemXwUnBezY9zIuSSxwJz2FA92HzmJLPunAA/UmHromKlFQOR5jvvEgB5MHh701lb6LoIUBfR6p7CgpgfJAuaRoyhH1kgCtW3f2BS2j35k0ailk7u3rqRXlVVbt6i677Eo3KwyUG/eKcjb/KBiUVTC48wCmdKLqI+9pXzLfIczDo8Ci4iPIOmOpArOXZ0hExKyjF3lgltBmG80uvHChieLke0quiUBZolgrKuIsNPHBVMsDfETFCizG+A62YMPLIQdD7o3HCEeeC/m2SQRT4NhRsdsLhxSQIDIrm7IEFgwJsO2a9nHAAQe4xx573A0aFLdeU7dj/S9Vn62uY2NKwcXY+vzSxuAt8gE/UQ8QThg2q1WttCrFJB0GGDPAYASWMxEvTsJZGHomTuwBaFfSxLRBjMjQgheTC9iBN8nJEjC+rHNIZzZvIJN4Ca+U7FvppoQ4mchEnjqblgHBQ4+OMsbSjXqIfJJ/9FrUU8Dgz+PncAiHTww0MKRn9FL4EJn7sbykYWX3r1sCaZ3AbcbaqMVzQCD1ijrGpxycqH/sscdqFfkot9JKK4V63bo1J1Gn706jlrOLtBeDiGkDoIc25aFD+1T71l//fie5115/VivKj7s2rTRQbtJWaQES2wuwxr41N8XOVWPpBZ5zKXFKt1gJBr5DjghSGLpjRjgLp5mLg1H51f9pya5Fa+eCY+ALkZmiFfWR0zb3aa6lBqDoNc6fYDCJrJvpKeSXhHniokR0x35cKBeixLTxzaeGDIJn6HqXCuksttFTzmEAztZ3BtN54uQEvYO+xRV1Na6qKl0PIz8TKMShi9B7pGP4TPaRFyZBwwBcgBZnugx8M8ZjLikLLts1SKA8UK5BOOWoekgg3wpDMwwzd3G7HAPlXVy3VZZ2l11yRRgoV7seiqTQFxEtk3DJiAxcw3mDIoJcwk/odCmC7T2zNNDl+gYUUfxu2JQbqxSauZOS5QVlL0MUu9EChycqexR2hEMAKNCoCE1pRoUYFWtUzLAFfVZXzKAYg5TQpqEM9KKQ4jRFCc0WLeJJlqQXZozzyjamby+iwJvoGC4vF7ZP0rEM6Qo/fbnDQ1TMkX/85NuUum17Ahc+LD449GNK3fxluyyB+SUBmg5NyEzWz8oO9XX//ffXQPkxDZTj1mvqNuHF6zLtyyhGuzhcdZiafLHza7ya7omDPOLgB2NtOExyKRw2WLlitarQFiMdo0lni05XSgddZfqO7yM5nJHtn1FXxDbM5B8dwpBWTpkHmeQGwOgR9AY46J+wWhPkFljN4RV4hlc6gfCBm0kK6M1UZ5G0Q+fRlGpQe9Kl4gG9R95YhWEVpTCwjrSIi3zrZGF1RKW18pOIVi7Eg4ffZBnclHFOtpHrqOvg0XDNtviy/euTgLUlqwvmRxLULSavrc5Qrz///HN3zz33uE8//dSdcMIJbsMNNwx1nPbCKiJ0rL2aNI22+UvZpKOWEVuK6Nip1wpWG3Sub9+T3BtvveCG6NTrNq0XjQNlFlSb0L+IA0tgMaDPbWNpidGgNwPLSp92T17ioBFGYh8HeKkWyVV9L7XN0WPGBFkt2mkRtWHOx4FvdCR6R5NreoJMhEjf1HsNYjWgRR/FMmnmRo0a5Tp0aO3atWuvVBikottp63GgjH8Gix0qS9Klb4WBl3B/teKDnmvWxH3zzTfh0LVFO0u20pvIHxMHtcEZfkgbfo1XriFkkE39mDBhgltssc6JLoq8zpzJJEvU9RChjsBn/P6ciVEOn5ymvHQQrr2fYvrAYeA5OHP+GFr+rSYBFU7ZlCXQcBKQ1pAyydNTZ8VPr5rp9e932KmH73diL7mn+KmVU6VPqsMmaHn86CjQy0Q0jLcW8jNnzBSv3kvpeM04+qlTK/PP+PET/IQJE0P85MlTvA7hqM6T8MCNzyzhT/N6SQYYaKlz6adMmepHjvzc9+3b13/22eeBxqRJk5TedK/OWoABARrAkwa4PLgJI66ykrAq0RjpBz8xxI8dO85fdNHF/rprr0t4EI0Zs4QDLfI1M9i4LS1oksdnn33O9+7dx3/6v89CHLwThxy+/PIrP2rUaD9+3AQ/evQYuUf5H374MTw//viT//nnUV4vCD9x4sSQP3XOA43qwin7yhJoRBLItdNSHKGvqP9Tpkzxu+22m9cAyuvka4VV5dqSCMx1Q1uv/sS2W1VjyuCgZ/797/8E3r/88kvpC+ki6TZr9/gx6BPaetRPM4ONLpouffPOO+/4XXfd1Z9//vkBj3DTZ8hm0qTJQR989dVXfrLkBE11/rxWgwPtwUMG+2233c4//9wL0jFTQ1iV9AlGK0LB5gea0IMXTKXS/u777/0BBx7g77jjjkA3ROiHPNi7g7TQyfAFL//736f+008/8599/rnSm+YnT54k0CrRRrfO8mefdY7faqut/ciRI/Wemm4kgz67//77/X//+99Qvsgjyinq7jygHMgWfu3BXza/bglYnchKgTrEw3uR+vLdd9/5Pffc07dt29b/6U9/0nvzZ7U33pVV4Yntq1h9KhaWTc386Ave9TNU9/WEd77aW64f0Kf3AL/xJhv4MeOkE6ZNVDvM9VcEaw0rVOk5SdKS/gU2aVrfhnY9XX2bqVMqQ/8Fd4ybpTY9JfRJgH/xpVf8Uksv448+upfyh27jEd5UwagNT5ZOmCTZTxXO5ImTA70ff/rJb7/jDv7Y44/xEyeP8x98+KFfdtkV/e13Xu+nTZc8pkt2qBgloAnEQA+dbwY9iUFHjB07Rnpngp8xc5r6uBP9xx+PEK1l/GGHH+gnTRktvTU18E0ZT5kCL5P9lMlTg66aLBsdTb5uvOFG/9vfbuDfeONNP3LkSL/DDjsGnQcsfTPqDnUI8/HHH/kxY8YE/qYoX+hcZAHcRRdd5DfeeGPFj1W5oqNiX1ETigG3/FM3CZRXlKtNG5Q9v1gCYXqqMDWl9qjZrTiTt/MuO7k1uB7qb5e5WVVNNWNaEWa/cvNZmtpS6gXUhJU2s/xlAABAAElEQVSSEQlMPZ3MAJJskXSlbMLMr83kqkm5H3/80Q0bNszdcvMtbvyE8WHLzoraHrXHHnu4ddZZx62++mphhi6e6C3aomF5gt7PP/+kexHjTKVUL7uCwirLp5/91225ZXfRfsqtvfZaYeaQe6bjWkqcCYRHaPzw/ffu+RdecJtuuqlbZpll3BRdI/Hcc8+5FVfqpq1a3XRlzePuxAED3KDHBoVtXGuttVaYrUZCFA8zs+9/8L7yppWX5ioHbc9mlla6N1xHsdxyywX/7bffEQ4SGTpkqFtn3bVzM5LN3Ouvv6Hvmvo7vXTctOmVbuqUKa69Ziz1Moqzk2K0Xdu2btz4cdrW1d8de9xxYXbcZjSZMS2bsgQanQRq0AXwSvtXZynM0h944AFhm+SgQY+5HXfcIbRX2/XxS/JFGqXaRxqH2x7SU8fJvfTSS+6TTz4JK1D4jQ7NjZNyd999d/fuu++EbeO04S6LLx62KvN5BqseGhgG3LFjx4YraNjm3FyrWRtttKFO3d0ypPfyyy+7fffdx+2+2+7upptvCisgXFGDXIJukU659dbb3L333uP+oRWypZZcKuiN6VoZg5+HHnpQ20qPdwNvGeh20y0I6Ed0JTqE98Tj0l0cZIRe26lHj6CHqnIrSaNG/Sze93PbbbuDO+mkk8L9suQ96Fgcoo9uUxfQffTRCHfBBRfo/tkXdD2hVo1Vtn/581muT59eWgli+zxnZLR1Rx99tLvrrjsCfNzmOktptnAPPPCAO/zww925554rnD6Bd/i3nQMh3UwZRBairrZVaMLK5tcnAdpmaqwt0k5om7xvH3roIV339NfQrs477zy30047hTjqDnC0CzNWn6IOIHTO3qH0NYLRZ3F+lnC5S1kB7Pbq06e/VpRf1KnXD7t2bRZ1zZu21+4RoNlRgQP4aBE6rwwiJL/0GzRQdTfccIMOg13Tbb755grXSq7iJk6c4G4ZONCtttpq0sM93KuvvOr23GtPp8kHd91117lp2gHUunWFmzR5knJB+427STgnAX09Q2UxeuwYt2X3Ld1aa63m7rn3Ljfqpwmu+xZ/dOdfdLLbd+8DXYvmHYO0WZXns0LKRpOl7sorr5Le/DboIQ2S3Q8//uDGjRsb0uvefXN35JFHSJeNc9233Mb9Zv013YMP3avV+g4q19bCH69+30zpW+lO5S2IWHTZPdCiZXP3pz/9n/i/1j3yyCOum/p0xx57nHti8OCg39gazk6bH5Xegw/+01199TVu0UU7u6233sYdcsghbo01VteuIbZsO3fVVVe6f/zjbvfCCy9qdTwe0hZ3+ClJFavVy3lVpgtsOqqIZVOWwFyTgLanaJaySrP13m+7/Q7+xFOO99NnTFZYZZgBk8KLaWPlnLMzUzJidtB6hDD7Vsww+8bqKTN0rBr/+7X/+AP2P9AvueRSXidS+mu1Uvv3v1/t99lnX9+16zLh0XeLAR5cTFjtkE0aYzWrx0rUaaedFlcpRBc46L///nu+S5cu/s033wo4NmNJPLOH2MyOQoc0Flmkk7/33vvCbOrIz7/wKyy/ouieoRnJSn/zzQN9hw6L+NfE7wYb/M7vt+9+IR/MWE6aOMXfddc9XopVMB18x0U6+E6LLiLelxbNRfzxx/cOs6wzqmb52269wy+15NL+hedfDCs0zESrw+uHDX1K4cv4jTf6vb/++hv9wIG36hnob7/9dj13CO82r85yCFeHPCdDZsmZmS0h7CCt8k9ZAvNRAqqapXQBuok4Vj1ZCdWg06uTobb4WGjLtNHS+qvueVInrCgw4WkcbtI0PcGOjdNPP91rkst369bNr7DCCn7VVVcN/k6dOvnll1/Bf/TRx15XWnkNCIObFde4UjozrLxutNHGgl9euCv6lVde2WuwSvfY9+8/wP+o3SJff/11aN/aouiPPPIopR13nqCbcE+cOCk86Mbll18+wJPG+AkTwuoyK8waPPsOHRfx9933gPScVoz1TBLehx986HfQ+6Fj+w5++WWXV9rL+gce+KfXINmP0c6YadI7P2vXyia/38RfeOGFfpp0Zt4gMj3oWlZ3Xn75Fb/GGmsGHjTI9a+++pq//PIrlLeV/L+eeEyrRqOkxyp95dQZ/vDDjlI5NlX+/xdkyWofsr333nt9J+nDv/3t4lDelLnFkRjusMqulWtkyIOf8FAX8syVHb9GCVh7pS5YXaEO0V7HjRvnqZe6IzmsJn/00Ueh7rCLTJ8NhPqnb+1z7/1oR3qssNIHqK4j8GaCZhO5tIVqLbixfrKazAPecb36+o02+q3/ecxIrYJqNZQV5bCCyqpp9bRmI9zAAWlq8EafoWq6ZCJ+TujTzz/2qHbwyM/KKbr4iy++8D17aofLBReE/DzzzPO+82JdwoqyBqKhf8TK63777auV3WX9Ml27+qWWWMIvrT7ccl2X8VdcfqX/r3bMrdhtFb/9Ttv60eO+8x9+NMIvvtgy/u57rlU/dayELilocZ30KL+wMj15svRif7/V1lt7bZP3m/5hU999q+5+hx239yuutJxWqLv7SZN/Eu0RfqmllvQHHbKXn1z5vVaOtaNF+br7H3dIx3X1Sy/V1S+5xNLhWabrctLPT6ivOSHsLqyoaOWfeuopz+6crbpvrXRnSGdND7v4CNtllx6+ZUVzv/3222qXzra+y+JdpPfWCruGJk2aIp1U5f928d/8mtKF7LJBR/PEPiXvj1j+NRVhrGuUij01QS+8cczYlE1ZAnNNAoyLpmpLMPbO2rJ30qm91emZk4Hy/GmgDOjYqsJAedy48WEbCwNizUn6fz3+RFDWJjS2/tAJPeigg/0f/7htwKnUthcUIg+GDtz33//gV1xxJb+vBq68NOncoojoYL3zznu+fbsO/vXXX1fnkK2BcWsPLwpTbLh5HnroYb1kO/gbtD1nnLY+f/LJ//xKK67se/U6Nmy3vv32O0VrEf/6f9706667ngby+6gTqS1Kk/Sinq4B8G13+aWXXloD61P8GWec7vsP6Of//Of/81o98S+++JL40lYi8X3rrXdq8Lyowl4Qj2w9ZOu5BvXvaWvSMiv4a66+PsiIvPEyip1E5Ud+FDITANi8YICBd5NHlEr5tyyBRiSBpL1mubK2TB2n3bL9WDtNMluvs1gN548d5ZwyyZEljK2AbONj2zCfP2hFI2zfZCve99qqzGcQfH7RVR3Ej7QNcPjwZzSAXEFbPr/XpBqfisQtjLRVtn2i68AZp8HpnXfepcm0jv6CCy4ME2gMopdcYskweD700EMDF6bDaOdsG0Q/MFDuqk7o55+PDFsKv9BnGgxyJ2qb4VVXXe3btmvrH3zon2HSrFLbodEPxx7Ty7dqWeEP2G9//4P05OmnnyFduWLYBsnk3ERtmf5Zn3j8YbMtvVbfgv7M9+ETsaCLDzjgwMD3sGFPhk4nk5zjx0/0Z511niYqd9UW0++1XfFDbUec6A85+HCvnU1hizU6zvTuww8/HPKJTjRdTRy6mjwThvzILzbhDGJsIBM7mEFE5Z9fiQTSMrd6gL7gsUHyZA2wqFtMip944on6TGF0iKP+8ABrbT2lZyKMYUmFt4ha7PzW69xAWVVV7U76QwNABsobaqA8aswXfuo0DZQVFvVdYet1LeQbLDrNGTzQ95lWyeB0hu/bp7+/9577/aifRvsvRn7hR44cqU+9vvc9euzkL9DkWZX6OEOGPu2bN2/ljz2ut2Q7Nkzc8ckFCxQ6zNRvs83WonOCP77Xcf7gAw7yjw0apMHs536llVf32/fYzv889mv/yf8+kf7q5u+652r1XbWlmYkDiYIyDTog9GWqQjlZxtEJZs4+5y++527b+9Fjv/EjPnpfg+4u/sCD9vJjxn+hgXfcGv3222/6Q6VDDz7okKCDDjjgEOm7bnqf/Cukoe/UvVaXva4fDLp62223V/3QwF99OOQycOAtyk9zf/QxR6j+xM/0Bg681XdedDFNYh4tvSSdKX170UWXhElD3gf5+iWZWp8SWqVNnJzVr0DsKQ29MMeUB8oLc+k2krxNlWKZMrXKb7vd9v7k004I3yhXTqPBS1tbb6dkOywZMVdzZ7NtdP4YLD/33PNh0Nh9y63CN3j2vQzfjPCd7rix47Uq/IHfdNM/SElpoCgco4EyIozvdldbbXW/z94auErp0sFihlcnI/p33v5ASq6Lf/2Nf0tRxtUJMmgzgNCwgSYryjoUInQIX3jhJa1s3+A7dljUX3fd9eK10l980d98u7adwkCZ71y0DSmkP3mylLno3Hbr3X6nnXbUjOcE/9XXX/mRIz/Xd3z/U8f6OyndyqBk1Wf0N1x/q1ZVFtWKjFaUtQITOuTK1/Dhz/klunT1DLh5gTEDykNngNUhOtusLkGLDjidV14w8F82ZQk0WgmobdDOipkQHtpgnADq0aOHOmTN8x2b2DEuhtlQYTBWgjlixCCDtvHjxwe9gt6KE3zTwuB0ySWX0ED5fT/86eGa5Fo+dL5++unn0GZpl1MFT1vlYRWY9kunTduyNZl2hj/s0MPCpBsrvdrCGHSPTYYhG9zj1e61bdtvJz0P3EsvvRwGoOusu65fZZXV/Nprr+c7d14i7GK574G7om5TJ/SD9z7wa2kl5A+/39SP/Hyk/+qLr/xb2lnTqlVrf9HFF2k1epIfO14D/x9+8ptssqU/NwyUJ4c8B+kiFj28TlhpJv2ttdJD/ljBQQ9NVJ7uv/9h7Z7pqNWnP/unnx6mTvIQv/VW24aB8scff5zTUXHF7cEHHwwTIaxeI9tShjjK3gbKwFlYTXil6JXD570EGqKcqANRB8TBhflpk9QNbB7qGSuQfI/M+5+Bsg1g+G6e92Tkp3idqy+vNlCeqf5GcOcGyqy6HndsP/GkgfJYvlGeECbVqfKxfzZvy4NBWfgTA/AgsYY+BoPlXkcf57dRe73w/It8v779/OnamXfCCb39kkt1kZ7Qzg/BDH/mBd+p0+IaQB4XGEdekzS43G233X2r1i21G26wn6nyqNLgWUcVSO9N9l98+Y1fdvlV/dbbbeV/HveVH6FJtCW6LOdvu/MKyWOMvlGWLMKcAWUcV2WRDbsitaVb+mly2Gk3Rf0fdM6f/nSGP+jgvTVQ/taPGPGhBspLaaC8ryb7vvNjx/2scp8cdBq6lv4TExNag9Dk6+5hl6I+7wuDaG29DyvMIzUpsM022waYiROmqJ/2o9977718t5VX9B+OeFc7dsZqwuCH0A/dcovufs0119Yq9NdBj19wPgPltdT3/EnfW8dvm6NcJV9Wr4pXs1yhx7KIQADWCDxvK8o8Tq08UJ7HAv+1JUfTmiKFME0rmTv12Nmfeka//GFebC/KN76S7bBkxFwVJQoWhcJqBIPcRx4ZFDqNBx54UFidIIwOGA+GA60YNO+0U488jikk4umMctjVWmut7ffYfc/QSURhzpwlpT1jqn/7zQ992zYd/Wv/flHqKB7kQRqIKIhJNBh4Y+6773510luo07lY6PQu2qmLb92qvf/Nb9bzJ550QhisN2va2r/yyn/8euutF7aJMlidMGGyBvDeX3vNLf7wIw4NSpuOLYNceOHFHVZLpsR0b7npLr9op0X9G2++olTjtiOU+5AhT+pFsoy2dW/sTzrpVH/22ef4fv36+WOOOUazmUf6I4440h911NG+t7ZxsxWbQ8WYbIgTBzEPISP6qalTYDBluyyBXyaB6nWuJC2B0WaLGsL10I5pI/qeMMz4s5WZzm3sJBfFrHcg3ZSaDToqPqTPRBa8jRgxImzZ++brb8IKxFlnnasVrMU0UH43bENeeull/TPPPBd0EPQZ5I6R/rp14K3+phtvCjtVbpR9wgl9g84LW6+1ysyBMOxmYQWWrdfoJ3bOYNj2zCTZO++8G1aTOZyIFbPPP//c9xEdngEDTpVu6u7btGvl7/vnbRrUShlJv937j/t8m1Zt/MlaiZ4eOo/Tw4r2Flts6bfbfjs/bsIYP27iGP/1Nz/4jTbcyp93PivKbGHMycfKRp3+0Tpg8PcacLP7B53HNlcMWxFfe/VNDb5b+nYdWmj7dztNTC6hCcWOWplpFfikE8zWV8pT3yj7Nm3ahJWoyy+/3F915ZWacLjKXyn7iiuu0Fbuy4N92223BfrInQGPlUcILP80egnUt7yyeLS/1LAyzOox71Qma3jPPvHEE5owWsWfddZZmoiaGHaAgMMEM/i2+pylndKtnxsdoUGeRnsztTwa6aPL4vbrXsecoK3XG2hg95WvnK6Bcj4vtemf+nFTE5Y4jX9q2/p+WG1Rei2sKM/yvY45XhP3i2mL8ZJh990S2kK9xJJdfLPmTfyFF10oOVb5F1541S+2+FKa1Fvfn3nmmeoPDfDffP2jFgv29m3aVugQweHSMdKTE7W7brK2MY8dpRXkz/ySWkHu0bOH/2H05/6DEXwGt6y/4+6/q986zs/QmDoMlNUHCjpCPPEeQN8y+ETfoiNff/1N9aUmhU/rjjv+KA2Gx2hi5BNtr15JW7M38e+PeFWD2lHik50ofPrB5AmfrEhPjZ3k119/g/BJ3VJLLRU+i2OScujQYf69997X1uttlKaXPq/U5OOn4m9xbTnf2f/087dahJqY68NVSl/t4dtpZyK7adBHF114uV99tbX86DE/yx8PVLXyD+qzxiLOKdbwHqoRsKYiXSjiyod5LbBflzdmxtm1Fg+bwMXBAk2bNne77b6rW2vtFdxFF16iQwniIVIcKBBgAcREtOgOvxZRNDKBa1hnOEhChytwkIwUjtNKTTiY6o0333RnnnmG22qrrcJR/NIh4UCI//73E/fMM8+4b7/91t15552BGQ6MwHD4gpRSuAJi/fV/q8MoNtMBMnfq4CwdrtCUQ3BmuhHvf+u6b7WZu/7Gy9wmm/xeB820cUsttbSw4+EwiIXrTrAH6Vqa/fbbLxwyc8D+B+jQrEnukIMPcauutqJo/MGpQ+ief/ZV98yzT7njjj/Gdeu2krvzjruUl1muY4f27vrrbnU33nK5DojopS8Qm4fDMjSb7RZfvIvbbLPN3ZPDnhZPzd2LL7zkHn3sfh0i8ZCuq9hEF0W0DFfLfPHFN2748Gfc1998pesYxF/TeAARB5RgODCDaxqkWsMhG5tttpkOm9AhIc0VrusROECCAzow0qLBLh8qEcRQ/mlwCcyB/jDQ2XRQgSkNosKhU5rRdxxy98ijj7gddtghHAxDnW7IekzbyOvHAgvBZe0GWx2fEAZv6tKFw13UKdchLvfocJhW7thex7qvv/1Mhwfd5z7++Eu3x257ug02WN8t3mVxHQj4ezdgwInu7bffdnvttVc48EvfTob7ihEHtNddd12nTzVCGq+9+qo7UQdpHah7pG+66abQxjlYRivYTt/5upNPPkkH7ExyG2+8kRs8ZEg4rKhnz55q9zqkRgeK3X//Q+74Poe6m2/5u9uz52FOn4K4iy46XzrzDh0487zr0mWJcCUKVzydLj17w43X6wquh91mm//B/fzjFPF+gNtjr210WGFf8dhW6lGFRfZzZabBuzv7nLPdbbfd6k497TQdQraFdF5H6a1pQS662M6deuoA6Z+WrnVFB9e3X183ZMgT7q233nT6Ljt/fdUnOhSNw800oAl6XgPhIFsOVTIdRlmj1/7yl7/kyyDGJ/c7B6mVfxqrBKwdzWm7TfHMTVuBDjZhGvjq8M6f3dNPPx3qEoeC0sb0KZTqnw6T02F5GEsbG7zU3xBygyZ6QW/bQI5DrPSWFp9KS3/HH9/XvfnWy27YU4+69u066YCv1qHOR/galGFDMJehEWUpfhVO3wrVBp9c89b3hL5Br3BYlwZ96g/NkC6e4XqpH7PF5t3dUUcfKz32TtBhSy7RRX2kvdX3auKOOrK3rtw63g178nHp7CFuow02ds2btVTOdZiXm+K++naUDsLaSeebTXInn3qsG/PTFF1her279vqz3f77HiIoHW6GyJqg+53S1uG04YyzKM9HHnnUaXHA3XvPfU6f3rkrrrjMdVt5OfHR0336v290MNj2rkXFDLfBhqvrAMO93CEHHany0PVOyhuHibWqaOk++HCEyuE46ZI/h0PcbtZBiRzkBe3VV18j3Kmtm0xC3dIOG6V3mPTtx9JzA916660f+Pru2+/dYYcfpkNVpwrvYbeEZHDt1QPdwFtvdC+98ozKtr3KtWWoe6YwVeVmN2QrH17NMzvsryVEFbNsyhJoUAnoRSF6NjcYv1HWgqIOOtjZH3/CYX76TK1sata+mrHJq2qBeEpGzAb5SwJgObCdEAmHRvDdnVY+WDlmizUHxWy22RZ+MX130rZtu9yhWB3DoQyHH35EWDVm9ZTVFbYzQpMVG/CfeebZgAPebbfdHrbsVFZO0gr1KP/Gf973LVu08e07tNbTRlsHt9JBFV9qRjpeoQJbrMhCUyftatawffhukG8NX3j+Zd916eXDtp3Jkydqy/SNWp1exL/x+ltaXfm9tunsHbZUjh83MRxgc8tNd2o7UGdt9emhmdY9/O577KbtitvqgJHeOkzsTX1Dvb/fcos/6uCLbjqIoqv/z39e1dYitqBXhlna9db9rV9l5TX9uuv8VlvJ1/BS5OHgIL6D5FlO3zIuvXRXHSq0cohbQYcDvfKKaORWXMhLrCO4yqYsgQVHArRHdlXsvvse1a6Hsm8L53ZOaDes+GDbY2kTzvZOrm7ShFfY1smqxVfaWvjJJx/rcK2R/mW1wyWWWCocGsiKMHoKm0P3Nt9888A+B+WQT3bTsNqFDkO38dkIbbtVq1b+QH0HzPZsVm3ZPvp///fnoNvWXHMtpfWJdNoEP3jwYG2LXCp8bzxGn6ZMmDBV3z3f59u2b+3vuOu6oFfHj53s+53Q3y+z9DL++2+/81O0RZozDrgGhu2UHRfp6J8Y8pjOtZikbY3j/IYbbBMO7pk6dYL4iqt4wcq9JkKeRAP9uvzy8No66EpWZ3r23F18jZPenRBsvuPbd5/9QjnCMyuA5BeDrpqmlae6GOSf4pV1W12kNm9h5kaZQNNWgunP4KYe0AbZYcCBcByQuc022+iaHw611AqmPo2w9ptKwNpyGtZQ7sgnq6HwyIpyPCuEb5R5+hw/wK/3m7X1jfKXWnHmwDE7S6T6KnlD8VMTHXqN4SAzVsBz39JygNW0yhm+T+9+/qw/n6NDVV/3r6gf9uqrr/rhw5/2W2yxmb/k0ku1sjpd/he0W6SzdrUdFbZFjxs3Rn2eKr/XXvtIl7TzL734PEvpesSFNrRUSo9wmFe3Vdbz7Tt18Fts8zu/xVabaZdJe10PdY12+00Ku17ohs7UlU8ztEcamaFnxo3XQV8yGpSGMxHuuutu7boZpxXmj/0LLz4XduKNGPGRX2G51cJ31FMqR2kFWn0wXRGFjKeKX86D+fHHn8P5Nuecc27Yfcf7ZcCAAeoPVmj33lAddDhCunlLwVZJL1cGvfzll1/o+qjf+NZtWvprr7s69N2oayvqXAdNFoiPMeKx0p9/rrZer76Wdi/8KN61NJ4z6HSesqmbBMoryr+WGZF5mE9VvTDRT5K68UOz9DM0I9jC7brbLm7V1Zdwl/7tSs2mtQzXEuXZipNzyUyWxZSMMIBfbItdmZiOzeaSBymSMMPL7K9eNmE1VR0vpwMk3MQJE91YXQXAKo5OGxS2d8suu6xWTVpohTU/HRfoQkcvR3fzzTe766+/Plwev+aaa4QZQxadW7Vu5d58fYTb9A8bux123NoddtjhormErolaJxz7D3fM/GkArtnGFu6f/3zQHXzwwWFGWtt0wgoO11ZddOGFrv+A/u722+5wOlDHDX/made793FOytNx1ZO2SerqgrZazb5bq9IPh9lIVrvb6Loq3XOqVf6ZrmPHRcIOgKlTprs77rjTnXfeOVoZ+pdb/7frhbzccfudbtjQ4eKjwulO0sAXE9TwBS/MkkvR56+ZgXd1Tt3FF1/sVl11tXy9ILxsyhJY0CTAyik7J/bffz/3qGb7Hx00KFwPhd5AT5j+mNv5Qh9FHTUrrFy99957WhV9y2nLc7i26rXXXnP6FCLoD92ZrOvg3gtXIJ1+2plhBXS4VrlWkF6gvbLTQwNlXYd0mK6DOy20X1a/1JPSykmzcO3b7zb4na6IWzdcQaUTv3VF1L5Bl82SXnvyqSfdQQcepN1Ca7kbb7zRrbLKqkHfofN057F7S6vVl156qa6M6+gGDx7iDjl0H10tdY3bZ89DtZrSyl1zzTW6auUKXeX0nOu4yCJOA/Ggew8/8nCt9g6W/nnc/fa367sJ42e4XXbay+3cc0t3yikDXMvmraVr48oM8kYe6hyGVW70Mtdc6VRy982330ivdXRHH3W069x5UfE2I+RRhye6K3V9ypNPPqm8XOc0yRdW1odo1QlaOvxH9KaH8kb/quMe8kUc8uEqF9w6NM2xaq7vokNZwH/ZNB4JUEaY+rZN8GvDpa6z8wxYHnZ0HHvsseE9ffbZZ4c6hN6gzlB3aqPXkNKLPOVWlOmaaDWTFWUN/kLHYkD/k90LLw1zw5/9l+vQbnGtKLfJraDqijnBCagh2amRVlhLFlvYFBs8op9maSVXn3W5Rx5+xOmbYMmxmVZjZ4R+B239L2ed7Qb0P0m65h1ds7WjVu73dAMH3hx0V1PXQjrnYJXJo+q7DHOb/v4PToNd5VN0m0x13/0wVjvptnHLr7i4e2LIP9240dPc5pv+0f31vP7Sa4e5Fs3aBxF4N12SaC6dMNMNGTpYV3Q+J/c07YR5wenUfrfMssuoL9VG1zb9rCvppkgPrujOPusCd9yxfd26v1ldV3QOdG3aLKJ+b5tQH3QDSagHN9x4g/u//zvTXXvNte61f/9bfbTWYeVb3ya7xx9/XHRWcUdLl1On0Mmt1V+cMbNKsK+5+++7L1z9qc9HwnWhJ598inbGrOJ000FYWb7wgku1k+h+le8zTp/RKd0WoTyRLaboinKMKv8mEigPlBNhlJ0NI4H4Yom0dD2UOg9sSWqhrdc7u7XXXcZdcN6lGpS10PZibX8JOjiniGm8s+nkXIuePaJBmI0Kw9JAcUQGyIO+QwnK5uWXXg6D4sV17yiKUd8caVvLkurM6T5EbSVmwAy8vpkJ8ZpVdsstt6xbYYUVw4uRlyiG7YqHHnZYuLNUp01rEHqeO+64XuGOv6+++N5tvsXm7v4H7tY9oduJznR1GFuHjpdWQ/TiYluWturMqHJff/1N2M4VX4DaTKgXBXEb/m5Dt7buctapmqHDyx17/fqdoLuVV9JA+fbQ0WumLfAPa0sP95nef/+9GiBHZU0+YqdTLyjds9iyonXYunnKKSerszlIW6+1vWdWlSYCKtyY0boDULIhXxUaIGsOWO4qDZynhAkF7mVmyzrxdD5jx9EHWZh8rfDIAyYbbvFluyyBxiQB7QwJHV0+fRg0SAPlR22gzCcHDJTpWM59w0CZh+2dtKF7dGcxd7LGzx+aiMc4uafvbEPHi08+GMixVfiAA/Z3z+nedZ1+rbZZIR1X6fSdne5cP1D3gI6X7qnUZyEdwkQYn2Pom7owyafro8L26p133jl0RunYcT+yzjhwH+hedrYI6tCwkHkG7LRs7kfmLmYUO7rikUceV6f2DHfZZRe6rbbcIUyg3nvfPdoefky495gOIfqTfOy+x+7SOTPdvffd7Trok5GJGiiz9Xr7nTZ1p59+Stg+yWcebGEMaluqWydohw60zoPQndHvaoD9W7fY4ovR83YffviBeFxd5cRdqjPd0KFDw0QB99GjoxjAcE80d8Sju/R9qTrivKPiOyFvKzfkDfnDJ7z16XNC2FKr4IBDmRg8YWUz/yTwS98xNZWlxVFXMNSX559/XhPUvZ0OwQsTStQT6oINkKkzVjcszvxzQ0rwqPVDNRJqreqyjuOzgTLp9tdA+cWXh7mnn3nctW3d2VW0aC/+qOPJPcpzg7ESNG2QjGx04FRorwyY2caOvmMCC+7IDZ9+cUdyp06dXTMNAj/55L9h4nIX6agbbrg+6DK2WR92+KGapHvc6ZRrt9kfNtcnH0wCqJ/Tpqn74svv3Hbb7eqWWrqDe/Dhu9zon6e4rbbY0V186Rnqsx3sWuYGymy9nqW+EXew33brQN0T/4/QH2um8qRs6f+t/5vfuDVWX9v9doN1XUXrZvpcZJzbUvcor7POau6hh+/VQLqDdEZrLbRMVh+rQvcgP+B69eqlz3e2k047Q/fDnxxoMUj+7rvv9I4Z5NZdZ113xJFHhPcN5Uj9QT/RJ2TyTivU0lWTNQkoGagfRxgwyO6qq67VvfY3u5dffdF1kE4nnvdUrtsVyrlEMZSDUwmoEZVNWQINLIHcPjhpN+7BrNSBBdqN5HfcaVd/4qm6f3OWtp8oIG79SPZ/JM4CQ0arEDIvXPDGtsJPP/3M/+53G3qttOo0xUXDVmvci3bqHA7T4pomwjvrYK2uXZfRIQtLhAOwOPSL7Yts52OLolaBdbLkRmFrthSg33LL7oLt4u+7/x5tGZqkU17f8x3aL+IfHfSwZMZJ0XELItv6opwK25XZ9sOTGrZ7Y6ZMmea/+/YHHeYzXFsVR2mr453hYBq24rCVkgPHbrvtTm1F2jfQnTRpQsBjOxanb2MH2sr/Pf/4p/K2WNiWSdyUKVyzMk6H9JysbdnL677VbtreuKLuJ1xOeV9a29EX07ZO3VGoq6eW1D2FuLlnmnQ5BRxjeQme4J8/5Wvpl+2yBOZEArQNtsbFrdd2PRTXusQtjXNC65fAohfYyqkOU/iMhauhdD5CeOK1UD/mrnsaFw60QpfxCcmLL76o7dPL+Q8//DCcig0+B9Nwx/u7776n8BH+889H+pEjR4aDuUbrkC+uiwKfNvySro/TJKE/7LDDgo6y0+6jrpsSwvgchG2Il1xySbhyji3Uf7/6Gv/APx8SLfH5nQ4ZmxIP+GNb5TtvveNXXmllv5H07EfaqsjnJWytbNOmra59ucBP1vbIKbrfleucNt9sJ3/OOeco79wYkNsamuwQjYdqVWk75KPhYJzTdLf0t9K3E3Wg0i677BK2NnJVFJ+1rLHGGuETF/QxW2bRuRy+xPZYHvKmSdHwEGfxwAKHn0OZ0K341bEPD+WKu2wahwTScplTjsCljaTlaWGaoA7kaIe4qQcX6D5fDVi8dlBJT+hUZNUf6gl1ibpiOMZHStfCGtoO/IaDvOhLxFPdlaWwhVhn1+l+4pN0EChbr0fqE6tJ4coodd0CrH4bmp1a6ZGiyRjdRDNnqzKfkXwx8kv/+WdfhEP7JurgLPQeB6Wx3Z1tyW+++U64R5mt1/SJkP1U9YkO2P9AHXha4Z/41+N+Mm121Bg/cfwknSr9sP/fp5+pL7Om33DjDXSF01e6R/kDfUrXzV99zSWiGe9RFkPSk3yGIvlJZnxOh2GrOKdec8gXV/RxYNp03fPMgV3jJ4zW9Xbvq1+0uA6y3V6HEv4gWG4GGCeepusO56uCjuIGhXfffTvUDw5FRHUccfiRvlVFG10lNkj6+ItwjzI6Brq8a8gvPKDrH///9r4DQKrqev/sbGVpu4AICFEjtphmbEmMURFEBKU3kWY3MYJ07DExsSOggtgSQTpIUaQK1vzVaEzxl2ISE5PYOypsnf/3nTt3583szLILu7Mzu+fB7Hvz3n23fPe9M+e759xz16+DLP8Iz9/7uOZ+i/j7wN+qu++aHz7qa1/HtQ/x3UW91orbnzohYBbl4KiBHdcTAhzrcyN+EMg6CkcXngFw2Tv0yCIESpgrFaX56jZTVSBv4eYG792x/k16IZCm/g8h/9SFjxZkujXSvQ4/erDm/kfdCadMmaKjerScvIIAX/fdf78GrrroogthOc2D2/RRctRRR+nI3gMPPCjXw/2KwbOwrAFcrVuomyHWysNI4OcyE0FrfvD906THaafAevKw9DytJ0b8MNqJ0WkITR19jhg11HpEFy9art58802MGM5WCwx+zNWyQmsJXaJLSkt05JWWk6OP/rZcfvnlqFe+um/T4kx3x+uvvw7W6BIduXzzzX8Lfui1vDPP7Cd9zjgLlulH5ceXXQzXx3Vy/HHHRywxYfnrX15Xaw2tSXSBws+F1ou9wPpyo1UIUSfluuuuk4suvFBdOPNoWdL+dZ2cpSPcTF2t03nSNkMgrRDgKDxH6aEQyahRo2CdWAfX6zVqDaBlpqEsym7038tBvi2wJOC99lYolks5xXcOCqZs2rQJFt++Wh9aOmh5YDAcTq948cUXZMyYsbJ9+3ZYfzvBctxa7ymDTGE+i5cskeeff05+9rOfw02whVonnLtoSK/TvRsRv6Vv335qZQYZkFatWqosZD3/+Mc/akCvV199Vd2+HSb8NRB5Dy6J9G656qoZyOMMyCcE46J1C/Jj4aKFcKeeCiv3gQiU2AOBCJ/UYDQ8j2i1sIRkScmubBnYf6ScetqxMn3GZLgwtkCuvN/t+LDQokzPmMcff0yteVizXi17tLBceuklsmTJUpXJn3++Uy3sbD+tNi7YYI5arIjZiy++KHfffbe6eyLOQ5UVh5h73CH0XNE4B61LrdPcuzabTGN/ZPrG/uQ75d9v/53n+JvL5586wN/+9je4z16NqQJP4N35mYyD5xjd/fnccWN6b1Hmd+ZT9RzxRANuLMu9JNxz4/MaCeaFZ5eu18/A9Xrrk49JcdH+eB3xvtGDDVHyUuUh4+rl/mottc6BdwgnQf7UzfmCCy6QWZiqcWafM6F/5Og7yHso515//R8yANMgevbsieketyjOEC/qRcPAiwxmSqtqfl4L9YBDbHJ446ySm2+aDVG0Ey7VK+Tdt2lRPlt+cfNklZVSWeCCd8HCji4HlNmQvy6Q2PrH1qt8ufWWWwQDcRr8D1GnkQ7TDdH1b/77P/DGOx5T6k7HVLf78RxQXuXKjT//hdxy6y2wNp+kLuLt2hWrhRlxcTTo4TXXXCt3zJql02gOP/xwyKHxmOKyCe7i1AvzVd5Tn1sK1+tHHnkYv0OrkS+9BuDVBF0bjxs+YZ2G98jiRchntbSCrOPUQMon2+qIAF4i2wyB+kOgagASI2NY+8NZPmilDIf79hsQnjx9POIofKajXTGF6jBizJnIl6QXEiWut3Pe0sIRzeD23//+D8EjTtZTtKKgkRqoikuMjBx5TmQktFJHMzmivG3rNh1RpNWV6yzTGvUJRhS53ieUbFirjw5feulFWPP4VSx50Da8cdMGjEy6NYtZiBvN1uKq/hBTLsvyl7/8FUEi+ml9evU6PXxaj56wkOBzas9wr569wyeeeGIYP8YasIt14bqq5RiZfWTR4nB+XgEs2G0QrKsLPp3CRcVtw9/4xlG4/xRdforLSP3qwSVqSX/hxWcxesmlZ0pQn0q1VG9/8qnw9u1PoX1PhhHVU5ejQdRvPd68eQtGQh/VgF5QNjGq65adgrJQ1QY7MAQyEQHKA773A7EMBxSuyDrKHMV33hj12Sa+L/GvDL/zPN9Ddz3yTmFH6xWtoz1O7aEWUVo+WV9avLjRWsFgfeecc45aVHmdVhemoYWC9yN6frgIHjMg0noPr/N+Z0nfrdblW265JQxXb7VoMA/KKO7fe++9cO/eZ6hnzYMPPqhpaWWDyyQC33wafvDBh2DF/Vr4gK5dEXDmFc2T69HTUs3lqZYuWRo+BZ427dt1CJ9yyqlhkHLUaadalHeV0HK7M9yzx8AwpqzAIwlBdih8uXEX+Xh5zSX0uIwVpq+oha+4XTsNOEhLMeUgXDR1qR5a1//73/9q271VkFki4jWCk7VEnR/UtlHmEiNvPXSYUB46a6M/778zD9syFwH/W8U9+z744W8pnwV+eIx5+WEMAIUPRiClNWvWaFqe58b7uMU/Fz5/vdjAf5yc4HMKizJ0Mnpi4LF1FmXsf3TpRCz1+G0N5lVWHl2fvMpjo4Hrlyh7J+co66JXMQiGwKXPqMfeqpWrIePg8bGT1lx4LkYsvFwv/WWswf76639XfYVBVCm7Hlu/Pjzr9jvCc+fM0c9dc+/Gkm9zEVTwfrXYHnzQUeHTep0SfueDv+JeyIZDjgnPv3cO3ncsQweMnIBxMt5ZuN0ycnC/Dufl5+nScQxC9tnOz7RcWrJpYf744w/D9913b/jxDWtx7QNc+0L1p6uvvj588cU/QtlvoB2wiMNDhsFSuYb9LljOL798IoIM5uL3ZQPS/DtMD0QuRcX72YdsE7dFi5aEe/XqhbIQgHHXpyoXqT8yYBhlIQYnw3/602saII0Y8XkMYqqZ2J89ImAW5ToOLFjyGhCIDlgikc400VEtzukIV2TJ4KED5chvtMcc5TukoqxAg3k5q2LEKsCsA4OIrqSYTN2pBv6rg5k6ThmpAU5AGGN0shKBvN7VAB0cOcYPEEY0cwURLTHHpZcMGjRI5s+bL7mwBOuIIiwTbNC//vWGjiZzXjNH82gp5nJMHGH+5NOP1LL+r3+8Iz885QewBq2TE777PVhGMP8Zo38QakgXDRLEerBc1oWWJfyO6KipwobRRlabI9WcI7xz52dYauoE/fwKc5TZLs5R3oVR8H/96586MslAXsScATPatsX8GYzQZmHElKOWCx9eJj+ZcBGCfDwh3zn6WNSJVqUsLC81D1bwK3WZq2OOOUZHN1lHSBtcdxZmZsq5Mwxyc9xxx2EENx+jslxahZjYZghkJgJQPjQmAKI+a6CoqEXZPftZCBCjG8VWNVlW+zbzXdWXGZnwtQ5ufM+8NYrH3KCIq4x69913VD4xaBZlEOMc8BrzoNzgB4QQcitPZRffe7aJ7zXzGjNmjDyBezdu2givmK+rvKIFJng/33HWjfn6+Ak8fumll1QGnnDCdzEv7gG9l9Y21hWEG+9/lsydMxfLQd0ET5g5WL5leEQW4lpkbjfIhyCKtgb1YoDAfMyhhhKJvER2flIuw4eNk569T8C8ysukRQGW18N9CkEELy6hx7YwiNdoLJnHoGMzZszQcxdh/vPChQvljTfegLfLVRqUkfKoC5bhm4f5jF27dlUsWV+sj604Xoulny677DKtJy963Llnm4knA6JBAVX8+HsQn05P2J+0QMC/L8E+SvQ++eu8xn5m//K3mx++P3xuENVdsJ42PC8Kdfmek08+WY/5DDAdnxG/Z37Bsn3+3Df0pn4PfEkgAyhKeEiPNWeAzJLLfjRBXn71eXiOrcYSQkWwOvK9ojxoHIsy8XCvs/6teueI+29/+7L0gzcL47tgwE891WhlpW5BLxveyP7y2Lv3EfFRYNkn/tSnKB+wcxjILizp+SEsyL3lyK93k8VLF8gH75ZKz1MHy1XXXSLnjR+PWAiQYVgCU+dsC/UblIUyqPMsW74MsR3OxdziyTITcgZTPOBh0wr3UHejLILcDVM2MAgXgg8iGBi0MMhDWo4hR7Mok/Fs4ZBLqMKDG3pxgS5tdze8/lauXCXf/va3ENsGcnnjY9DByqCrcY52llqHly5dIfcumId6LMb9XEaL+aNQykXAkY0yqGuybH7Y92y/61/iW/33BSdti0PAiHIcIPZ1HxHQd49/uFEwUUHDi4tTAwcPkiO+Xiw3/WKWVJYXqvBy6TSpO4xRCn0+vBRzwaVtoL/6mxJXHAUsBR8DSqgyiWisVOoYBGbbtidl8ODBcEc8E24wj6gQomJIYYT/KlT5g8kfVwpYkl2usZydwx/dEhWif/3zm9KzVw95bMNqkNLvQAHN13RsN5VZv1HYs350qWY+/OKDSeg1/hBAgPu6nnZaD3UDf+ihh1AXR9L5A8mIkdEfceLsfkAY5bYCwdfCldm6ht/lE36krtff/Oa3NPIk2zB37l1yLVyDGNDo1B6naFksm2uOwrIEBRZCGW6bHBBggAm6LlJh94Sf5dpmCGQiAnx/qeRQSSMZo9tuHwRiocJDAllfRLmu2NAlnO805uxhYOy7WPf4AMgQF2RGSSreueh7F9a1Ri/ElAi+zzxPskdFlOu8sl2HHXaYBqfBvDiVcU7JdFMsKPN4D4OHsSxegwUNeRTInDmz5dZbb9NBt+7dD5VTTjkZ+ZbDJfJv8iqCa70OF1UGrcHyJyrX3FrzFLZOrlFmEmOVQ2gPyTJiNqjs+PCDL2TI4FHSf0BPkNdLcI3ReaEQQub5lQbYVt6DpXm0j7gSASzYKovf+Oc/dXrM888/r4MAixY9onUgoaZsYvRayi8Sn1WrVinJptJ7yCFfxfUcxcfJ9GhgJpLr5cuXKwasi3e19f3H9LalBwJ8TrnF9wnP+3PBY6bl7yjfC268xmeT3+fPn4+1vx8GkVmp7wqff75L/M3j3hNr3uefGR5z8/XgsS+Xxw238d1C2/Eo6ptGkqw6BNqNQi+/fLL89uVnZMNGuOe2aofgVSDKqrJxML5xfqvZU/FvDlfleBbB9nqffjpwgzwDzgxGyHeesk5lARuGjf324IMP6kA9dSU2WCFgpngnqQNRp4MvjLz7zkcy8fKpIMoHYUrHBPn0o3I54bge8rNfToGuN1oK8lzUa9zBm5EXDREsMxfu1A9hTePzlJC2atkK8sMFL/QDfySlHCDsiDXrf42VR7797e9gUJCRz+kyTnmKuuG3Q8UE8oWlH+3IxuoBC/TZQjwGna4yHsHItsD1moOfNKCUIWo32/zQgwuxfvR4lXmcBlcCLHJIuNE21rWgIA9lVOq0AE7147PpBg+iz2FqnkFUJ4M3I8oZ3HnpW3UnrFg/WjwrYU1mJOVBQwbK17/dUX7201slTKKMFx2vKz4UPkyNLUY6+pPVLmjSBvsTqRLz9z+c/IGkcH777beggI1CxFS3hAiFDlyOoXgO0miLixYt0pE7KofeykpB5O+nQFRFEEqVG9mEVQLC77XX3pAep56MuSbL5AcnnYSRQyeUKdi8Rcf9BjhMWC8KegpB/kA4JT2KCEn0J598IieccLzQ6ksCryQWyxfwHhXUmiEFs7dYI09cKysphyCukEfXrNGo2U89tT0SLRY/mmjA/Qvul+shwFk3Kg2sCwU45/txc4KXVqQSVSJ+BWs2AnypEsm0LM82QyATEXCKcjmWhwJRxhzltesY9bo3mkKrLN8jyjTKDX1V9LjB/6AsWlL5bjE+wc033YwlVL7U949KlcoZXKdM4DEH+E444QQd8OO7yveYe7gPq3L5f4iA7d9htomKJvOm/KNM48brjOx70EEHqVLK78SGeZGIcu4c4zqQfFJide/eXUn1t7DE1NixY7UuVQNnyJcby6CCyw8H//hbwLmS5RWlWrfPPyvFXL1L5fTeJ8mFF54HJbAQd1Hpp8KPxPhPgkKy+sILL6pVm/XhAB4/CLqIehwCUl+iEb67du2m7WF7GamY5J0YsM2MS8E2UL4zT7bPYeLarhXGHw4ETpgwQevgcfTXuPf3BM/ZceoR4DPCD7dEfeLP+XQ+LZ9p5wEGrwc8F88++6z8Esswcvk1Digde+yx+ozwmeWzwj2fP97v84xvrc87WV3i09fHd1cmhRJyqyLKzittwoQp8tLLT6tFuVXLdlgOqRXIHUsFiVOizJtSsbF/kpdFz5f333sPg5PrFGcm5cop5egj9pPHnP2ERsLL73Q58CsHoh9c3RWDSBGhiJfM7pIvsERdSxhuRLBWuxJnxCyVq6+6UUaO6is//OEPQWwLdOCAeWr9sOOgJPv5r3/7qy45Bfdr9ZCkHkQ5yb7nh3Wh1yRlXe/evaW4XQfVhVVfY364BqmHpnCPpVQRjZsDjiT/+fm5aFcYHjYfyIMP3C+Tp07CvXi+4A1ED00aWv7y53/IM888jXPQAVGek1XOKEMZ6oh1thx//LHS/dBD9X5fP4+XQ8f+1oSAEeWa0LFre4kAX3luzjWYA3oky3S9/tYxneX6a2+CYGqhriM1u177fFxuNQlRn6K+9/zhU6GHtnAUkd/pcsXADZhbpyOJmI+iy8R06dIZwRlOVkFH5dIJbFcjL5So0JGMciNh5Xp4FMDvv7sT+T4mffr2kP06dMSPboGSUBJaWpRZBxX0SM1jv7E+3LSOgfNUijm6ycA+XHfvjDP6xNSHJNvd43KimKYQZhm8F3MH5QO4QG5H0J/hw4fpqGieDmxkCaJpayAxWm7YRkTbxRIpbfRDIc+N57lkAQOa0OWcbXA/GlGF05Vsfw2BTEHAvRscBCNRpsK2rrGJMkSkn35BmcP3mhvfbRI3nvMEme9fhCvgOkgornsSSBnEa3xPqaRxc/e7IET87uWOlzVeNvIaFVXmz8E4KpD8kHT+9a9/1WuHISANp3l4Iuvz4z0xG+rAFlA2evlEGUmCX16WJW+/9QGCe2Uj+FZb1I8uiEzs7uFfL2dZH5ZF67dXorkn6WG+HCzwhIZZ8BzT07LOdNyYht8TyV0vy3x5egP+BNPGX/NpbJ96BNgXvm9YOp9dfmc/xj+DvOafGR7zOeBzxIETDqZgdQe5H8E7jz/+eCXH/nkhUfbvRrIWBuvg0/Ceht5cuXyzuFGXcBiw7AmwKL9Ei/ITq6RlYXvoZa0wQMVkYI9wE2b6ht7QO1oE9aNkGz1HKOv8YF2ydMHz7JtsyhhiHHkGWJIjizwFYgt36C+/gNdKDgYSs/FcVGJqXCl0mNzdKiOyQ/Cg4f2smlbT1YN6HJfVjN/880Bs2S7eRmJMF2uWy8EH4q9Z8qJalv3ACt26nU5H/ZIbSTjmJasM5Lr1dNFmPhRTbFq8CNWb4v7wOY5UHum1c+NS2NeaEDCiXBM6dm0vEXBCj5KFgo0vNEfABg0ZIN/6DojydTdBs2qJH5m6WJRZFZUqe1mnfb/NC0CXEwkfBa37AabSRUWLm1eiXDoKRFdvLxx5nnlRiaXw4rxgGF+hlGVjTdKP4fqHaLAQhLqGIPZqqYCiyLJ8Xj5v7oP5+vMUjLT2UjFkGe5e55LN/BJtvi2sm1pSQAhYNywroyOq0R8oWo+oQHtLdLSNvNfdz4jdbg6fL491959E5ds5QyB9EXAyjc89vS2UKK8BUV6/Rvqc2QvVhtKN+cmpdr3mu8+N767fu3cQc+BgefDvvnu3XTqSTn7ne+lJAt9VJ7cYQXu3yhTKAKZz5Nvlz/eX51xaEms3J1fTQXFUmQVFjHWgDPLvO79TRnLz+fJaso35uY1KKfPBtzDcn0tRRrgEcSCydR5g8DeB9/iPO+/WmGfZrC+VVRJw1sPXhTKSODANI4PThdvXm3nxPOvJ+6N5R4kW8+F1L+OYhhvP8bimNmpC+5MSBHzf+f5hoexbbnweuflr/B33/UaSTG8EzlWnO//555+v0dk5AMxBFP9ccM9noDZ97sthmb4cHjfk5sr07xSfTU+URSZOmCr/74UdsmnLWhDldnivWqJdqA3WDXZzapO/p/VX52jdEufJ6/B6wQA++0uj/uMM9UvKOK0h3jnFE6fYH0zj3/OqPJHe5YQ79CYMimCqGT2BsrLwPMANumQ3CDPco7OyS1X/4TQ05ov/LMptOOZAIM9TR6Lco9xgudxz4zX3jLmI+JSx/H3wdXSJ+Ne1wVVIK6WX+EfdyiFj2JZSTNOjPsf5z+4aST6me8CaDLGmt2sd9Sr+IFuWnwOXbFqW+Qx4ee2T2L52CBhRrh1OlqpOCESlCZWcCrpekygPHiBfP7qj3HD9LRIKI+CBKk5MC+Ggt+BP/JseU26sEIm5lIIvFDQUgl5AeoWP52lJoRDjjyU/FJjcvPDksfuxcgKXAowfZ1EnArlOEOZDmVRIPCZR4q0ClhnVsLkyXAL+4BN/CnFaipzi7Orh80LVsemfKuipGPNe5kVFksSdCia/ux8ChwPvdG6d0VFe5uvrENzzPo+JL5v322YIpA8C7j1QeVStUrxGlaY3mAAAQABJREFU4sR3gkR5lKxdsx5EeZUSZSosfK6dxSDy7qZCXPkqo3besuyJsFPYUDPWCwSQ7eI76erp5ACb6dLhPN5RpqJM8O+uS+vII9Ny8+ecqHaNZB788Bo3dz8r58qkTOR1nneygIN1NRNJpuUnkqViD30RWdLFm+TVkVSc0c2n5xfXD05O8bw7x/5x9fN7vYA/TMP6xSvWPO/kNMuLkmVfVlDW+7xsn34I+P71/cb+5zH7j8f8sJ/5DHDPvuZv4LvvvivDhg0TrNUrWCNZzj77bLUwc+568LlgPszPb/HPlz/fWPtg3VgHVtURtywExpsqzz23DUE7H4fXB12vC3VgPLVEuSZkKAd4nf0UTad9CV3FUV++87hOCRZJk7QPIt3EPLNAjPUG3Msl8jgAB04JbEiAnXxi8K5Asa4CkRNaB9YAmWnpwQoipZN5jkA7/Sc2J72vKi/XhmgL3f0cnHXZuoq7Z9bpl5o20p7qleT9Tn4mxSJYmB0nRcCIclJo7MLeIxARPsiALyp+dzDiFUIwrwEImNBObvrlnYE5ypFS9GVXyRUo1ksAfypWyPizqdpTqFHwUeCRQFKpUkGJ8/4aBRLPO6HoFDAvpJxQdG3wP8i8xg+FYYUSWyqBORFLcPR+n9+e2soyuAXrxVFx3s+oh/5asE56MvAn2BYqCxwAcHVnIioYVIqdAsl26Fm0gQKcbWfewfL9dV+m3oA/8d/9edsbAo2DgJc3ieQMr0WJ8jkjR6vr9dp1K0GUT8OzDAsE/+HZV8UrlQ2IVNvXnkX7gS0e+zpp1aq0KSez3HX9iz88x+Pqm7vXn3f4+PcXd0G+O9noz/mUrAdJK+WPlxU8ZjrKCG7x90Tv9dfZHlpHIGt4CvP6eI/Px6fn3pfh8+R0kugAgh/McP3ky+d9/ph5+u++jv6a/+6vc+/rwWPb0hcB9iGJLfcc4OZ0KT4rjKvBc+xH/qbzGmN70FrMQHaMmo4lxeTXv/61YCkxTcdI7vxN9eSYz4x/bphPOm7+GfZ14/vkiDItytPkuedJlDeAKBfD9RpEWZtBiym9QAKkzGeQ4r2rfwBbFQ0qeZxw0EsqgSN1RwVr6ovI/VXNQFrqX37gHzfrdDM34IZUSO8xdNlCfuGfertUydSq3FC0q2v0Hv/bEE3DI15PlNan4jPrdU2fLpHcYwWjeUVx4jPO+/y9Pl/b1w0BI8p1w8tS1wqBKFFm9D1PlGlRPvxrRXLrLXOlohTLQ2GOq0ogChovuCICxhWjJwMlRgVA4GSKDp0gIkHk5oUlj72ASiQUkwkopg0qdfxOoRhv0XBlVRd0FNIOM6esMR03d551dd/1XEQYB+viYY6mI7b+Plc3/pCStLOeQQLMPIN5BctgO3zbuOcPD10eE23xeSRKY+cMgdQh4J7/xM+ls4biVVCL8jkjx4Aor0cwr2VKlBnwhVtQLqSk3pH3nDv3Bjt5FC07IAio/EXcrv17yra6D+/zd7mD6Hfkjfv4L7gxj+gWlR087TFkGn/s0/oytQ6QOczX5+UJh09btUee6h2j7ouxhLcqDQ58Pv4c+4P1CSqMwfoE0wfP+/Q+n5r2wftqSmfXUodAsF9ZKvuTH54nyZ09e7YuBzZ69Gg9zzS8xt9gLnOG9ZA1wBuvM/gcY3Dwenxf+3M87z/MK9021tNt7j3lVzeIBaI8cRqiSW+Trdsek9Yt28O1lxZlpBMu25Zqouzr6RGMyhxtA+sduaRX/GU2iH2Aa7zu+0nfY/+dwsBvmommxJmoLsZls3Qgjul0gC96Dz3zWICWwtMo05fF8lg//zxoquitzC1u0wrgXDSRv58J458lNo/1jDQz0j6e1BrwIluBvw6D2Hz1sv7xuETP2FFtEDCiXBuULE0dEfBCgD88/ECIwKLMOcpf/9Z+WEf5dl1Hma7AVcG8WEL0nY+U5/PxxUeFij+TLnsV4nGVcXI5cZ2DQpFCjQqs3/y1oFALHvt0CQDDpSBm0Tx5j69jMK9k55LV3SuQwTx8fXxe/J7oejBdsvx9GtsbAqlHwL87se8N3yn3bFOhQsRTRKQfWWVRJlHuifmtzlsjpXVGdVljrS3+OGXK1cCf4zevZPE40XvJtvFTnaQ6PKKoxOLi3/fYPF1eLJPXY6/FlY/svFqXOC/WOLJVNdR9Z/5OhvgEkfNAxOcZe8W+NScE+DwFnyke0zLH7Ve/+hWWRLpcuFwOI1jzPK3DdLO++eabddknLpN29dVXS+fOnas8seKfZV8Gz8dfS0estb6UGJBhfJ0cUc5CgLJp8vQzW2TT5rXSvrgz2sLl39gC4MU5tSm1KLNmwS1W5vgrfP/ZCo97dIk4NyDCaRm8Tn2FgsIv1+TvD+6JCwdImIYyEE9OBBs3IKdpUR7PU9iybMqehpAzrItumn+wlg4Hf921O5I2mCzhsbs34SU7WSsEjCjXCiZLVGsE+O7CNY5ihVs5iDKXhlKiDIvyUSDKN4IoV5Yh6jXcnGomyszBC4PMeNkpyLzwZu2rbxTC1c8G7/HCUFOpwKyftieuGysTm3/idK7Oe7rGVE6Bjc3T3V39b035VU9tZwyBhkTAv5ixz64qSJGXlvOTqTiOGHEu5iivlTVqUd4TUa7+ju1rK1gd9565nLxMiXmfKIe1Sa49Pr1GUIVSqEqkzq12eQRlEM+4drtrKiI0L5br8mOsBifDY/GK3BG3483J07He3Hze+sX+GAJ7gYB/lvytfKZIhHieS4FdfPHF8vLLLytR5lrgJEd//vOfdbmz119/Xckz10kneeZ9dMMOenoF37HgsS8vXfd8n93KFni3dYkoN41s8qTpsvXJx2Tbk4+DKHfBW1qAtvP958AC53Cn0vXayYGotEgsMzQV+tPLC8zwiFjBEVsFx6x3dOAvmhuveLnGvSe79BT06avkpJ5LXD7zSbR5QwKfC5+fTxcRcaizP7OnvcMiKDddHmz3nu7112ud0N9g+wQIGFFOAIqd2gcEVCbxj4oj/NBQOONlRUCEQYMHypHfaCe/uHGWLg+VB6Ics8XKs5hLqfuC+qIeThDFChkKP25Vwhnf49Pt6YfT5+Hy0b/8o1vwGk/E5+1S1e1vME9f79rl4NoaFNK1u69uqfaEV91ys9SGwL4gkPiZ5zPKfwyKxTV4c3LyZMTwUbokHNc9Z9RrLiGSfGO+sbIkedraXYnKKJeeil68vPDvFq0tLJ5TKSiXuTH2AJe8YVRVN60CyjCTxejElIUuPXde8WPgQt7Ljdd5nnuvJOoF/KG84TmfB7/z4/Px6fx1/Y56euXVX9+7vZPjye6tiyyMqV+kkg7rZLnb+cZCwPdVsH9Jdvn5/PPPZdSoUbJ161atHgnzrFmzZNu2bXLeeedJp06ddB3xgw46qCouRyKSzDL8s1xTOxPVpab0DX/NxRbhu+w+7t2dMnkmrMlrZPvTT0i7os4YOmvh1lHm8lAMZBUrFPa9mijcSRXKCJ+dP+AVd93JAX/eyRri7nHlnY7wO9ksIcoaN6+aAbm4nGeLiJyiVAluLCGaD65FKkQrO2UW4xrkRtagd+VAvuGcrp/M1Voob6v+uduZH/9Fnw3Ku2ipvrzgsxm9Wrcjn5e/y5UTKMxfSLLX+5G8fmRtkkKa0Gkjyk2oMxu9KVXSjzVxAs+5KlJ4ZMvQYUOk+xGt5Zab5sD1mhZluscENt5S+3c9cGP9HlKIJBZmFK4U7r6S1Suc/F5Xx6CAi+YTX//4cuKv1+U76+g3X2//3faGgCEQRcC/K8H3xL2LTMP3ddcurq2ZiyA/I51Fee1KOaNPL0SKBXEM3qbyz5+oLieiZdZwlOQ2yqDgRnHEc1TwSIAZ4b4SA5S5eVgf9MvdcB3Nj8gs52LIdpSUlMJqhKVFkJaDmVQKNaAg8uA5KoxQDd2SSUjPa1620ZJMcu2tbDxPIkIXVuZNIswPLXJBouyml0SDJvE+pvFyUGUj2lJfypvmB6CIT1znBOHb43E0H9+fe7zFEqQJAv7547zkadOmyT333CNc2umzzz4TWo2nTJmiJPmEE06QmTNn6hrJJMd8j7j55zi+Of6ZjT+f3t8dCaSsYCRn//5NnjRNI17TotymdQfJCbVqWKJMkFgJblWvFA9iBZurJ9/f6IBbRSWXvETAUKx9TN2SbWAfU47sLvkcMg9ysAJL3GGJJ86zDoE85+cXIp0riESWy8A5+YZ7Idc48MmNwbxyYLxh8DYOBrYrLkIBDM6aizWWEQUd6yDnImYLYqNrtSHlUBiDDJZr+SpoUIwuFYV6OdnqltFk/k6OxJJnnt+bzcskf2/dn0ePdVUH+KxsnwABI8oJQLFTe4FA5L3jzikm7gQFVEkJBAnmjAwfMUy+elhLufWmuzDPLz+WKDej95ZCbk+CrTZp9qKX7BZDwBBIioAXQtEEVNaoFXnyRqLM4HQjRoAor10HqzKI8hm9IctIRqP3RZU+noxkErxci2OWHZuny4rKnlYKe28tZnZUGEley8phVcFyc25ZKIH83a03/va3v5UDunaWf/z9XzJ37t1y4y9ukIMPPhDBezAnMQvrc8LBh2WC48ZszNdb5d555x0E/7lCjjnmGBCLGUjnot2XlZXKe+++J19CweQAqFfkeC83r+ySeBQWFsp++3VAfalMJl4hQG+yP4bAHhDwz5lPluh3lesg//Of/5Tvf//7SoB5Dwd1OnbsqES4d+/eeB/m6jNLTwnvcs10nFoQ3Jh/ojKCadL3OEqUaSnmu87BsklwvX72+S2ycdOjLup1dhucRytCbpqJkzWpaBXlWnSjfGAfUGZw/9mnX0ibokIso/klZFYLLDmao0tqVoLAfv75Lrn2umkyeuxw+dqRR8vI4WOlU+cOMmfu7WhTW0d24wVbpCiWWorngXOU2fc/u+HnMn/+fHnyyU3y1YO7o7+5kofIux+8I1u2bpEQSHMYg4utW7TCACMGI7/4Uq3Xb739NuqxU775zW/J4CGD9Rnjb0U1g1C0iVVH7Itqsr7qauID/R2IQJa5z2TitqXbWSPK6dYjmVafgGzzh9EXnu4qDH5D15iQDBs+DHOUO8hPr7tZyuOjXrPdzCBG2cw0MKy+hoAhkNkIeCnmSKMKJSrHEcHkiTIj4T766KOyYsVyOfPMM5U8x+phPp+6E2UqTV4YRmVpFFUqjVSMmI7HJLHctm3bivVeP5J+/fqitnny6qv/J7/97fMyYGBfVfgHDBwo5547Ut7891syf979smz5Ig1EFq7Mk927wvLii8/Jrt1fqsK2c+dncDOHQgr2vB8IxQ9O/IEqrJzj2bNnLxmEvO6+526khVUayuU7CIQ0HPL9j3/8k7qtsv4kyawn60e3b+ZFq80PTz5ZAyZxuTo3x9m1lvJ/3xU+gmc/IvpANPE/fPbjt+DzQ88Hkixahx944AEErbpCn0new3QcpKG79bPPPqvLRHHZJ7pnkyzzmeX1oMcD7wnmH192+n/3RJnvh5tqQS+PSy75ibz8yjOyZdt6uCoXSXZWS1hQ0VZYYxmPIXXvkyPGHmP2L8ky+4CDffMgs7ofeqD0PuMUDBDmya4vRCZPnigHHnyAnNVvoBx3wjfk6msmy6iRF8jgQefKAd06yq9+PV/atukozzz9nKx/bC3Ia3mgD1lelhx//PEydOhQyCIGl83C1MBfyqw7Zsnzz2+XQ7sfDv0V0rQgVxYtWSgXXHQB0gis7iDAWBIwTE8bIETrMQcJOQj4/RO/j0FUllUm+XiWuD6zf5aSPSNepie7bucbFwEjyo2Lf2aXXvVD5RQT/7NFQRJRffCDQ5c9CuUsuF4PlWNO6CbTp16nUa8L4OIEUQjBE2fCyGxU0qT2Vb3RwPXhj40rwvW7exaSFWo/CMmQsfPpgYB/byCy/IMNddErb7t3YU1yWGE4p3H16tWybJkjypR3VDp9Oif//LvAPP1x8lZGy4umieYXPcdq8V3jnveUlnKd9GwNUvTSSy+CMG+GFaVIli5ZDSvLTNm85THp3KWzjB0zVnr2OhVkNYSAirfIshULQVpPwKBlrnz0wZdyZt9ecD0tVqWuVeuWcNkuUAV1v/32FwY9atWylbz6+9/LWWedJYMGDZI5c+Y4oouqffzxx3IyCDDdWmfdOUuKipiPc6vWlqPCvn2tWrVShZLrs1MJJplJ1E62ONn5KBrRI29hqcs90bvtKFMQ8M+Rr2+i/mYaEmQO1rzxxhvqZv3aa69VEWXv6cDBmqOPPlroen3qqadqlOvDDjtMI10zD348WU5UDusQrE+yNL6ujbenDCJRduSQRJneKHz3Jk6cIq/87llZ99jyAFGGY3F2qokysXQeKIBdN2JLucq+nDnzOum4f1u58KLRMLy0lPfe+RyePUPkyKO6y8wZ18iJJx0j1/10mgwfMk76njlcOnRsLStWPiwFeUVyx6zZcu21Vwu9B4488kiVbVzyjjEavvmNb0GmnY0BPwyMQGbdfNOtmLt+pzz33Bbp/tXDARuCzmKW4KYtG2Xo8CFy2eU/kelTpkplKSJl4x/7PBuDKsxPfwOAKZ8Z5keZpNfxvaZng+2sjf7UeM9P8y7ZiHLz7v/6bX1EuLmo18ya1g6ICiwNxZG74cOHyhHf6CjXX/tLJClUhcwJh/qthuWWSgT4w+vKM0GfStytrIZBwAsxSi9sVc+2I7qc20sFaOTIkbJu3TpYlddIr169dE4fFaHEypDPs2ayHKNwk1gnSO7eNW9R5rsXhuV3N+bhFcgwDEQ+/vjj8p3vHA3FUuTznbvkrbf+Iw88eK8ccsghSm5/cvmlcGHcDavJbfLY4yvkeyceg3l3rWXnp+UyZFh/2fD4elX6oOthcy7XtLSUl3PAs1Itxqeffrr0799f7r33Xi2fQRn/85//yOm9T1fL3P33369WOc4FVEygQPrNE5Ru3brptaDrtU8Tv0+MaXwq+95cEIh5TxIoELzO54yf999/H3rHcF0bmfOU+bzxeeI1ejPwO8+T2PCZPPTQQ0GorsU79J2qNCSTmb9RBjl5QRkSnaMckp9cNkleBlGmPChsUazyIJRNWQbXazViRN/fVOBAOUNC76aOhKBDQpihz6ZPvUrm3HW7FLQAMQ0VwtiSK198+ZkcfsQhcvGFl8uV10yU62+YIsOGjJeePQbAE6aNPP7EKmmR30buuGOO/PzGn8vChx+GRbo3muGejzzINk6boVz3AvfGn/8S6e/A4MFv5DC1KOMK8Hj8ifUybMRwOfa4Y2USpp8Ut24LrDB/Gc/Obli8P/zoIynBoCUHC/v06aPkns9iNn4v6H7NdOyF1KKZih5r+mUYUW76fZzaFqokcEKZgrkSEa8ryvk9G4rcEDn40CK55eY7EfWac5S5PFSgeiZFAmBkziF+fpVQuL4MdmjmtMFqaghUR4ACiUol/1JxFJBSBsHKltGjR8uqVavwWe1cr7NBXplKX4L4d8DlsycVaU8EgLXwaViOU3grYRUp1eMLL7xAHnnkESUGtAK/+MJL8rtXXwGJzpOWLQt1/tyVV01Ta/M1V98gS5b+Chbmk6B0tpQ3//W+nDt6BOYpPo7vcKfOzUY7nWXkyy857zgXgcF26VqzJMonnfRDRAh+gKhQ/ZYPP/xAvve978n//vcWrMltlXyQYLCOzIf1pVWI5/bfv6M88cRG6dr1ALhp06uI2EUtzr6dDkuPKc/aZgg4BILvAc/we/Dj3omwzjWdMWOGEmKfzpNokmR+GAmb7rcjRoxQTwc+p0pq3Iuvx/5e/0zyeyZt9NxzG3DS5Tr1J1vfxwmXT5bfvLBdnti0Wtq02k9drzHGhXeWbsqcrBwvzxq25Y4oc+kqN9BGF2b2yc9+9gv57//+Jcce+y2Q6Hx4sewC8X1Q/v3mPyUvty3I7Bdy3Q2TZfjQ8+SHJ54p7Tu0hhV4LTxhiuF2P1XuW7BAFi5aBHl9Bvodniwgv8TCuVwzAFgJgoHly2U/vkwefOBByM4X5bBDD1P9taAwX1avWSPjxo9TMsw5hZVw4+aUQv9MUMrT2+ioo46SF154AfLyS32e+FzyObMtcxEwopy5fZfGNafI4A8XhXMIczToXp2DeSBDpOuBLWX27Plw98tWBS6mEbwttTI5pnj7si8IWOftC3p2b/oiEFTKuTwUFbhx48bLcrhdL1++XAYMOFsjrLIFTmmKF2J8N7jFn3dn/V9fDtMp3/YXInunt/u83EneQ8Wfe86bfu7Z5+SFF1+UIlg1VqxcIT/60Y/lyiuvksMPPwwulpfj+8XywQefytw586H4LZFep/8QsjgHboyfydkDzpTbbrsFRLdIXa7z8xEsB66J3bp9RS08LOMPf/gD2j4O86D7yQP3P6DlklSzzq+++qp+JzH2deVcT1qlvFu6I89h+cY3vq5piJdXIqPtjx0Q8IpoHBz2tZkjwOfFPxt8zvidBJfEis/Zc889J2PGjMHz/oEOJjFNmzZt1HJ87LHH4l34EQaQWgpdrXkfIx0zP04J8M8p934LPp++XH8tvfduEIHihxII4gIE0b1jWWjfpCumyVNPb5TNW9dLcdH+8PaLLg8VaiSiXIFKOhJKWeLk21VXXQsX+WNk4MCzQUJLEbl8F2TvWejTQrnm6l/Kab2+C4vyJDlnxIVy0ol94HpdpGtDtyhoJQ89tFAmT5qig3Pf+/53oXvmKuHt1KmLXHD+hTqo+Omnn8lHH34kixcvBvl+U1568Xn1xCEG5YixQBK8E8G69BnBwCFXCqAQows7//H5ogs2o163btNan0cn/9xKAJn1zKT3E53q2hlRTjXizaI8KnPuQ6FcDosyo14PGjxYunRtJXfNBVEuM6LcLB4Fa6QhkOEIeAWZig6Jcjbc7c4d5SzKy5YvVaLs9WmnDMUTYk9u488nAIZJa5GMd7p6MYKvC1Azfvx4+dOf/iRbtmyFC3QrnUM9YcJEXSeWQYt69+6lKw988vFOEOV7ZPnKRSDKp0AxLpAP3vsCwXCOBln4HBYUBAfLcsuakPBeccVEXTP6zTf/o27n77z7NgY9h2F+9jL54osvtMzf/e53qihSMXTkwrWZeLCe/DhsaF2ByyTu69u3r3Tv3l2t1VXtQdtpXSb5d+nxHXnYZgjEI+DfS57n8+Itwdx/8skn8GAbhgB1L+rzw+eM30888USdi8zpCnyu+KwyPQdr+N1bkrnnFn1u/fumpzPsmXTvH+UK3yTqZEqUoaNxEItEecdTJMrrsCRSJyXK8BbG1lgWZTf4x/7gpxzyiPsZ02fKVw85SMaMHaXGF07p631GLzniiENl5vSfydHHHCpTZlwiP750qvTrMxKBtLJk7frlGDRE9OvZd8s111wjjI9QUVGGgZPdkgdPG3reXH/dDXL11dfIhx98iGvO7Zv9/sILz8qRXztS/viH12Te/Hlw8/5C11Kmt0Ih4jfkQY4xnbd481ifH8W4Uuh5Q28FPpucC29b5iJgRDlz+y6Na04lyX1U8FTwBygHI4GDpHPXNqqkVSK0P10CqzYk5x2Qhwk2vZLgvJ0yBAwBQ6DhEfAKM4lyTnYe3Jvd8lDLly+W/gP6QuGmou3rUXUQOUH55bf4a/583fe0Yuh/KGhUxrw7+EknnaTWmLffeRsu0R/JRrg5t2vfDkrbORoRmxaS6396gyxf8YgG9yoryZbPPimVvv16IWrsTLhGd4ICSKKK/NGogw48SF2qSaCffe5ZrEc7VQcKFty3QF2sFy1chOA3s5wWjmaQeBALKresF7HjhxuJSW4eptzg3+23365kmZYaosJ5iQyIw38+PfOwzRBIhIB/RnjNP2d8vhi5mss9/frXv5aDDz5Y10fm3OMuXbqo1ZhpSWiYlgM7tCBz47Pmnze/9+e59+UFr/F8Jmzq3cd3Ev9cQC/XHmJwxYSpsuPpTXBTdkQ5OytqUXZRr6NW9VS0lThXYa31hSxCPSdOnAjL8AMaiKusjPIpG+7XH2jsm2lTfionn/odueHGKVga6kLp3WsIrLr5iHS9XAoic5R/ceONctfdd8kZiKWA0QCQ3gq1Crdt2052Yb15Ti2htxCXv1u9+lHMUf5/GviLU1iuwbx1zkMup7s1nh1G73deMkDEieEqaPhs0VOBqyFccskl+mxybe7g81WV2A4yAgEjyhnRTZlYSQxbQoK4EToGX8iB5WUgLMpF+BG7RxeF5/y0Kj0oImyqvgeaTKGZiT9OgSbYoSFgCGQ0AiR6WbBklEOqhWTE8FEI5rUeSyw9rMsvcR1iJ6Ncutim8lxw23fy52QilV2n8NJtlORg06ZNShTat2+vgbXat2svM6+8Ui1mffqcgcHKgSDC+8vUqVNl6bJFWAP6dHW93vlZGTx++snGjY+TMcDKy/WNHXFgsCMq11T2XnzxJel/9tlyao8eujQW5+E5d/QsDeDFepB4hEmQ0WQuC8U5gO63oEKtL1x+h+suMz9al2nNq1KMI2Ql+D2InB0bAh6BoF5A8uvdXD/99FP597//rSTH6w1My+u07PGYBNEN6DirMvPkOaZP9uwFy/N1yJS9G/hibeOJcpZMnECLMonyWmlf3Bm6WgsMJOCN5RxlyDpOn0vlRpx9H7j6Ou+Sp59+GmvA/x2E9gv0U0hlUll5iXTtdoAcceh35JjjjpSpMy6UMef+SPr3GyW5+Vjy7qWnQYZbIsr/zXLrrTfLggX3yoiRw2FRLqGYQznUTXMxgFKCZ6MQ8r1Mbr75Fg3m9dtXfqNTVrjmtHoYIH15GVz8iaLe63RcgETxFtnc4CBlGzfKTsZ34LPnvRYiCW2XQQgYUc6gzsqsqlKI0I1FICQgajFHmUpal27FalFmIEMVJhAyHOWkwseNAih+cz9QPJvgYnxi+24IGAKGQL0j4JQ3yrNyWDNGjhgta9aul5UrF2Ju7xmqXDrZpWpUXOlVWlTk/L7LsVhl0lnUSFp5/n//+58GkmFhVPx9sK9t27bJQQcdpPOPf/e7l+WSSy+Sww87HIOWOXBV3SWDh5yNqNnr1L2aojYXc4/p9kjyy/WjO3bcX37z/POwPPdFBO3BwujW5ZgPSkXw7//4h/ziFzfK66+/rgFsqBhyrjLJB8v3hOXtt9+WH/zgB3LTTTdpdFjey2v+ugcOp1h7/9X2hkA1BJxe4J6R4PvAZ4nfSYS5+eeLZIeEOniOx8F8/HMYPKc3ZPgftodW1FiLMgNmhWTC5VMxR9lblEGUYVFW12sQZZJEF/k6NQBoPSN9wvc/KAY4xYQy7rU/vSZc572C84bZ10hfgal8f3ztBen6lSLp2OFgeeapV0Cg95ORowZieahiBAK7ER4st+hg4pAhgyGbkDcGAj///Ev5++sIBgajzWGHHo7BxTbyU3jb0NvlZViUv/rVgzDox6WyQrJj+w656667lVB/iUWcOZColmk8UxxIZATtjxD5mm3YvHmzkmPvueD3/vmKR7OpPW/x7cv070aUM70H07b+tChgJBCjkWVYbw5qF+a1cY5yMdbfvAuuK6LCyStElOPc3Hd37P+aEPFI2N4QMAQaBwEQZRRcieXuysvCIMrngiivw2ep9Dmzh1otXL2YKp7gRYRbVcXjr1dd2KsDWouoqHnrBV3+XnrpJT1HywnJQWFhS7Xy7sLcTCqJVNyWL1+m64pWYGrM22+9BwL7felyQGe4KubLrt27dGrMzp07NdL1qaf2UGL8h9//QddR7n3GGQjmdb+6IVI+f/HF55on5+sVIxhYGUhKeXmZDoaSaJMQ08rXs2dP+drXvgZr9Aq1sHjLi7fm7RUAdlOzR4DPIDdPRII6A59/f97vEwEWn0eiNJl6Tl2vI5V3UFEGOcv6ZT++Qp5+dqts2hx1vSZRZtRrrlZSXZ5FMkrxjgNuH3/8iQwfNlw+/uRj+fKLLyFXcqQcyiTJbGUYMquAtW0h//d//5BTTvke5PMyzCUukitnXi13zrkDMiokLSELKQO57FQJPIS4NNQpJ58qC+69D+S6G1ZluUVuhJv2K797CUtPHYq0Oeo1Q1n18UefyHvvvaeDgdk5IZ3n3BrznnfC3b8Sg4MrV67S2A07duxQwsxnirKWz51/9vw+CF/weQ2et+P0QMCIcnr0QxOsBYkygjBA0JaCKMOZT5eHouv1nNl3QYkyotwEO92aZAg0UQQCRBnBCWlRXrtmnaxc/Yj0O6sXiHJhpN2pIcpBxYrHJAMkqVTKnofVlwSXgWs+/PBDtay1bt1a3Zw//vhjWFXmyCuvvKzRXc866ywojGH59JOdct111ylBLkDsiNw8t5wJCSwtc3379pPTTjtNfv/738Nd+wzpfXpvnQPKsmltoSVlCaLF/u+tt6AQilqhOVeU9SksLFTLFS3dGzZs0CA3Dzxwv5J3H/HaK5J+4LSJPkTWLEOgERAIujKTHmODy7Enyj/+0RWIPbBNXa+LizrBtNECy8PFEWU/1le/Y3wxWJDAJzKU+ESUNTt3fg6iWwhyXKEWW8oPRpnmVlL6OeRWSP7z5juYh3y2HHpYN0wv+bW0bNFRXn75d4jY/4oO4DFaNTy3deCQJLhz5wMweHcUImJ3RZ6Vuo42p7G8+vtXNEI6yTgtztu2btNVBCjXGP26BQJ6tShsoQQ5BwOBlLWMgH3EEUeoDKY85jQTymbKUVL4RO1ju9kXiQg0r9jW+AgYUW78PmiiNXAWZQpktzwUifJQOaBbEZaHmgurDImyn9dXG9frBpTQTbQHrFmGgCFQXwjEEuVzRo6WdXC9XgJFbMDAPnBX9lFNqfXEyyqvZbIu8deS1y9IhuNTxV+jqzMVMufy7CwYvMfP/+UyT1TWaFnSdUIfelCtumdjvrF3UYUnoxS0yJdSWFiouOVAQfQEllaXgoJ8efrpZ+SsfmfBit5H12ymMkhr8V/+8he1FjOvr3zlK3CrbqP5ZiM4TinmI3tlkekZDXbixAlIUxRRIIMKsrO8mNIY3+P2nQjEP/d7QiVZep4Pbk37eYslyq7dzj2dMsERZViUEczLEeUCdb3OCjlDB2WWkljeWHvxFYR3j8e+OxIRSX+zCwxbAXkCWYaEbp3lyLxyROgOYS37Mlid3/rfe/CU6SvdDuwoq1YvllYtQP65JjPaw41BwFiO63NE1ca8Y8pNyi7OU74SMR3uvHMWlrv7nXQ/tDuuuVUFVq1aLeeeO1q+993vyaU/ulTeeut/wImGIMg3EOzu3Q/R6STFxe3km9/8puq3LM/LPkeWeca2TEPAiHKm9VhG1Jc/QvzQJRAuLrDAQGVz6yhjDslsWpThvshROkpeCqyaBSXvbyAJjZxtMwQMAUOgZgQogxhvgXMfw+KJMi0W/QeeCaLsZJmTe/Gyyt3r8o+/5s4m+ptMyWfa+Gte8afC5z9UzLxyRvmaE1HqbrjhBo1STTdBBviiIkfL7+7dpYF8WWdn5aDVhXlyYJNrJffp00d69OghS5cukd0IgsN8337nHfnhD0+SY445RubNmw9rMYImwbqiUawh31kG86OLOIk1CTvLZDAvKq3+d0CP3Ake2mYI7DUC/p1IRoL9dRaQLM1eF55WN8YTZb5w1LmcS/rlP5ki23c8Idu2b5DitlhHWQrwXiJJgCirOsc21V58MXW9buyvL+BunQ25xijYzhvFD6xhkLCSLtiV8s7b72MJsB5y0Fe7aGT/Ni07K1GurPTyjYHAqJs6SzSDDXIeNokyn4Orrr5K7sZc5JdfflkO5hxl4FRQ0EJIlLnc0/nnnSe/RIwFiil+KClJlEmaGRWb9aQlmbKXMo7lsK485rWm/azVa5enTWZGlNOmK5pSRZyS5RWjSswfCVeEZDDmKHf7Cuco06IcJMq0dLj2J9aReLERJXRT6hpriyFgCOwFAk5AcY5yWYAoM+p1f1iUQ1kuyqmTX/GyKiLctNT4a3tRlSS3UAnzyh+VMr/5dUhZN84XnjRpks435jrIg7G2PUmwJ9XUHRmp2kW8prXG5cKlU0h+n3nmWSwx1U+XPlm4cKGWR8XvX/96Q7gsFa0r3TDPz0e65jWvlHqlkW7gnAN43HHHKflmvT2h93W2vSGwrwjwueJmxCQxUeZ7zm3SFTNk85b18tQzm7DmcEdoWnC9TsM5yhxko6KosiKBGCWhpaz5z3/+KyeccLwc/Z1vYDBvkRQWtEd7QIZD8HLE/XwsgvJRQcC53YxQjYG7CfB2uRvLSP3hD3+EGzWCHSJPlrlo0SI5DySZaQqx/BP1W86P9oMITMdBQK44sHHjRjnooIM0a5bFZzD4HAaPNZH9SWsEjCindfdkauXcSB1rT+FGq7KALA8cNAjuMJijHAjmxZ8yjLt5WVOlmGVqy63ehoAh0BQRoKSiPBPMBa6Qc0ZgjvK69bBYLFTXawm7aSTQh7DFa3Hu3urnmba+N2e19YqZUwyjRHQ3gnnddtvtWNpqndx+223y3e99N2LhdZYOpqfM9vf72jG6Na04f//73+W88ePl9N69dX1arxy+//77Gin2s88+07l7qtRCqjM/KpnMj2mdZSUEhfN8RJT9apV7Ynx5vlzbGwJ7iwCfPW58tpr3lpgoc4CM0EyeNFMDee14eqNalEORqNcumFfql4dK1leR7tQ6J0rjr7///ruy6JGFWAavvfTvf5YUtuAUDy5BR6KMO/GhBRn/qzbKK04L4fb/fvMbef43z8NyfL4UITAh0IPc4vSSP8v27dtVptFizOeKVmjKNH68RZqeN4zj0LZtW5WtDLLo09gzWQV5Rh0YUc6o7sqMykLVqlIVKRgYVTULywz0xzrKXQ9sK3dhHWXIaITTz1fBpXNG0DTKsGb/m5YZXWy1NASaGQJO6S4vp9VCNOr1WsxRXoHlofoPOBPCyy9zRFjiFXN3b/Xz9QUhVTnm7spNpIw5JZJu41zLuFSXe+I8YiqMjATrrSaskbufFhAeR77jgP+4RAutxtx8kC5GeyWJpqLoSLG/zw2Ycn4gLdQsgx9aWKiUMm28tcVIjUJrfxoJAT77Te8ZxJvrBEAVqlw/2FmUs2TKZBBlzE/e8VSEKEfWUZZGWB6qqoJ1PPDNc+Sfg33lcIUmkeV85nwlyrqck8qzSOaQb07GUS46t2vixA9lE2UV5SNx4vxoBvXy8ipeXvK7x5j3sh5M6+rD+dRO1tWmWT4fpg0+i8nO1yZPS7NvCBhR3jf87O54BFRj4x/3gfyAoAkQZcxR5lp0JM9cd44CzohyPIj23RAwBNIRgRLM46Ub3/Dh52jU62UrHoZFmUQ5X5UuN9CXaqIcixQVqqCC5a9S1jIwTQXIMkkvFTm6EVJSU14nuodXaG2hwudkOgl0tH3ORdsFBmJapetKsJ3CybSsDz9UFv13r1jynD/v7re/hkD9IxAkGcw9+AzXf2npl6O2X9dRdl4xlAWO7GXBojwDRBmu11hLmXOUQ1mYX6urQsGLBN5+9PlLuw31pwyLbm5gj991EA6BvWhB5sY2ZIcYxlu/VvvDWApck5kyjpjw2fAyidcqkQ8H+zigSJnJNF5++bRMT4x5nvl4ucbCgrKvWuFxJ+Kf0+Dl5vbMBtve2MdGlBu7B5pa+ZRdEMhOqaLg4AcKEoRt//4D4HpdjOVJ7kbwgxBG6EiUqaBF59MFdLCmhky9ticoUE2A1iu0lpkhEEVA5Vn06+7ddKPLk1HnjJFVK1cLifLAQX0h37CAJ7YslX3xGplX6OLPR/NN1RGVOCc7nGJJxW9PG9N7V2pqm07eUBGFCg1LMTcnx4OE2eXqZVNQXgWPvULqUkf/+jT+/ugVOzIE6o6Af578nc3tuWL7vW7Fd9kRQA5eZckVE6fLk9sZzOtxaVfM5aEiRFlAlFU3a1yiTDnDzdfffUvyF2lJejEMoHqok070aKlZzhEfT4D9s+H3xMsPCAYJMa/7NNwzD//hd6bl5rDfs+xnupo2X1ZNaexawyBgRLlhcG2eueI956vuBBpH85ybolqUMarniHK7CFHGyspGlOv8nCQTpiZE6wyl3WAI7BkBFWjRZCTK2dm5MnbMebJs6TJZDtfrAYP6qXLJVE72RdO7I68A7VlZir+zvr87RY65OgtyMrnhdDbXeN8mf87n4ZTBWHKs8inyI+BJtG8Dr1EZ5cZ7/cdfD+41n0i64Hk7NgSSIcBnJvnz7N9Bd3eydMnyzvzz0fY744UjdXxHJ06YJk8/s1ndr9u3Q4ToCFHGRAtYlyMWZScKUg6DlzmRXksiX91Vl5bHrGzwQ1lTM1F2OQT/RhscrQPld/JnjHer3EIylBjMLOmxl3M+QfB7/DMa/93fY/uGR8CIcsNj3HxKgGxR8aIywhFlTO3A6CXFRrYMGDBAunQtknvumQ/3P8Hi8IgUq1IoOmLplbLmA1rdWxoUprzbBGjdMbQ7DIG9QSBKlMfLkqVL5dFHl8lZZ50B6wGDuyTLkVKRW9IE7nIK/lJ2BOUFxW+iegeVw0TXfVV9utg8Y8vwabkPyq7gPcE0wXQ1pYm/x74bAskQqO1zl+z+zD/vZZB7Bzlexbm3fL+umDhNnnl2q2zeul7att4P0zEKNdBVOhBl4l6XvovKMwwEqDbqeo4ejem6BdtXUx1NFtaETsNeM6LcsPg2r9whiymOnfshjzj3A1YEeMKEsnJAlAdKpy6t5d5778PC8CL5+X6OMq0SDqqalLLmBaa11hAwBNINAc5R5rrCo8eM1XWE1617FOsKn45zLup1RALGVTsi3NKSKNdEahOT6GDjvJJX30oc863vPIP1tmNDoHkh4GUQiaf7MF4BjydPmq5Eecu2x6RVy3aSn9sqEhGartdcUBkDfLy9kcb5vIxhf9VdJvh2N1LlWelabsF2+lvq3l5/p+3rEwEjyvWJZnPPiwIYGMQSZbhfI3BXNsLzM+r1/p1agSjfj3WUSZS59qiTwEaUm/vDY+03BNIfATdHOVfGjB4DorxUVj+6ChblvjofLarUxCtlTsY1duu8IhatJxXm5IS0pmu+LS4Nv8W32aeo/d7XT3OzEdPaA2cpDYE9IkAZxM3rWy4iNKdCcHmo557fhrWU10kbWJRzsgsDwbzShyg7kbDvcsbh0DB/vQwLytiGKclyTSUCRpRTiXZTL8vL4kAwL4bV5xxlWpQHDhwoHUmU54Mol2epRdlDogEKIQNNP/KI2N4QMATSBQEO5FE2lZRw3l6WjB07VpYtxxzl5csR9XoAzrkEbm5avDLnlNPGbotX4mLqQZmblOQmqzfnN0Zz8UphovwTXfPnojk4wh78nihN8LodGwKGQF0QiLoi833n8lCMDk3362lTrpKnMEeZFuXiov0Ri7UASysh7yxGvY4Q5boU1QBpKVvSgSh7GZdIPvlrbH6i6w0Ai2WZIgSMKKcI6GZTjOpW/OM+dL0WEGUsRiKDBg2Sjvu3jBBlb1F2yHjFy4hys3lSrKGGQMYgoPKJogwH5VAwx40fryR5xYrlCFLYHxZlNKWKdMYT5YxpZh0qSvnOrX7aakqmQ9P+GgINgYC+X2rAQO4gyVTPyrB2MC3KM2dcK5s2r1WyXNS2YxxRjgTzaohK1SlPypv6kTV1KtYSGwJ88vAC+V88A8QQ2HcEVJ7xj/soUQ5Di8SHRLmDEuX7EMyLFmW6XrvNP4VGlD0itjcEDIG0QQDijDKKP5elpaUy/rzzZAWsyc6i3N9ZO6DHJbYop00r6qkilO3c6klxJa74Z1YYh6r9NQTqGwG/prC+shFZ5tZGz5JpU69yRBnrKBdhHWUudectyhLOxnuZDoGwKHPqSd7UN7iWX5NHwIhyk+/ixmgghZr7BIny4MGDpP1+hbAogyhjHWWbo9wYfWNlGgKGQJ0RoHKJm7i0SllpGYjyeBDlFbJ8xTIZAIuy6pIZTpQ5CJDMvTE2gqxHb98U1+AYvZFkj6ntDYH6RoBTJSi9QDXxyjLitRv0q9TYCpMnzcD85PWyfccTUlSEdZSzQJRpSIbrdfoQZa1+2v1xMnPf5GDaNcoqVA0BI8rVILET+46AI8k6KwaHjHrNdewGDxos7ToUyH33PQhlMywFBQUoimkt6vW+Y245GAKGQIMh4MQUrMlY1w7H544eLatXrZJVq1dJv35nQuFUlgxJRqUpUxWnSCMTgKiKtmti5Oq+t9Er78zQiHIC0O2UIVAvCESIcuT9jSXK2Rr1OkiUs0GUQ7rsMIgypsylh0W5XoCo90yMKNc7pGmZoRHltOyWplCpSjeKCVNLeWmFLqkyaPBgKW6fLw/c/yspLamMIcpUPlVN23f9qymAZ20wBAyBNEKAFhhaY3bvKoFbYq6MGDFC1q5ZK2vWPipnnMHloUJ63ZHkpijEKJ251V/bPFE2kuyQtb+GQMMgUBNRDmnUa0a83v7URimG6zUtylVEGQaOdF6DuGHwslwNgVgEjCjH4mHf6g0B2pPp4xNCdMVyLDmQK4NBlGlRXrDgAV0eKjc3T11/tMj618PqrSWWkSFgCDRzBHQUT5xFGarjiOEjZN26dbJ27RrpfUYvJcpkyo5G1h+ZbOaoW/MNAUNgnxFITpRpLZ4yOeJ6HUeUMckEpDldgnntMwiWgSGw1wgYUd5r6OzGmhGgZkkBTeWyQnJhhRkyZIi0bZcnC+59QMKVIcnBuZCGi9WkZlGuGVC7aggYAo2IAGUZ5yiXYo7yueeeK2tgUX4U6yifeWYfEGWQ43ogyubK14gdbEUbAk0SAUeU6RFDjxDKMCfLOEc5C0R5ppujHCHKGswL/DiMOcqeKKtHjbu9SSIUbJT3dNHmOtCCl+24GSJgRLkZdnpqmkyiDGGLXRmJcm6ODB4yVFq1zpKHHnpYo17n5VnU69T0hZViCBgC+4oAZRnXhSdRPu88Rr1mMC+sozwgsjwUCjA34n1F2e43BAyB+kVgz0R5y9bH1PW6qA2Wh0LU61A2A/uV4+Msys2JKBN7N2DJI/MOIgrNfTOi3NyfgAZtv7col1dZlNvv10Lmz7tPyuOWh6I5mdTaBvAatEMsc0PAENgbBFQ4wTumpFzl1GgN5rVali1bKgMGDoBlxmVqRHlvwLV7DAFDoOEQqJkoT51ypWxC1OsdsCiTKAuXh6oiyjn47oKtRgzSDVdNy9kQSFMEjCinacc0lWpxZI6RYrNDuTJ02GDp0rVIZt95F+You3WUvTuQEeWm0uPWDkMgkxGIMOL4JkRO795dingLOTKcwbzWrgVRxvJQA85WF0adoWwGiHjk7LshYAg0KgI1E+UpIMpblChvkrZt9oPFgusoe4uyI8o6Osg2mHxr1J60whsHASPKjYN78ygVyiX1S7oqKlEeOki6dCtWolxRHpK8vDwVvKpgRtKaRbl5PBrWSkMgPRGIMOIkleOgH+UVifK6teuiRJlRr3mPKZJJkLPThoAh0DgIeKLshJOfoxwOV8JynC1XTJgm25/eJFvhfl3UNrHrtRHlxuk5KzU9EDCinB790CRrwXkt3Bj1OpSVI0NAlDt3aStz596DgBLZkoeo11XBazxR5g2mbBIF2wwBQyDlCCQnypRnXIO0vKxMRo48R9auWyvLly2X/rAo6/JQrKvJrpT3mBVoCBgCNSHgpsB5I4QnyjRjkChf/pPJ8uxz22TjprVSXLQ/RBhdr3E1EMxLibLJtppAtmtNGAEjyk24c9OhaZUVYamAdpmbkw3X62HSrn2B3HXXfAjjXI16HU+UWWcv0NOh/lYHQ8AQaE4IJCfKVBZJlMtAlEeMHKkW5eXLjSg3p6fD2moIZB4CiYmytyhPvHyq7KBF+cnHdR1lTIrTmAvhrFLoYjnQ1RCAoQaxmHl4WI0NgbohYES5bnhZ6joiwCixalmGoB08BK7XXYvlrrnzsDxUthHlOmJpyQ0BQ6ChEaBGyI3mk+CxnkTUa6wuCg+Zc86BRRnLQy1dukQGDhoEC4wzt9ggn8PJ/hoChkC6IBDrek3jBAf8SJS5POekK2bIlq3r5alnNsP1GhblcB7O4x6so6xEGWst22YINGcEjCg3595PQdtJlOnqkx3KlmHDh8l++7eUuXPuUaKcC9frqqFK6KRVaqm5+KSgZ6wIQ8AQqI5AlRSKXOL3qEBSooyYC+PGj5eVK1bIwkWLZATkmk9iRLk6onbGEDAEGhMBR5QpoxhfgUQ5XIn1lCNEefIkR5RpVdY5yuF8yQJRhu8M9hGLcmNW38o2BBoZASPKjdwBTb34iooKZ1GWbBk+bKi0LsqRBffeD3Gdh7WVc6uar1bnyDdTNqtgsQNDwBBIKQLxRDm2cE+UL7jgAlm8eDEsyksRe2GIThdROh3l1LE32jdDwBAwBBoFgSBRpiUZHyXKYbUoT540XS3KujwULcpwvTai3CgdZYWmKQJGlNO0YzK2WjEGGLr4wPWaQrkyhHl9w6Rtca7ct+ABqazINqKcsZ1sFTcEmiICdDf0xuHEjJdEubS0VC6++GJZuPBhWJVXyUBdR1nNNU0RFGuTIWAIZDQCNRPlKbAob966TrZzHWVEvQ4hmJcR5YzucKt8PSNgRLmeAW322VVpmjwgUcY+HMIoZpYMHTpUOh/QFsG87oGyGZb8vPwoXEyGb2aViUJiR4aAIZBqBKqkUPWCcYmBCbnc3SUgyg8rUV4pAwYOhGUGTo2JuXX1fOyMIWAIGAIpQ6A6Ua6E8cIHUp029SrZtHkNiPIGN0dZWkCeYRKzYCk8c71OWS9ZQemLgBHl9O2bzKyZ6pn8ww8DeVEgh7A8VJb0789gXkUyZ87dsCjDwSefRDmqXdIlyJTNzOx2q7Uh0DQQUAGWsCmUT/SQUYvyRZdgfvLDsmL5CgTzIlHGOspRUZbwfjtpCBgChkDqEYglyi6QF/WySmhfWTJ9+nXyxKZVIMo+6jWJMr1ryrDPRQoL5pX6PrMS0wkBI8rp1BuZXhcokqpmZvEvPwjkpYdQIiFsBw4cLPt3aS13Y3moinJPlKONNqIcxcKODAFDoDEQUAmWsGBPlMtgUT7/gvMxR3mJcHkoul5zPVIjyglhs5OGgCHQiAiQ8oIVq02CY3mOKPNUGDIrS2ZM+6ls2LRStu9YL0VYRzkkhUaUG7G/rOj0Q8CIcvr1SebWiPIYtc+qIsrO9ZoWZRLlwYOHSPuOhXLv/PtAlEXygq7XuM+IcuZ2vdXcEGgaCKgEq9YUyiaNFosDrqM8btw4JcnLli2XAQP6Y6m7bNxj7tfVgLMThoAh0KgIJCLKjiy75aFmTLsBFuUV8uSOdep6HZKWEsqmHDTX60btOCs8bRAwopw2XdFEKqJ6Jv+4D+coO9frkAwaNEQ67F8o8+fdJ+VlEnG9jrbbiHIUCzsyBAyBxkBABVjCgkmUKc+CRJkW5QEDaFGme6IR5YTA2UlDwBBoVASc9dhVgSTZ6WUgyrAoTwdR3rgZFuWnQZTbcB1lEmUaPECUs3Jwk80padTOs8IbHQEjyo3eBU2sAjFE2c3pI1FmQC8uo9IBFuX58xZIOV2vzaLcxDrfmmMIZDoCNRFlJ8/KMco3dqyzKMcSZSqXplRm+hNg9TcEmhoCyYhyNmIrTJ18nWzaulp2gCi3BVEWEGXMJEEgLxBlMaLc1J4Fa0/dETCiXHfM7I5aIeAsyhWwwGSBJDPK4rDhcL3er4ValDlH2VyvawWkJTIEDIGUIZCcKLMKDOZFi7Ijysvgfr3CWZShcNLwYkQ5ZR1lBRkChkAtEaD7tRvC41KdfjUSrKMMT5jJV1wtW7atkR3PrJe2rWlRLpRs8OOsrArk7qaUqIMgy7JxwFoibsmaEgJGlJtSb6ZVWxxRpjt1JeRtBdx9Ro4cLsXt8uXee+9PaFFOq+pbZQwBQ6AZIlAbolwOojxG5yivWOGIMgmy/zRD0KzJhoAhkNYIUK5xixJlWplpUZ4y5RrZvDvthm0AABSWSURBVOVRuF4jmFebjkgBopxNecYlotyUEr3V/hgCzRQBI8rNtOMbvtmcm8xRzJCUlVdIGBblkecMl7bFebLg3gd0eShnUa5ZMW34eloJhoAhYAh4BGqWR7Qol5eXy5gxY2TZsmWyciXWUcYcZU+SzaLscbS9IWAIpA8CnijTK4Yfp5+FskKYo3wNgnmtdstDFe2HecstIjEXWHszIadPH1pNGgsBI8qNhXwzKJdEmVtpaTlGLnPU9bq4XYHMwxzlLMmV3Ny8ZoCCNdEQMAQyB4HaEeVx48fJEiwPRYsy11GG/aWKLGdOW62mhoAh0HwQcPqYI8ouij+Dec2Yfo08vhFEeccGaVfcAbpaPpaHsrnJzee5sJbuCQEjyntCyK7vNQIkyljTHkS5DPOR87A81CDpdEAbmX3n3Ri1zMOoZY4ql3tdgN1oCBgChkC9IlAzUaY1uRJzSc4//3xZtOgRuF8v02XvXAwvR5brtTqWmSFgCBgC9YKAsyLTfkEPP/X4g+v19GlXyYYnHsXyUBukfbv20MtAlLNykShiTTajcr2gb5lkLgJGlDO379K+5s6inCVlsCjn5edAoRwmHTvlyezZ8+CQ3QJrj3LUMtlWs8Ka7C47bwgYAoZAQyFQWlqKwT2R8847L44oO23SXK8bCnnL1xAwBPYNgQBRJgmGihXCXOTJk2bKps1rQZSfgEW5HYhyHohyvl7X8owo7xvsdnfGI2BEOeO7MH0bALGso5JlZRWSl5stw0eMxPJQ2XLnnfM0smJODiMqJtpIkrmZhHY42F9DwBBIBwRIlLmdf74R5XToD6uDIWAI7AGBKptDAqIcAlGePANEeR3mKD8hxSTKISPKe0DULjczBIwoN7MOT21zI0S5vFLCFSE5Z9Rw2f8AEOVZ83VR+z0TZdbWyHJq+8xKMwQMgWQIGFFOhoydNwQMgbRDIMbmECXKgiU7net1lkyJEOUdIMpFxe3V7ZrzlG1JqLTrTatQIyFgRLmRgG/6xToJrYEjKsKYpywyYsRgOeSItjLr1nuwFmmeul67uX3xaHjpzvNGlOPRse+GgCHQOAg41+ssGTdunCxevFiXiBo8eHBVrAVzvW6cfrFSDQFDIAkCVKdUjfJEGV/geu2J8uRJ02Tbkxtk65PrYVFG1GvJh/s15ijbZggYAoqAEWV7EBoIAUd2y8rKIZSz4c4TkqHDhknnr+TJnXfMg4W5IEKUExFhI8oN1CmWrSFgCOwDAp4ocx3lJUuWGlHeByztVkPAEEglAomJ8qQrpslTz2yUjZsexRzlTho/Jjsb6ycnUs1SWV0ryxBIEwSMKKdJRzStakSJLiNei2RLHuYjDxoyDFGv6Xo9Dwv5FWJ5KB/1Ol4iR+93uMRfb1poWWsMAUMgMxAoKytTS8zYsWNl6dJYouwjX2dGS6yWhoAh0LwQoF4VRtR+6FOwKFdiSRIuazdlynQQ5Sdk4+Y10rZ1R8kJtYZFGUlj1C7eG3OieUFnrW3WCBhRbtbd31CNdwIZ45dSwfnJlSGIWBJluF4f1kZuv22ulJXkgCjnYr0+jFxSAMfIYX6J30xIxyNi3w0BQyB1CNBVsaKiAopmpcQT5RCC4pgimbq+sJIMAUOgLgh4ncoR5TBdrzkvDtu0aTNl2/bH1PW6dcsOkpvdBnoZLmSFq6aUOAWNqU0PIwq2NS8EjCg3r/5OUWsdUeaIZSgrB/ORKyF8QzIIy0N1O7hA7rj9bqkoy4frNYkyqxRPlHnOC3YeczMB7XCwv4aAIdAYCHD90UoQ5Qqso8w5ykuWLFHX60GDBsECkyyCf2PU1Mo0BAwBQyCIgNPJ9C/4sRJlCDQaKiZPmi6bt64VDebVdj/w4xZYNiobGheIsg4AMh/eaTpYEFE7bj4IGFFuPn2dwpbGCmXolZIDojx4yFDp1DVXZt85H3OUC2ODeVWTwzwR3ExIB9GwY0PAEEg9AhpzAUrj2LEkyi6YlxHl1PeDlWgIGAJ1QYD+fdCpQI4dSXbGCXrCTAJR3rSFRHmjFBe1Bx3OB4FmMK8sGDp0V5eCLK0h0OQQMKLc5Lo0HRrkSW4WrMnlcN/JBlHOkiGYo9yhU5bMnb0AIrgViHLUCkNrTfUI2D4ftsmIcjr0rNXBEGjOCDDmApVLul4vXkyL8jIxotycnwhruyGQCQiQIFOfSkyUN29ZJ0/ucOsoh7K4jnIekmLKHGN6meqVCR1sdWxABIwoNyC4lrVIeTmIMuYncxRz0KAB0rlbC7lr7gIJhQsl24iyPSKGgCGQQQhEibKzKC9bFiHKIQz6mUKZQT1pVTUEmhMCjijjLwgwl4aKLA8FFjx92lWyYeMadb0uLioGMcaUOCXKcL82otycHhJraxIEjCgnAcZO1w8CzqIcgvU4JMOHjZCiDtkyd858COIWsDLnoBCOclJoJxq55DW/mRbqkbC9IWAINA4CZbAoc96ed732RNkFJaQMMznVOD1jpRoChkByBCJEGXFjnL4FnavS6V5XXnmdPL5hlWyn63VxMXQzEuVc6GTZ2Gvy5NnaFUOgGSBgRLkZdHIqm6iL2AeUxUoI44qKSpBiRL0ePEj279RK5s6dB4UyL0KUWbvo6GZsXY0ox+Jh3wwBQ6BREHA6pTiLckhdrxnMa9mypep6bUS5UXrFCjUEDIFaIUCijBVIInOU1aqM+ziwd+XMCFGG63VRcTuQ4xwjyrXC1BI1FwSMKDeXnk5JOymM46wq+F6KtUdzEeF62PCh0n6/Qpkz+x7M8wsSZdiV4+/T+lI79ZtZajwStjcEDIEUI0BRBBHkgnmJjEfU60cWL5YVK5bLwIEDNXosa2QW5RT3ixVnCBgCtUAgSJSpb3HJTkF065DMmH6NbHjiUcxRflyK2rZXkqzBvOCeHY16XYsiLIkh0EQRMKLcRDs2PZrltMvyyFrKI88ZJh07FchsEmUpwJIqdL12m7leeyRsbwgYAumKQCW8Y8qxRNT5558vixYtlFWrVsvZZ5+lEfzTtc5WL0PAEDAEsIKyrp3M+ckc9aPOFcIk5BkzrsYc5dWyfccGEOUOuELdTNftxMCf2xt6hkBzRsCIcnPu/RS0vRKL2nP0kktEjRgxDMtD5WN5KLheY62+4NqjRpRT0BlWhCFgCOwTAuXlFZBnlUqUFy4kUV4l/fv3j5Fl+1SA3WwIGAKGQIMgUCmqj9GWDJ3MTZOjRfkqeWLTaliUQZTbYB1loW7GiNeVOI6uTNIgVbJMDYEMQMCIcgZ0UiZXkVGvQ6EcKS8VGT5iqBxwYJ7MnjVfpLIlol4HRisjro2xbeVJv3EU1DZDwBAwBBoPgTJMI6E15vzzzxMjyo3XD1ayIWAI1BUBEGUG8wJJ5hxlxo+ByVhmzgBRhkX5yadIlPd3RowcrKEMogybMz6me9UVaUvftBAwoty0+jONWuNILt2uKZQZ7Gb06DHStkMZiPK9WB6KRLmm0cogSWazTFinUedaVQyBZomAXx5q3Ljx8sgji2plUcbsQEgvk1/N8oGxRhsCaYNAIJgXCDCty9SrSJQ3bFyly0O1JVGWlgi0iksht7Sn6V5p04FWkUZCwIhyIwHf9IulegiyC5JcVoZ5fWVZcu7o4dK5ay5cr++FRbkQ8/qSEWUjyU3/+bAWGgJpiABFTw2c1hPlsWPHyuLFS0CUV6rrNQcCkwXyci6ObGsNGachFFYlQ8AQaCoIULBFdTKdDgeLMiUSXa83bAJRfhpRr9t0wrlCuF7jQpYR5abS+9aOfUPAiPK+4Wd3J0WAQtnNcSktKQdRxjrKIwbJVw9rI7PumCcVZXmSm8tgXomURyPKSWG1C4aAIdAgCDBOArfA6nbuROBvSUkpvGOyZNy4ccLloThH+ayzztI5ykGiHFwmj8cUc2ZVDgBph4aAIZBCBBxRZoEM5qUful5DKk2bNlO2bFsr255cL8VFXXCGc5RJq40op7CDrKg0RsCIchp3TuZWzQllKogUyLQo5+XkyPCR56hFedbtd0tFOZaHwjmnXMaTZd4f3OKvB6/ZsSFgCBgC+47Anogyr5eWlkBmhSJEebGsXr1aibK3KHuyHE+UHfk2ObbvvWQ5GAKGQN0RcDoZ7/NE2bteT592JQJ5PSYbN62Rdu06I3xXIZaNIlFGBFYuI5Vo5JDZmTirezfYHRmJgBHljOy2NK60ClAnlNWSgrkwFeWwLVeEZOSoEdLpgBBcr+cjYATde6LLQ0EqxwlenghuJpWDaNixIWAIpB6B0tJSVRzpeu0syqtlwID+WhEqlAmVytRX00o0BAwBQyCAgNenaLwA/63MkgrMUaZWNX361fLk9scR+XqNtG/XUbJDIMqYSuL0N6hliYhyIGc7NASaOgJGlJt6D6ewfVGLDIUyBTLmwGRlS1lpJazKIsOGD5buh7eR226dGyHKnAjDza3pV10ee+Hu0mhS+2MIGAKGQCMhwCj+tMSQKC9duhSu16sxR/nsKmXSK5V+30jVtGINAUPAEIhDgNPh8A8xvBjxmnKMOteM6ddiDeWNupZyu3YdJDuL6yi7aXHU6dREYXaKOCzta3NCwIhyc+rtBm6rI8okxyzIC2W4XpdWwM06F+soj5CvHNJSfvHz2yCMWwXm9RlRbuCusewNAUNgHxDwrtQVFRVCssw5yo4ou3WU4y0wRpT3AWy71RAwBBoAAehkUNIcSeYxiXJIrpg4TZ5+Zqts2bpOitu1l1BWLqJe56P8iF7GmhhRboD+sCwzBQEjypnSUxlQT0eUIVOznCWYwbwqMc2lZHeZFOQXyNBhw6Rztzy1KOeEWkeIMhtWG6Ls0mUADFZFQ8AQaKIIlJSUqLJ5wQUXKFFesWKF9OvXD4EJc5toi61ZhoAhkPkIOJLs3KnBehE7pgLKGQf0GPV6y9YNmKe8Udq2aYtr2XC9zoVWBo8/JK3u6Zf5aFgLDIG6IGBEuS5oWdo9I0COHCHKtCpzHeXdIMotW7SQc0adK8X7VcgdCOaVm91WiTLTJCbKjmzHFmjDmrF42DdDwBBIFQJ0VSRRpvX4oosukkcWPyJLlyyVs88+W/Ly8lJVDSvHEDAEDIFaI+A9/WhBdtoWYylwHeWwRvC/+qprZOuTG2X9+kelqKgYFuUcnM/BgGBIrxtRrjXUlrCJImBEuYl2bCqa5UYnOeIYT2CjJLeiwlmVy0oFwbyGS8fOWbJg/q9gZQ6pcsmlVrCyfYLqRvOIvRhfVuxV+2YIGAKGwN4gkFyeRXMrQ7AFprvwwgvl4YcflkWLFsmoUaP0XHU56O6rTb7REuzIEDAEDIH6Q6CKKJMm6xfnwccBv127SuT666+VdetXy+bNm2T//TvB7ToXRoxcTVpNtWO1mE2kegmv11/VLSdDIC0QMKKcFt2QmZVIrgAiWoRuXBqqXAUvpvbJNddcDYtyJebETAc1bqkpSJQ5ukmrcuzmRXHs2erp4q/bd0PAEDAE6o6Al2e80ymA8TJJIM9KoUTmyPLly+VPf/qTWpYPOOAALYxE2X986cE8Xb7V8/RpbW8IGAKGQH0jQG7M6XCURfyo8YLWZFiOs7ND8pe/viZffrlTuh/aXdq0bqsEmUQ52aZcO3JRpZmJtGRQ2fkmgoAR5SbSkeneDAbB4UZF0ge+odDmMTceJ7PIaAL7YwgYAoZAGiHgZRZdsr0cS6PqWVUMAUPAEEiIAGWX22hddvKL00pInPnhaiXcmCwZGY7m4fQ6l5/9NQSaHgJGlJten6ZFi7wQDZJfnvPn4xVLng+mTYtGWCUMAUPAEEiAAMmxl1mUWya7EoBkpwwBQyAtEfCyK7Zyztqcne2X7Yy9Gv/N63I8b/IvHh373pQQMKLclHozzdoSL4z53a3d56zKwerGpw1es2NDwBAwBNIJAcoxbkaS06lXrC6GgCGwtwh44ltb0uvTs7za3rO3dbP7DIHGRMCIcmOi3wzKDgpTNjcoUIPXguebASzWREPAEMhgBCi7vPyi7DL5lcGdaVU3BAyBOiMQlH91vtluMAQyCAEjyhnUWZlc1XihGv89k9tmdTcEDAFDgAhQrhlptmfBEDAEmjoCpsM19R629nkEjCh7JGzfoAjEC9X47w1auGVuCBgChoAhYAgYAoaAIWAIGAKGQB0QMKJcB7As6b4hELS2BI/3LVe72xAwBAyBhkPABvUaDlvL2RAwBFKLgJdnLNW8X1KLvZWWmQgYUc7MfrNaGwKGgCFgCKQAAa9YmlKZArCtCEPAEGhwBEymNTjEVkATQsCIchPqTGuKIWAIGAKGQP0jQMXSiHL942o5GgKGQOoRMHmWesytxMxFwIhy5vad1dwQMAQMAUPAEDAEDAFDwBAwBAwBQ6ABEDCi3ACgWpaGgCFgCBgChoAhYAgYAoaAIWAIGAKZi4AR5cztO6u5IWAIGAKGgCFgCBgChoAhYAgYAoZAAyBgRLkBQLUsDQFDwBAwBAwBQ8AQMAQMAUPAEDAEMhcBI8qZ23dWc0PAEDAEDAFDwBAwBAwBQ8AQMAQMgQZAwIhyA4BqWRoChoAhYAgYAoaAIWAIGAKGgCFgCGQuAkaUM7fvrOaGgCFgCBgChoAhYAgYAoaAIWAIGAINgIAR5QYA1bI0BAwBQ8AQMAQMAUPAEDAEDAFDwBDIXASMKGdu31nNDQFDwBAwBAwBQ8AQMAQMAUPAEDAEGgABI8oNAKplaQgYAoaAIWAIGAKGgCFgCBgChoAhkLkIGFHO3L6zmhsChoAhYAgYAoaAIWAIGAKGgCFgCDQAAkaUGwBUy9IQMAQMAUPAEDAEDAFDwBAwBAwBQyBzETCinLl9ZzU3BAwBQ8AQMAQMgXpDIIycsuotN8vIEDAEDAFDILMRMKKc2f1ntTcEDAFDwBAwBAyBfUQgHCZJdltWlpFlj4XtDQFDwBBozggYUW7OvW9tNwQMAUMgAxAgiTHykt4dlel9ZEQ5vZ8vq50hYAgYAo2BgBHlxkDdyjQEDAFDwBCoNQKZTsJq3dAMTuiJZqYOaPj6swsytQ0Z/PhY1Q0BQ8AQSEsE/j+SQ0sJ2HwT+gAAAABJRU5ErkJggg==)"
      ],
      "metadata": {
        "id": "ZIsaNUHtjnod"
      }
    },
    {
      "cell_type": "markdown",
      "source": [
        "**두 벡터 A와 B의 코사인 값**\n",
        "\n",
        "$$A*B=||A||||B||cos\\theta$$\n",
        "\n",
        "**유사도 $cos\\theta$**\n",
        "\n",
        "$$similarity = cos\\theta = \\frac{A\\times B}{||A||||B||} = \\frac{\\displaystyle\\sum_{i=1}^n A_iB_i}{\\sqrt{\\displaystyle\\sum_{i=1}^nA_i^2}\\sqrt{\\displaystyle\\sum_{i=1}^nB_i^2}}$$"
      ],
      "metadata": {
        "id": "SOITohx6j4Ds"
      }
    },
    {
      "cell_type": "markdown",
      "source": [
        "<코사인 유사도가 많이 사용되는 이유>\n",
        "\n",
        "문서를 피처 벡터화 변환하면 차원이 매우 많은 희소 행렬이 되기 쉬움\n",
        "\n",
        "희소 행렬 기반에서 문서와 문서 벡터 간의 크기에 기반한 유사도 지표는 정확도가 떨어지기 쉬움\n",
        "\n",
        "문서가 매우 긴 경우 단어의 빈도수도 더 많을 것이기 때문에 빈도수 기반도 좋은 방법은 아님"
      ],
      "metadata": {
        "id": "Al6bIMFllZqk"
      }
    },
    {
      "cell_type": "code",
      "source": [
        "# 간단한 문서에 대해 서로 간의 문서 유사도를 코사인 유사도 기반으로 구하기\n",
        "import numpy as np\n",
        "\n",
        "# 코사인 유사도 구하는 함수 작성\n",
        "def cos_similarity(v1, v2):\n",
        "    dot_product = np.dot(v1, v2)\n",
        "    l2_norm = (np.sqrt(sum(np.square(v1)))) * np.sqrt(sum(np.square(v2)))\n",
        "    similarity = dot_product / l2_norm\n",
        "\n",
        "    return similarity"
      ],
      "metadata": {
        "id": "ariXHoZUmXz0"
      },
      "execution_count": 30,
      "outputs": []
    },
    {
      "cell_type": "code",
      "source": [
        "# doc_list로 정의된 3개의 간단한 문서 유사도 비교를 이ㅜ해 TF-IDF로 벡터화된 행렬로 변환\n",
        "from sklearn.feature_extraction.text import TfidfVectorizer\n",
        "\n",
        "doc_list = ['if you take the blue pill, the story ends',\n",
        "            'if you take the red pill, you stay in wonderland',\n",
        "            'if you take the red pill, I show you how deep the rabbit hole goes']\n",
        "\n",
        "tfidf_vect_simple = TfidfVectorizer()\n",
        "feature_vect_simple = tfidf_vect_simple.fit_transform(doc_list)\n",
        "print(feature_vect_simple.shape)"
      ],
      "metadata": {
        "colab": {
          "base_uri": "https://localhost:8080/"
        },
        "id": "fxshvswOm9kf",
        "outputId": "5d06dccf-2a5b-427a-b7b5-9e93526f4cc7"
      },
      "execution_count": 31,
      "outputs": [
        {
          "output_type": "stream",
          "name": "stdout",
          "text": [
            "(3, 18)\n"
          ]
        }
      ]
    },
    {
      "cell_type": "code",
      "source": [
        "# TFidfVectorizer로 transform()한 결과는 희소 행렬이므로 밀집 행렬로 변환.\n",
        "feature_vect_dense = feature_vect_simple.todense()\n",
        "\n",
        "# 첫 번째 문장과 두 번째 문장의 피처 벡터 추출\n",
        "vect1 = np.array(feature_vect_dense[0]).reshape(-1, )\n",
        "vect2 = np.array(feature_vect_dense[1]).reshape(-1, )\n",
        "\n",
        "# 첫 번째 문장과 두 번째 문장의 피처 벡터로 두 개 문장의 코사인 유사도 추출\n",
        "similarity_simple = cos_similarity(vect1, vect2)\n",
        "print('문장 1, 문장 2 Cosine 유사도: {0:.3f}'.format(similarity_simple))"
      ],
      "metadata": {
        "colab": {
          "base_uri": "https://localhost:8080/"
        },
        "id": "F7DaT2CHnOmi",
        "outputId": "35195e1e-fd1a-4889-b66d-63ffbb5cf71d"
      },
      "execution_count": 32,
      "outputs": [
        {
          "output_type": "stream",
          "name": "stdout",
          "text": [
            "문장 1, 문장 2 Cosine 유사도: 0.402\n"
          ]
        }
      ]
    },
    {
      "cell_type": "code",
      "source": [
        "vect1 = np.array(feature_vect_dense[0]).reshape(-1, )\n",
        "vect3 = np.array(feature_vect_dense[2]).reshape(-1, )\n",
        "\n",
        "similarity_simple = cos_similarity(vect1, vect3)\n",
        "print('문장 1, 문장 3 Cosine 유사도: {0:.3f}'.format(similarity_simple))"
      ],
      "metadata": {
        "colab": {
          "base_uri": "https://localhost:8080/"
        },
        "id": "QZiKi66vnS9k",
        "outputId": "86aa301e-426b-4d3c-d83f-14636a9a3812"
      },
      "execution_count": 33,
      "outputs": [
        {
          "output_type": "stream",
          "name": "stdout",
          "text": [
            "문장 1, 문장 3 Cosine 유사도: 0.404\n"
          ]
        }
      ]
    },
    {
      "cell_type": "code",
      "source": [
        "vect2 = np.array(feature_vect_dense[1]).reshape(-1, )\n",
        "vect3 = np.array(feature_vect_dense[2]).reshape(-1, )\n",
        "\n",
        "similarity_simple = cos_similarity(vect2, vect3)\n",
        "print('문장 2, 문장 3 Cosine 유사도: {0:.3f}'.format(similarity_simple))"
      ],
      "metadata": {
        "colab": {
          "base_uri": "https://localhost:8080/"
        },
        "id": "e2tDeykAna0p",
        "outputId": "f7f909d7-cc6a-4ca0-b61f-b8e7573bf4ca"
      },
      "execution_count": 34,
      "outputs": [
        {
          "output_type": "stream",
          "name": "stdout",
          "text": [
            "문장 2, 문장 3 Cosine 유사도: 0.456\n"
          ]
        }
      ]
    },
    {
      "cell_type": "markdown",
      "source": [
        "sklearn.metrics.airwise.cosine_similarity API에서 cosine_similarity() 함수는 희소 행렬, 밀집 행렬 모두 가능하며 행렬 또는 배열 모두 가능함\n",
        "\n",
        "따라서 cos_simliarity()와 같이 별도의 변환 작업이 필요 없음"
      ],
      "metadata": {
        "id": "vL4UlLH4njGA"
      }
    },
    {
      "cell_type": "code",
      "source": [
        "from sklearn.metrics.pairwise import cosine_similarity\n",
        "\n",
        "similarity_simple_pair = cosine_similarity(feature_vect_simple[0], feature_vect_simple)\n",
        "print(similarity_simple_pair)"
      ],
      "metadata": {
        "colab": {
          "base_uri": "https://localhost:8080/"
        },
        "id": "biX_IG2PndKW",
        "outputId": "9f555b18-b54f-4395-fb73-b0569fad15d6"
      },
      "execution_count": 35,
      "outputs": [
        {
          "output_type": "stream",
          "name": "stdout",
          "text": [
            "[[1.         0.40207758 0.40425045]]\n"
          ]
        }
      ]
    },
    {
      "cell_type": "code",
      "source": [
        "# 자기 자신에 대한 유사도 측정 값인 1을 지우기 위해 feature_vect[1:] 설정\n",
        "from sklearn.metrics.pairwise import cosine_similarity\n",
        "\n",
        "similarity_simple_pair = cosine_similarity(feature_vect_simple[0], feature_vect_simple[1:])\n",
        "print(similarity_simple_pair)"
      ],
      "metadata": {
        "colab": {
          "base_uri": "https://localhost:8080/"
        },
        "id": "xAH4-CStoMvd",
        "outputId": "7a552a89-1819-49a1-98e3-e98298c6bea2"
      },
      "execution_count": 36,
      "outputs": [
        {
          "output_type": "stream",
          "name": "stdout",
          "text": [
            "[[0.40207758 0.40425045]]\n"
          ]
        }
      ]
    },
    {
      "cell_type": "code",
      "source": [
        "# 쌍으로 코사인 유사도 값 제공 가능 ex. 1번째 문서와 2,3번째 문서의 코사인 유사도\n",
        "similarity_simple_pair = cosine_similarity(feature_vect_simple, feature_vect_simple)\n",
        "print(similarity_simple_pair)\n",
        "print('shape:', similarity_simple_pair.shape)"
      ],
      "metadata": {
        "colab": {
          "base_uri": "https://localhost:8080/"
        },
        "id": "y3VoVmZRorMs",
        "outputId": "c4643a01-8e8c-408c-c541-8ff8417f1a3a"
      },
      "execution_count": 37,
      "outputs": [
        {
          "output_type": "stream",
          "name": "stdout",
          "text": [
            "[[1.         0.40207758 0.40425045]\n",
            " [0.40207758 1.         0.45647296]\n",
            " [0.40425045 0.45647296 1.        ]]\n",
            "shape: (3, 3)\n"
          ]
        }
      ]
    },
    {
      "cell_type": "markdown",
      "source": [
        "### Opinion Review 데이터 세트를 이용한 문서 유사도 측정"
      ],
      "metadata": {
        "id": "vVIQKPQFo3NA"
      }
    },
    {
      "cell_type": "code",
      "source": [
        "import pandas as pd\n",
        "import glob, os\n",
        "\n",
        "from sklearn.feature_extraction.text import TfidfVectorizer\n",
        "from sklearn.cluster import KMeans\n",
        "\n",
        "path = r'/content/drive/MyDrive/ESAA/25-1 OB 세션/datasets/OpinosisDataset1.0/topics'\n",
        "all_files = glob.glob(os.path.join(path, \"*.data\"))\n",
        "filename_list = []\n",
        "opinion_text = []\n",
        "\n",
        "for file_ in all_files:\n",
        "    df = pd.read_table(file_, index_col=None, header=0, encoding='latin1')\n",
        "    filename_ = file_.split('/')[-1]\n",
        "    filename = filename_.split('.')[0]\n",
        "    filename_list.append(filename)\n",
        "    # Convert the DataFrame to a string before appending it to the list\n",
        "    opinion_text.append(df.to_string())\n",
        "\n",
        "document_df = pd.DataFrame({'filename': filename_list, 'opinion_text': opinion_text})\n",
        "\n",
        "# 빈 문서 제거\n",
        "document_df = document_df.dropna(subset=['opinion_text'])\n",
        "\n",
        "# Ensure the 'opinion_text' column contains strings\n",
        "document_df['opinion_text'] = document_df['opinion_text'].astype(str)\n",
        "\n",
        "document_df = document_df[document_df['opinion_text'].str.len() > 0]\n",
        "\n",
        "# TF-IDF 벡터화\n",
        "tfidf_vect = TfidfVectorizer(tokenizer=None, stop_words = 'english',\n",
        "                             ngram_range=(1,2), min_df=0.05, max_df=0.85)\n",
        "feature_vect = tfidf_vect.fit_transform(document_df['opinion_text'])\n",
        "\n",
        "\n",
        "# KMeans 클러스터링\n",
        "km_cluster = KMeans(n_clusters=3, max_iter=10000, random_state=0)\n",
        "km_cluster.fit(feature_vect)\n",
        "cluster_label = km_cluster.labels_\n",
        "cluster_centers = km_cluster.cluster_centers_\n",
        "document_df['cluster_label'] = cluster_label"
      ],
      "metadata": {
        "id": "XPuPisVNHr6w"
      },
      "execution_count": 38,
      "outputs": []
    },
    {
      "cell_type": "code",
      "source": [
        "from sklearn.metrics.pairwise import cosine_similarity\n",
        "\n",
        "# cluster_label=2인 데이터는 호텔로 군집화된 데이터임. DataFrame에서 해당 인덱스 추출\n",
        "hotel_indexes = document_df[document_df['cluster_label']==2].index\n",
        "print('호텔로 클러스터링 된 문서들의 DataFrame Index:', hotel_indexes)\n",
        "\n",
        "# 호텔로 군집화된 데이터 중 첫 번째 문서를 추출해 파일명 표시.\n",
        "comparison_docname = document_df.iloc[hotel_indexes[0]]['filename']\n",
        "print('#### 비교 기준 문서명:', comparison_docname, '와 타 문서 유사도 ####')\n",
        "\n",
        "''' documnet_df에서 추출한 Index 객체를 feauture_vect로 입력해 호텔 군집화된 feature_vect 추출\n",
        "이를 이용해 호텔로 군집화된 문서 중 첫 번째 문서와 다른 문서 간의 코사인 유사도 측정. '''\n",
        "similarity_pair = cosine_similarity(feature_vect[hotel_indexes[0]], feature_vect[hotel_indexes])\n",
        "print(similarity_pair)"
      ],
      "metadata": {
        "colab": {
          "base_uri": "https://localhost:8080/"
        },
        "id": "uw4HXDs1H2b7",
        "outputId": "a778781c-6402-4ef0-dc57-9f595c93f0eb"
      },
      "execution_count": 39,
      "outputs": [
        {
          "output_type": "stream",
          "name": "stdout",
          "text": [
            "호텔로 클러스터링 된 문서들의 DataFrame Index: Index([1, 3, 8, 9, 10, 13, 18, 21, 22, 25, 31, 40, 41, 45], dtype='int64')\n",
            "#### 비교 기준 문서명: battery-life_amazon_kindle 와 타 문서 유사도 ####\n",
            "[[1.         0.07538082 0.88969648 0.30138494 0.12632031 0.03215891\n",
            "  0.22014592 0.8037722  0.00846366 0.00733645 0.19404346 0.03942624\n",
            "  0.20763009 0.10804681]]\n"
          ]
        }
      ]
    },
    {
      "cell_type": "code",
      "source": [
        "# consine_similarity()는 쌍 형태의 ndarray를 반환하므로 이를 판다스 인덱스로 이용하기 위해 reshape(-1)로 차원을 변경\n",
        "import seaborn as sns\n",
        "import numpy as np\n",
        "import matplotlib.pyplot as plt\n",
        "%matplotlib inline\n",
        "\n",
        "# 첫번째 문서와 타 문서간 유사도가 큰 순으로 정렬한 인덱스 추출하되 자기 자신은 제외.\n",
        "sorted_index = similarity_pair.argsort()[:,::-1]\n",
        "sorted_index = sorted_index[:,1:]\n",
        "\n",
        "# 유사도가 큰 순으로 hotel_indexes를 추출하여 재정렬.\n",
        "hotel_sorted_indexes = hotel_indexes[sorted_index.reshape(-1)]\n",
        "# 유사도가 큰 순으로 유사도 값을 재정렬하되 자기 자신은 제외\n",
        "hotel_1_sim_value = np.sort(similarity_pair.reshape(-1))[::-1]\n",
        "hotel_1_sim_value = hotel_1_sim_value[1:]\n",
        "\n",
        "# 유사도가 큰 순으로 정렬된 인덱스와 유사도 값을 이용해 파일명과 유사도값을 막대 그래프로 시각화\n",
        "hotel_1_sim_df = pd.DataFrame()\n",
        "hotel_1_sim_df['filename'] = document_df.iloc[hotel_sorted_indexes]['filename']\n",
        "hotel_1_sim_df['similarity'] = hotel_1_sim_value\n",
        "print('가장 유사도가 큰 파일명 및 유사도:\\n', hotel_1_sim_df.iloc[0,:])\n",
        "\n",
        "sns.barplot(x='similarity', y='filename', data=hotel_1_sim_df)\n",
        "plt.title(comparison_docname)"
      ],
      "metadata": {
        "colab": {
          "base_uri": "https://localhost:8080/",
          "height": 562
        },
        "id": "oejXnIW6H4Wi",
        "outputId": "9f2a596f-bb06-4ebe-de4a-b8c8fb41443e"
      },
      "execution_count": 40,
      "outputs": [
        {
          "output_type": "stream",
          "name": "stdout",
          "text": [
            "가장 유사도가 큰 파일명 및 유사도:\n",
            " filename      battery-life_netbook_1005ha\n",
            "similarity                       0.889696\n",
            "Name: 8, dtype: object\n"
          ]
        },
        {
          "output_type": "execute_result",
          "data": {
            "text/plain": [
              "Text(0.5, 1.0, 'battery-life_amazon_kindle')"
            ]
          },
          "metadata": {},
          "execution_count": 40
        },
        {
          "output_type": "display_data",
          "data": {
            "text/plain": [
              "<Figure size 640x480 with 1 Axes>"
            ],
            "image/png": "[encoded data removed]"
          },
          "metadata": {}
        }
      ]
    },
    {
      "cell_type": "markdown",
      "source": [
        "## 한글 텍스트 처리 - 네이버 영화 평점 감성 분석"
      ],
      "metadata": {
        "id": "TKK8h04KJEbF"
      }
    },
    {
      "cell_type": "markdown",
      "source": [
        "### 한글 NLP 처리의 어려움"
      ],
      "metadata": {
        "id": "tHWTJTB0K7YE"
      }
    },
    {
      "cell_type": "markdown",
      "source": [
        "'띄어쓰기'와 '다양한 조사' 때문에 한글 언어 처리가 어려움"
      ],
      "metadata": {
        "id": "ZRCJ1GE3OyBT"
      }
    },
    {
      "cell_type": "markdown",
      "source": [
        "### KoNLPy 소개"
      ],
      "metadata": {
        "id": "ZBdfj0KlPY1k"
      }
    },
    {
      "cell_type": "markdown",
      "source": [
        "파이썬의 대표적인 한글 형태소 패키지\n",
        "\n",
        "형태소 : 단어로서 의미를 가지는 최소 단위\n",
        "\n",
        "형태소 분석 : 말뭉치를 형태소 어근 단위로 쪼개고 각 형태소에 품사 태깅을 부착하는 작업"
      ],
      "metadata": {
        "id": "b7FybSSfPhJz"
      }
    },
    {
      "cell_type": "code",
      "source": [
        "!pip install --upgrade pip\n",
        "!pip install konlpy"
      ],
      "metadata": {
        "id": "T7to1L3sH66C",
        "colab": {
          "base_uri": "https://localhost:8080/"
        },
        "outputId": "1fe915c8-aedb-48ac-8919-1d90a8c23152"
      },
      "execution_count": 42,
      "outputs": [
        {
          "output_type": "stream",
          "name": "stdout",
          "text": [
            "Requirement already satisfied: pip in /usr/local/lib/python3.11/dist-packages (24.1.2)\n",
            "Collecting pip\n",
            "  Downloading pip-25.0.1-py3-none-any.whl.metadata (3.7 kB)\n",
            "Downloading pip-25.0.1-py3-none-any.whl (1.8 MB)\n",
            "\u001b[2K   \u001b[90m━━━━━━━━━━━━━━━━━━━━━━━━━━━━━━━━━━━━━━━━\u001b[0m \u001b[32m1.8/1.8 MB\u001b[0m \u001b[31m18.5 MB/s\u001b[0m eta \u001b[36m0:00:00\u001b[0m\n",
            "\u001b[?25hInstalling collected packages: pip\n",
            "  Attempting uninstall: pip\n",
            "    Found existing installation: pip 24.1.2\n",
            "    Uninstalling pip-24.1.2:\n",
            "      Successfully uninstalled pip-24.1.2\n",
            "Successfully installed pip-25.0.1\n",
            "Collecting konlpy\n",
            "  Downloading konlpy-0.6.0-py2.py3-none-any.whl.metadata (1.9 kB)\n",
            "Collecting JPype1>=0.7.0 (from konlpy)\n",
            "  Downloading jpype1-1.5.2-cp311-cp311-manylinux_2_17_x86_64.manylinux2014_x86_64.whl.metadata (4.9 kB)\n",
            "Requirement already satisfied: lxml>=4.1.0 in /usr/local/lib/python3.11/dist-packages (from konlpy) (5.3.1)\n",
            "Requirement already satisfied: numpy>=1.6 in /usr/local/lib/python3.11/dist-packages (from konlpy) (2.0.2)\n",
            "Requirement already satisfied: packaging in /usr/local/lib/python3.11/dist-packages (from JPype1>=0.7.0->konlpy) (24.2)\n",
            "Downloading konlpy-0.6.0-py2.py3-none-any.whl (19.4 MB)\n",
            "\u001b[2K   \u001b[90m━━━━━━━━━━━━━━━━━━━━━━━━━━━━━━━━━━━━━━━━\u001b[0m \u001b[32m19.4/19.4 MB\u001b[0m \u001b[31m103.0 MB/s\u001b[0m eta \u001b[36m0:00:00\u001b[0m\n",
            "\u001b[?25hDownloading jpype1-1.5.2-cp311-cp311-manylinux_2_17_x86_64.manylinux2014_x86_64.whl (494 kB)\n",
            "Installing collected packages: JPype1, konlpy\n",
            "Successfully installed JPype1-1.5.2 konlpy-0.6.0\n"
          ]
        }
      ]
    },
    {
      "cell_type": "markdown",
      "source": [
        "### 데이터 로딩"
      ],
      "metadata": {
        "id": "9rmWbx79kl9C"
      }
    },
    {
      "cell_type": "code",
      "source": [
        "import pandas as pd\n",
        "\n",
        "train_df = pd.read_csv('/content/drive/MyDrive/ESAA/25-1 OB 세션/datasets/ratings_train.txt', sep = '\\t', encoding = 'utf-8')\n",
        "train_df.head(3)"
      ],
      "metadata": {
        "colab": {
          "base_uri": "https://localhost:8080/",
          "height": 143
        },
        "id": "Ia_UzI6FQGdZ",
        "outputId": "dd1fcf7f-9013-48ee-870a-94054448ee85"
      },
      "execution_count": 44,
      "outputs": [
        {
          "output_type": "execute_result",
          "data": {
            "text/plain": [
              "         id                           document  label\n",
              "0   9976970                아 더빙.. 진짜 짜증나네요 목소리      0\n",
              "1   3819312  흠...포스터보고 초딩영화줄....오버연기조차 가볍지 않구나      1\n",
              "2  10265843                  너무재밓었다그래서보는것을추천한다      0"
            ],
            "text/html": [
              "\n",
              "  <div id=\"df-4f1ead57-3349-426a-8f2a-68f68348a5f5\" class=\"colab-df-container\">\n",
              "    <div>\n",
              "<style scoped>\n",
              "    .dataframe tbody tr th:only-of-type {\n",
              "        vertical-align: middle;\n",
              "    }\n",
              "\n",
              "    .dataframe tbody tr th {\n",
              "        vertical-align: top;\n",
              "    }\n",
              "\n",
              "    .dataframe thead th {\n",
              "        text-align: right;\n",
              "    }\n",
              "</style>\n",
              "<table border=\"1\" class=\"dataframe\">\n",
              "  <thead>\n",
              "    <tr style=\"text-align: right;\">\n",
              "      <th></th>\n",
              "      <th>id</th>\n",
              "      <th>document</th>\n",
              "      <th>label</th>\n",
              "    </tr>\n",
              "  </thead>\n",
              "  <tbody>\n",
              "    <tr>\n",
              "      <th>0</th>\n",
              "      <td>9976970</td>\n",
              "      <td>아 더빙.. 진짜 짜증나네요 목소리</td>\n",
              "      <td>0</td>\n",
              "    </tr>\n",
              "    <tr>\n",
              "      <th>1</th>\n",
              "      <td>3819312</td>\n",
              "      <td>흠...포스터보고 초딩영화줄....오버연기조차 가볍지 않구나</td>\n",
              "      <td>1</td>\n",
              "    </tr>\n",
              "    <tr>\n",
              "      <th>2</th>\n",
              "      <td>10265843</td>\n",
              "      <td>너무재밓었다그래서보는것을추천한다</td>\n",
              "      <td>0</td>\n",
              "    </tr>\n",
              "  </tbody>\n",
              "</table>\n",
              "</div>\n",
              "    <div class=\"colab-df-buttons\">\n",
              "\n",
              "  <div class=\"colab-df-container\">\n",
              "    <button class=\"colab-df-convert\" onclick=\"convertToInteractive('df-4f1ead57-3349-426a-8f2a-68f68348a5f5')\"\n",
              "            title=\"Convert this dataframe to an interactive table.\"\n",
              "            style=\"display:none;\">\n",
              "\n",
              "  <svg xmlns=\"http://www.w3.org/2000/svg\" height=\"24px\" viewBox=\"0 -960 960 960\">\n",
              "    <path d=\"M120-120v-720h720v720H120Zm60-500h600v-160H180v160Zm220 220h160v-160H400v160Zm0 220h160v-160H400v160ZM180-400h160v-160H180v160Zm440 0h160v-160H620v160ZM180-180h160v-160H180v160Zm440 0h160v-160H620v160Z\"/>\n",
              "  </svg>\n",
              "    </button>\n",
              "\n",
              "  <style>\n",
              "    .colab-df-container {\n",
              "      display:flex;\n",
              "      gap: 12px;\n",
              "    }\n",
              "\n",
              "    .colab-df-convert {\n",
              "      background-color: #E8F0FE;\n",
              "      border: none;\n",
              "      border-radius: 50%;\n",
              "      cursor: pointer;\n",
              "      display: none;\n",
              "      fill: #1967D2;\n",
              "      height: 32px;\n",
              "      padding: 0 0 0 0;\n",
              "      width: 32px;\n",
              "    }\n",
              "\n",
              "    .colab-df-convert:hover {\n",
              "      background-color: #E2EBFA;\n",
              "      box-shadow: 0px 1px 2px rgba(60, 64, 67, 0.3), 0px 1px 3px 1px rgba(60, 64, 67, 0.15);\n",
              "      fill: #174EA6;\n",
              "    }\n",
              "\n",
              "    .colab-df-buttons div {\n",
              "      margin-bottom: 4px;\n",
              "    }\n",
              "\n",
              "    [theme=dark] .colab-df-convert {\n",
              "      background-color: #3B4455;\n",
              "      fill: #D2E3FC;\n",
              "    }\n",
              "\n",
              "    [theme=dark] .colab-df-convert:hover {\n",
              "      background-color: #434B5C;\n",
              "      box-shadow: 0px 1px 3px 1px rgba(0, 0, 0, 0.15);\n",
              "      filter: drop-shadow(0px 1px 2px rgba(0, 0, 0, 0.3));\n",
              "      fill: #FFFFFF;\n",
              "    }\n",
              "  </style>\n",
              "\n",
              "    <script>\n",
              "      const buttonEl =\n",
              "        document.querySelector('#df-4f1ead57-3349-426a-8f2a-68f68348a5f5 button.colab-df-convert');\n",
              "      buttonEl.style.display =\n",
              "        google.colab.kernel.accessAllowed ? 'block' : 'none';\n",
              "\n",
              "      async function convertToInteractive(key) {\n",
              "        const element = document.querySelector('#df-4f1ead57-3349-426a-8f2a-68f68348a5f5');\n",
              "        const dataTable =\n",
              "          await google.colab.kernel.invokeFunction('convertToInteractive',\n",
              "                                                    [key], {});\n",
              "        if (!dataTable) return;\n",
              "\n",
              "        const docLinkHtml = 'Like what you see? Visit the ' +\n",
              "          '<a target=\"_blank\" href=https://colab.research.google.com/notebooks/data_table.ipynb>data table notebook</a>'\n",
              "          + ' to learn more about interactive tables.';\n",
              "        element.innerHTML = '';\n",
              "        dataTable['output_type'] = 'display_data';\n",
              "        await google.colab.output.renderOutput(dataTable, element);\n",
              "        const docLink = document.createElement('div');\n",
              "        docLink.innerHTML = docLinkHtml;\n",
              "        element.appendChild(docLink);\n",
              "      }\n",
              "    </script>\n",
              "  </div>\n",
              "\n",
              "\n",
              "<div id=\"df-c6e82da8-f754-443c-82c9-ba2b2163860a\">\n",
              "  <button class=\"colab-df-quickchart\" onclick=\"quickchart('df-c6e82da8-f754-443c-82c9-ba2b2163860a')\"\n",
              "            title=\"Suggest charts\"\n",
              "            style=\"display:none;\">\n",
              "\n",
              "<svg xmlns=\"http://www.w3.org/2000/svg\" height=\"24px\"viewBox=\"0 0 24 24\"\n",
              "     width=\"24px\">\n",
              "    <g>\n",
              "        <path d=\"M19 3H5c-1.1 0-2 .9-2 2v14c0 1.1.9 2 2 2h14c1.1 0 2-.9 2-2V5c0-1.1-.9-2-2-2zM9 17H7v-7h2v7zm4 0h-2V7h2v10zm4 0h-2v-4h2v4z\"/>\n",
              "    </g>\n",
              "</svg>\n",
              "  </button>\n",
              "\n",
              "<style>\n",
              "  .colab-df-quickchart {\n",
              "      --bg-color: #E8F0FE;\n",
              "      --fill-color: #1967D2;\n",
              "      --hover-bg-color: #E2EBFA;\n",
              "      --hover-fill-color: #174EA6;\n",
              "      --disabled-fill-color: #AAA;\n",
              "      --disabled-bg-color: #DDD;\n",
              "  }\n",
              "\n",
              "  [theme=dark] .colab-df-quickchart {\n",
              "      --bg-color: #3B4455;\n",
              "      --fill-color: #D2E3FC;\n",
              "      --hover-bg-color: #434B5C;\n",
              "      --hover-fill-color: #FFFFFF;\n",
              "      --disabled-bg-color: #3B4455;\n",
              "      --disabled-fill-color: #666;\n",
              "  }\n",
              "\n",
              "  .colab-df-quickchart {\n",
              "    background-color: var(--bg-color);\n",
              "    border: none;\n",
              "    border-radius: 50%;\n",
              "    cursor: pointer;\n",
              "    display: none;\n",
              "    fill: var(--fill-color);\n",
              "    height: 32px;\n",
              "    padding: 0;\n",
              "    width: 32px;\n",
              "  }\n",
              "\n",
              "  .colab-df-quickchart:hover {\n",
              "    background-color: var(--hover-bg-color);\n",
              "    box-shadow: 0 1px 2px rgba(60, 64, 67, 0.3), 0 1px 3px 1px rgba(60, 64, 67, 0.15);\n",
              "    fill: var(--button-hover-fill-color);\n",
              "  }\n",
              "\n",
              "  .colab-df-quickchart-complete:disabled,\n",
              "  .colab-df-quickchart-complete:disabled:hover {\n",
              "    background-color: var(--disabled-bg-color);\n",
              "    fill: var(--disabled-fill-color);\n",
              "    box-shadow: none;\n",
              "  }\n",
              "\n",
              "  .colab-df-spinner {\n",
              "    border: 2px solid var(--fill-color);\n",
              "    border-color: transparent;\n",
              "    border-bottom-color: var(--fill-color);\n",
              "    animation:\n",
              "      spin 1s steps(1) infinite;\n",
              "  }\n",
              "\n",
              "  @keyframes spin {\n",
              "    0% {\n",
              "      border-color: transparent;\n",
              "      border-bottom-color: var(--fill-color);\n",
              "      border-left-color: var(--fill-color);\n",
              "    }\n",
              "    20% {\n",
              "      border-color: transparent;\n",
              "      border-left-color: var(--fill-color);\n",
              "      border-top-color: var(--fill-color);\n",
              "    }\n",
              "    30% {\n",
              "      border-color: transparent;\n",
              "      border-left-color: var(--fill-color);\n",
              "      border-top-color: var(--fill-color);\n",
              "      border-right-color: var(--fill-color);\n",
              "    }\n",
              "    40% {\n",
              "      border-color: transparent;\n",
              "      border-right-color: var(--fill-color);\n",
              "      border-top-color: var(--fill-color);\n",
              "    }\n",
              "    60% {\n",
              "      border-color: transparent;\n",
              "      border-right-color: var(--fill-color);\n",
              "    }\n",
              "    80% {\n",
              "      border-color: transparent;\n",
              "      border-right-color: var(--fill-color);\n",
              "      border-bottom-color: var(--fill-color);\n",
              "    }\n",
              "    90% {\n",
              "      border-color: transparent;\n",
              "      border-bottom-color: var(--fill-color);\n",
              "    }\n",
              "  }\n",
              "</style>\n",
              "\n",
              "  <script>\n",
              "    async function quickchart(key) {\n",
              "      const quickchartButtonEl =\n",
              "        document.querySelector('#' + key + ' button');\n",
              "      quickchartButtonEl.disabled = true;  // To prevent multiple clicks.\n",
              "      quickchartButtonEl.classList.add('colab-df-spinner');\n",
              "      try {\n",
              "        const charts = await google.colab.kernel.invokeFunction(\n",
              "            'suggestCharts', [key], {});\n",
              "      } catch (error) {\n",
              "        console.error('Error during call to suggestCharts:', error);\n",
              "      }\n",
              "      quickchartButtonEl.classList.remove('colab-df-spinner');\n",
              "      quickchartButtonEl.classList.add('colab-df-quickchart-complete');\n",
              "    }\n",
              "    (() => {\n",
              "      let quickchartButtonEl =\n",
              "        document.querySelector('#df-c6e82da8-f754-443c-82c9-ba2b2163860a button');\n",
              "      quickchartButtonEl.style.display =\n",
              "        google.colab.kernel.accessAllowed ? 'block' : 'none';\n",
              "    })();\n",
              "  </script>\n",
              "</div>\n",
              "\n",
              "    </div>\n",
              "  </div>\n"
            ],
            "application/vnd.google.colaboratory.intrinsic+json": {
              "type": "dataframe",
              "variable_name": "train_df"
            }
          },
          "metadata": {},
          "execution_count": 44
        }
      ]
    },
    {
      "cell_type": "code",
      "source": [
        "train_df['label'].value_counts() # 1이 긍정, 0이 부정 감성"
      ],
      "metadata": {
        "colab": {
          "base_uri": "https://localhost:8080/",
          "height": 178
        },
        "id": "dPwdWw29ldGD",
        "outputId": "02cb6fdf-7492-4d4f-e84a-43029e6f0f54"
      },
      "execution_count": 48,
      "outputs": [
        {
          "output_type": "execute_result",
          "data": {
            "text/plain": [
              "label\n",
              "0    75173\n",
              "1    74827\n",
              "Name: count, dtype: int64"
            ],
            "text/html": [
              "<div>\n",
              "<style scoped>\n",
              "    .dataframe tbody tr th:only-of-type {\n",
              "        vertical-align: middle;\n",
              "    }\n",
              "\n",
              "    .dataframe tbody tr th {\n",
              "        vertical-align: top;\n",
              "    }\n",
              "\n",
              "    .dataframe thead th {\n",
              "        text-align: right;\n",
              "    }\n",
              "</style>\n",
              "<table border=\"1\" class=\"dataframe\">\n",
              "  <thead>\n",
              "    <tr style=\"text-align: right;\">\n",
              "      <th></th>\n",
              "      <th>count</th>\n",
              "    </tr>\n",
              "    <tr>\n",
              "      <th>label</th>\n",
              "      <th></th>\n",
              "    </tr>\n",
              "  </thead>\n",
              "  <tbody>\n",
              "    <tr>\n",
              "      <th>0</th>\n",
              "      <td>75173</td>\n",
              "    </tr>\n",
              "    <tr>\n",
              "      <th>1</th>\n",
              "      <td>74827</td>\n",
              "    </tr>\n",
              "  </tbody>\n",
              "</table>\n",
              "</div><br><label><b>dtype:</b> int64</label>"
            ]
          },
          "metadata": {},
          "execution_count": 48
        }
      ]
    },
    {
      "cell_type": "code",
      "source": [
        "from tkinter.constants import X\n",
        "import re\n",
        "\n",
        "train_df = train_df.fillna(' ')\n",
        "\n",
        "# 정규 표현식 re를 이용해 숫자를 공백으로 변경(정규 표현식으로 \\d는 숫자를 의미함.)\n",
        "train_df['document'] = train_df['document'].apply(lambda x: re.sub(r\"\\d+\", \" \", x))\n",
        "\n",
        "# 테스트 데이터 세트를 로딩하고 동일하게 Null 및 숫자를 공백으로 변환\n",
        "test_df = pd.read_csv('/content/drive/MyDrive/ESAA/25-1 OB 세션/datasets/ratings_test.txt', sep='\\t', encoding='utf-8')\n",
        "test_df = test_df.fillna(' ')\n",
        "test_df['document'] = test_df['document'].apply(lambda x: re.sub(r\"\\d+\", \" \", x))\n",
        "\n",
        "# id 칼럼 삭제 수행\n",
        "train_df.drop('id', axis=1, inplace=True)\n",
        "test_df.drop('id', axis=1, inplace=True)"
      ],
      "metadata": {
        "id": "-uFM0j9WlrcT"
      },
      "execution_count": 50,
      "outputs": []
    },
    {
      "cell_type": "code",
      "source": [
        "from konlpy.tag import Twitter\n",
        "\n",
        "twitter = Twitter()\n",
        "def tw_tokenizer(text):\n",
        "    # 입력 인자로 들어온 텍스트를 형태소 단어로 토큰화해 리스트 형태로 반환\n",
        "    tokens_ko = twitter.morphs(text)\n",
        "    return tokens_ko"
      ],
      "metadata": {
        "colab": {
          "base_uri": "https://localhost:8080/"
        },
        "id": "MQfC2RYEmKNz",
        "outputId": "9d9ff5fe-230c-4e9d-867f-8a01b563a9f8"
      },
      "execution_count": 51,
      "outputs": [
        {
          "output_type": "stream",
          "name": "stderr",
          "text": [
            "/usr/local/lib/python3.11/dist-packages/konlpy/tag/_okt.py:17: UserWarning: \"Twitter\" has changed to \"Okt\" since KoNLPy v0.4.5.\n",
            "  warn('\"Twitter\" has changed to \"Okt\" since KoNLPy v0.4.5.')\n"
          ]
        }
      ]
    },
    {
      "cell_type": "code",
      "source": [
        "from sklearn.feature_extraction.text import TfidfVectorizer\n",
        "from sklearn.linear_model import LogisticRegression\n",
        "from sklearn.model_selection import GridSearchCV\n",
        "\n",
        "# Twitter 객체의 morphs() 객체를 이용한 tokenizer 사용. ngram_range는 (1,2)\n",
        "tfidf_vect = TfidfVectorizer(tokenizer=tw_tokenizer, ngram_range=(1,2), min_df=3, max_df=0.9)\n",
        "tfidf_vect.fit(train_df['document'])\n",
        "tfidf_matrix_train = tfidf_vect.transform(train_df['document'])"
      ],
      "metadata": {
        "colab": {
          "base_uri": "https://localhost:8080/"
        },
        "id": "TpHoXa_ao873",
        "outputId": "446e43ae-1472-4bf5-f636-698771262fc4"
      },
      "execution_count": 52,
      "outputs": [
        {
          "output_type": "stream",
          "name": "stderr",
          "text": [
            "/usr/local/lib/python3.11/dist-packages/sklearn/feature_extraction/text.py:517: UserWarning: The parameter 'token_pattern' will not be used since 'tokenizer' is not None'\n",
            "  warnings.warn(\n"
          ]
        }
      ]
    },
    {
      "cell_type": "code",
      "source": [
        "# 로지스틱 회귀를 이용해 감성 분석 분류 수행.\n",
        "lg_clf = LogisticRegression(random_state=0, solver='liblinear')\n",
        "\n",
        "# 파라미터 C 최적화를 위해 GridSearchCV를 이용\n",
        "params = {'C': [1, 3.5, 4.5, 5.5, 10]}\n",
        "grid_cv = GridSearchCV(lg_clf, param_grid=params, cv=3, scoring='accuracy', verbose=1)\n",
        "grid_cv.fit(tfidf_matrix_train, train_df['label'])\n",
        "print(grid_cv.best_params_, round(grid_cv.best_score_, 4))"
      ],
      "metadata": {
        "colab": {
          "base_uri": "https://localhost:8080/"
        },
        "id": "Vtl6oQaSo_kJ",
        "outputId": "f31ce9ef-4c61-4197-f4c2-80a6732fe112"
      },
      "execution_count": 53,
      "outputs": [
        {
          "output_type": "stream",
          "name": "stdout",
          "text": [
            "Fitting 3 folds for each of 5 candidates, totalling 15 fits\n",
            "{'C': 3.5} 0.8593\n"
          ]
        }
      ]
    },
    {
      "cell_type": "code",
      "source": [
        "from sklearn.metrics import accuracy_score\n",
        "\n",
        "# 학습 데이터를 적용한 TfidfVectorizer를 이용해 테스트 데이터를 TF-IDF 값으로 피처 변환\n",
        "tfidf_matrix_test = tfidf_vect.transform(test_df['document'])\n",
        "\n",
        "# classifier는 GridSearchCV에서 최적 파라미터로 학습된 classifier를 그대로 이용\n",
        "best_estimator_ = grid_cv.best_estimator_\n",
        "preds = best_estimator_.predict(tfidf_matrix_test)\n",
        "\n",
        "print('Logistic Regression 정확도: ', accuracy_score(test_df['label'], preds))"
      ],
      "metadata": {
        "colab": {
          "base_uri": "https://localhost:8080/"
        },
        "id": "iERaAiu7pCTs",
        "outputId": "1d0d0f30-0c95-428a-8b52-daed976c44c3"
      },
      "execution_count": 54,
      "outputs": [
        {
          "output_type": "stream",
          "name": "stdout",
          "text": [
            "Logistic Regression 정확도:  0.86172\n"
          ]
        }
      ]
    }
  ]
}
